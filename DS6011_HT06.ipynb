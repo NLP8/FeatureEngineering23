{
  "nbformat": 4,
  "nbformat_minor": 0,
  "metadata": {
    "colab": {
      "provenance": []
    },
    "kernelspec": {
      "name": "python3",
      "display_name": "Python 3"
    },
    "language_info": {
      "name": "python"
    }
  },
  "cells": [
    {
      "cell_type": "markdown",
      "metadata": {
        "id": "saaO06RMwzGH"
      },
      "source": [
        "# Hoja de Trabajo \\# 6\n",
        "\n",
        "\n",
        "---\n",
        "\n",
        "\n",
        "por Josué Obregón <br>\n",
        "DS6011 - Feature Engineering <br>\n",
        "UVG Masters - Escuela de Negocios<br>\n"
      ]
    },
    {
      "cell_type": "markdown",
      "metadata": {
        "id": "w0-nImUHNxOv"
      },
      "source": [
        "## Objetivos\n",
        "\n",
        "El objetivo de esta hoja de trabajo  es presentar al estudiante diferentes técnicas selección de atributos.\n",
        "\n",
        "También se busca que el estudiante practique la utilización de éstas técnicas con las librerías disponibles en el lenguaje Python."
      ]
    },
    {
      "cell_type": "markdown",
      "metadata": {
        "id": "RYjZ_KEuTCTe"
      },
      "source": [
        "## Importación de librerías y carga de los datos\n",
        "\n",
        "Las librerías que importaremos para empezar son pandas y numpy para el manejo de los datos, y matplotlib, seaborn y plotly para la generación de visualizaciones. \n",
        "\n"
      ]
    },
    {
      "cell_type": "code",
      "metadata": {
        "id": "EoXELFC48mlh"
      },
      "source": [
        "import pandas as pd\n",
        "import numpy as np\n",
        "import matplotlib.pyplot as plt\n",
        "import seaborn as sns\n",
        "import plotly.express as px\n",
        "import plotly.graph_objects as go"
      ],
      "execution_count": 2,
      "outputs": []
    },
    {
      "cell_type": "markdown",
      "metadata": {
        "id": "D2RN6ldfA9Mb"
      },
      "source": [
        "### Cargando los datos"
      ]
    },
    {
      "cell_type": "code",
      "metadata": {
        "id": "U1qfjKMGBAyj"
      },
      "source": [
        "from sklearn.datasets import fetch_openml\n",
        "from sklearn.preprocessing import LabelEncoder\n",
        "from sklearn.model_selection import train_test_split"
      ],
      "execution_count": 3,
      "outputs": []
    },
    {
      "cell_type": "code",
      "metadata": {
        "id": "xSUrDnSQBFoe",
        "outputId": "c41af291-39fe-4aea-9428-1d71dfd0dd8e",
        "colab": {
          "base_uri": "https://localhost:8080/"
        }
      },
      "source": [
        "credit_g =  fetch_openml('credit-g') # https://www.openml.org/t/31"
      ],
      "execution_count": 4,
      "outputs": [
        {
          "output_type": "stream",
          "name": "stderr",
          "text": [
            "/usr/local/lib/python3.10/dist-packages/sklearn/datasets/_openml.py:301: UserWarning: Multiple active versions of the dataset matching the name credit-g exist. Versions may be fundamentally different, returning version 1.\n",
            "  warn(\n",
            "/usr/local/lib/python3.10/dist-packages/sklearn/datasets/_openml.py:968: FutureWarning: The default value of `parser` will change from `'liac-arff'` to `'auto'` in 1.4. You can set `parser='auto'` to silence this warning. Therefore, an `ImportError` will be raised from 1.4 if the dataset is dense and pandas is not installed. Note that the pandas parser may return different data types. See the Notes Section in fetch_openml's API doc for details.\n",
            "  warn(\n"
          ]
        }
      ]
    },
    {
      "cell_type": "code",
      "metadata": {
        "id": "5SQfRjhbBhal",
        "outputId": "765f0e46-204e-464e-b79c-309ce28fcd3f",
        "colab": {
          "base_uri": "https://localhost:8080/"
        }
      },
      "source": [
        "credit_g.keys()"
      ],
      "execution_count": 5,
      "outputs": [
        {
          "output_type": "execute_result",
          "data": {
            "text/plain": [
              "dict_keys(['data', 'target', 'frame', 'categories', 'feature_names', 'target_names', 'DESCR', 'details', 'url'])"
            ]
          },
          "metadata": {},
          "execution_count": 5
        }
      ]
    },
    {
      "cell_type": "code",
      "metadata": {
        "id": "kYdAx40dBFrS",
        "outputId": "fe17ef8f-7096-47b2-9329-ee322550006e",
        "colab": {
          "base_uri": "https://localhost:8080/"
        }
      },
      "source": [
        "print(credit_g['DESCR'])"
      ],
      "execution_count": 6,
      "outputs": [
        {
          "output_type": "stream",
          "name": "stdout",
          "text": [
            "**Author**: Dr. Hans Hofmann  \n",
            "**Source**: [UCI](https://archive.ics.uci.edu/ml/datasets/statlog+(german+credit+data)) - 1994    \n",
            "**Please cite**: [UCI](https://archive.ics.uci.edu/ml/citation_policy.html)\n",
            "\n",
            "**German Credit dataset**  \n",
            "This dataset classifies people described by a set of attributes as good or bad credit risks.\n",
            "\n",
            "This dataset comes with a cost matrix: \n",
            "``` \n",
            "Good  Bad (predicted)  \n",
            "Good   0    1   (actual)  \n",
            "Bad    5    0  \n",
            "```\n",
            "\n",
            "It is worse to class a customer as good when they are bad (5), than it is to class a customer as bad when they are good (1).  \n",
            "\n",
            "### Attribute description  \n",
            "\n",
            "1. Status of existing checking account, in Deutsche Mark.  \n",
            "2. Duration in months  \n",
            "3. Credit history (credits taken, paid back duly, delays, critical accounts)  \n",
            "4. Purpose of the credit (car, television,...)  \n",
            "5. Credit amount  \n",
            "6. Status of savings account/bonds, in Deutsche Mark.  \n",
            "7. Present employment, in number of years.  \n",
            "8. Installment rate in percentage of disposable income  \n",
            "9. Personal status (married, single,...) and sex  \n",
            "10. Other debtors / guarantors  \n",
            "11. Present residence since X years  \n",
            "12. Property (e.g. real estate)  \n",
            "13. Age in years  \n",
            "14. Other installment plans (banks, stores)  \n",
            "15. Housing (rent, own,...)  \n",
            "16. Number of existing credits at this bank  \n",
            "17. Job  \n",
            "18. Number of people being liable to provide maintenance for  \n",
            "19. Telephone (yes,no)  \n",
            "20. Foreign worker (yes,no)\n",
            "\n",
            "Downloaded from openml.org.\n"
          ]
        }
      ]
    },
    {
      "cell_type": "code",
      "metadata": {
        "id": "aLbwlg78BFts",
        "outputId": "8376a02a-6e1e-4e83-9260-59166bb5db57",
        "colab": {
          "base_uri": "https://localhost:8080/"
        }
      },
      "source": [
        "df_credit = credit_g['data']\n",
        "lbl_enc = LabelEncoder()\n",
        "df_credit['class']= lbl_enc.fit_transform(credit_g['target'])\n",
        "df_credit.head()"
      ],
      "execution_count": 7,
      "outputs": [
        {
          "output_type": "execute_result",
          "data": {
            "text/plain": [
              "  checking_status  duration                  credit_history  \\\n",
              "0              <0       6.0  critical/other existing credit   \n",
              "1        0<=X<200      48.0                   existing paid   \n",
              "2     no checking      12.0  critical/other existing credit   \n",
              "3              <0      42.0                   existing paid   \n",
              "4              <0      24.0              delayed previously   \n",
              "\n",
              "               purpose  credit_amount    savings_status employment  \\\n",
              "0             radio/tv         1169.0  no known savings        >=7   \n",
              "1             radio/tv         5951.0              <100     1<=X<4   \n",
              "2            education         2096.0              <100     4<=X<7   \n",
              "3  furniture/equipment         7882.0              <100     4<=X<7   \n",
              "4              new car         4870.0              <100     1<=X<4   \n",
              "\n",
              "   installment_commitment     personal_status other_parties  ...  \\\n",
              "0                     4.0         male single          none  ...   \n",
              "1                     2.0  female div/dep/mar          none  ...   \n",
              "2                     2.0         male single          none  ...   \n",
              "3                     2.0         male single     guarantor  ...   \n",
              "4                     3.0         male single          none  ...   \n",
              "\n",
              "   property_magnitude   age  other_payment_plans   housing existing_credits  \\\n",
              "0         real estate  67.0                 none       own              2.0   \n",
              "1         real estate  22.0                 none       own              1.0   \n",
              "2         real estate  49.0                 none       own              1.0   \n",
              "3      life insurance  45.0                 none  for free              1.0   \n",
              "4   no known property  53.0                 none  for free              2.0   \n",
              "\n",
              "                  job num_dependents  own_telephone foreign_worker class  \n",
              "0             skilled            1.0            yes            yes     1  \n",
              "1             skilled            1.0           none            yes     0  \n",
              "2  unskilled resident            2.0           none            yes     1  \n",
              "3             skilled            2.0           none            yes     1  \n",
              "4             skilled            2.0           none            yes     0  \n",
              "\n",
              "[5 rows x 21 columns]"
            ],
            "text/html": [
              "\n",
              "  <div id=\"df-cb776032-7705-4eda-9e7e-86432232dfc3\">\n",
              "    <div class=\"colab-df-container\">\n",
              "      <div>\n",
              "<style scoped>\n",
              "    .dataframe tbody tr th:only-of-type {\n",
              "        vertical-align: middle;\n",
              "    }\n",
              "\n",
              "    .dataframe tbody tr th {\n",
              "        vertical-align: top;\n",
              "    }\n",
              "\n",
              "    .dataframe thead th {\n",
              "        text-align: right;\n",
              "    }\n",
              "</style>\n",
              "<table border=\"1\" class=\"dataframe\">\n",
              "  <thead>\n",
              "    <tr style=\"text-align: right;\">\n",
              "      <th></th>\n",
              "      <th>checking_status</th>\n",
              "      <th>duration</th>\n",
              "      <th>credit_history</th>\n",
              "      <th>purpose</th>\n",
              "      <th>credit_amount</th>\n",
              "      <th>savings_status</th>\n",
              "      <th>employment</th>\n",
              "      <th>installment_commitment</th>\n",
              "      <th>personal_status</th>\n",
              "      <th>other_parties</th>\n",
              "      <th>...</th>\n",
              "      <th>property_magnitude</th>\n",
              "      <th>age</th>\n",
              "      <th>other_payment_plans</th>\n",
              "      <th>housing</th>\n",
              "      <th>existing_credits</th>\n",
              "      <th>job</th>\n",
              "      <th>num_dependents</th>\n",
              "      <th>own_telephone</th>\n",
              "      <th>foreign_worker</th>\n",
              "      <th>class</th>\n",
              "    </tr>\n",
              "  </thead>\n",
              "  <tbody>\n",
              "    <tr>\n",
              "      <th>0</th>\n",
              "      <td>&lt;0</td>\n",
              "      <td>6.0</td>\n",
              "      <td>critical/other existing credit</td>\n",
              "      <td>radio/tv</td>\n",
              "      <td>1169.0</td>\n",
              "      <td>no known savings</td>\n",
              "      <td>&gt;=7</td>\n",
              "      <td>4.0</td>\n",
              "      <td>male single</td>\n",
              "      <td>none</td>\n",
              "      <td>...</td>\n",
              "      <td>real estate</td>\n",
              "      <td>67.0</td>\n",
              "      <td>none</td>\n",
              "      <td>own</td>\n",
              "      <td>2.0</td>\n",
              "      <td>skilled</td>\n",
              "      <td>1.0</td>\n",
              "      <td>yes</td>\n",
              "      <td>yes</td>\n",
              "      <td>1</td>\n",
              "    </tr>\n",
              "    <tr>\n",
              "      <th>1</th>\n",
              "      <td>0&lt;=X&lt;200</td>\n",
              "      <td>48.0</td>\n",
              "      <td>existing paid</td>\n",
              "      <td>radio/tv</td>\n",
              "      <td>5951.0</td>\n",
              "      <td>&lt;100</td>\n",
              "      <td>1&lt;=X&lt;4</td>\n",
              "      <td>2.0</td>\n",
              "      <td>female div/dep/mar</td>\n",
              "      <td>none</td>\n",
              "      <td>...</td>\n",
              "      <td>real estate</td>\n",
              "      <td>22.0</td>\n",
              "      <td>none</td>\n",
              "      <td>own</td>\n",
              "      <td>1.0</td>\n",
              "      <td>skilled</td>\n",
              "      <td>1.0</td>\n",
              "      <td>none</td>\n",
              "      <td>yes</td>\n",
              "      <td>0</td>\n",
              "    </tr>\n",
              "    <tr>\n",
              "      <th>2</th>\n",
              "      <td>no checking</td>\n",
              "      <td>12.0</td>\n",
              "      <td>critical/other existing credit</td>\n",
              "      <td>education</td>\n",
              "      <td>2096.0</td>\n",
              "      <td>&lt;100</td>\n",
              "      <td>4&lt;=X&lt;7</td>\n",
              "      <td>2.0</td>\n",
              "      <td>male single</td>\n",
              "      <td>none</td>\n",
              "      <td>...</td>\n",
              "      <td>real estate</td>\n",
              "      <td>49.0</td>\n",
              "      <td>none</td>\n",
              "      <td>own</td>\n",
              "      <td>1.0</td>\n",
              "      <td>unskilled resident</td>\n",
              "      <td>2.0</td>\n",
              "      <td>none</td>\n",
              "      <td>yes</td>\n",
              "      <td>1</td>\n",
              "    </tr>\n",
              "    <tr>\n",
              "      <th>3</th>\n",
              "      <td>&lt;0</td>\n",
              "      <td>42.0</td>\n",
              "      <td>existing paid</td>\n",
              "      <td>furniture/equipment</td>\n",
              "      <td>7882.0</td>\n",
              "      <td>&lt;100</td>\n",
              "      <td>4&lt;=X&lt;7</td>\n",
              "      <td>2.0</td>\n",
              "      <td>male single</td>\n",
              "      <td>guarantor</td>\n",
              "      <td>...</td>\n",
              "      <td>life insurance</td>\n",
              "      <td>45.0</td>\n",
              "      <td>none</td>\n",
              "      <td>for free</td>\n",
              "      <td>1.0</td>\n",
              "      <td>skilled</td>\n",
              "      <td>2.0</td>\n",
              "      <td>none</td>\n",
              "      <td>yes</td>\n",
              "      <td>1</td>\n",
              "    </tr>\n",
              "    <tr>\n",
              "      <th>4</th>\n",
              "      <td>&lt;0</td>\n",
              "      <td>24.0</td>\n",
              "      <td>delayed previously</td>\n",
              "      <td>new car</td>\n",
              "      <td>4870.0</td>\n",
              "      <td>&lt;100</td>\n",
              "      <td>1&lt;=X&lt;4</td>\n",
              "      <td>3.0</td>\n",
              "      <td>male single</td>\n",
              "      <td>none</td>\n",
              "      <td>...</td>\n",
              "      <td>no known property</td>\n",
              "      <td>53.0</td>\n",
              "      <td>none</td>\n",
              "      <td>for free</td>\n",
              "      <td>2.0</td>\n",
              "      <td>skilled</td>\n",
              "      <td>2.0</td>\n",
              "      <td>none</td>\n",
              "      <td>yes</td>\n",
              "      <td>0</td>\n",
              "    </tr>\n",
              "  </tbody>\n",
              "</table>\n",
              "<p>5 rows × 21 columns</p>\n",
              "</div>\n",
              "      <button class=\"colab-df-convert\" onclick=\"convertToInteractive('df-cb776032-7705-4eda-9e7e-86432232dfc3')\"\n",
              "              title=\"Convert this dataframe to an interactive table.\"\n",
              "              style=\"display:none;\">\n",
              "        \n",
              "  <svg xmlns=\"http://www.w3.org/2000/svg\" height=\"24px\"viewBox=\"0 0 24 24\"\n",
              "       width=\"24px\">\n",
              "    <path d=\"M0 0h24v24H0V0z\" fill=\"none\"/>\n",
              "    <path d=\"M18.56 5.44l.94 2.06.94-2.06 2.06-.94-2.06-.94-.94-2.06-.94 2.06-2.06.94zm-11 1L8.5 8.5l.94-2.06 2.06-.94-2.06-.94L8.5 2.5l-.94 2.06-2.06.94zm10 10l.94 2.06.94-2.06 2.06-.94-2.06-.94-.94-2.06-.94 2.06-2.06.94z\"/><path d=\"M17.41 7.96l-1.37-1.37c-.4-.4-.92-.59-1.43-.59-.52 0-1.04.2-1.43.59L10.3 9.45l-7.72 7.72c-.78.78-.78 2.05 0 2.83L4 21.41c.39.39.9.59 1.41.59.51 0 1.02-.2 1.41-.59l7.78-7.78 2.81-2.81c.8-.78.8-2.07 0-2.86zM5.41 20L4 18.59l7.72-7.72 1.47 1.35L5.41 20z\"/>\n",
              "  </svg>\n",
              "      </button>\n",
              "      \n",
              "  <style>\n",
              "    .colab-df-container {\n",
              "      display:flex;\n",
              "      flex-wrap:wrap;\n",
              "      gap: 12px;\n",
              "    }\n",
              "\n",
              "    .colab-df-convert {\n",
              "      background-color: #E8F0FE;\n",
              "      border: none;\n",
              "      border-radius: 50%;\n",
              "      cursor: pointer;\n",
              "      display: none;\n",
              "      fill: #1967D2;\n",
              "      height: 32px;\n",
              "      padding: 0 0 0 0;\n",
              "      width: 32px;\n",
              "    }\n",
              "\n",
              "    .colab-df-convert:hover {\n",
              "      background-color: #E2EBFA;\n",
              "      box-shadow: 0px 1px 2px rgba(60, 64, 67, 0.3), 0px 1px 3px 1px rgba(60, 64, 67, 0.15);\n",
              "      fill: #174EA6;\n",
              "    }\n",
              "\n",
              "    [theme=dark] .colab-df-convert {\n",
              "      background-color: #3B4455;\n",
              "      fill: #D2E3FC;\n",
              "    }\n",
              "\n",
              "    [theme=dark] .colab-df-convert:hover {\n",
              "      background-color: #434B5C;\n",
              "      box-shadow: 0px 1px 3px 1px rgba(0, 0, 0, 0.15);\n",
              "      filter: drop-shadow(0px 1px 2px rgba(0, 0, 0, 0.3));\n",
              "      fill: #FFFFFF;\n",
              "    }\n",
              "  </style>\n",
              "\n",
              "      <script>\n",
              "        const buttonEl =\n",
              "          document.querySelector('#df-cb776032-7705-4eda-9e7e-86432232dfc3 button.colab-df-convert');\n",
              "        buttonEl.style.display =\n",
              "          google.colab.kernel.accessAllowed ? 'block' : 'none';\n",
              "\n",
              "        async function convertToInteractive(key) {\n",
              "          const element = document.querySelector('#df-cb776032-7705-4eda-9e7e-86432232dfc3');\n",
              "          const dataTable =\n",
              "            await google.colab.kernel.invokeFunction('convertToInteractive',\n",
              "                                                     [key], {});\n",
              "          if (!dataTable) return;\n",
              "\n",
              "          const docLinkHtml = 'Like what you see? Visit the ' +\n",
              "            '<a target=\"_blank\" href=https://colab.research.google.com/notebooks/data_table.ipynb>data table notebook</a>'\n",
              "            + ' to learn more about interactive tables.';\n",
              "          element.innerHTML = '';\n",
              "          dataTable['output_type'] = 'display_data';\n",
              "          await google.colab.output.renderOutput(dataTable, element);\n",
              "          const docLink = document.createElement('div');\n",
              "          docLink.innerHTML = docLinkHtml;\n",
              "          element.appendChild(docLink);\n",
              "        }\n",
              "      </script>\n",
              "    </div>\n",
              "  </div>\n",
              "  "
            ]
          },
          "metadata": {},
          "execution_count": 7
        }
      ]
    },
    {
      "cell_type": "markdown",
      "metadata": {
        "id": "35BTVieVKnBm"
      },
      "source": [
        "Generamos el conjunto de datos de entrenamiento y el de prueba"
      ]
    },
    {
      "cell_type": "code",
      "metadata": {
        "id": "U4Zj1Ex6KKgM",
        "outputId": "4f671a52-2668-49ae-e116-4e905916e611",
        "colab": {
          "base_uri": "https://localhost:8080/"
        }
      },
      "source": [
        "X_train, X_test, y_train, y_test = train_test_split(df_credit.drop(['class'],axis=1),df_credit['class'],train_size=0.80, random_state=6011, shuffle=True)\n",
        "print(X_train.shape)\n",
        "print(y_train.shape)\n",
        "print(X_test.shape)\n",
        "print(y_test.shape)"
      ],
      "execution_count": 8,
      "outputs": [
        {
          "output_type": "stream",
          "name": "stdout",
          "text": [
            "(800, 20)\n",
            "(800,)\n",
            "(200, 20)\n",
            "(200,)\n"
          ]
        }
      ]
    },
    {
      "cell_type": "markdown",
      "metadata": {
        "id": "3vtAGMPVIgp6"
      },
      "source": [
        "#### Codificando variables categóricas"
      ]
    },
    {
      "cell_type": "code",
      "metadata": {
        "id": "aJpOmmoqdQyM",
        "outputId": "678825bf-3b51-4b66-b8bd-934377cd01ef",
        "colab": {
          "base_uri": "https://localhost:8080/"
        }
      },
      "source": [
        "!pip install category_encoders"
      ],
      "execution_count": 9,
      "outputs": [
        {
          "output_type": "stream",
          "name": "stdout",
          "text": [
            "Looking in indexes: https://pypi.org/simple, https://us-python.pkg.dev/colab-wheels/public/simple/\n",
            "Collecting category_encoders\n",
            "  Downloading category_encoders-2.6.1-py2.py3-none-any.whl (81 kB)\n",
            "\u001b[2K     \u001b[90m━━━━━━━━━━━━━━━━━━━━━━━━━━━━━━━━━━━━━━━━\u001b[0m \u001b[32m81.9/81.9 kB\u001b[0m \u001b[31m2.6 MB/s\u001b[0m eta \u001b[36m0:00:00\u001b[0m\n",
            "\u001b[?25hRequirement already satisfied: numpy>=1.14.0 in /usr/local/lib/python3.10/dist-packages (from category_encoders) (1.22.4)\n",
            "Requirement already satisfied: scikit-learn>=0.20.0 in /usr/local/lib/python3.10/dist-packages (from category_encoders) (1.2.2)\n",
            "Requirement already satisfied: scipy>=1.0.0 in /usr/local/lib/python3.10/dist-packages (from category_encoders) (1.10.1)\n",
            "Requirement already satisfied: statsmodels>=0.9.0 in /usr/local/lib/python3.10/dist-packages (from category_encoders) (0.13.5)\n",
            "Requirement already satisfied: pandas>=1.0.5 in /usr/local/lib/python3.10/dist-packages (from category_encoders) (1.5.3)\n",
            "Requirement already satisfied: patsy>=0.5.1 in /usr/local/lib/python3.10/dist-packages (from category_encoders) (0.5.3)\n",
            "Requirement already satisfied: python-dateutil>=2.8.1 in /usr/local/lib/python3.10/dist-packages (from pandas>=1.0.5->category_encoders) (2.8.2)\n",
            "Requirement already satisfied: pytz>=2020.1 in /usr/local/lib/python3.10/dist-packages (from pandas>=1.0.5->category_encoders) (2022.7.1)\n",
            "Requirement already satisfied: six in /usr/local/lib/python3.10/dist-packages (from patsy>=0.5.1->category_encoders) (1.16.0)\n",
            "Requirement already satisfied: joblib>=1.1.1 in /usr/local/lib/python3.10/dist-packages (from scikit-learn>=0.20.0->category_encoders) (1.2.0)\n",
            "Requirement already satisfied: threadpoolctl>=2.0.0 in /usr/local/lib/python3.10/dist-packages (from scikit-learn>=0.20.0->category_encoders) (3.1.0)\n",
            "Requirement already satisfied: packaging>=21.3 in /usr/local/lib/python3.10/dist-packages (from statsmodels>=0.9.0->category_encoders) (23.1)\n",
            "Installing collected packages: category_encoders\n",
            "Successfully installed category_encoders-2.6.1\n"
          ]
        }
      ]
    },
    {
      "cell_type": "code",
      "metadata": {
        "id": "DPjxMGjDdV0k"
      },
      "source": [
        "from category_encoders import MEstimateEncoder"
      ],
      "execution_count": 10,
      "outputs": []
    },
    {
      "cell_type": "code",
      "metadata": {
        "id": "kJCDGOZ_EJnu"
      },
      "source": [
        "cat_cols = ['checking_status','credit_history','purpose','savings_status','employment','personal_status','other_parties','residence_since','property_magnitude','other_payment_plans','housing','job','own_telephone','foreign_worker']"
      ],
      "execution_count": 11,
      "outputs": []
    },
    {
      "cell_type": "code",
      "metadata": {
        "id": "pdO125jHdcsY"
      },
      "source": [
        "mest_enc = MEstimateEncoder(cols=cat_cols)"
      ],
      "execution_count": 12,
      "outputs": []
    },
    {
      "cell_type": "code",
      "metadata": {
        "id": "16qqaIGteC-A"
      },
      "source": [
        "X_train_cod1 = mest_enc.fit_transform(X_train, y_train)"
      ],
      "execution_count": 13,
      "outputs": []
    },
    {
      "cell_type": "code",
      "metadata": {
        "id": "phDz1BK0eDAy",
        "outputId": "3aea0507-8853-4550-a3a4-ab140f91ddaa",
        "colab": {
          "base_uri": "https://localhost:8080/"
        }
      },
      "source": [
        "X_train_cod1"
      ],
      "execution_count": 14,
      "outputs": [
        {
          "output_type": "execute_result",
          "data": {
            "text/plain": [
              "     checking_status  duration  credit_history   purpose  credit_amount  \\\n",
              "621         0.874023      18.0        0.824947  0.607955         1530.0   \n",
              "199         0.611944      18.0        0.671875  0.679789         4297.0   \n",
              "360         0.611944      18.0        0.663586  0.556090         1239.0   \n",
              "65          0.874023      27.0        0.663586  0.634375         5190.0   \n",
              "981         0.874023      48.0        0.663586  0.638117         4844.0   \n",
              "..               ...       ...             ...       ...            ...   \n",
              "187         0.611944      16.0        0.824947  0.607955         1175.0   \n",
              "478         0.611944      12.0        0.663586  0.638117         1037.0   \n",
              "559         0.611944      18.0        0.824947  0.679789         1928.0   \n",
              "305         0.874023       6.0        0.663586  0.679789         1543.0   \n",
              "243         0.874023      12.0        0.824947  0.638117         1185.0   \n",
              "\n",
              "     savings_status  employment  installment_commitment  personal_status  \\\n",
              "621        0.622500    0.683036                     3.0         0.723900   \n",
              "199        0.622500    0.737377                     4.0         0.597384   \n",
              "360        0.803272    0.683036                     4.0         0.723900   \n",
              "65         0.803272    0.737377                     4.0         0.723900   \n",
              "981        0.622500    0.593750                     3.0         0.723900   \n",
              "..              ...         ...                     ...              ...   \n",
              "187        0.622500    0.593750                     2.0         0.723900   \n",
              "478        0.681882    0.784052                     3.0         0.723900   \n",
              "559        0.622500    0.558067                     2.0         0.723900   \n",
              "305        0.876453    0.683036                     4.0         0.597384   \n",
              "243        0.622500    0.683036                     3.0         0.623214   \n",
              "\n",
              "     other_parties  residence_since  property_magnitude   age  \\\n",
              "621       0.688523         0.672262            0.672126  32.0   \n",
              "199       0.688523         0.709500            0.550305  40.0   \n",
              "360       0.688523         0.681835            0.550305  61.0   \n",
              "65        0.688523         0.681835            0.672126  48.0   \n",
              "981       0.688523         0.672262            0.679136  33.0   \n",
              "..             ...              ...                 ...   ...   \n",
              "187       0.688523         0.709500            0.679136  68.0   \n",
              "478       0.688523         0.681835            0.785278  39.0   \n",
              "559       0.688523         0.672262            0.785278  31.0   \n",
              "305       0.688523         0.672262            0.785278  33.0   \n",
              "243       0.688523         0.672262            0.785278  27.0   \n",
              "\n",
              "     other_payment_plans   housing  existing_credits       job  \\\n",
              "621             0.568638  0.724373               2.0  0.692749   \n",
              "199             0.712270  0.724373               1.0  0.629808   \n",
              "360             0.712270  0.586596               1.0  0.692749   \n",
              "65              0.712270  0.724373               4.0  0.692749   \n",
              "981             0.568638  0.596391               1.0  0.629808   \n",
              "..                   ...       ...               ...       ...   \n",
              "187             0.712270  0.586596               3.0  0.593750   \n",
              "478             0.712270  0.724373               1.0  0.724124   \n",
              "559             0.712270  0.724373               2.0  0.724124   \n",
              "305             0.712270  0.724373               1.0  0.692749   \n",
              "243             0.712270  0.724373               2.0  0.692749   \n",
              "\n",
              "     num_dependents  own_telephone  foreign_worker  \n",
              "621             1.0       0.674349        0.680114  \n",
              "199             1.0       0.707104        0.680114  \n",
              "360             1.0       0.674349        0.680114  \n",
              "65              2.0       0.707104        0.680114  \n",
              "981             1.0       0.707104        0.680114  \n",
              "..              ...            ...             ...  \n",
              "187             1.0       0.707104        0.680114  \n",
              "478             1.0       0.674349        0.680114  \n",
              "559             1.0       0.674349        0.680114  \n",
              "305             1.0       0.674349        0.680114  \n",
              "243             1.0       0.674349        0.680114  \n",
              "\n",
              "[800 rows x 20 columns]"
            ],
            "text/html": [
              "\n",
              "  <div id=\"df-052592d5-2559-496f-bf04-523019a91237\">\n",
              "    <div class=\"colab-df-container\">\n",
              "      <div>\n",
              "<style scoped>\n",
              "    .dataframe tbody tr th:only-of-type {\n",
              "        vertical-align: middle;\n",
              "    }\n",
              "\n",
              "    .dataframe tbody tr th {\n",
              "        vertical-align: top;\n",
              "    }\n",
              "\n",
              "    .dataframe thead th {\n",
              "        text-align: right;\n",
              "    }\n",
              "</style>\n",
              "<table border=\"1\" class=\"dataframe\">\n",
              "  <thead>\n",
              "    <tr style=\"text-align: right;\">\n",
              "      <th></th>\n",
              "      <th>checking_status</th>\n",
              "      <th>duration</th>\n",
              "      <th>credit_history</th>\n",
              "      <th>purpose</th>\n",
              "      <th>credit_amount</th>\n",
              "      <th>savings_status</th>\n",
              "      <th>employment</th>\n",
              "      <th>installment_commitment</th>\n",
              "      <th>personal_status</th>\n",
              "      <th>other_parties</th>\n",
              "      <th>residence_since</th>\n",
              "      <th>property_magnitude</th>\n",
              "      <th>age</th>\n",
              "      <th>other_payment_plans</th>\n",
              "      <th>housing</th>\n",
              "      <th>existing_credits</th>\n",
              "      <th>job</th>\n",
              "      <th>num_dependents</th>\n",
              "      <th>own_telephone</th>\n",
              "      <th>foreign_worker</th>\n",
              "    </tr>\n",
              "  </thead>\n",
              "  <tbody>\n",
              "    <tr>\n",
              "      <th>621</th>\n",
              "      <td>0.874023</td>\n",
              "      <td>18.0</td>\n",
              "      <td>0.824947</td>\n",
              "      <td>0.607955</td>\n",
              "      <td>1530.0</td>\n",
              "      <td>0.622500</td>\n",
              "      <td>0.683036</td>\n",
              "      <td>3.0</td>\n",
              "      <td>0.723900</td>\n",
              "      <td>0.688523</td>\n",
              "      <td>0.672262</td>\n",
              "      <td>0.672126</td>\n",
              "      <td>32.0</td>\n",
              "      <td>0.568638</td>\n",
              "      <td>0.724373</td>\n",
              "      <td>2.0</td>\n",
              "      <td>0.692749</td>\n",
              "      <td>1.0</td>\n",
              "      <td>0.674349</td>\n",
              "      <td>0.680114</td>\n",
              "    </tr>\n",
              "    <tr>\n",
              "      <th>199</th>\n",
              "      <td>0.611944</td>\n",
              "      <td>18.0</td>\n",
              "      <td>0.671875</td>\n",
              "      <td>0.679789</td>\n",
              "      <td>4297.0</td>\n",
              "      <td>0.622500</td>\n",
              "      <td>0.737377</td>\n",
              "      <td>4.0</td>\n",
              "      <td>0.597384</td>\n",
              "      <td>0.688523</td>\n",
              "      <td>0.709500</td>\n",
              "      <td>0.550305</td>\n",
              "      <td>40.0</td>\n",
              "      <td>0.712270</td>\n",
              "      <td>0.724373</td>\n",
              "      <td>1.0</td>\n",
              "      <td>0.629808</td>\n",
              "      <td>1.0</td>\n",
              "      <td>0.707104</td>\n",
              "      <td>0.680114</td>\n",
              "    </tr>\n",
              "    <tr>\n",
              "      <th>360</th>\n",
              "      <td>0.611944</td>\n",
              "      <td>18.0</td>\n",
              "      <td>0.663586</td>\n",
              "      <td>0.556090</td>\n",
              "      <td>1239.0</td>\n",
              "      <td>0.803272</td>\n",
              "      <td>0.683036</td>\n",
              "      <td>4.0</td>\n",
              "      <td>0.723900</td>\n",
              "      <td>0.688523</td>\n",
              "      <td>0.681835</td>\n",
              "      <td>0.550305</td>\n",
              "      <td>61.0</td>\n",
              "      <td>0.712270</td>\n",
              "      <td>0.586596</td>\n",
              "      <td>1.0</td>\n",
              "      <td>0.692749</td>\n",
              "      <td>1.0</td>\n",
              "      <td>0.674349</td>\n",
              "      <td>0.680114</td>\n",
              "    </tr>\n",
              "    <tr>\n",
              "      <th>65</th>\n",
              "      <td>0.874023</td>\n",
              "      <td>27.0</td>\n",
              "      <td>0.663586</td>\n",
              "      <td>0.634375</td>\n",
              "      <td>5190.0</td>\n",
              "      <td>0.803272</td>\n",
              "      <td>0.737377</td>\n",
              "      <td>4.0</td>\n",
              "      <td>0.723900</td>\n",
              "      <td>0.688523</td>\n",
              "      <td>0.681835</td>\n",
              "      <td>0.672126</td>\n",
              "      <td>48.0</td>\n",
              "      <td>0.712270</td>\n",
              "      <td>0.724373</td>\n",
              "      <td>4.0</td>\n",
              "      <td>0.692749</td>\n",
              "      <td>2.0</td>\n",
              "      <td>0.707104</td>\n",
              "      <td>0.680114</td>\n",
              "    </tr>\n",
              "    <tr>\n",
              "      <th>981</th>\n",
              "      <td>0.874023</td>\n",
              "      <td>48.0</td>\n",
              "      <td>0.663586</td>\n",
              "      <td>0.638117</td>\n",
              "      <td>4844.0</td>\n",
              "      <td>0.622500</td>\n",
              "      <td>0.593750</td>\n",
              "      <td>3.0</td>\n",
              "      <td>0.723900</td>\n",
              "      <td>0.688523</td>\n",
              "      <td>0.672262</td>\n",
              "      <td>0.679136</td>\n",
              "      <td>33.0</td>\n",
              "      <td>0.568638</td>\n",
              "      <td>0.596391</td>\n",
              "      <td>1.0</td>\n",
              "      <td>0.629808</td>\n",
              "      <td>1.0</td>\n",
              "      <td>0.707104</td>\n",
              "      <td>0.680114</td>\n",
              "    </tr>\n",
              "    <tr>\n",
              "      <th>...</th>\n",
              "      <td>...</td>\n",
              "      <td>...</td>\n",
              "      <td>...</td>\n",
              "      <td>...</td>\n",
              "      <td>...</td>\n",
              "      <td>...</td>\n",
              "      <td>...</td>\n",
              "      <td>...</td>\n",
              "      <td>...</td>\n",
              "      <td>...</td>\n",
              "      <td>...</td>\n",
              "      <td>...</td>\n",
              "      <td>...</td>\n",
              "      <td>...</td>\n",
              "      <td>...</td>\n",
              "      <td>...</td>\n",
              "      <td>...</td>\n",
              "      <td>...</td>\n",
              "      <td>...</td>\n",
              "      <td>...</td>\n",
              "    </tr>\n",
              "    <tr>\n",
              "      <th>187</th>\n",
              "      <td>0.611944</td>\n",
              "      <td>16.0</td>\n",
              "      <td>0.824947</td>\n",
              "      <td>0.607955</td>\n",
              "      <td>1175.0</td>\n",
              "      <td>0.622500</td>\n",
              "      <td>0.593750</td>\n",
              "      <td>2.0</td>\n",
              "      <td>0.723900</td>\n",
              "      <td>0.688523</td>\n",
              "      <td>0.709500</td>\n",
              "      <td>0.679136</td>\n",
              "      <td>68.0</td>\n",
              "      <td>0.712270</td>\n",
              "      <td>0.586596</td>\n",
              "      <td>3.0</td>\n",
              "      <td>0.593750</td>\n",
              "      <td>1.0</td>\n",
              "      <td>0.707104</td>\n",
              "      <td>0.680114</td>\n",
              "    </tr>\n",
              "    <tr>\n",
              "      <th>478</th>\n",
              "      <td>0.611944</td>\n",
              "      <td>12.0</td>\n",
              "      <td>0.663586</td>\n",
              "      <td>0.638117</td>\n",
              "      <td>1037.0</td>\n",
              "      <td>0.681882</td>\n",
              "      <td>0.784052</td>\n",
              "      <td>3.0</td>\n",
              "      <td>0.723900</td>\n",
              "      <td>0.688523</td>\n",
              "      <td>0.681835</td>\n",
              "      <td>0.785278</td>\n",
              "      <td>39.0</td>\n",
              "      <td>0.712270</td>\n",
              "      <td>0.724373</td>\n",
              "      <td>1.0</td>\n",
              "      <td>0.724124</td>\n",
              "      <td>1.0</td>\n",
              "      <td>0.674349</td>\n",
              "      <td>0.680114</td>\n",
              "    </tr>\n",
              "    <tr>\n",
              "      <th>559</th>\n",
              "      <td>0.611944</td>\n",
              "      <td>18.0</td>\n",
              "      <td>0.824947</td>\n",
              "      <td>0.679789</td>\n",
              "      <td>1928.0</td>\n",
              "      <td>0.622500</td>\n",
              "      <td>0.558067</td>\n",
              "      <td>2.0</td>\n",
              "      <td>0.723900</td>\n",
              "      <td>0.688523</td>\n",
              "      <td>0.672262</td>\n",
              "      <td>0.785278</td>\n",
              "      <td>31.0</td>\n",
              "      <td>0.712270</td>\n",
              "      <td>0.724373</td>\n",
              "      <td>2.0</td>\n",
              "      <td>0.724124</td>\n",
              "      <td>1.0</td>\n",
              "      <td>0.674349</td>\n",
              "      <td>0.680114</td>\n",
              "    </tr>\n",
              "    <tr>\n",
              "      <th>305</th>\n",
              "      <td>0.874023</td>\n",
              "      <td>6.0</td>\n",
              "      <td>0.663586</td>\n",
              "      <td>0.679789</td>\n",
              "      <td>1543.0</td>\n",
              "      <td>0.876453</td>\n",
              "      <td>0.683036</td>\n",
              "      <td>4.0</td>\n",
              "      <td>0.597384</td>\n",
              "      <td>0.688523</td>\n",
              "      <td>0.672262</td>\n",
              "      <td>0.785278</td>\n",
              "      <td>33.0</td>\n",
              "      <td>0.712270</td>\n",
              "      <td>0.724373</td>\n",
              "      <td>1.0</td>\n",
              "      <td>0.692749</td>\n",
              "      <td>1.0</td>\n",
              "      <td>0.674349</td>\n",
              "      <td>0.680114</td>\n",
              "    </tr>\n",
              "    <tr>\n",
              "      <th>243</th>\n",
              "      <td>0.874023</td>\n",
              "      <td>12.0</td>\n",
              "      <td>0.824947</td>\n",
              "      <td>0.638117</td>\n",
              "      <td>1185.0</td>\n",
              "      <td>0.622500</td>\n",
              "      <td>0.683036</td>\n",
              "      <td>3.0</td>\n",
              "      <td>0.623214</td>\n",
              "      <td>0.688523</td>\n",
              "      <td>0.672262</td>\n",
              "      <td>0.785278</td>\n",
              "      <td>27.0</td>\n",
              "      <td>0.712270</td>\n",
              "      <td>0.724373</td>\n",
              "      <td>2.0</td>\n",
              "      <td>0.692749</td>\n",
              "      <td>1.0</td>\n",
              "      <td>0.674349</td>\n",
              "      <td>0.680114</td>\n",
              "    </tr>\n",
              "  </tbody>\n",
              "</table>\n",
              "<p>800 rows × 20 columns</p>\n",
              "</div>\n",
              "      <button class=\"colab-df-convert\" onclick=\"convertToInteractive('df-052592d5-2559-496f-bf04-523019a91237')\"\n",
              "              title=\"Convert this dataframe to an interactive table.\"\n",
              "              style=\"display:none;\">\n",
              "        \n",
              "  <svg xmlns=\"http://www.w3.org/2000/svg\" height=\"24px\"viewBox=\"0 0 24 24\"\n",
              "       width=\"24px\">\n",
              "    <path d=\"M0 0h24v24H0V0z\" fill=\"none\"/>\n",
              "    <path d=\"M18.56 5.44l.94 2.06.94-2.06 2.06-.94-2.06-.94-.94-2.06-.94 2.06-2.06.94zm-11 1L8.5 8.5l.94-2.06 2.06-.94-2.06-.94L8.5 2.5l-.94 2.06-2.06.94zm10 10l.94 2.06.94-2.06 2.06-.94-2.06-.94-.94-2.06-.94 2.06-2.06.94z\"/><path d=\"M17.41 7.96l-1.37-1.37c-.4-.4-.92-.59-1.43-.59-.52 0-1.04.2-1.43.59L10.3 9.45l-7.72 7.72c-.78.78-.78 2.05 0 2.83L4 21.41c.39.39.9.59 1.41.59.51 0 1.02-.2 1.41-.59l7.78-7.78 2.81-2.81c.8-.78.8-2.07 0-2.86zM5.41 20L4 18.59l7.72-7.72 1.47 1.35L5.41 20z\"/>\n",
              "  </svg>\n",
              "      </button>\n",
              "      \n",
              "  <style>\n",
              "    .colab-df-container {\n",
              "      display:flex;\n",
              "      flex-wrap:wrap;\n",
              "      gap: 12px;\n",
              "    }\n",
              "\n",
              "    .colab-df-convert {\n",
              "      background-color: #E8F0FE;\n",
              "      border: none;\n",
              "      border-radius: 50%;\n",
              "      cursor: pointer;\n",
              "      display: none;\n",
              "      fill: #1967D2;\n",
              "      height: 32px;\n",
              "      padding: 0 0 0 0;\n",
              "      width: 32px;\n",
              "    }\n",
              "\n",
              "    .colab-df-convert:hover {\n",
              "      background-color: #E2EBFA;\n",
              "      box-shadow: 0px 1px 2px rgba(60, 64, 67, 0.3), 0px 1px 3px 1px rgba(60, 64, 67, 0.15);\n",
              "      fill: #174EA6;\n",
              "    }\n",
              "\n",
              "    [theme=dark] .colab-df-convert {\n",
              "      background-color: #3B4455;\n",
              "      fill: #D2E3FC;\n",
              "    }\n",
              "\n",
              "    [theme=dark] .colab-df-convert:hover {\n",
              "      background-color: #434B5C;\n",
              "      box-shadow: 0px 1px 3px 1px rgba(0, 0, 0, 0.15);\n",
              "      filter: drop-shadow(0px 1px 2px rgba(0, 0, 0, 0.3));\n",
              "      fill: #FFFFFF;\n",
              "    }\n",
              "  </style>\n",
              "\n",
              "      <script>\n",
              "        const buttonEl =\n",
              "          document.querySelector('#df-052592d5-2559-496f-bf04-523019a91237 button.colab-df-convert');\n",
              "        buttonEl.style.display =\n",
              "          google.colab.kernel.accessAllowed ? 'block' : 'none';\n",
              "\n",
              "        async function convertToInteractive(key) {\n",
              "          const element = document.querySelector('#df-052592d5-2559-496f-bf04-523019a91237');\n",
              "          const dataTable =\n",
              "            await google.colab.kernel.invokeFunction('convertToInteractive',\n",
              "                                                     [key], {});\n",
              "          if (!dataTable) return;\n",
              "\n",
              "          const docLinkHtml = 'Like what you see? Visit the ' +\n",
              "            '<a target=\"_blank\" href=https://colab.research.google.com/notebooks/data_table.ipynb>data table notebook</a>'\n",
              "            + ' to learn more about interactive tables.';\n",
              "          element.innerHTML = '';\n",
              "          dataTable['output_type'] = 'display_data';\n",
              "          await google.colab.output.renderOutput(dataTable, element);\n",
              "          const docLink = document.createElement('div');\n",
              "          docLink.innerHTML = docLinkHtml;\n",
              "          element.appendChild(docLink);\n",
              "        }\n",
              "      </script>\n",
              "    </div>\n",
              "  </div>\n",
              "  "
            ]
          },
          "metadata": {},
          "execution_count": 14
        }
      ]
    },
    {
      "cell_type": "code",
      "metadata": {
        "id": "L3lsJrKFeh9X",
        "outputId": "29854d99-b463-4b7b-df6c-735976fd358b",
        "colab": {
          "base_uri": "https://localhost:8080/"
        }
      },
      "source": [
        "mest_enc.mapping"
      ],
      "execution_count": 15,
      "outputs": [
        {
          "output_type": "execute_result",
          "data": {
            "text/plain": [
              "{'checking_status': checking_status\n",
              "  1    0.874023\n",
              "  2    0.611944\n",
              "  3    0.477192\n",
              "  4    0.722656\n",
              " -1    0.687500\n",
              " -2    0.687500\n",
              " dtype: float64,\n",
              " 'credit_history': credit_history\n",
              "  1    0.824947\n",
              "  2    0.671875\n",
              "  3    0.663586\n",
              "  4    0.417187\n",
              "  5    0.391071\n",
              " -1    0.687500\n",
              " -2    0.687500\n",
              " dtype: float64,\n",
              " 'purpose': purpose\n",
              "  1     0.607955\n",
              "  2     0.679789\n",
              "  3     0.556090\n",
              "  4     0.634375\n",
              "  5     0.638117\n",
              "  6     0.764895\n",
              "  7     0.810320\n",
              "  8     0.568750\n",
              "  9     0.835938\n",
              "  10    0.607955\n",
              " -1     0.687500\n",
              " -2     0.687500\n",
              " dtype: float64,\n",
              " 'savings_status': savings_status\n",
              "  1    0.622500\n",
              "  2    0.803272\n",
              "  3    0.809949\n",
              "  4    0.681882\n",
              "  5    0.876453\n",
              " -1    0.687500\n",
              " -2    0.687500\n",
              " dtype: float64,\n",
              " 'employment': employment\n",
              "  1    0.683036\n",
              "  2    0.737377\n",
              "  3    0.593750\n",
              "  4    0.784052\n",
              "  5    0.558067\n",
              " -1    0.687500\n",
              " -2    0.687500\n",
              " dtype: float64,\n",
              " 'personal_status': personal_status\n",
              "  1    0.723900\n",
              "  2    0.597384\n",
              "  3    0.735445\n",
              "  4    0.623214\n",
              " -1    0.687500\n",
              " -2    0.687500\n",
              " dtype: float64,\n",
              " 'other_parties': other_parties\n",
              "  1    0.688523\n",
              "  2    0.535985\n",
              "  3    0.802365\n",
              " -1    0.687500\n",
              " -2    0.687500\n",
              " dtype: float64,\n",
              " 'residence_since': residence_since\n",
              "  1    0.672262\n",
              "  2    0.709500\n",
              "  3    0.681835\n",
              "  4    0.714033\n",
              " -1    0.687500\n",
              " -2    0.687500\n",
              " dtype: float64,\n",
              " 'property_magnitude': property_magnitude\n",
              "  1    0.672126\n",
              "  2    0.550305\n",
              "  3    0.679136\n",
              "  4    0.785278\n",
              " -1    0.687500\n",
              " -2    0.687500\n",
              " dtype: float64,\n",
              " 'other_payment_plans': other_payment_plans\n",
              "  1    0.568638\n",
              "  2    0.712270\n",
              "  3    0.617188\n",
              " -1    0.687500\n",
              " -2    0.687500\n",
              " dtype: float64,\n",
              " 'housing': housing\n",
              "  1    0.724373\n",
              "  2    0.586596\n",
              "  3    0.596391\n",
              " -1    0.687500\n",
              " -2    0.687500\n",
              " dtype: float64,\n",
              " 'job': job\n",
              "  1    0.692749\n",
              "  2    0.629808\n",
              "  3    0.724124\n",
              "  4    0.593750\n",
              " -1    0.687500\n",
              " -2    0.687500\n",
              " dtype: float64,\n",
              " 'own_telephone': own_telephone\n",
              "  1    0.674349\n",
              "  2    0.707104\n",
              " -1    0.687500\n",
              " -2    0.687500\n",
              " dtype: float64,\n",
              " 'foreign_worker': foreign_worker\n",
              "  1    0.680114\n",
              "  2    0.865234\n",
              " -1    0.687500\n",
              " -2    0.687500\n",
              " dtype: float64}"
            ]
          },
          "metadata": {},
          "execution_count": 15
        }
      ]
    },
    {
      "cell_type": "code",
      "metadata": {
        "id": "fvblAl1AgTMn"
      },
      "source": [
        "X_test_cod1 = mest_enc.transform(X_test)"
      ],
      "execution_count": 16,
      "outputs": []
    },
    {
      "cell_type": "code",
      "metadata": {
        "id": "lux5I1vLhRaS"
      },
      "source": [
        "from sklearn.preprocessing import PolynomialFeatures"
      ],
      "execution_count": 17,
      "outputs": []
    },
    {
      "cell_type": "code",
      "metadata": {
        "id": "utS44rR5hVzz"
      },
      "source": [
        "poly_gen = PolynomialFeatures(2)"
      ],
      "execution_count": 18,
      "outputs": []
    },
    {
      "cell_type": "code",
      "metadata": {
        "id": "7lSBa5MmhV2m",
        "outputId": "b79bd30b-0623-4531-9346-ca240867d644",
        "colab": {
          "base_uri": "https://localhost:8080/"
        }
      },
      "source": [
        "poly_gen.fit_transform(X_train_cod1).shape"
      ],
      "execution_count": 19,
      "outputs": [
        {
          "output_type": "execute_result",
          "data": {
            "text/plain": [
              "(800, 231)"
            ]
          },
          "metadata": {},
          "execution_count": 19
        }
      ]
    },
    {
      "cell_type": "code",
      "metadata": {
        "id": "RB-4q3prhV5y",
        "outputId": "3040f134-e34f-4cee-a8d2-4e1827dc97c2",
        "colab": {
          "base_uri": "https://localhost:8080/"
        }
      },
      "source": [
        "X_train_cod = pd.DataFrame(poly_gen.fit_transform(X_train_cod1), columns=poly_gen.get_feature_names_out())\n",
        "X_train_cod"
      ],
      "execution_count": 20,
      "outputs": [
        {
          "output_type": "execute_result",
          "data": {
            "text/plain": [
              "       1  checking_status  duration  credit_history   purpose  credit_amount  \\\n",
              "0    1.0         0.874023      18.0        0.824947  0.607955         1530.0   \n",
              "1    1.0         0.611944      18.0        0.671875  0.679789         4297.0   \n",
              "2    1.0         0.611944      18.0        0.663586  0.556090         1239.0   \n",
              "3    1.0         0.874023      27.0        0.663586  0.634375         5190.0   \n",
              "4    1.0         0.874023      48.0        0.663586  0.638117         4844.0   \n",
              "..   ...              ...       ...             ...       ...            ...   \n",
              "795  1.0         0.611944      16.0        0.824947  0.607955         1175.0   \n",
              "796  1.0         0.611944      12.0        0.663586  0.638117         1037.0   \n",
              "797  1.0         0.611944      18.0        0.824947  0.679789         1928.0   \n",
              "798  1.0         0.874023       6.0        0.663586  0.679789         1543.0   \n",
              "799  1.0         0.874023      12.0        0.824947  0.638117         1185.0   \n",
              "\n",
              "     savings_status  employment  installment_commitment  personal_status  ...  \\\n",
              "0          0.622500    0.683036                     3.0         0.723900  ...   \n",
              "1          0.622500    0.737377                     4.0         0.597384  ...   \n",
              "2          0.803272    0.683036                     4.0         0.723900  ...   \n",
              "3          0.803272    0.737377                     4.0         0.723900  ...   \n",
              "4          0.622500    0.593750                     3.0         0.723900  ...   \n",
              "..              ...         ...                     ...              ...  ...   \n",
              "795        0.622500    0.593750                     2.0         0.723900  ...   \n",
              "796        0.681882    0.784052                     3.0         0.723900  ...   \n",
              "797        0.622500    0.558067                     2.0         0.723900  ...   \n",
              "798        0.876453    0.683036                     4.0         0.597384  ...   \n",
              "799        0.622500    0.683036                     3.0         0.623214  ...   \n",
              "\n",
              "        job^2  job num_dependents  job own_telephone  job foreign_worker  \\\n",
              "0    0.479901            0.692749           0.467155            0.471148   \n",
              "1    0.396658            0.629808           0.445340            0.428341   \n",
              "2    0.479901            0.692749           0.467155            0.471148   \n",
              "3    0.479901            1.385498           0.489846            0.471148   \n",
              "4    0.396658            0.629808           0.445340            0.428341   \n",
              "..        ...                 ...                ...                 ...   \n",
              "795  0.352539            0.593750           0.419843            0.403817   \n",
              "796  0.524356            0.724124           0.488312            0.492487   \n",
              "797  0.524356            0.724124           0.488312            0.492487   \n",
              "798  0.479901            0.692749           0.467155            0.471148   \n",
              "799  0.479901            0.692749           0.467155            0.471148   \n",
              "\n",
              "     num_dependents^2  num_dependents own_telephone  \\\n",
              "0                 1.0                      0.674349   \n",
              "1                 1.0                      0.707104   \n",
              "2                 1.0                      0.674349   \n",
              "3                 4.0                      1.414208   \n",
              "4                 1.0                      0.707104   \n",
              "..                ...                           ...   \n",
              "795               1.0                      0.707104   \n",
              "796               1.0                      0.674349   \n",
              "797               1.0                      0.674349   \n",
              "798               1.0                      0.674349   \n",
              "799               1.0                      0.674349   \n",
              "\n",
              "     num_dependents foreign_worker  own_telephone^2  \\\n",
              "0                         0.680114         0.454747   \n",
              "1                         0.680114         0.499996   \n",
              "2                         0.680114         0.454747   \n",
              "3                         1.360227         0.499996   \n",
              "4                         0.680114         0.499996   \n",
              "..                             ...              ...   \n",
              "795                       0.680114         0.499996   \n",
              "796                       0.680114         0.454747   \n",
              "797                       0.680114         0.454747   \n",
              "798                       0.680114         0.454747   \n",
              "799                       0.680114         0.454747   \n",
              "\n",
              "     own_telephone foreign_worker  foreign_worker^2  \n",
              "0                        0.458634          0.462555  \n",
              "1                        0.480911          0.462555  \n",
              "2                        0.458634          0.462555  \n",
              "3                        0.480911          0.462555  \n",
              "4                        0.480911          0.462555  \n",
              "..                            ...               ...  \n",
              "795                      0.480911          0.462555  \n",
              "796                      0.458634          0.462555  \n",
              "797                      0.458634          0.462555  \n",
              "798                      0.458634          0.462555  \n",
              "799                      0.458634          0.462555  \n",
              "\n",
              "[800 rows x 231 columns]"
            ],
            "text/html": [
              "\n",
              "  <div id=\"df-846a9088-710c-4e93-b498-5b594ba84c7e\">\n",
              "    <div class=\"colab-df-container\">\n",
              "      <div>\n",
              "<style scoped>\n",
              "    .dataframe tbody tr th:only-of-type {\n",
              "        vertical-align: middle;\n",
              "    }\n",
              "\n",
              "    .dataframe tbody tr th {\n",
              "        vertical-align: top;\n",
              "    }\n",
              "\n",
              "    .dataframe thead th {\n",
              "        text-align: right;\n",
              "    }\n",
              "</style>\n",
              "<table border=\"1\" class=\"dataframe\">\n",
              "  <thead>\n",
              "    <tr style=\"text-align: right;\">\n",
              "      <th></th>\n",
              "      <th>1</th>\n",
              "      <th>checking_status</th>\n",
              "      <th>duration</th>\n",
              "      <th>credit_history</th>\n",
              "      <th>purpose</th>\n",
              "      <th>credit_amount</th>\n",
              "      <th>savings_status</th>\n",
              "      <th>employment</th>\n",
              "      <th>installment_commitment</th>\n",
              "      <th>personal_status</th>\n",
              "      <th>...</th>\n",
              "      <th>job^2</th>\n",
              "      <th>job num_dependents</th>\n",
              "      <th>job own_telephone</th>\n",
              "      <th>job foreign_worker</th>\n",
              "      <th>num_dependents^2</th>\n",
              "      <th>num_dependents own_telephone</th>\n",
              "      <th>num_dependents foreign_worker</th>\n",
              "      <th>own_telephone^2</th>\n",
              "      <th>own_telephone foreign_worker</th>\n",
              "      <th>foreign_worker^2</th>\n",
              "    </tr>\n",
              "  </thead>\n",
              "  <tbody>\n",
              "    <tr>\n",
              "      <th>0</th>\n",
              "      <td>1.0</td>\n",
              "      <td>0.874023</td>\n",
              "      <td>18.0</td>\n",
              "      <td>0.824947</td>\n",
              "      <td>0.607955</td>\n",
              "      <td>1530.0</td>\n",
              "      <td>0.622500</td>\n",
              "      <td>0.683036</td>\n",
              "      <td>3.0</td>\n",
              "      <td>0.723900</td>\n",
              "      <td>...</td>\n",
              "      <td>0.479901</td>\n",
              "      <td>0.692749</td>\n",
              "      <td>0.467155</td>\n",
              "      <td>0.471148</td>\n",
              "      <td>1.0</td>\n",
              "      <td>0.674349</td>\n",
              "      <td>0.680114</td>\n",
              "      <td>0.454747</td>\n",
              "      <td>0.458634</td>\n",
              "      <td>0.462555</td>\n",
              "    </tr>\n",
              "    <tr>\n",
              "      <th>1</th>\n",
              "      <td>1.0</td>\n",
              "      <td>0.611944</td>\n",
              "      <td>18.0</td>\n",
              "      <td>0.671875</td>\n",
              "      <td>0.679789</td>\n",
              "      <td>4297.0</td>\n",
              "      <td>0.622500</td>\n",
              "      <td>0.737377</td>\n",
              "      <td>4.0</td>\n",
              "      <td>0.597384</td>\n",
              "      <td>...</td>\n",
              "      <td>0.396658</td>\n",
              "      <td>0.629808</td>\n",
              "      <td>0.445340</td>\n",
              "      <td>0.428341</td>\n",
              "      <td>1.0</td>\n",
              "      <td>0.707104</td>\n",
              "      <td>0.680114</td>\n",
              "      <td>0.499996</td>\n",
              "      <td>0.480911</td>\n",
              "      <td>0.462555</td>\n",
              "    </tr>\n",
              "    <tr>\n",
              "      <th>2</th>\n",
              "      <td>1.0</td>\n",
              "      <td>0.611944</td>\n",
              "      <td>18.0</td>\n",
              "      <td>0.663586</td>\n",
              "      <td>0.556090</td>\n",
              "      <td>1239.0</td>\n",
              "      <td>0.803272</td>\n",
              "      <td>0.683036</td>\n",
              "      <td>4.0</td>\n",
              "      <td>0.723900</td>\n",
              "      <td>...</td>\n",
              "      <td>0.479901</td>\n",
              "      <td>0.692749</td>\n",
              "      <td>0.467155</td>\n",
              "      <td>0.471148</td>\n",
              "      <td>1.0</td>\n",
              "      <td>0.674349</td>\n",
              "      <td>0.680114</td>\n",
              "      <td>0.454747</td>\n",
              "      <td>0.458634</td>\n",
              "      <td>0.462555</td>\n",
              "    </tr>\n",
              "    <tr>\n",
              "      <th>3</th>\n",
              "      <td>1.0</td>\n",
              "      <td>0.874023</td>\n",
              "      <td>27.0</td>\n",
              "      <td>0.663586</td>\n",
              "      <td>0.634375</td>\n",
              "      <td>5190.0</td>\n",
              "      <td>0.803272</td>\n",
              "      <td>0.737377</td>\n",
              "      <td>4.0</td>\n",
              "      <td>0.723900</td>\n",
              "      <td>...</td>\n",
              "      <td>0.479901</td>\n",
              "      <td>1.385498</td>\n",
              "      <td>0.489846</td>\n",
              "      <td>0.471148</td>\n",
              "      <td>4.0</td>\n",
              "      <td>1.414208</td>\n",
              "      <td>1.360227</td>\n",
              "      <td>0.499996</td>\n",
              "      <td>0.480911</td>\n",
              "      <td>0.462555</td>\n",
              "    </tr>\n",
              "    <tr>\n",
              "      <th>4</th>\n",
              "      <td>1.0</td>\n",
              "      <td>0.874023</td>\n",
              "      <td>48.0</td>\n",
              "      <td>0.663586</td>\n",
              "      <td>0.638117</td>\n",
              "      <td>4844.0</td>\n",
              "      <td>0.622500</td>\n",
              "      <td>0.593750</td>\n",
              "      <td>3.0</td>\n",
              "      <td>0.723900</td>\n",
              "      <td>...</td>\n",
              "      <td>0.396658</td>\n",
              "      <td>0.629808</td>\n",
              "      <td>0.445340</td>\n",
              "      <td>0.428341</td>\n",
              "      <td>1.0</td>\n",
              "      <td>0.707104</td>\n",
              "      <td>0.680114</td>\n",
              "      <td>0.499996</td>\n",
              "      <td>0.480911</td>\n",
              "      <td>0.462555</td>\n",
              "    </tr>\n",
              "    <tr>\n",
              "      <th>...</th>\n",
              "      <td>...</td>\n",
              "      <td>...</td>\n",
              "      <td>...</td>\n",
              "      <td>...</td>\n",
              "      <td>...</td>\n",
              "      <td>...</td>\n",
              "      <td>...</td>\n",
              "      <td>...</td>\n",
              "      <td>...</td>\n",
              "      <td>...</td>\n",
              "      <td>...</td>\n",
              "      <td>...</td>\n",
              "      <td>...</td>\n",
              "      <td>...</td>\n",
              "      <td>...</td>\n",
              "      <td>...</td>\n",
              "      <td>...</td>\n",
              "      <td>...</td>\n",
              "      <td>...</td>\n",
              "      <td>...</td>\n",
              "      <td>...</td>\n",
              "    </tr>\n",
              "    <tr>\n",
              "      <th>795</th>\n",
              "      <td>1.0</td>\n",
              "      <td>0.611944</td>\n",
              "      <td>16.0</td>\n",
              "      <td>0.824947</td>\n",
              "      <td>0.607955</td>\n",
              "      <td>1175.0</td>\n",
              "      <td>0.622500</td>\n",
              "      <td>0.593750</td>\n",
              "      <td>2.0</td>\n",
              "      <td>0.723900</td>\n",
              "      <td>...</td>\n",
              "      <td>0.352539</td>\n",
              "      <td>0.593750</td>\n",
              "      <td>0.419843</td>\n",
              "      <td>0.403817</td>\n",
              "      <td>1.0</td>\n",
              "      <td>0.707104</td>\n",
              "      <td>0.680114</td>\n",
              "      <td>0.499996</td>\n",
              "      <td>0.480911</td>\n",
              "      <td>0.462555</td>\n",
              "    </tr>\n",
              "    <tr>\n",
              "      <th>796</th>\n",
              "      <td>1.0</td>\n",
              "      <td>0.611944</td>\n",
              "      <td>12.0</td>\n",
              "      <td>0.663586</td>\n",
              "      <td>0.638117</td>\n",
              "      <td>1037.0</td>\n",
              "      <td>0.681882</td>\n",
              "      <td>0.784052</td>\n",
              "      <td>3.0</td>\n",
              "      <td>0.723900</td>\n",
              "      <td>...</td>\n",
              "      <td>0.524356</td>\n",
              "      <td>0.724124</td>\n",
              "      <td>0.488312</td>\n",
              "      <td>0.492487</td>\n",
              "      <td>1.0</td>\n",
              "      <td>0.674349</td>\n",
              "      <td>0.680114</td>\n",
              "      <td>0.454747</td>\n",
              "      <td>0.458634</td>\n",
              "      <td>0.462555</td>\n",
              "    </tr>\n",
              "    <tr>\n",
              "      <th>797</th>\n",
              "      <td>1.0</td>\n",
              "      <td>0.611944</td>\n",
              "      <td>18.0</td>\n",
              "      <td>0.824947</td>\n",
              "      <td>0.679789</td>\n",
              "      <td>1928.0</td>\n",
              "      <td>0.622500</td>\n",
              "      <td>0.558067</td>\n",
              "      <td>2.0</td>\n",
              "      <td>0.723900</td>\n",
              "      <td>...</td>\n",
              "      <td>0.524356</td>\n",
              "      <td>0.724124</td>\n",
              "      <td>0.488312</td>\n",
              "      <td>0.492487</td>\n",
              "      <td>1.0</td>\n",
              "      <td>0.674349</td>\n",
              "      <td>0.680114</td>\n",
              "      <td>0.454747</td>\n",
              "      <td>0.458634</td>\n",
              "      <td>0.462555</td>\n",
              "    </tr>\n",
              "    <tr>\n",
              "      <th>798</th>\n",
              "      <td>1.0</td>\n",
              "      <td>0.874023</td>\n",
              "      <td>6.0</td>\n",
              "      <td>0.663586</td>\n",
              "      <td>0.679789</td>\n",
              "      <td>1543.0</td>\n",
              "      <td>0.876453</td>\n",
              "      <td>0.683036</td>\n",
              "      <td>4.0</td>\n",
              "      <td>0.597384</td>\n",
              "      <td>...</td>\n",
              "      <td>0.479901</td>\n",
              "      <td>0.692749</td>\n",
              "      <td>0.467155</td>\n",
              "      <td>0.471148</td>\n",
              "      <td>1.0</td>\n",
              "      <td>0.674349</td>\n",
              "      <td>0.680114</td>\n",
              "      <td>0.454747</td>\n",
              "      <td>0.458634</td>\n",
              "      <td>0.462555</td>\n",
              "    </tr>\n",
              "    <tr>\n",
              "      <th>799</th>\n",
              "      <td>1.0</td>\n",
              "      <td>0.874023</td>\n",
              "      <td>12.0</td>\n",
              "      <td>0.824947</td>\n",
              "      <td>0.638117</td>\n",
              "      <td>1185.0</td>\n",
              "      <td>0.622500</td>\n",
              "      <td>0.683036</td>\n",
              "      <td>3.0</td>\n",
              "      <td>0.623214</td>\n",
              "      <td>...</td>\n",
              "      <td>0.479901</td>\n",
              "      <td>0.692749</td>\n",
              "      <td>0.467155</td>\n",
              "      <td>0.471148</td>\n",
              "      <td>1.0</td>\n",
              "      <td>0.674349</td>\n",
              "      <td>0.680114</td>\n",
              "      <td>0.454747</td>\n",
              "      <td>0.458634</td>\n",
              "      <td>0.462555</td>\n",
              "    </tr>\n",
              "  </tbody>\n",
              "</table>\n",
              "<p>800 rows × 231 columns</p>\n",
              "</div>\n",
              "      <button class=\"colab-df-convert\" onclick=\"convertToInteractive('df-846a9088-710c-4e93-b498-5b594ba84c7e')\"\n",
              "              title=\"Convert this dataframe to an interactive table.\"\n",
              "              style=\"display:none;\">\n",
              "        \n",
              "  <svg xmlns=\"http://www.w3.org/2000/svg\" height=\"24px\"viewBox=\"0 0 24 24\"\n",
              "       width=\"24px\">\n",
              "    <path d=\"M0 0h24v24H0V0z\" fill=\"none\"/>\n",
              "    <path d=\"M18.56 5.44l.94 2.06.94-2.06 2.06-.94-2.06-.94-.94-2.06-.94 2.06-2.06.94zm-11 1L8.5 8.5l.94-2.06 2.06-.94-2.06-.94L8.5 2.5l-.94 2.06-2.06.94zm10 10l.94 2.06.94-2.06 2.06-.94-2.06-.94-.94-2.06-.94 2.06-2.06.94z\"/><path d=\"M17.41 7.96l-1.37-1.37c-.4-.4-.92-.59-1.43-.59-.52 0-1.04.2-1.43.59L10.3 9.45l-7.72 7.72c-.78.78-.78 2.05 0 2.83L4 21.41c.39.39.9.59 1.41.59.51 0 1.02-.2 1.41-.59l7.78-7.78 2.81-2.81c.8-.78.8-2.07 0-2.86zM5.41 20L4 18.59l7.72-7.72 1.47 1.35L5.41 20z\"/>\n",
              "  </svg>\n",
              "      </button>\n",
              "      \n",
              "  <style>\n",
              "    .colab-df-container {\n",
              "      display:flex;\n",
              "      flex-wrap:wrap;\n",
              "      gap: 12px;\n",
              "    }\n",
              "\n",
              "    .colab-df-convert {\n",
              "      background-color: #E8F0FE;\n",
              "      border: none;\n",
              "      border-radius: 50%;\n",
              "      cursor: pointer;\n",
              "      display: none;\n",
              "      fill: #1967D2;\n",
              "      height: 32px;\n",
              "      padding: 0 0 0 0;\n",
              "      width: 32px;\n",
              "    }\n",
              "\n",
              "    .colab-df-convert:hover {\n",
              "      background-color: #E2EBFA;\n",
              "      box-shadow: 0px 1px 2px rgba(60, 64, 67, 0.3), 0px 1px 3px 1px rgba(60, 64, 67, 0.15);\n",
              "      fill: #174EA6;\n",
              "    }\n",
              "\n",
              "    [theme=dark] .colab-df-convert {\n",
              "      background-color: #3B4455;\n",
              "      fill: #D2E3FC;\n",
              "    }\n",
              "\n",
              "    [theme=dark] .colab-df-convert:hover {\n",
              "      background-color: #434B5C;\n",
              "      box-shadow: 0px 1px 3px 1px rgba(0, 0, 0, 0.15);\n",
              "      filter: drop-shadow(0px 1px 2px rgba(0, 0, 0, 0.3));\n",
              "      fill: #FFFFFF;\n",
              "    }\n",
              "  </style>\n",
              "\n",
              "      <script>\n",
              "        const buttonEl =\n",
              "          document.querySelector('#df-846a9088-710c-4e93-b498-5b594ba84c7e button.colab-df-convert');\n",
              "        buttonEl.style.display =\n",
              "          google.colab.kernel.accessAllowed ? 'block' : 'none';\n",
              "\n",
              "        async function convertToInteractive(key) {\n",
              "          const element = document.querySelector('#df-846a9088-710c-4e93-b498-5b594ba84c7e');\n",
              "          const dataTable =\n",
              "            await google.colab.kernel.invokeFunction('convertToInteractive',\n",
              "                                                     [key], {});\n",
              "          if (!dataTable) return;\n",
              "\n",
              "          const docLinkHtml = 'Like what you see? Visit the ' +\n",
              "            '<a target=\"_blank\" href=https://colab.research.google.com/notebooks/data_table.ipynb>data table notebook</a>'\n",
              "            + ' to learn more about interactive tables.';\n",
              "          element.innerHTML = '';\n",
              "          dataTable['output_type'] = 'display_data';\n",
              "          await google.colab.output.renderOutput(dataTable, element);\n",
              "          const docLink = document.createElement('div');\n",
              "          docLink.innerHTML = docLinkHtml;\n",
              "          element.appendChild(docLink);\n",
              "        }\n",
              "      </script>\n",
              "    </div>\n",
              "  </div>\n",
              "  "
            ]
          },
          "metadata": {},
          "execution_count": 20
        }
      ]
    },
    {
      "cell_type": "code",
      "metadata": {
        "id": "5LanwIjhiDdO"
      },
      "source": [
        "X_test_cod = pd.DataFrame(poly_gen.transform(X_test_cod1), columns=poly_gen.get_feature_names_out())"
      ],
      "execution_count": 21,
      "outputs": []
    },
    {
      "cell_type": "markdown",
      "metadata": {
        "id": "JzQls2dVO-d_"
      },
      "source": [
        "#### Modelo base"
      ]
    },
    {
      "cell_type": "code",
      "metadata": {
        "id": "Qd6c_EbLPC7f"
      },
      "source": [
        "from sklearn.linear_model import LogisticRegression\n",
        "from sklearn.metrics import classification_report"
      ],
      "execution_count": 22,
      "outputs": []
    },
    {
      "cell_type": "code",
      "metadata": {
        "id": "dmX7eKFzPDEq",
        "outputId": "b8d8331f-d27b-4dee-8ecc-388a0054d921",
        "colab": {
          "base_uri": "https://localhost:8080/"
        }
      },
      "source": [
        "base_model = LogisticRegression( penalty='none', max_iter=1000, random_state=6011)\n",
        "base_model.fit(X_train_cod,y_train)"
      ],
      "execution_count": 23,
      "outputs": [
        {
          "output_type": "stream",
          "name": "stderr",
          "text": [
            "/usr/local/lib/python3.10/dist-packages/sklearn/linear_model/_logistic.py:1173: FutureWarning: `penalty='none'`has been deprecated in 1.2 and will be removed in 1.4. To keep the past behaviour, set `penalty=None`.\n",
            "  warnings.warn(\n"
          ]
        },
        {
          "output_type": "execute_result",
          "data": {
            "text/plain": [
              "LogisticRegression(max_iter=1000, penalty='none', random_state=6011)"
            ],
            "text/html": [
              "<style>#sk-container-id-1 {color: black;background-color: white;}#sk-container-id-1 pre{padding: 0;}#sk-container-id-1 div.sk-toggleable {background-color: white;}#sk-container-id-1 label.sk-toggleable__label {cursor: pointer;display: block;width: 100%;margin-bottom: 0;padding: 0.3em;box-sizing: border-box;text-align: center;}#sk-container-id-1 label.sk-toggleable__label-arrow:before {content: \"▸\";float: left;margin-right: 0.25em;color: #696969;}#sk-container-id-1 label.sk-toggleable__label-arrow:hover:before {color: black;}#sk-container-id-1 div.sk-estimator:hover label.sk-toggleable__label-arrow:before {color: black;}#sk-container-id-1 div.sk-toggleable__content {max-height: 0;max-width: 0;overflow: hidden;text-align: left;background-color: #f0f8ff;}#sk-container-id-1 div.sk-toggleable__content pre {margin: 0.2em;color: black;border-radius: 0.25em;background-color: #f0f8ff;}#sk-container-id-1 input.sk-toggleable__control:checked~div.sk-toggleable__content {max-height: 200px;max-width: 100%;overflow: auto;}#sk-container-id-1 input.sk-toggleable__control:checked~label.sk-toggleable__label-arrow:before {content: \"▾\";}#sk-container-id-1 div.sk-estimator input.sk-toggleable__control:checked~label.sk-toggleable__label {background-color: #d4ebff;}#sk-container-id-1 div.sk-label input.sk-toggleable__control:checked~label.sk-toggleable__label {background-color: #d4ebff;}#sk-container-id-1 input.sk-hidden--visually {border: 0;clip: rect(1px 1px 1px 1px);clip: rect(1px, 1px, 1px, 1px);height: 1px;margin: -1px;overflow: hidden;padding: 0;position: absolute;width: 1px;}#sk-container-id-1 div.sk-estimator {font-family: monospace;background-color: #f0f8ff;border: 1px dotted black;border-radius: 0.25em;box-sizing: border-box;margin-bottom: 0.5em;}#sk-container-id-1 div.sk-estimator:hover {background-color: #d4ebff;}#sk-container-id-1 div.sk-parallel-item::after {content: \"\";width: 100%;border-bottom: 1px solid gray;flex-grow: 1;}#sk-container-id-1 div.sk-label:hover label.sk-toggleable__label {background-color: #d4ebff;}#sk-container-id-1 div.sk-serial::before {content: \"\";position: absolute;border-left: 1px solid gray;box-sizing: border-box;top: 0;bottom: 0;left: 50%;z-index: 0;}#sk-container-id-1 div.sk-serial {display: flex;flex-direction: column;align-items: center;background-color: white;padding-right: 0.2em;padding-left: 0.2em;position: relative;}#sk-container-id-1 div.sk-item {position: relative;z-index: 1;}#sk-container-id-1 div.sk-parallel {display: flex;align-items: stretch;justify-content: center;background-color: white;position: relative;}#sk-container-id-1 div.sk-item::before, #sk-container-id-1 div.sk-parallel-item::before {content: \"\";position: absolute;border-left: 1px solid gray;box-sizing: border-box;top: 0;bottom: 0;left: 50%;z-index: -1;}#sk-container-id-1 div.sk-parallel-item {display: flex;flex-direction: column;z-index: 1;position: relative;background-color: white;}#sk-container-id-1 div.sk-parallel-item:first-child::after {align-self: flex-end;width: 50%;}#sk-container-id-1 div.sk-parallel-item:last-child::after {align-self: flex-start;width: 50%;}#sk-container-id-1 div.sk-parallel-item:only-child::after {width: 0;}#sk-container-id-1 div.sk-dashed-wrapped {border: 1px dashed gray;margin: 0 0.4em 0.5em 0.4em;box-sizing: border-box;padding-bottom: 0.4em;background-color: white;}#sk-container-id-1 div.sk-label label {font-family: monospace;font-weight: bold;display: inline-block;line-height: 1.2em;}#sk-container-id-1 div.sk-label-container {text-align: center;}#sk-container-id-1 div.sk-container {/* jupyter's `normalize.less` sets `[hidden] { display: none; }` but bootstrap.min.css set `[hidden] { display: none !important; }` so we also need the `!important` here to be able to override the default hidden behavior on the sphinx rendered scikit-learn.org. See: https://github.com/scikit-learn/scikit-learn/issues/21755 */display: inline-block !important;position: relative;}#sk-container-id-1 div.sk-text-repr-fallback {display: none;}</style><div id=\"sk-container-id-1\" class=\"sk-top-container\"><div class=\"sk-text-repr-fallback\"><pre>LogisticRegression(max_iter=1000, penalty=&#x27;none&#x27;, random_state=6011)</pre><b>In a Jupyter environment, please rerun this cell to show the HTML representation or trust the notebook. <br />On GitHub, the HTML representation is unable to render, please try loading this page with nbviewer.org.</b></div><div class=\"sk-container\" hidden><div class=\"sk-item\"><div class=\"sk-estimator sk-toggleable\"><input class=\"sk-toggleable__control sk-hidden--visually\" id=\"sk-estimator-id-1\" type=\"checkbox\" checked><label for=\"sk-estimator-id-1\" class=\"sk-toggleable__label sk-toggleable__label-arrow\">LogisticRegression</label><div class=\"sk-toggleable__content\"><pre>LogisticRegression(max_iter=1000, penalty=&#x27;none&#x27;, random_state=6011)</pre></div></div></div></div></div>"
            ]
          },
          "metadata": {},
          "execution_count": 23
        }
      ]
    },
    {
      "cell_type": "code",
      "metadata": {
        "id": "l3_RyeLsQFRy",
        "outputId": "e4a7478b-c734-4295-9457-a60e10dfa763",
        "colab": {
          "base_uri": "https://localhost:8080/"
        }
      },
      "source": [
        "print(f'Coeficientes mayores a cero: {(base_model.coef_>0).sum()}')"
      ],
      "execution_count": 24,
      "outputs": [
        {
          "output_type": "stream",
          "name": "stdout",
          "text": [
            "Coeficientes mayores a cero: 199\n"
          ]
        }
      ]
    },
    {
      "cell_type": "code",
      "metadata": {
        "id": "0HR36AxtPhR3",
        "outputId": "715f3c81-aaac-4e38-ce3d-8c9074ef71cb",
        "colab": {
          "base_uri": "https://localhost:8080/"
        }
      },
      "source": [
        "print(classification_report(y_test, base_model.predict(X_test_cod)))"
      ],
      "execution_count": 25,
      "outputs": [
        {
          "output_type": "stream",
          "name": "stdout",
          "text": [
            "              precision    recall  f1-score   support\n",
            "\n",
            "           0       0.63      0.24      0.35        50\n",
            "           1       0.79      0.95      0.86       150\n",
            "\n",
            "    accuracy                           0.78       200\n",
            "   macro avg       0.71      0.60      0.61       200\n",
            "weighted avg       0.75      0.78      0.73       200\n",
            "\n"
          ]
        }
      ]
    },
    {
      "cell_type": "markdown",
      "metadata": {
        "id": "20NXuQF2L9j9"
      },
      "source": [
        "# Métodos Intrínsecos"
      ]
    },
    {
      "cell_type": "markdown",
      "metadata": {
        "id": "jSV6T2kPKHN9"
      },
      "source": [
        "## Regresion Ridge"
      ]
    },
    {
      "cell_type": "code",
      "metadata": {
        "id": "JnJbw1M-QMyr"
      },
      "source": [
        "from sklearn.linear_model import LassoCV, RidgeCV, ElasticNetCV, LogisticRegressionCV"
      ],
      "execution_count": 26,
      "outputs": []
    },
    {
      "cell_type": "code",
      "metadata": {
        "id": "XsJ4yJlmQMyr",
        "outputId": "f40a7d71-6a6c-4f5b-8e29-97dd40853f77",
        "colab": {
          "base_uri": "https://localhost:8080/"
        }
      },
      "source": [
        "ridge_classifier = LogisticRegressionCV(cv=2, max_iter=100, penalty='l2', solver='liblinear', random_state=6011)\n",
        "ridge_classifier.fit(X_train_cod,y_train)"
      ],
      "execution_count": 27,
      "outputs": [
        {
          "output_type": "execute_result",
          "data": {
            "text/plain": [
              "LogisticRegressionCV(cv=2, random_state=6011, solver='liblinear')"
            ],
            "text/html": [
              "<style>#sk-container-id-2 {color: black;background-color: white;}#sk-container-id-2 pre{padding: 0;}#sk-container-id-2 div.sk-toggleable {background-color: white;}#sk-container-id-2 label.sk-toggleable__label {cursor: pointer;display: block;width: 100%;margin-bottom: 0;padding: 0.3em;box-sizing: border-box;text-align: center;}#sk-container-id-2 label.sk-toggleable__label-arrow:before {content: \"▸\";float: left;margin-right: 0.25em;color: #696969;}#sk-container-id-2 label.sk-toggleable__label-arrow:hover:before {color: black;}#sk-container-id-2 div.sk-estimator:hover label.sk-toggleable__label-arrow:before {color: black;}#sk-container-id-2 div.sk-toggleable__content {max-height: 0;max-width: 0;overflow: hidden;text-align: left;background-color: #f0f8ff;}#sk-container-id-2 div.sk-toggleable__content pre {margin: 0.2em;color: black;border-radius: 0.25em;background-color: #f0f8ff;}#sk-container-id-2 input.sk-toggleable__control:checked~div.sk-toggleable__content {max-height: 200px;max-width: 100%;overflow: auto;}#sk-container-id-2 input.sk-toggleable__control:checked~label.sk-toggleable__label-arrow:before {content: \"▾\";}#sk-container-id-2 div.sk-estimator input.sk-toggleable__control:checked~label.sk-toggleable__label {background-color: #d4ebff;}#sk-container-id-2 div.sk-label input.sk-toggleable__control:checked~label.sk-toggleable__label {background-color: #d4ebff;}#sk-container-id-2 input.sk-hidden--visually {border: 0;clip: rect(1px 1px 1px 1px);clip: rect(1px, 1px, 1px, 1px);height: 1px;margin: -1px;overflow: hidden;padding: 0;position: absolute;width: 1px;}#sk-container-id-2 div.sk-estimator {font-family: monospace;background-color: #f0f8ff;border: 1px dotted black;border-radius: 0.25em;box-sizing: border-box;margin-bottom: 0.5em;}#sk-container-id-2 div.sk-estimator:hover {background-color: #d4ebff;}#sk-container-id-2 div.sk-parallel-item::after {content: \"\";width: 100%;border-bottom: 1px solid gray;flex-grow: 1;}#sk-container-id-2 div.sk-label:hover label.sk-toggleable__label {background-color: #d4ebff;}#sk-container-id-2 div.sk-serial::before {content: \"\";position: absolute;border-left: 1px solid gray;box-sizing: border-box;top: 0;bottom: 0;left: 50%;z-index: 0;}#sk-container-id-2 div.sk-serial {display: flex;flex-direction: column;align-items: center;background-color: white;padding-right: 0.2em;padding-left: 0.2em;position: relative;}#sk-container-id-2 div.sk-item {position: relative;z-index: 1;}#sk-container-id-2 div.sk-parallel {display: flex;align-items: stretch;justify-content: center;background-color: white;position: relative;}#sk-container-id-2 div.sk-item::before, #sk-container-id-2 div.sk-parallel-item::before {content: \"\";position: absolute;border-left: 1px solid gray;box-sizing: border-box;top: 0;bottom: 0;left: 50%;z-index: -1;}#sk-container-id-2 div.sk-parallel-item {display: flex;flex-direction: column;z-index: 1;position: relative;background-color: white;}#sk-container-id-2 div.sk-parallel-item:first-child::after {align-self: flex-end;width: 50%;}#sk-container-id-2 div.sk-parallel-item:last-child::after {align-self: flex-start;width: 50%;}#sk-container-id-2 div.sk-parallel-item:only-child::after {width: 0;}#sk-container-id-2 div.sk-dashed-wrapped {border: 1px dashed gray;margin: 0 0.4em 0.5em 0.4em;box-sizing: border-box;padding-bottom: 0.4em;background-color: white;}#sk-container-id-2 div.sk-label label {font-family: monospace;font-weight: bold;display: inline-block;line-height: 1.2em;}#sk-container-id-2 div.sk-label-container {text-align: center;}#sk-container-id-2 div.sk-container {/* jupyter's `normalize.less` sets `[hidden] { display: none; }` but bootstrap.min.css set `[hidden] { display: none !important; }` so we also need the `!important` here to be able to override the default hidden behavior on the sphinx rendered scikit-learn.org. See: https://github.com/scikit-learn/scikit-learn/issues/21755 */display: inline-block !important;position: relative;}#sk-container-id-2 div.sk-text-repr-fallback {display: none;}</style><div id=\"sk-container-id-2\" class=\"sk-top-container\"><div class=\"sk-text-repr-fallback\"><pre>LogisticRegressionCV(cv=2, random_state=6011, solver=&#x27;liblinear&#x27;)</pre><b>In a Jupyter environment, please rerun this cell to show the HTML representation or trust the notebook. <br />On GitHub, the HTML representation is unable to render, please try loading this page with nbviewer.org.</b></div><div class=\"sk-container\" hidden><div class=\"sk-item\"><div class=\"sk-estimator sk-toggleable\"><input class=\"sk-toggleable__control sk-hidden--visually\" id=\"sk-estimator-id-2\" type=\"checkbox\" checked><label for=\"sk-estimator-id-2\" class=\"sk-toggleable__label sk-toggleable__label-arrow\">LogisticRegressionCV</label><div class=\"sk-toggleable__content\"><pre>LogisticRegressionCV(cv=2, random_state=6011, solver=&#x27;liblinear&#x27;)</pre></div></div></div></div></div>"
            ]
          },
          "metadata": {},
          "execution_count": 27
        }
      ]
    },
    {
      "cell_type": "code",
      "metadata": {
        "id": "TKRpyUEyQMyr",
        "outputId": "242db62c-c307-44e1-baa3-f4b093e49c51",
        "colab": {
          "base_uri": "https://localhost:8080/"
        }
      },
      "source": [
        "ridge_classifier.classes_"
      ],
      "execution_count": 28,
      "outputs": [
        {
          "output_type": "execute_result",
          "data": {
            "text/plain": [
              "array([0, 1])"
            ]
          },
          "metadata": {},
          "execution_count": 28
        }
      ]
    },
    {
      "cell_type": "code",
      "metadata": {
        "id": "aijpQ7Z5QMys",
        "outputId": "c0accd6a-91e6-49b2-b509-31c6d399dc61",
        "colab": {
          "base_uri": "https://localhost:8080/"
        }
      },
      "source": [
        "ridge_classifier.coef_"
      ],
      "execution_count": 29,
      "outputs": [
        {
          "output_type": "execute_result",
          "data": {
            "text/plain": [
              "array([[ 2.34814244e-06,  7.02108252e-06, -5.08499543e-05,\n",
              "         4.89841388e-06,  3.39891023e-06, -1.81871251e-03,\n",
              "         3.08778064e-06,  2.86397081e-06,  5.96761952e-06,\n",
              "         2.28763023e-06,  2.38232781e-06,  1.79728622e-06,\n",
              "         3.00631565e-06,  8.95614215e-05,  2.55470191e-06,\n",
              "         2.52087213e-06,  7.07800256e-06,  1.82806802e-06,\n",
              "         1.00394608e-06,  1.79504957e-06,  2.23917392e-06,\n",
              "         8.52322058e-06,  6.87946461e-05,  6.95015033e-06,\n",
              "         6.07883724e-06,  7.75374631e-04,  5.76727968e-06,\n",
              "         5.72377702e-06,  2.44426177e-05,  5.26211769e-06,\n",
              "         5.30083156e-06,  4.95505167e-06,  5.78620975e-06,\n",
              "         2.50870451e-04,  5.59823316e-06,  5.47567812e-06,\n",
              "         1.09758023e-05,  5.03714497e-06,  6.56231739e-06,\n",
              "         4.92793021e-06,  5.19260778e-06, -1.88986860e-03,\n",
              "        -1.70470618e-05, -6.81458053e-06,  2.04620788e-05,\n",
              "         2.78522046e-06, -1.20122658e-05, -1.86574992e-04,\n",
              "        -1.84261388e-05, -2.00698057e-05, -2.76095135e-05,\n",
              "        -1.94739404e-05, -6.32491069e-04, -1.62774935e-05,\n",
              "        -1.51801979e-05, -4.02717459e-05, -3.71121663e-05,\n",
              "        -6.32849687e-05, -2.88021936e-05, -2.72855491e-05,\n",
              "         5.41377635e-06,  4.54733877e-06,  2.19604497e-04,\n",
              "         4.23684858e-06,  4.24919766e-06,  1.51154363e-05,\n",
              "         3.82209961e-06,  3.87292312e-06,  3.51037601e-06,\n",
              "         4.21866448e-06,  1.89456145e-04,  4.07771955e-06,\n",
              "         3.91018068e-06,  1.10141699e-05,  3.49431494e-06,\n",
              "         5.66084480e-06,  3.50088029e-06,  3.78578410e-06,\n",
              "         3.59475911e-06,  5.15722476e-04,  3.29472498e-06,\n",
              "         3.20789423e-06,  1.06517718e-05,  2.79199881e-06,\n",
              "         2.89589169e-06,  2.45905235e-06,  3.30842829e-06,\n",
              "         1.23358168e-04,  2.96694019e-06,  2.99755043e-06,\n",
              "         7.55949917e-06,  2.47847807e-06,  2.82083823e-06,\n",
              "         2.44457411e-06,  2.73760624e-06, -9.46021305e-08,\n",
              "         8.42840533e-04,  8.21209264e-04, -5.48494835e-05,\n",
              "         1.66480231e-03,  5.81133723e-04, -3.65603293e-04,\n",
              "         3.94553655e-05, -9.06662062e-06,  7.38295079e-04,\n",
              "         2.33493183e-04, -4.28014623e-05, -1.69100691e-03,\n",
              "         3.37762617e-05, -7.36772327e-04,  3.02080830e-04,\n",
              "         3.26927530e-06,  2.95240664e-06,  9.81068715e-06,\n",
              "         2.55558969e-06,  2.60030375e-06,  2.24069013e-06,\n",
              "         3.14742096e-06,  1.11168971e-04,  2.76566586e-06,\n",
              "         2.77937427e-06,  6.33079199e-06,  2.26600263e-06,\n",
              "         2.44285222e-06,  2.24678651e-06,  2.55030262e-06,\n",
              "         2.80479750e-06,  8.16539716e-06,  2.37775768e-06,\n",
              "         2.47572456e-06,  2.09262150e-06,  2.95170957e-06,\n",
              "         1.01468832e-04,  2.69358878e-06,  2.59856076e-06,\n",
              "         6.86504121e-06,  2.12255875e-06,  2.11992014e-06,\n",
              "         2.10235743e-06,  2.36743626e-06,  2.30103033e-05,\n",
              "         6.37660687e-06,  6.07956300e-06,  4.69737602e-06,\n",
              "         8.06717059e-06,  2.27327837e-04,  7.22021139e-06,\n",
              "         7.36120850e-06,  2.53187038e-05,  4.46403669e-06,\n",
              "        -3.60531272e-06,  4.98667793e-06,  5.67602701e-06,\n",
              "         2.02378796e-06,  2.09556276e-06,  1.69992772e-06,\n",
              "         2.57153707e-06,  7.83691066e-05,  2.21514718e-06,\n",
              "         2.16582802e-06,  5.70453037e-06,  1.71245125e-06,\n",
              "         1.30118767e-06,  1.69619702e-06,  2.00815511e-06,\n",
              "         2.16671635e-06,  1.76282472e-06,  2.63484718e-06,\n",
              "         8.75017085e-05,  2.30113844e-06,  2.30182554e-06,\n",
              "         5.90400857e-06,  1.79802701e-06,  1.66532524e-06,\n",
              "         1.75573628e-06,  2.05809478e-06,  1.36403116e-06,\n",
              "         2.18460852e-06,  6.52578974e-05,  1.86354568e-06,\n",
              "         1.85377542e-06,  5.21525514e-06,  1.38746943e-06,\n",
              "         9.59819443e-07,  1.36014496e-06,  1.66257221e-06,\n",
              "         3.06307383e-06,  1.15558802e-04,  2.71696202e-06,\n",
              "         2.71696866e-06,  6.93832627e-06,  2.26026229e-06,\n",
              "         2.76203099e-06,  2.17540436e-06,  2.52246381e-06,\n",
              "         6.92204992e-04,  9.42901134e-05,  9.55552673e-05,\n",
              "         2.42476364e-04,  6.91736999e-05,  1.10268757e-05,\n",
              "         6.93036062e-05,  8.32831600e-05,  2.32507932e-06,\n",
              "         2.37362952e-06,  6.30782782e-06,  1.93788326e-06,\n",
              "         2.10237815e-06,  1.87479348e-06,  2.18707878e-06,\n",
              "         2.31463081e-06,  6.46679541e-06,  1.91552538e-06,\n",
              "         1.88175966e-06,  1.84562904e-06,  2.15713560e-06,\n",
              "         1.79125631e-05,  5.32752896e-06,  8.07329735e-06,\n",
              "         5.09640213e-06,  5.70621275e-06,  1.39705681e-06,\n",
              "         9.23065656e-07,  1.37831070e-06,  1.69869459e-06,\n",
              "        -1.68444664e-06,  9.69336852e-07,  1.58191703e-06,\n",
              "         1.36010041e-06,  1.65779641e-06,  2.07852047e-06]])"
            ]
          },
          "metadata": {},
          "execution_count": 29
        }
      ]
    },
    {
      "cell_type": "code",
      "metadata": {
        "id": "pAvig7DyQMys",
        "outputId": "4d1a08fa-e46f-45ac-cbe8-866986818a38",
        "colab": {
          "base_uri": "https://localhost:8080/"
        }
      },
      "source": [
        "print(f'Coeficientes mayores a cero: {(ridge_classifier.coef_>0).sum()}')"
      ],
      "execution_count": 30,
      "outputs": [
        {
          "output_type": "stream",
          "name": "stdout",
          "text": [
            "Coeficientes mayores a cero: 203\n"
          ]
        }
      ]
    },
    {
      "cell_type": "code",
      "metadata": {
        "id": "Omn4C8BlQMys",
        "outputId": "3b1c26d6-fe89-463b-e4e4-8fa53f340faf",
        "colab": {
          "base_uri": "https://localhost:8080/"
        }
      },
      "source": [
        "ridge_classifier.C_"
      ],
      "execution_count": 31,
      "outputs": [
        {
          "output_type": "execute_result",
          "data": {
            "text/plain": [
              "array([0.00599484])"
            ]
          },
          "metadata": {},
          "execution_count": 31
        }
      ]
    },
    {
      "cell_type": "code",
      "metadata": {
        "id": "39qLEEtnQMys",
        "outputId": "8fce26e8-7b92-46ce-c204-c2b100324596",
        "colab": {
          "base_uri": "https://localhost:8080/"
        }
      },
      "source": [
        "print(f'Mejor valor para lambda: {1/ridge_classifier.C_}')"
      ],
      "execution_count": 32,
      "outputs": [
        {
          "output_type": "stream",
          "name": "stdout",
          "text": [
            "Mejor valor para lambda: [166.81005372]\n"
          ]
        }
      ]
    },
    {
      "cell_type": "code",
      "metadata": {
        "id": "7FfAoxepQMyt",
        "outputId": "a2ad9151-0474-46ab-9493-6dd323be1e69",
        "colab": {
          "base_uri": "https://localhost:8080/"
        }
      },
      "source": [
        "print('================ Resultados Ridge Classifier =================\\n')\n",
        "print(classification_report(y_test, ridge_classifier.predict(X_test_cod)))"
      ],
      "execution_count": 33,
      "outputs": [
        {
          "output_type": "stream",
          "name": "stdout",
          "text": [
            "================ Resultados Ridge Classifier =================\n",
            "\n",
            "              precision    recall  f1-score   support\n",
            "\n",
            "           0       0.56      0.40      0.47        50\n",
            "           1       0.82      0.89      0.85       150\n",
            "\n",
            "    accuracy                           0.77       200\n",
            "   macro avg       0.69      0.65      0.66       200\n",
            "weighted avg       0.75      0.77      0.76       200\n",
            "\n"
          ]
        }
      ]
    },
    {
      "cell_type": "markdown",
      "metadata": {
        "id": "yTvrCAncL9_S"
      },
      "source": [
        "## Regresión LASSO"
      ]
    },
    {
      "cell_type": "code",
      "metadata": {
        "id": "LiABPLonbb8N",
        "outputId": "f86d19e8-0937-43fa-ae3e-5cf9e2f70fea",
        "colab": {
          "base_uri": "https://localhost:8080/"
        }
      },
      "source": [
        "lasso_classifier = LogisticRegressionCV(cv=2, penalty='l1', max_iter=100, solver='liblinear', random_state=6011)\n",
        "lasso_classifier.fit(X_train_cod,y_train)\n",
        "# 21 sec"
      ],
      "execution_count": 34,
      "outputs": [
        {
          "output_type": "stream",
          "name": "stderr",
          "text": [
            "/usr/local/lib/python3.10/dist-packages/sklearn/svm/_base.py:1244: ConvergenceWarning: Liblinear failed to converge, increase the number of iterations.\n",
            "  warnings.warn(\n",
            "/usr/local/lib/python3.10/dist-packages/sklearn/svm/_base.py:1244: ConvergenceWarning: Liblinear failed to converge, increase the number of iterations.\n",
            "  warnings.warn(\n",
            "/usr/local/lib/python3.10/dist-packages/sklearn/svm/_base.py:1244: ConvergenceWarning: Liblinear failed to converge, increase the number of iterations.\n",
            "  warnings.warn(\n",
            "/usr/local/lib/python3.10/dist-packages/sklearn/svm/_base.py:1244: ConvergenceWarning: Liblinear failed to converge, increase the number of iterations.\n",
            "  warnings.warn(\n",
            "/usr/local/lib/python3.10/dist-packages/sklearn/svm/_base.py:1244: ConvergenceWarning: Liblinear failed to converge, increase the number of iterations.\n",
            "  warnings.warn(\n",
            "/usr/local/lib/python3.10/dist-packages/sklearn/svm/_base.py:1244: ConvergenceWarning: Liblinear failed to converge, increase the number of iterations.\n",
            "  warnings.warn(\n",
            "/usr/local/lib/python3.10/dist-packages/sklearn/svm/_base.py:1244: ConvergenceWarning: Liblinear failed to converge, increase the number of iterations.\n",
            "  warnings.warn(\n",
            "/usr/local/lib/python3.10/dist-packages/sklearn/svm/_base.py:1244: ConvergenceWarning: Liblinear failed to converge, increase the number of iterations.\n",
            "  warnings.warn(\n",
            "/usr/local/lib/python3.10/dist-packages/sklearn/svm/_base.py:1244: ConvergenceWarning: Liblinear failed to converge, increase the number of iterations.\n",
            "  warnings.warn(\n",
            "/usr/local/lib/python3.10/dist-packages/sklearn/svm/_base.py:1244: ConvergenceWarning: Liblinear failed to converge, increase the number of iterations.\n",
            "  warnings.warn(\n",
            "/usr/local/lib/python3.10/dist-packages/sklearn/svm/_base.py:1244: ConvergenceWarning: Liblinear failed to converge, increase the number of iterations.\n",
            "  warnings.warn(\n",
            "/usr/local/lib/python3.10/dist-packages/sklearn/svm/_base.py:1244: ConvergenceWarning: Liblinear failed to converge, increase the number of iterations.\n",
            "  warnings.warn(\n"
          ]
        },
        {
          "output_type": "execute_result",
          "data": {
            "text/plain": [
              "LogisticRegressionCV(cv=2, penalty='l1', random_state=6011, solver='liblinear')"
            ],
            "text/html": [
              "<style>#sk-container-id-3 {color: black;background-color: white;}#sk-container-id-3 pre{padding: 0;}#sk-container-id-3 div.sk-toggleable {background-color: white;}#sk-container-id-3 label.sk-toggleable__label {cursor: pointer;display: block;width: 100%;margin-bottom: 0;padding: 0.3em;box-sizing: border-box;text-align: center;}#sk-container-id-3 label.sk-toggleable__label-arrow:before {content: \"▸\";float: left;margin-right: 0.25em;color: #696969;}#sk-container-id-3 label.sk-toggleable__label-arrow:hover:before {color: black;}#sk-container-id-3 div.sk-estimator:hover label.sk-toggleable__label-arrow:before {color: black;}#sk-container-id-3 div.sk-toggleable__content {max-height: 0;max-width: 0;overflow: hidden;text-align: left;background-color: #f0f8ff;}#sk-container-id-3 div.sk-toggleable__content pre {margin: 0.2em;color: black;border-radius: 0.25em;background-color: #f0f8ff;}#sk-container-id-3 input.sk-toggleable__control:checked~div.sk-toggleable__content {max-height: 200px;max-width: 100%;overflow: auto;}#sk-container-id-3 input.sk-toggleable__control:checked~label.sk-toggleable__label-arrow:before {content: \"▾\";}#sk-container-id-3 div.sk-estimator input.sk-toggleable__control:checked~label.sk-toggleable__label {background-color: #d4ebff;}#sk-container-id-3 div.sk-label input.sk-toggleable__control:checked~label.sk-toggleable__label {background-color: #d4ebff;}#sk-container-id-3 input.sk-hidden--visually {border: 0;clip: rect(1px 1px 1px 1px);clip: rect(1px, 1px, 1px, 1px);height: 1px;margin: -1px;overflow: hidden;padding: 0;position: absolute;width: 1px;}#sk-container-id-3 div.sk-estimator {font-family: monospace;background-color: #f0f8ff;border: 1px dotted black;border-radius: 0.25em;box-sizing: border-box;margin-bottom: 0.5em;}#sk-container-id-3 div.sk-estimator:hover {background-color: #d4ebff;}#sk-container-id-3 div.sk-parallel-item::after {content: \"\";width: 100%;border-bottom: 1px solid gray;flex-grow: 1;}#sk-container-id-3 div.sk-label:hover label.sk-toggleable__label {background-color: #d4ebff;}#sk-container-id-3 div.sk-serial::before {content: \"\";position: absolute;border-left: 1px solid gray;box-sizing: border-box;top: 0;bottom: 0;left: 50%;z-index: 0;}#sk-container-id-3 div.sk-serial {display: flex;flex-direction: column;align-items: center;background-color: white;padding-right: 0.2em;padding-left: 0.2em;position: relative;}#sk-container-id-3 div.sk-item {position: relative;z-index: 1;}#sk-container-id-3 div.sk-parallel {display: flex;align-items: stretch;justify-content: center;background-color: white;position: relative;}#sk-container-id-3 div.sk-item::before, #sk-container-id-3 div.sk-parallel-item::before {content: \"\";position: absolute;border-left: 1px solid gray;box-sizing: border-box;top: 0;bottom: 0;left: 50%;z-index: -1;}#sk-container-id-3 div.sk-parallel-item {display: flex;flex-direction: column;z-index: 1;position: relative;background-color: white;}#sk-container-id-3 div.sk-parallel-item:first-child::after {align-self: flex-end;width: 50%;}#sk-container-id-3 div.sk-parallel-item:last-child::after {align-self: flex-start;width: 50%;}#sk-container-id-3 div.sk-parallel-item:only-child::after {width: 0;}#sk-container-id-3 div.sk-dashed-wrapped {border: 1px dashed gray;margin: 0 0.4em 0.5em 0.4em;box-sizing: border-box;padding-bottom: 0.4em;background-color: white;}#sk-container-id-3 div.sk-label label {font-family: monospace;font-weight: bold;display: inline-block;line-height: 1.2em;}#sk-container-id-3 div.sk-label-container {text-align: center;}#sk-container-id-3 div.sk-container {/* jupyter's `normalize.less` sets `[hidden] { display: none; }` but bootstrap.min.css set `[hidden] { display: none !important; }` so we also need the `!important` here to be able to override the default hidden behavior on the sphinx rendered scikit-learn.org. See: https://github.com/scikit-learn/scikit-learn/issues/21755 */display: inline-block !important;position: relative;}#sk-container-id-3 div.sk-text-repr-fallback {display: none;}</style><div id=\"sk-container-id-3\" class=\"sk-top-container\"><div class=\"sk-text-repr-fallback\"><pre>LogisticRegressionCV(cv=2, penalty=&#x27;l1&#x27;, random_state=6011, solver=&#x27;liblinear&#x27;)</pre><b>In a Jupyter environment, please rerun this cell to show the HTML representation or trust the notebook. <br />On GitHub, the HTML representation is unable to render, please try loading this page with nbviewer.org.</b></div><div class=\"sk-container\" hidden><div class=\"sk-item\"><div class=\"sk-estimator sk-toggleable\"><input class=\"sk-toggleable__control sk-hidden--visually\" id=\"sk-estimator-id-3\" type=\"checkbox\" checked><label for=\"sk-estimator-id-3\" class=\"sk-toggleable__label sk-toggleable__label-arrow\">LogisticRegressionCV</label><div class=\"sk-toggleable__content\"><pre>LogisticRegressionCV(cv=2, penalty=&#x27;l1&#x27;, random_state=6011, solver=&#x27;liblinear&#x27;)</pre></div></div></div></div></div>"
            ]
          },
          "metadata": {},
          "execution_count": 34
        }
      ]
    },
    {
      "cell_type": "code",
      "metadata": {
        "id": "AxqYvjHTKG_N",
        "outputId": "117dd139-ff7d-4080-c844-9351c2140408",
        "colab": {
          "base_uri": "https://localhost:8080/"
        }
      },
      "source": [
        "lasso_classifier.classes_"
      ],
      "execution_count": 35,
      "outputs": [
        {
          "output_type": "execute_result",
          "data": {
            "text/plain": [
              "array([0, 1])"
            ]
          },
          "metadata": {},
          "execution_count": 35
        }
      ]
    },
    {
      "cell_type": "code",
      "metadata": {
        "id": "99UCUElqKHCe",
        "outputId": "9c923368-f083-408b-8f6d-df0b239f3734",
        "colab": {
          "base_uri": "https://localhost:8080/"
        }
      },
      "source": [
        "lasso_classifier.coef_"
      ],
      "execution_count": 36,
      "outputs": [
        {
          "output_type": "execute_result",
          "data": {
            "text/plain": [
              "array([[ 0.00000000e+00,  0.00000000e+00, -4.51882087e-01,\n",
              "         0.00000000e+00,  0.00000000e+00, -1.83352862e-03,\n",
              "         0.00000000e+00,  0.00000000e+00,  0.00000000e+00,\n",
              "         0.00000000e+00,  0.00000000e+00,  0.00000000e+00,\n",
              "         0.00000000e+00, -4.33901140e-01,  0.00000000e+00,\n",
              "         0.00000000e+00,  0.00000000e+00,  0.00000000e+00,\n",
              "         0.00000000e+00,  0.00000000e+00,  0.00000000e+00,\n",
              "         0.00000000e+00,  1.83041275e-01,  0.00000000e+00,\n",
              "         0.00000000e+00, -5.41904266e-04,  0.00000000e+00,\n",
              "         0.00000000e+00,  0.00000000e+00,  0.00000000e+00,\n",
              "         0.00000000e+00,  0.00000000e+00,  0.00000000e+00,\n",
              "         8.98106469e-02,  0.00000000e+00,  0.00000000e+00,\n",
              "         0.00000000e+00,  0.00000000e+00,  0.00000000e+00,\n",
              "         0.00000000e+00,  0.00000000e+00, -1.54779551e-03,\n",
              "        -3.62326024e-01,  3.11098936e-02,  2.40859918e-05,\n",
              "         2.00821859e-01,  1.02283097e-01, -1.46884716e-02,\n",
              "         0.00000000e+00,  0.00000000e+00,  1.05112561e-01,\n",
              "        -6.85434089e-02,  1.44402580e-03,  2.18503609e-01,\n",
              "         1.84942939e-01,  0.00000000e+00, -3.80692811e-02,\n",
              "         2.48374504e-03,  0.00000000e+00,  0.00000000e+00,\n",
              "         0.00000000e+00,  0.00000000e+00,  4.23132038e-04,\n",
              "         0.00000000e+00,  0.00000000e+00,  0.00000000e+00,\n",
              "         0.00000000e+00,  0.00000000e+00,  0.00000000e+00,\n",
              "         0.00000000e+00,  2.96619888e-01,  0.00000000e+00,\n",
              "         0.00000000e+00,  0.00000000e+00,  0.00000000e+00,\n",
              "         0.00000000e+00,  0.00000000e+00,  0.00000000e+00,\n",
              "         0.00000000e+00, -4.84472955e-04,  0.00000000e+00,\n",
              "         0.00000000e+00,  0.00000000e+00,  0.00000000e+00,\n",
              "         0.00000000e+00,  0.00000000e+00,  0.00000000e+00,\n",
              "         1.68492300e-01,  0.00000000e+00,  0.00000000e+00,\n",
              "         0.00000000e+00,  0.00000000e+00,  0.00000000e+00,\n",
              "         0.00000000e+00,  0.00000000e+00, -9.39247323e-08,\n",
              "        -3.81948486e-04, -1.76461928e-04,  2.73301025e-05,\n",
              "         2.35955978e-03,  8.16255061e-04,  2.87837413e-03,\n",
              "        -1.64844808e-04, -1.53029935e-05, -8.96064197e-04,\n",
              "        -5.10702828e-04, -2.77306542e-05, -1.47049204e-03,\n",
              "         1.61464802e-04,  4.88981508e-06,  1.63507270e-03,\n",
              "         0.00000000e+00,  0.00000000e+00,  0.00000000e+00,\n",
              "         0.00000000e+00,  0.00000000e+00,  0.00000000e+00,\n",
              "         0.00000000e+00,  0.00000000e+00,  0.00000000e+00,\n",
              "         0.00000000e+00,  0.00000000e+00,  0.00000000e+00,\n",
              "         0.00000000e+00,  0.00000000e+00,  0.00000000e+00,\n",
              "         0.00000000e+00,  0.00000000e+00,  0.00000000e+00,\n",
              "         0.00000000e+00,  0.00000000e+00,  0.00000000e+00,\n",
              "         6.86559035e-02,  0.00000000e+00,  0.00000000e+00,\n",
              "         0.00000000e+00,  0.00000000e+00,  0.00000000e+00,\n",
              "         0.00000000e+00,  0.00000000e+00,  7.08312971e-02,\n",
              "         0.00000000e+00,  0.00000000e+00,  0.00000000e+00,\n",
              "         0.00000000e+00, -7.50468903e-03,  0.00000000e+00,\n",
              "         0.00000000e+00,  5.35189731e-02,  0.00000000e+00,\n",
              "        -1.58095972e-01,  0.00000000e+00,  0.00000000e+00,\n",
              "         0.00000000e+00,  0.00000000e+00,  0.00000000e+00,\n",
              "         0.00000000e+00, -7.66734285e-02,  0.00000000e+00,\n",
              "         0.00000000e+00,  0.00000000e+00,  0.00000000e+00,\n",
              "         0.00000000e+00,  0.00000000e+00,  0.00000000e+00,\n",
              "         0.00000000e+00,  0.00000000e+00,  0.00000000e+00,\n",
              "         1.38653266e-01,  0.00000000e+00,  0.00000000e+00,\n",
              "         0.00000000e+00,  0.00000000e+00,  0.00000000e+00,\n",
              "         0.00000000e+00,  0.00000000e+00,  0.00000000e+00,\n",
              "         0.00000000e+00, -6.71690024e-02,  0.00000000e+00,\n",
              "         0.00000000e+00,  0.00000000e+00,  0.00000000e+00,\n",
              "         0.00000000e+00,  0.00000000e+00,  0.00000000e+00,\n",
              "         0.00000000e+00,  6.41397313e-02,  0.00000000e+00,\n",
              "         0.00000000e+00,  0.00000000e+00,  0.00000000e+00,\n",
              "         0.00000000e+00,  0.00000000e+00,  0.00000000e+00,\n",
              "         2.89380026e-04, -1.81628457e-03, -1.61738265e-02,\n",
              "        -2.20064192e-02,  0.00000000e+00, -1.55975766e-02,\n",
              "         6.22378978e-02,  3.86573770e-02,  0.00000000e+00,\n",
              "         0.00000000e+00,  0.00000000e+00,  0.00000000e+00,\n",
              "         0.00000000e+00,  0.00000000e+00,  0.00000000e+00,\n",
              "         0.00000000e+00,  0.00000000e+00,  0.00000000e+00,\n",
              "         0.00000000e+00,  0.00000000e+00,  0.00000000e+00,\n",
              "         0.00000000e+00,  0.00000000e+00,  2.73909954e-01,\n",
              "         0.00000000e+00,  0.00000000e+00,  0.00000000e+00,\n",
              "         0.00000000e+00,  0.00000000e+00,  0.00000000e+00,\n",
              "         0.00000000e+00,  0.00000000e+00,  0.00000000e+00,\n",
              "         0.00000000e+00,  0.00000000e+00,  0.00000000e+00]])"
            ]
          },
          "metadata": {},
          "execution_count": 36
        }
      ]
    },
    {
      "cell_type": "code",
      "metadata": {
        "id": "rvVuGWPBP67j",
        "outputId": "3cb19d7d-71e0-41bd-b8f3-0393e8721104",
        "colab": {
          "base_uri": "https://localhost:8080/"
        }
      },
      "source": [
        "print(f'Coeficientes mayores a cero: {(lasso_classifier.coef_>0).sum()}')"
      ],
      "execution_count": 37,
      "outputs": [
        {
          "output_type": "stream",
          "name": "stdout",
          "text": [
            "Coeficientes mayores a cero: 30\n"
          ]
        }
      ]
    },
    {
      "cell_type": "code",
      "metadata": {
        "id": "lD-YSULoKHFa",
        "outputId": "7c136f01-4a5d-456d-f339-bbdb1cf5bc2e",
        "colab": {
          "base_uri": "https://localhost:8080/"
        }
      },
      "source": [
        "lasso_classifier.C_"
      ],
      "execution_count": 38,
      "outputs": [
        {
          "output_type": "execute_result",
          "data": {
            "text/plain": [
              "array([0.35938137])"
            ]
          },
          "metadata": {},
          "execution_count": 38
        }
      ]
    },
    {
      "cell_type": "code",
      "metadata": {
        "id": "WGqRToQyKHIA",
        "outputId": "a7f8411d-f306-4aa6-c68f-8d3309e383e5",
        "colab": {
          "base_uri": "https://localhost:8080/"
        }
      },
      "source": [
        "print(f'Mejor valor para lambda: {1/lasso_classifier.C_}')"
      ],
      "execution_count": 39,
      "outputs": [
        {
          "output_type": "stream",
          "name": "stdout",
          "text": [
            "Mejor valor para lambda: [2.7825594]\n"
          ]
        }
      ]
    },
    {
      "cell_type": "code",
      "metadata": {
        "id": "-oy3pMVgKHK0",
        "outputId": "bc9ee44b-6901-4251-df27-0847befaf6cf",
        "colab": {
          "base_uri": "https://localhost:8080/"
        }
      },
      "source": [
        "print('================ Resultados LASSO Logistic Regressor =================\\n')\n",
        "print(classification_report(y_test, lasso_classifier.predict(X_test_cod)))"
      ],
      "execution_count": 40,
      "outputs": [
        {
          "output_type": "stream",
          "name": "stdout",
          "text": [
            "================ Resultados LASSO Logistic Regressor =================\n",
            "\n",
            "              precision    recall  f1-score   support\n",
            "\n",
            "           0       0.57      0.62      0.60        50\n",
            "           1       0.87      0.85      0.86       150\n",
            "\n",
            "    accuracy                           0.79       200\n",
            "   macro avg       0.72      0.73      0.73       200\n",
            "weighted avg       0.80      0.79      0.79       200\n",
            "\n"
          ]
        }
      ]
    },
    {
      "cell_type": "markdown",
      "metadata": {
        "id": "pEbpMvp9ROmb"
      },
      "source": [
        "## Elastic Net (L1 y L2 regularizer combinados)"
      ]
    },
    {
      "cell_type": "code",
      "metadata": {
        "id": "w-3XJYJ4t7-i",
        "outputId": "a14c0e5d-c09d-4be3-8a87-88f39d2db235",
        "colab": {
          "base_uri": "https://localhost:8080/"
        }
      },
      "source": [
        "elastic_classifier = LogisticRegression( penalty='elasticnet', solver='saga', max_iter=100, l1_ratio=0.5, random_state=6011)\n",
        "elastic_classifier.fit(X_train_cod,y_train)"
      ],
      "execution_count": 41,
      "outputs": [
        {
          "output_type": "stream",
          "name": "stderr",
          "text": [
            "/usr/local/lib/python3.10/dist-packages/sklearn/linear_model/_sag.py:350: ConvergenceWarning: The max_iter was reached which means the coef_ did not converge\n",
            "  warnings.warn(\n"
          ]
        },
        {
          "output_type": "execute_result",
          "data": {
            "text/plain": [
              "LogisticRegression(l1_ratio=0.5, penalty='elasticnet', random_state=6011,\n",
              "                   solver='saga')"
            ],
            "text/html": [
              "<style>#sk-container-id-4 {color: black;background-color: white;}#sk-container-id-4 pre{padding: 0;}#sk-container-id-4 div.sk-toggleable {background-color: white;}#sk-container-id-4 label.sk-toggleable__label {cursor: pointer;display: block;width: 100%;margin-bottom: 0;padding: 0.3em;box-sizing: border-box;text-align: center;}#sk-container-id-4 label.sk-toggleable__label-arrow:before {content: \"▸\";float: left;margin-right: 0.25em;color: #696969;}#sk-container-id-4 label.sk-toggleable__label-arrow:hover:before {color: black;}#sk-container-id-4 div.sk-estimator:hover label.sk-toggleable__label-arrow:before {color: black;}#sk-container-id-4 div.sk-toggleable__content {max-height: 0;max-width: 0;overflow: hidden;text-align: left;background-color: #f0f8ff;}#sk-container-id-4 div.sk-toggleable__content pre {margin: 0.2em;color: black;border-radius: 0.25em;background-color: #f0f8ff;}#sk-container-id-4 input.sk-toggleable__control:checked~div.sk-toggleable__content {max-height: 200px;max-width: 100%;overflow: auto;}#sk-container-id-4 input.sk-toggleable__control:checked~label.sk-toggleable__label-arrow:before {content: \"▾\";}#sk-container-id-4 div.sk-estimator input.sk-toggleable__control:checked~label.sk-toggleable__label {background-color: #d4ebff;}#sk-container-id-4 div.sk-label input.sk-toggleable__control:checked~label.sk-toggleable__label {background-color: #d4ebff;}#sk-container-id-4 input.sk-hidden--visually {border: 0;clip: rect(1px 1px 1px 1px);clip: rect(1px, 1px, 1px, 1px);height: 1px;margin: -1px;overflow: hidden;padding: 0;position: absolute;width: 1px;}#sk-container-id-4 div.sk-estimator {font-family: monospace;background-color: #f0f8ff;border: 1px dotted black;border-radius: 0.25em;box-sizing: border-box;margin-bottom: 0.5em;}#sk-container-id-4 div.sk-estimator:hover {background-color: #d4ebff;}#sk-container-id-4 div.sk-parallel-item::after {content: \"\";width: 100%;border-bottom: 1px solid gray;flex-grow: 1;}#sk-container-id-4 div.sk-label:hover label.sk-toggleable__label {background-color: #d4ebff;}#sk-container-id-4 div.sk-serial::before {content: \"\";position: absolute;border-left: 1px solid gray;box-sizing: border-box;top: 0;bottom: 0;left: 50%;z-index: 0;}#sk-container-id-4 div.sk-serial {display: flex;flex-direction: column;align-items: center;background-color: white;padding-right: 0.2em;padding-left: 0.2em;position: relative;}#sk-container-id-4 div.sk-item {position: relative;z-index: 1;}#sk-container-id-4 div.sk-parallel {display: flex;align-items: stretch;justify-content: center;background-color: white;position: relative;}#sk-container-id-4 div.sk-item::before, #sk-container-id-4 div.sk-parallel-item::before {content: \"\";position: absolute;border-left: 1px solid gray;box-sizing: border-box;top: 0;bottom: 0;left: 50%;z-index: -1;}#sk-container-id-4 div.sk-parallel-item {display: flex;flex-direction: column;z-index: 1;position: relative;background-color: white;}#sk-container-id-4 div.sk-parallel-item:first-child::after {align-self: flex-end;width: 50%;}#sk-container-id-4 div.sk-parallel-item:last-child::after {align-self: flex-start;width: 50%;}#sk-container-id-4 div.sk-parallel-item:only-child::after {width: 0;}#sk-container-id-4 div.sk-dashed-wrapped {border: 1px dashed gray;margin: 0 0.4em 0.5em 0.4em;box-sizing: border-box;padding-bottom: 0.4em;background-color: white;}#sk-container-id-4 div.sk-label label {font-family: monospace;font-weight: bold;display: inline-block;line-height: 1.2em;}#sk-container-id-4 div.sk-label-container {text-align: center;}#sk-container-id-4 div.sk-container {/* jupyter's `normalize.less` sets `[hidden] { display: none; }` but bootstrap.min.css set `[hidden] { display: none !important; }` so we also need the `!important` here to be able to override the default hidden behavior on the sphinx rendered scikit-learn.org. See: https://github.com/scikit-learn/scikit-learn/issues/21755 */display: inline-block !important;position: relative;}#sk-container-id-4 div.sk-text-repr-fallback {display: none;}</style><div id=\"sk-container-id-4\" class=\"sk-top-container\"><div class=\"sk-text-repr-fallback\"><pre>LogisticRegression(l1_ratio=0.5, penalty=&#x27;elasticnet&#x27;, random_state=6011,\n",
              "                   solver=&#x27;saga&#x27;)</pre><b>In a Jupyter environment, please rerun this cell to show the HTML representation or trust the notebook. <br />On GitHub, the HTML representation is unable to render, please try loading this page with nbviewer.org.</b></div><div class=\"sk-container\" hidden><div class=\"sk-item\"><div class=\"sk-estimator sk-toggleable\"><input class=\"sk-toggleable__control sk-hidden--visually\" id=\"sk-estimator-id-4\" type=\"checkbox\" checked><label for=\"sk-estimator-id-4\" class=\"sk-toggleable__label sk-toggleable__label-arrow\">LogisticRegression</label><div class=\"sk-toggleable__content\"><pre>LogisticRegression(l1_ratio=0.5, penalty=&#x27;elasticnet&#x27;, random_state=6011,\n",
              "                   solver=&#x27;saga&#x27;)</pre></div></div></div></div></div>"
            ]
          },
          "metadata": {},
          "execution_count": 41
        }
      ]
    },
    {
      "cell_type": "code",
      "metadata": {
        "id": "qrFbEGRIRVV_",
        "outputId": "8b2b0142-2800-46f5-ed83-070242b451c4",
        "colab": {
          "base_uri": "https://localhost:8080/"
        }
      },
      "source": [
        "elastic_classifier = LogisticRegression(C=0.0001, penalty='elasticnet', solver='saga', max_iter=100, l1_ratio=0.5, random_state=6011)\n",
        "elastic_classifier.fit(X_train_cod,y_train)"
      ],
      "execution_count": 42,
      "outputs": [
        {
          "output_type": "stream",
          "name": "stderr",
          "text": [
            "/usr/local/lib/python3.10/dist-packages/sklearn/linear_model/_sag.py:350: ConvergenceWarning: The max_iter was reached which means the coef_ did not converge\n",
            "  warnings.warn(\n"
          ]
        },
        {
          "output_type": "execute_result",
          "data": {
            "text/plain": [
              "LogisticRegression(C=0.0001, l1_ratio=0.5, penalty='elasticnet',\n",
              "                   random_state=6011, solver='saga')"
            ],
            "text/html": [
              "<style>#sk-container-id-5 {color: black;background-color: white;}#sk-container-id-5 pre{padding: 0;}#sk-container-id-5 div.sk-toggleable {background-color: white;}#sk-container-id-5 label.sk-toggleable__label {cursor: pointer;display: block;width: 100%;margin-bottom: 0;padding: 0.3em;box-sizing: border-box;text-align: center;}#sk-container-id-5 label.sk-toggleable__label-arrow:before {content: \"▸\";float: left;margin-right: 0.25em;color: #696969;}#sk-container-id-5 label.sk-toggleable__label-arrow:hover:before {color: black;}#sk-container-id-5 div.sk-estimator:hover label.sk-toggleable__label-arrow:before {color: black;}#sk-container-id-5 div.sk-toggleable__content {max-height: 0;max-width: 0;overflow: hidden;text-align: left;background-color: #f0f8ff;}#sk-container-id-5 div.sk-toggleable__content pre {margin: 0.2em;color: black;border-radius: 0.25em;background-color: #f0f8ff;}#sk-container-id-5 input.sk-toggleable__control:checked~div.sk-toggleable__content {max-height: 200px;max-width: 100%;overflow: auto;}#sk-container-id-5 input.sk-toggleable__control:checked~label.sk-toggleable__label-arrow:before {content: \"▾\";}#sk-container-id-5 div.sk-estimator input.sk-toggleable__control:checked~label.sk-toggleable__label {background-color: #d4ebff;}#sk-container-id-5 div.sk-label input.sk-toggleable__control:checked~label.sk-toggleable__label {background-color: #d4ebff;}#sk-container-id-5 input.sk-hidden--visually {border: 0;clip: rect(1px 1px 1px 1px);clip: rect(1px, 1px, 1px, 1px);height: 1px;margin: -1px;overflow: hidden;padding: 0;position: absolute;width: 1px;}#sk-container-id-5 div.sk-estimator {font-family: monospace;background-color: #f0f8ff;border: 1px dotted black;border-radius: 0.25em;box-sizing: border-box;margin-bottom: 0.5em;}#sk-container-id-5 div.sk-estimator:hover {background-color: #d4ebff;}#sk-container-id-5 div.sk-parallel-item::after {content: \"\";width: 100%;border-bottom: 1px solid gray;flex-grow: 1;}#sk-container-id-5 div.sk-label:hover label.sk-toggleable__label {background-color: #d4ebff;}#sk-container-id-5 div.sk-serial::before {content: \"\";position: absolute;border-left: 1px solid gray;box-sizing: border-box;top: 0;bottom: 0;left: 50%;z-index: 0;}#sk-container-id-5 div.sk-serial {display: flex;flex-direction: column;align-items: center;background-color: white;padding-right: 0.2em;padding-left: 0.2em;position: relative;}#sk-container-id-5 div.sk-item {position: relative;z-index: 1;}#sk-container-id-5 div.sk-parallel {display: flex;align-items: stretch;justify-content: center;background-color: white;position: relative;}#sk-container-id-5 div.sk-item::before, #sk-container-id-5 div.sk-parallel-item::before {content: \"\";position: absolute;border-left: 1px solid gray;box-sizing: border-box;top: 0;bottom: 0;left: 50%;z-index: -1;}#sk-container-id-5 div.sk-parallel-item {display: flex;flex-direction: column;z-index: 1;position: relative;background-color: white;}#sk-container-id-5 div.sk-parallel-item:first-child::after {align-self: flex-end;width: 50%;}#sk-container-id-5 div.sk-parallel-item:last-child::after {align-self: flex-start;width: 50%;}#sk-container-id-5 div.sk-parallel-item:only-child::after {width: 0;}#sk-container-id-5 div.sk-dashed-wrapped {border: 1px dashed gray;margin: 0 0.4em 0.5em 0.4em;box-sizing: border-box;padding-bottom: 0.4em;background-color: white;}#sk-container-id-5 div.sk-label label {font-family: monospace;font-weight: bold;display: inline-block;line-height: 1.2em;}#sk-container-id-5 div.sk-label-container {text-align: center;}#sk-container-id-5 div.sk-container {/* jupyter's `normalize.less` sets `[hidden] { display: none; }` but bootstrap.min.css set `[hidden] { display: none !important; }` so we also need the `!important` here to be able to override the default hidden behavior on the sphinx rendered scikit-learn.org. See: https://github.com/scikit-learn/scikit-learn/issues/21755 */display: inline-block !important;position: relative;}#sk-container-id-5 div.sk-text-repr-fallback {display: none;}</style><div id=\"sk-container-id-5\" class=\"sk-top-container\"><div class=\"sk-text-repr-fallback\"><pre>LogisticRegression(C=0.0001, l1_ratio=0.5, penalty=&#x27;elasticnet&#x27;,\n",
              "                   random_state=6011, solver=&#x27;saga&#x27;)</pre><b>In a Jupyter environment, please rerun this cell to show the HTML representation or trust the notebook. <br />On GitHub, the HTML representation is unable to render, please try loading this page with nbviewer.org.</b></div><div class=\"sk-container\" hidden><div class=\"sk-item\"><div class=\"sk-estimator sk-toggleable\"><input class=\"sk-toggleable__control sk-hidden--visually\" id=\"sk-estimator-id-5\" type=\"checkbox\" checked><label for=\"sk-estimator-id-5\" class=\"sk-toggleable__label sk-toggleable__label-arrow\">LogisticRegression</label><div class=\"sk-toggleable__content\"><pre>LogisticRegression(C=0.0001, l1_ratio=0.5, penalty=&#x27;elasticnet&#x27;,\n",
              "                   random_state=6011, solver=&#x27;saga&#x27;)</pre></div></div></div></div></div>"
            ]
          },
          "metadata": {},
          "execution_count": 42
        }
      ]
    },
    {
      "cell_type": "code",
      "metadata": {
        "id": "8ZiM_5tARVV_",
        "outputId": "a854fb95-0122-4a7f-f0b6-3c9b0b78000c",
        "colab": {
          "base_uri": "https://localhost:8080/"
        }
      },
      "source": [
        "elastic_classifier.classes_"
      ],
      "execution_count": 43,
      "outputs": [
        {
          "output_type": "execute_result",
          "data": {
            "text/plain": [
              "array([0, 1])"
            ]
          },
          "metadata": {},
          "execution_count": 43
        }
      ]
    },
    {
      "cell_type": "code",
      "metadata": {
        "id": "jVIu9FNzRVV_",
        "outputId": "0189beb0-fa92-447b-aa96-98210c7e9a29",
        "colab": {
          "base_uri": "https://localhost:8080/"
        }
      },
      "source": [
        "elastic_classifier.coef_"
      ],
      "execution_count": 44,
      "outputs": [
        {
          "output_type": "execute_result",
          "data": {
            "text/plain": [
              "array([[0.00000000e+00, 0.00000000e+00, 0.00000000e+00, 0.00000000e+00,\n",
              "        0.00000000e+00, 4.98301911e-10, 0.00000000e+00, 0.00000000e+00,\n",
              "        0.00000000e+00, 0.00000000e+00, 0.00000000e+00, 0.00000000e+00,\n",
              "        0.00000000e+00, 1.05555493e-12, 0.00000000e+00, 0.00000000e+00,\n",
              "        0.00000000e+00, 0.00000000e+00, 0.00000000e+00, 0.00000000e+00,\n",
              "        0.00000000e+00, 0.00000000e+00, 0.00000000e+00, 0.00000000e+00,\n",
              "        0.00000000e+00, 4.61757862e-10, 0.00000000e+00, 0.00000000e+00,\n",
              "        0.00000000e+00, 0.00000000e+00, 0.00000000e+00, 0.00000000e+00,\n",
              "        0.00000000e+00, 0.00000000e+00, 0.00000000e+00, 0.00000000e+00,\n",
              "        0.00000000e+00, 0.00000000e+00, 0.00000000e+00, 0.00000000e+00,\n",
              "        0.00000000e+00, 4.12317916e-11, 0.00000000e+00, 0.00000000e+00,\n",
              "        6.67893866e-09, 0.00000000e+00, 0.00000000e+00, 1.17191012e-12,\n",
              "        0.00000000e+00, 0.00000000e+00, 0.00000000e+00, 0.00000000e+00,\n",
              "        1.24893009e-10, 0.00000000e+00, 0.00000000e+00, 0.00000000e+00,\n",
              "        0.00000000e+00, 0.00000000e+00, 0.00000000e+00, 0.00000000e+00,\n",
              "        0.00000000e+00, 0.00000000e+00, 3.97691013e-10, 0.00000000e+00,\n",
              "        0.00000000e+00, 0.00000000e+00, 0.00000000e+00, 0.00000000e+00,\n",
              "        0.00000000e+00, 0.00000000e+00, 0.00000000e+00, 0.00000000e+00,\n",
              "        0.00000000e+00, 0.00000000e+00, 0.00000000e+00, 0.00000000e+00,\n",
              "        0.00000000e+00, 0.00000000e+00, 0.00000000e+00, 3.76907110e-10,\n",
              "        0.00000000e+00, 0.00000000e+00, 0.00000000e+00, 0.00000000e+00,\n",
              "        0.00000000e+00, 0.00000000e+00, 0.00000000e+00, 0.00000000e+00,\n",
              "        0.00000000e+00, 0.00000000e+00, 0.00000000e+00, 0.00000000e+00,\n",
              "        0.00000000e+00, 0.00000000e+00, 0.00000000e+00, 1.15508418e-09,\n",
              "        3.82509731e-10, 3.68784700e-10, 1.37036287e-09, 3.56025158e-10,\n",
              "        3.47806416e-10, 3.42161672e-10, 3.66045569e-10, 1.84786601e-08,\n",
              "        3.50556458e-10, 3.56809068e-10, 7.52975990e-10, 3.44852732e-10,\n",
              "        6.27727182e-10, 3.39334748e-10, 3.39192707e-10, 0.00000000e+00,\n",
              "        0.00000000e+00, 0.00000000e+00, 0.00000000e+00, 0.00000000e+00,\n",
              "        0.00000000e+00, 0.00000000e+00, 0.00000000e+00, 0.00000000e+00,\n",
              "        0.00000000e+00, 0.00000000e+00, 0.00000000e+00, 0.00000000e+00,\n",
              "        0.00000000e+00, 0.00000000e+00, 0.00000000e+00, 0.00000000e+00,\n",
              "        0.00000000e+00, 0.00000000e+00, 0.00000000e+00, 0.00000000e+00,\n",
              "        0.00000000e+00, 0.00000000e+00, 0.00000000e+00, 0.00000000e+00,\n",
              "        0.00000000e+00, 0.00000000e+00, 0.00000000e+00, 0.00000000e+00,\n",
              "        0.00000000e+00, 0.00000000e+00, 0.00000000e+00, 0.00000000e+00,\n",
              "        0.00000000e+00, 1.91588654e-11, 0.00000000e+00, 0.00000000e+00,\n",
              "        0.00000000e+00, 0.00000000e+00, 0.00000000e+00, 0.00000000e+00,\n",
              "        0.00000000e+00, 0.00000000e+00, 0.00000000e+00, 0.00000000e+00,\n",
              "        0.00000000e+00, 0.00000000e+00, 0.00000000e+00, 0.00000000e+00,\n",
              "        0.00000000e+00, 0.00000000e+00, 0.00000000e+00, 0.00000000e+00,\n",
              "        0.00000000e+00, 0.00000000e+00, 0.00000000e+00, 0.00000000e+00,\n",
              "        0.00000000e+00, 0.00000000e+00, 0.00000000e+00, 0.00000000e+00,\n",
              "        0.00000000e+00, 0.00000000e+00, 0.00000000e+00, 0.00000000e+00,\n",
              "        0.00000000e+00, 0.00000000e+00, 0.00000000e+00, 0.00000000e+00,\n",
              "        0.00000000e+00, 0.00000000e+00, 0.00000000e+00, 0.00000000e+00,\n",
              "        0.00000000e+00, 0.00000000e+00, 0.00000000e+00, 0.00000000e+00,\n",
              "        0.00000000e+00, 0.00000000e+00, 0.00000000e+00, 0.00000000e+00,\n",
              "        0.00000000e+00, 0.00000000e+00, 0.00000000e+00, 3.92710555e-10,\n",
              "        0.00000000e+00, 0.00000000e+00, 6.14448950e-12, 0.00000000e+00,\n",
              "        2.69443017e-12, 0.00000000e+00, 0.00000000e+00, 0.00000000e+00,\n",
              "        0.00000000e+00, 0.00000000e+00, 0.00000000e+00, 0.00000000e+00,\n",
              "        0.00000000e+00, 0.00000000e+00, 0.00000000e+00, 0.00000000e+00,\n",
              "        0.00000000e+00, 0.00000000e+00, 0.00000000e+00, 0.00000000e+00,\n",
              "        0.00000000e+00, 0.00000000e+00, 0.00000000e+00, 0.00000000e+00,\n",
              "        0.00000000e+00, 0.00000000e+00, 0.00000000e+00, 0.00000000e+00,\n",
              "        0.00000000e+00, 0.00000000e+00, 0.00000000e+00, 0.00000000e+00,\n",
              "        0.00000000e+00, 0.00000000e+00, 0.00000000e+00]])"
            ]
          },
          "metadata": {},
          "execution_count": 44
        }
      ]
    },
    {
      "cell_type": "code",
      "metadata": {
        "id": "Fma_i1dARVWA",
        "outputId": "73d52dc6-b8d0-431c-d990-24fa884244e2",
        "colab": {
          "base_uri": "https://localhost:8080/"
        }
      },
      "source": [
        "print(f'Coeficientes mayores a cero: {(elastic_classifier.coef_>0).sum()}')"
      ],
      "execution_count": 45,
      "outputs": [
        {
          "output_type": "stream",
          "name": "stdout",
          "text": [
            "Coeficientes mayores a cero: 29\n"
          ]
        }
      ]
    },
    {
      "cell_type": "code",
      "metadata": {
        "id": "qNff6KeMRVWA",
        "outputId": "1faaf230-0c49-4d0b-bf10-abc81ac206b6",
        "colab": {
          "base_uri": "https://localhost:8080/"
        }
      },
      "source": [
        "elastic_classifier.C"
      ],
      "execution_count": 46,
      "outputs": [
        {
          "output_type": "execute_result",
          "data": {
            "text/plain": [
              "0.0001"
            ]
          },
          "metadata": {},
          "execution_count": 46
        }
      ]
    },
    {
      "cell_type": "code",
      "metadata": {
        "id": "Zv6b4KOlRVWA",
        "outputId": "0ee31600-15da-47e2-c1da-f75e8f5f9080",
        "colab": {
          "base_uri": "https://localhost:8080/"
        }
      },
      "source": [
        "print(f'Mejor valor para lambda: {1/elastic_classifier.C}')"
      ],
      "execution_count": 47,
      "outputs": [
        {
          "output_type": "stream",
          "name": "stdout",
          "text": [
            "Mejor valor para lambda: 10000.0\n"
          ]
        }
      ]
    },
    {
      "cell_type": "code",
      "metadata": {
        "id": "QOwV38xSRVWA",
        "outputId": "09600a0d-7240-4c4b-9840-3b20906402d2",
        "colab": {
          "base_uri": "https://localhost:8080/"
        }
      },
      "source": [
        "print('================ Resultados de la Elastic Net =================\\n')\n",
        "print(classification_report(y_test, elastic_classifier.predict(X_test_cod)))"
      ],
      "execution_count": 48,
      "outputs": [
        {
          "output_type": "stream",
          "name": "stdout",
          "text": [
            "================ Resultados de la Elastic Net =================\n",
            "\n",
            "              precision    recall  f1-score   support\n",
            "\n",
            "           0       0.00      0.00      0.00        50\n",
            "           1       0.75      1.00      0.86       150\n",
            "\n",
            "    accuracy                           0.75       200\n",
            "   macro avg       0.38      0.50      0.43       200\n",
            "weighted avg       0.56      0.75      0.64       200\n",
            "\n"
          ]
        },
        {
          "output_type": "stream",
          "name": "stderr",
          "text": [
            "/usr/local/lib/python3.10/dist-packages/sklearn/metrics/_classification.py:1344: UndefinedMetricWarning: Precision and F-score are ill-defined and being set to 0.0 in labels with no predicted samples. Use `zero_division` parameter to control this behavior.\n",
            "  _warn_prf(average, modifier, msg_start, len(result))\n",
            "/usr/local/lib/python3.10/dist-packages/sklearn/metrics/_classification.py:1344: UndefinedMetricWarning: Precision and F-score are ill-defined and being set to 0.0 in labels with no predicted samples. Use `zero_division` parameter to control this behavior.\n",
            "  _warn_prf(average, modifier, msg_start, len(result))\n",
            "/usr/local/lib/python3.10/dist-packages/sklearn/metrics/_classification.py:1344: UndefinedMetricWarning: Precision and F-score are ill-defined and being set to 0.0 in labels with no predicted samples. Use `zero_division` parameter to control this behavior.\n",
            "  _warn_prf(average, modifier, msg_start, len(result))\n"
          ]
        }
      ]
    },
    {
      "cell_type": "markdown",
      "metadata": {
        "id": "MJZCzbdOL-EZ"
      },
      "source": [
        "## Árboles de Decisión"
      ]
    },
    {
      "cell_type": "code",
      "metadata": {
        "id": "JgPFaxxAL-MV"
      },
      "source": [
        "from sklearn.tree import DecisionTreeClassifier\n",
        "from sklearn.ensemble import RandomForestClassifier, GradientBoostingClassifier"
      ],
      "execution_count": 49,
      "outputs": []
    },
    {
      "cell_type": "code",
      "metadata": {
        "id": "ofsyk40KTT49",
        "outputId": "5cd0abb0-9ea6-4096-ae77-727c0dd86c38",
        "colab": {
          "base_uri": "https://localhost:8080/"
        }
      },
      "source": [
        "dt = DecisionTreeClassifier()\n",
        "dt.fit(X_train_cod, y_train)"
      ],
      "execution_count": 50,
      "outputs": [
        {
          "output_type": "execute_result",
          "data": {
            "text/plain": [
              "DecisionTreeClassifier()"
            ],
            "text/html": [
              "<style>#sk-container-id-6 {color: black;background-color: white;}#sk-container-id-6 pre{padding: 0;}#sk-container-id-6 div.sk-toggleable {background-color: white;}#sk-container-id-6 label.sk-toggleable__label {cursor: pointer;display: block;width: 100%;margin-bottom: 0;padding: 0.3em;box-sizing: border-box;text-align: center;}#sk-container-id-6 label.sk-toggleable__label-arrow:before {content: \"▸\";float: left;margin-right: 0.25em;color: #696969;}#sk-container-id-6 label.sk-toggleable__label-arrow:hover:before {color: black;}#sk-container-id-6 div.sk-estimator:hover label.sk-toggleable__label-arrow:before {color: black;}#sk-container-id-6 div.sk-toggleable__content {max-height: 0;max-width: 0;overflow: hidden;text-align: left;background-color: #f0f8ff;}#sk-container-id-6 div.sk-toggleable__content pre {margin: 0.2em;color: black;border-radius: 0.25em;background-color: #f0f8ff;}#sk-container-id-6 input.sk-toggleable__control:checked~div.sk-toggleable__content {max-height: 200px;max-width: 100%;overflow: auto;}#sk-container-id-6 input.sk-toggleable__control:checked~label.sk-toggleable__label-arrow:before {content: \"▾\";}#sk-container-id-6 div.sk-estimator input.sk-toggleable__control:checked~label.sk-toggleable__label {background-color: #d4ebff;}#sk-container-id-6 div.sk-label input.sk-toggleable__control:checked~label.sk-toggleable__label {background-color: #d4ebff;}#sk-container-id-6 input.sk-hidden--visually {border: 0;clip: rect(1px 1px 1px 1px);clip: rect(1px, 1px, 1px, 1px);height: 1px;margin: -1px;overflow: hidden;padding: 0;position: absolute;width: 1px;}#sk-container-id-6 div.sk-estimator {font-family: monospace;background-color: #f0f8ff;border: 1px dotted black;border-radius: 0.25em;box-sizing: border-box;margin-bottom: 0.5em;}#sk-container-id-6 div.sk-estimator:hover {background-color: #d4ebff;}#sk-container-id-6 div.sk-parallel-item::after {content: \"\";width: 100%;border-bottom: 1px solid gray;flex-grow: 1;}#sk-container-id-6 div.sk-label:hover label.sk-toggleable__label {background-color: #d4ebff;}#sk-container-id-6 div.sk-serial::before {content: \"\";position: absolute;border-left: 1px solid gray;box-sizing: border-box;top: 0;bottom: 0;left: 50%;z-index: 0;}#sk-container-id-6 div.sk-serial {display: flex;flex-direction: column;align-items: center;background-color: white;padding-right: 0.2em;padding-left: 0.2em;position: relative;}#sk-container-id-6 div.sk-item {position: relative;z-index: 1;}#sk-container-id-6 div.sk-parallel {display: flex;align-items: stretch;justify-content: center;background-color: white;position: relative;}#sk-container-id-6 div.sk-item::before, #sk-container-id-6 div.sk-parallel-item::before {content: \"\";position: absolute;border-left: 1px solid gray;box-sizing: border-box;top: 0;bottom: 0;left: 50%;z-index: -1;}#sk-container-id-6 div.sk-parallel-item {display: flex;flex-direction: column;z-index: 1;position: relative;background-color: white;}#sk-container-id-6 div.sk-parallel-item:first-child::after {align-self: flex-end;width: 50%;}#sk-container-id-6 div.sk-parallel-item:last-child::after {align-self: flex-start;width: 50%;}#sk-container-id-6 div.sk-parallel-item:only-child::after {width: 0;}#sk-container-id-6 div.sk-dashed-wrapped {border: 1px dashed gray;margin: 0 0.4em 0.5em 0.4em;box-sizing: border-box;padding-bottom: 0.4em;background-color: white;}#sk-container-id-6 div.sk-label label {font-family: monospace;font-weight: bold;display: inline-block;line-height: 1.2em;}#sk-container-id-6 div.sk-label-container {text-align: center;}#sk-container-id-6 div.sk-container {/* jupyter's `normalize.less` sets `[hidden] { display: none; }` but bootstrap.min.css set `[hidden] { display: none !important; }` so we also need the `!important` here to be able to override the default hidden behavior on the sphinx rendered scikit-learn.org. See: https://github.com/scikit-learn/scikit-learn/issues/21755 */display: inline-block !important;position: relative;}#sk-container-id-6 div.sk-text-repr-fallback {display: none;}</style><div id=\"sk-container-id-6\" class=\"sk-top-container\"><div class=\"sk-text-repr-fallback\"><pre>DecisionTreeClassifier()</pre><b>In a Jupyter environment, please rerun this cell to show the HTML representation or trust the notebook. <br />On GitHub, the HTML representation is unable to render, please try loading this page with nbviewer.org.</b></div><div class=\"sk-container\" hidden><div class=\"sk-item\"><div class=\"sk-estimator sk-toggleable\"><input class=\"sk-toggleable__control sk-hidden--visually\" id=\"sk-estimator-id-6\" type=\"checkbox\" checked><label for=\"sk-estimator-id-6\" class=\"sk-toggleable__label sk-toggleable__label-arrow\">DecisionTreeClassifier</label><div class=\"sk-toggleable__content\"><pre>DecisionTreeClassifier()</pre></div></div></div></div></div>"
            ]
          },
          "metadata": {},
          "execution_count": 50
        }
      ]
    },
    {
      "cell_type": "code",
      "metadata": {
        "id": "5IMfXYlrTT74",
        "outputId": "d3b0a121-c061-43f6-917f-cff1468b1716",
        "colab": {
          "base_uri": "https://localhost:8080/"
        }
      },
      "source": [
        "dt.feature_importances_"
      ],
      "execution_count": 51,
      "outputs": [
        {
          "output_type": "execute_result",
          "data": {
            "text/plain": [
              "array([0.        , 0.        , 0.        , 0.        , 0.        ,\n",
              "       0.00620606, 0.        , 0.        , 0.        , 0.        ,\n",
              "       0.        , 0.        , 0.        , 0.00659123, 0.        ,\n",
              "       0.        , 0.        , 0.        , 0.        , 0.        ,\n",
              "       0.        , 0.        , 0.        , 0.01570909, 0.        ,\n",
              "       0.0080881 , 0.14872521, 0.00561755, 0.        , 0.00551196,\n",
              "       0.        , 0.        , 0.        , 0.03155642, 0.        ,\n",
              "       0.        , 0.        , 0.        , 0.        , 0.        ,\n",
              "       0.        , 0.        , 0.00387879, 0.01206988, 0.        ,\n",
              "       0.        , 0.        , 0.02188903, 0.        , 0.        ,\n",
              "       0.        , 0.03660315, 0.00184078, 0.        , 0.00930909,\n",
              "       0.00465455, 0.        , 0.0097467 , 0.        , 0.        ,\n",
              "       0.        , 0.01994834, 0.0724463 , 0.        , 0.00908212,\n",
              "       0.        , 0.        , 0.        , 0.        , 0.04732802,\n",
              "       0.        , 0.00555372, 0.        , 0.00487378, 0.        ,\n",
              "       0.        , 0.01164735, 0.        , 0.        , 0.        ,\n",
              "       0.01164329, 0.01864796, 0.00387879, 0.00510145, 0.        ,\n",
              "       0.00115419, 0.01666116, 0.00561755, 0.01256727, 0.        ,\n",
              "       0.0058129 , 0.        , 0.01014784, 0.        , 0.00833333,\n",
              "       0.        , 0.        , 0.03408226, 0.00905051, 0.00760033,\n",
              "       0.00480416, 0.        , 0.        , 0.        , 0.        ,\n",
              "       0.00484848, 0.        , 0.00509091, 0.00387879, 0.        ,\n",
              "       0.        , 0.        , 0.        , 0.        , 0.00564187,\n",
              "       0.01137389, 0.        , 0.00484848, 0.02137307, 0.        ,\n",
              "       0.        , 0.00498701, 0.01187879, 0.        , 0.        ,\n",
              "       0.        , 0.        , 0.        , 0.        , 0.01480353,\n",
              "       0.        , 0.        , 0.        , 0.02479309, 0.01065344,\n",
              "       0.        , 0.0063675 , 0.        , 0.        , 0.        ,\n",
              "       0.        , 0.        , 0.        , 0.        , 0.0123516 ,\n",
              "       0.00387879, 0.        , 0.        , 0.        , 0.        ,\n",
              "       0.        , 0.00509091, 0.        , 0.        , 0.        ,\n",
              "       0.00838503, 0.        , 0.00436621, 0.00606061, 0.01292308,\n",
              "       0.00549495, 0.        , 0.00387879, 0.00555372, 0.        ,\n",
              "       0.        , 0.        , 0.01114007, 0.        , 0.        ,\n",
              "       0.        , 0.        , 0.        , 0.        , 0.        ,\n",
              "       0.        , 0.        , 0.01612219, 0.00290909, 0.00176027,\n",
              "       0.        , 0.        , 0.        , 0.0050994 , 0.        ,\n",
              "       0.        , 0.        , 0.01000866, 0.        , 0.        ,\n",
              "       0.00556522, 0.        , 0.00387879, 0.        , 0.        ,\n",
              "       0.        , 0.01101801, 0.        , 0.01544589, 0.00393498,\n",
              "       0.00546098, 0.01587804, 0.        , 0.        , 0.        ,\n",
              "       0.        , 0.        , 0.        , 0.        , 0.        ,\n",
              "       0.        , 0.        , 0.01282591, 0.        , 0.        ,\n",
              "       0.        , 0.        , 0.        , 0.0052472 , 0.0162418 ,\n",
              "       0.        , 0.        , 0.        , 0.        , 0.00496077,\n",
              "       0.        , 0.        , 0.        , 0.        , 0.        ,\n",
              "       0.        ])"
            ]
          },
          "metadata": {},
          "execution_count": 51
        }
      ]
    },
    {
      "cell_type": "code",
      "metadata": {
        "id": "R_iC8tSk0IuP",
        "outputId": "10092814-8ed7-4678-f6ac-44b3122927a2",
        "colab": {
          "base_uri": "https://localhost:8080/"
        }
      },
      "source": [
        "np.array(dt.feature_importances_).sum()"
      ],
      "execution_count": 52,
      "outputs": [
        {
          "output_type": "execute_result",
          "data": {
            "text/plain": [
              "0.9999999999999998"
            ]
          },
          "metadata": {},
          "execution_count": 52
        }
      ]
    },
    {
      "cell_type": "code",
      "metadata": {
        "id": "VM2AC1vj0VU8",
        "outputId": "151ebf5f-0f36-4c11-d74f-7bea6ebb60aa",
        "colab": {
          "base_uri": "https://localhost:8080/"
        }
      },
      "source": [
        "dt.get_depth()"
      ],
      "execution_count": 53,
      "outputs": [
        {
          "output_type": "execute_result",
          "data": {
            "text/plain": [
              "15"
            ]
          },
          "metadata": {},
          "execution_count": 53
        }
      ]
    },
    {
      "cell_type": "code",
      "metadata": {
        "id": "yn12IDDGace3",
        "outputId": "fd51ffdd-3baa-472a-930c-de5a15637787",
        "colab": {
          "base_uri": "https://localhost:8080/"
        }
      },
      "source": [
        "print(f'Importancias mayores a cero: {(dt.feature_importances_>0).sum()}')"
      ],
      "execution_count": 54,
      "outputs": [
        {
          "output_type": "stream",
          "name": "stdout",
          "text": [
            "Importancias mayores a cero: 78\n"
          ]
        }
      ]
    },
    {
      "cell_type": "code",
      "metadata": {
        "id": "-g5Ok9NxTT-u",
        "outputId": "75c84e31-f80f-4fd1-d14e-d2cb75ab1ffa",
        "colab": {
          "base_uri": "https://localhost:8080/"
        }
      },
      "source": [
        "print('================ Resultados Decision Tree =================\\n')\n",
        "print(classification_report(y_test, dt.predict(X_test_cod)))"
      ],
      "execution_count": 55,
      "outputs": [
        {
          "output_type": "stream",
          "name": "stdout",
          "text": [
            "================ Resultados Decision Tree =================\n",
            "\n",
            "              precision    recall  f1-score   support\n",
            "\n",
            "           0       0.41      0.58      0.48        50\n",
            "           1       0.84      0.73      0.78       150\n",
            "\n",
            "    accuracy                           0.69       200\n",
            "   macro avg       0.63      0.65      0.63       200\n",
            "weighted avg       0.73      0.69      0.70       200\n",
            "\n"
          ]
        }
      ]
    },
    {
      "cell_type": "markdown",
      "metadata": {
        "id": "tWyHp_OfTUBo"
      },
      "source": [
        "## Ensamblados de árboles"
      ]
    },
    {
      "cell_type": "code",
      "metadata": {
        "id": "nvj-wDSrUp_2",
        "outputId": "a7f22ed6-3beb-4338-aeeb-0c0c82e19257",
        "colab": {
          "base_uri": "https://localhost:8080/"
        }
      },
      "source": [
        "rf = RandomForestClassifier()\n",
        "rf.fit(X_train_cod, y_train)"
      ],
      "execution_count": 56,
      "outputs": [
        {
          "output_type": "execute_result",
          "data": {
            "text/plain": [
              "RandomForestClassifier()"
            ],
            "text/html": [
              "<style>#sk-container-id-7 {color: black;background-color: white;}#sk-container-id-7 pre{padding: 0;}#sk-container-id-7 div.sk-toggleable {background-color: white;}#sk-container-id-7 label.sk-toggleable__label {cursor: pointer;display: block;width: 100%;margin-bottom: 0;padding: 0.3em;box-sizing: border-box;text-align: center;}#sk-container-id-7 label.sk-toggleable__label-arrow:before {content: \"▸\";float: left;margin-right: 0.25em;color: #696969;}#sk-container-id-7 label.sk-toggleable__label-arrow:hover:before {color: black;}#sk-container-id-7 div.sk-estimator:hover label.sk-toggleable__label-arrow:before {color: black;}#sk-container-id-7 div.sk-toggleable__content {max-height: 0;max-width: 0;overflow: hidden;text-align: left;background-color: #f0f8ff;}#sk-container-id-7 div.sk-toggleable__content pre {margin: 0.2em;color: black;border-radius: 0.25em;background-color: #f0f8ff;}#sk-container-id-7 input.sk-toggleable__control:checked~div.sk-toggleable__content {max-height: 200px;max-width: 100%;overflow: auto;}#sk-container-id-7 input.sk-toggleable__control:checked~label.sk-toggleable__label-arrow:before {content: \"▾\";}#sk-container-id-7 div.sk-estimator input.sk-toggleable__control:checked~label.sk-toggleable__label {background-color: #d4ebff;}#sk-container-id-7 div.sk-label input.sk-toggleable__control:checked~label.sk-toggleable__label {background-color: #d4ebff;}#sk-container-id-7 input.sk-hidden--visually {border: 0;clip: rect(1px 1px 1px 1px);clip: rect(1px, 1px, 1px, 1px);height: 1px;margin: -1px;overflow: hidden;padding: 0;position: absolute;width: 1px;}#sk-container-id-7 div.sk-estimator {font-family: monospace;background-color: #f0f8ff;border: 1px dotted black;border-radius: 0.25em;box-sizing: border-box;margin-bottom: 0.5em;}#sk-container-id-7 div.sk-estimator:hover {background-color: #d4ebff;}#sk-container-id-7 div.sk-parallel-item::after {content: \"\";width: 100%;border-bottom: 1px solid gray;flex-grow: 1;}#sk-container-id-7 div.sk-label:hover label.sk-toggleable__label {background-color: #d4ebff;}#sk-container-id-7 div.sk-serial::before {content: \"\";position: absolute;border-left: 1px solid gray;box-sizing: border-box;top: 0;bottom: 0;left: 50%;z-index: 0;}#sk-container-id-7 div.sk-serial {display: flex;flex-direction: column;align-items: center;background-color: white;padding-right: 0.2em;padding-left: 0.2em;position: relative;}#sk-container-id-7 div.sk-item {position: relative;z-index: 1;}#sk-container-id-7 div.sk-parallel {display: flex;align-items: stretch;justify-content: center;background-color: white;position: relative;}#sk-container-id-7 div.sk-item::before, #sk-container-id-7 div.sk-parallel-item::before {content: \"\";position: absolute;border-left: 1px solid gray;box-sizing: border-box;top: 0;bottom: 0;left: 50%;z-index: -1;}#sk-container-id-7 div.sk-parallel-item {display: flex;flex-direction: column;z-index: 1;position: relative;background-color: white;}#sk-container-id-7 div.sk-parallel-item:first-child::after {align-self: flex-end;width: 50%;}#sk-container-id-7 div.sk-parallel-item:last-child::after {align-self: flex-start;width: 50%;}#sk-container-id-7 div.sk-parallel-item:only-child::after {width: 0;}#sk-container-id-7 div.sk-dashed-wrapped {border: 1px dashed gray;margin: 0 0.4em 0.5em 0.4em;box-sizing: border-box;padding-bottom: 0.4em;background-color: white;}#sk-container-id-7 div.sk-label label {font-family: monospace;font-weight: bold;display: inline-block;line-height: 1.2em;}#sk-container-id-7 div.sk-label-container {text-align: center;}#sk-container-id-7 div.sk-container {/* jupyter's `normalize.less` sets `[hidden] { display: none; }` but bootstrap.min.css set `[hidden] { display: none !important; }` so we also need the `!important` here to be able to override the default hidden behavior on the sphinx rendered scikit-learn.org. See: https://github.com/scikit-learn/scikit-learn/issues/21755 */display: inline-block !important;position: relative;}#sk-container-id-7 div.sk-text-repr-fallback {display: none;}</style><div id=\"sk-container-id-7\" class=\"sk-top-container\"><div class=\"sk-text-repr-fallback\"><pre>RandomForestClassifier()</pre><b>In a Jupyter environment, please rerun this cell to show the HTML representation or trust the notebook. <br />On GitHub, the HTML representation is unable to render, please try loading this page with nbviewer.org.</b></div><div class=\"sk-container\" hidden><div class=\"sk-item\"><div class=\"sk-estimator sk-toggleable\"><input class=\"sk-toggleable__control sk-hidden--visually\" id=\"sk-estimator-id-7\" type=\"checkbox\" checked><label for=\"sk-estimator-id-7\" class=\"sk-toggleable__label sk-toggleable__label-arrow\">RandomForestClassifier</label><div class=\"sk-toggleable__content\"><pre>RandomForestClassifier()</pre></div></div></div></div></div>"
            ]
          },
          "metadata": {},
          "execution_count": 56
        }
      ]
    },
    {
      "cell_type": "code",
      "metadata": {
        "id": "QrAEHOG4Up_8",
        "outputId": "e3216a7c-e1b0-405a-e93b-1007f915022d",
        "colab": {
          "base_uri": "https://localhost:8080/"
        }
      },
      "source": [
        "rf.feature_importances_"
      ],
      "execution_count": 57,
      "outputs": [
        {
          "output_type": "execute_result",
          "data": {
            "text/plain": [
              "array([0.        , 0.00989786, 0.00306819, 0.00216456, 0.00404909,\n",
              "       0.00563471, 0.00107658, 0.00119637, 0.00146869, 0.00149616,\n",
              "       0.0005221 , 0.00173337, 0.00116795, 0.00439751, 0.0007423 ,\n",
              "       0.0005829 , 0.00079686, 0.00101943, 0.00026098, 0.00095076,\n",
              "       0.00015588, 0.00581333, 0.00385711, 0.0151038 , 0.01838758,\n",
              "       0.00695825, 0.0156637 , 0.01134295, 0.00363367, 0.00834582,\n",
              "       0.0071097 , 0.00796204, 0.01428231, 0.01114811, 0.00959409,\n",
              "       0.01072526, 0.00397334, 0.00922655, 0.00261692, 0.00429794,\n",
              "       0.00820423, 0.00420623, 0.00582147, 0.0046914 , 0.00757952,\n",
              "       0.00652568, 0.00612687, 0.0079216 , 0.00329559, 0.00353846,\n",
              "       0.00542293, 0.00560721, 0.01000432, 0.00493863, 0.00512086,\n",
              "       0.00492237, 0.00687372, 0.00502728, 0.00649631, 0.00457613,\n",
              "       0.00186857, 0.00837481, 0.00719787, 0.00591286, 0.00704318,\n",
              "       0.00365068, 0.0057426 , 0.00440407, 0.00462872, 0.00992412,\n",
              "       0.00616739, 0.00557593, 0.00363271, 0.00124538, 0.00662613,\n",
              "       0.00175789, 0.00256368, 0.00352401, 0.00266654, 0.00942048,\n",
              "       0.00713378, 0.00702507, 0.0031607 , 0.00593014, 0.00438453,\n",
              "       0.00536725, 0.00969645, 0.00849666, 0.00542955, 0.00439725,\n",
              "       0.0032265 , 0.00505915, 0.00380438, 0.00363359, 0.00406784,\n",
              "       0.00563641, 0.00677592, 0.00827799, 0.00697859, 0.00609349,\n",
              "       0.00580358, 0.00506664, 0.00776724, 0.00954661, 0.00771131,\n",
              "       0.00893792, 0.0089192 , 0.00756498, 0.00468418, 0.00544542,\n",
              "       0.00808152, 0.0023491 , 0.00647275, 0.00249907, 0.00611138,\n",
              "       0.00308766, 0.00496693, 0.00612915, 0.00822535, 0.00315407,\n",
              "       0.00421366, 0.0038267 , 0.00409428, 0.0022972 , 0.00161901,\n",
              "       0.00182499, 0.00252042, 0.00275068, 0.00584838, 0.00326594,\n",
              "       0.00370596, 0.00619994, 0.00857151, 0.00688768, 0.0050709 ,\n",
              "       0.00360304, 0.0041666 , 0.00342063, 0.00253583, 0.00228657,\n",
              "       0.00084817, 0.00303784, 0.00144232, 0.00308144, 0.00409823,\n",
              "       0.00586618, 0.00158045, 0.00284646, 0.00269709, 0.00248286,\n",
              "       0.00171908, 0.00261017, 0.00157495, 0.00099904, 0.00207554,\n",
              "       0.00455929, 0.00528734, 0.00582747, 0.0043454 , 0.0031239 ,\n",
              "       0.00228313, 0.00330707, 0.0021741 , 0.00193232, 0.00093533,\n",
              "       0.00038297, 0.00392842, 0.00240761, 0.00694222, 0.00212904,\n",
              "       0.00211127, 0.00122307, 0.0023584 , 0.0008496 , 0.00245245,\n",
              "       0.00119703, 0.00161357, 0.00468519, 0.00733912, 0.00666234,\n",
              "       0.00293901, 0.00291277, 0.00366492, 0.00280541, 0.00300759,\n",
              "       0.00235576, 0.00079454, 0.00617595, 0.00409452, 0.00229239,\n",
              "       0.00274347, 0.00354996, 0.00222028, 0.00364883, 0.00252275,\n",
              "       0.00533935, 0.00579933, 0.00523181, 0.00726426, 0.00689365,\n",
              "       0.00705187, 0.00823305, 0.00455777, 0.00064706, 0.00172286,\n",
              "       0.00220831, 0.00408828, 0.00151044, 0.00183534, 0.00084618,\n",
              "       0.00156054, 0.00107915, 0.00232249, 0.00116968, 0.00216372,\n",
              "       0.00082485, 0.000506  , 0.00209989, 0.00092749, 0.00268608,\n",
              "       0.00078471, 0.0012537 , 0.00165655, 0.00212231, 0.00206599,\n",
              "       0.0003482 , 0.0008508 , 0.00065239, 0.00058128, 0.0011742 ,\n",
              "       0.00013242])"
            ]
          },
          "metadata": {},
          "execution_count": 57
        }
      ]
    },
    {
      "cell_type": "code",
      "metadata": {
        "id": "A_Kiqjjqahuj",
        "outputId": "2625b026-b567-496e-ac70-dede3fcf95c2",
        "colab": {
          "base_uri": "https://localhost:8080/"
        }
      },
      "source": [
        "print(f'Importancias mayores a cero: {(rf.feature_importances_>0).sum()}')"
      ],
      "execution_count": 58,
      "outputs": [
        {
          "output_type": "stream",
          "name": "stdout",
          "text": [
            "Importancias mayores a cero: 230\n"
          ]
        }
      ]
    },
    {
      "cell_type": "code",
      "metadata": {
        "id": "xy7WoJW-Up_8",
        "outputId": "f166905a-4239-41ad-9abe-5c4d921a26a3",
        "colab": {
          "base_uri": "https://localhost:8080/"
        }
      },
      "source": [
        "print('================ Resultados Random Forest =================\\n')\n",
        "print(classification_report(y_test, rf.predict(X_test_cod)))"
      ],
      "execution_count": 59,
      "outputs": [
        {
          "output_type": "stream",
          "name": "stdout",
          "text": [
            "================ Resultados Random Forest =================\n",
            "\n",
            "              precision    recall  f1-score   support\n",
            "\n",
            "           0       0.56      0.62      0.59        50\n",
            "           1       0.87      0.84      0.85       150\n",
            "\n",
            "    accuracy                           0.79       200\n",
            "   macro avg       0.72      0.73      0.72       200\n",
            "weighted avg       0.79      0.79      0.79       200\n",
            "\n"
          ]
        }
      ]
    },
    {
      "cell_type": "code",
      "metadata": {
        "id": "rt_M7VK7ao_v",
        "outputId": "1c9f11b8-d104-47a1-a66d-91554cb862e0",
        "colab": {
          "base_uri": "https://localhost:8080/"
        }
      },
      "source": [
        "gbt = GradientBoostingClassifier( max_depth=2)\n",
        "gbt.fit(X_train_cod, y_train)"
      ],
      "execution_count": 60,
      "outputs": [
        {
          "output_type": "execute_result",
          "data": {
            "text/plain": [
              "GradientBoostingClassifier(max_depth=2)"
            ],
            "text/html": [
              "<style>#sk-container-id-8 {color: black;background-color: white;}#sk-container-id-8 pre{padding: 0;}#sk-container-id-8 div.sk-toggleable {background-color: white;}#sk-container-id-8 label.sk-toggleable__label {cursor: pointer;display: block;width: 100%;margin-bottom: 0;padding: 0.3em;box-sizing: border-box;text-align: center;}#sk-container-id-8 label.sk-toggleable__label-arrow:before {content: \"▸\";float: left;margin-right: 0.25em;color: #696969;}#sk-container-id-8 label.sk-toggleable__label-arrow:hover:before {color: black;}#sk-container-id-8 div.sk-estimator:hover label.sk-toggleable__label-arrow:before {color: black;}#sk-container-id-8 div.sk-toggleable__content {max-height: 0;max-width: 0;overflow: hidden;text-align: left;background-color: #f0f8ff;}#sk-container-id-8 div.sk-toggleable__content pre {margin: 0.2em;color: black;border-radius: 0.25em;background-color: #f0f8ff;}#sk-container-id-8 input.sk-toggleable__control:checked~div.sk-toggleable__content {max-height: 200px;max-width: 100%;overflow: auto;}#sk-container-id-8 input.sk-toggleable__control:checked~label.sk-toggleable__label-arrow:before {content: \"▾\";}#sk-container-id-8 div.sk-estimator input.sk-toggleable__control:checked~label.sk-toggleable__label {background-color: #d4ebff;}#sk-container-id-8 div.sk-label input.sk-toggleable__control:checked~label.sk-toggleable__label {background-color: #d4ebff;}#sk-container-id-8 input.sk-hidden--visually {border: 0;clip: rect(1px 1px 1px 1px);clip: rect(1px, 1px, 1px, 1px);height: 1px;margin: -1px;overflow: hidden;padding: 0;position: absolute;width: 1px;}#sk-container-id-8 div.sk-estimator {font-family: monospace;background-color: #f0f8ff;border: 1px dotted black;border-radius: 0.25em;box-sizing: border-box;margin-bottom: 0.5em;}#sk-container-id-8 div.sk-estimator:hover {background-color: #d4ebff;}#sk-container-id-8 div.sk-parallel-item::after {content: \"\";width: 100%;border-bottom: 1px solid gray;flex-grow: 1;}#sk-container-id-8 div.sk-label:hover label.sk-toggleable__label {background-color: #d4ebff;}#sk-container-id-8 div.sk-serial::before {content: \"\";position: absolute;border-left: 1px solid gray;box-sizing: border-box;top: 0;bottom: 0;left: 50%;z-index: 0;}#sk-container-id-8 div.sk-serial {display: flex;flex-direction: column;align-items: center;background-color: white;padding-right: 0.2em;padding-left: 0.2em;position: relative;}#sk-container-id-8 div.sk-item {position: relative;z-index: 1;}#sk-container-id-8 div.sk-parallel {display: flex;align-items: stretch;justify-content: center;background-color: white;position: relative;}#sk-container-id-8 div.sk-item::before, #sk-container-id-8 div.sk-parallel-item::before {content: \"\";position: absolute;border-left: 1px solid gray;box-sizing: border-box;top: 0;bottom: 0;left: 50%;z-index: -1;}#sk-container-id-8 div.sk-parallel-item {display: flex;flex-direction: column;z-index: 1;position: relative;background-color: white;}#sk-container-id-8 div.sk-parallel-item:first-child::after {align-self: flex-end;width: 50%;}#sk-container-id-8 div.sk-parallel-item:last-child::after {align-self: flex-start;width: 50%;}#sk-container-id-8 div.sk-parallel-item:only-child::after {width: 0;}#sk-container-id-8 div.sk-dashed-wrapped {border: 1px dashed gray;margin: 0 0.4em 0.5em 0.4em;box-sizing: border-box;padding-bottom: 0.4em;background-color: white;}#sk-container-id-8 div.sk-label label {font-family: monospace;font-weight: bold;display: inline-block;line-height: 1.2em;}#sk-container-id-8 div.sk-label-container {text-align: center;}#sk-container-id-8 div.sk-container {/* jupyter's `normalize.less` sets `[hidden] { display: none; }` but bootstrap.min.css set `[hidden] { display: none !important; }` so we also need the `!important` here to be able to override the default hidden behavior on the sphinx rendered scikit-learn.org. See: https://github.com/scikit-learn/scikit-learn/issues/21755 */display: inline-block !important;position: relative;}#sk-container-id-8 div.sk-text-repr-fallback {display: none;}</style><div id=\"sk-container-id-8\" class=\"sk-top-container\"><div class=\"sk-text-repr-fallback\"><pre>GradientBoostingClassifier(max_depth=2)</pre><b>In a Jupyter environment, please rerun this cell to show the HTML representation or trust the notebook. <br />On GitHub, the HTML representation is unable to render, please try loading this page with nbviewer.org.</b></div><div class=\"sk-container\" hidden><div class=\"sk-item\"><div class=\"sk-estimator sk-toggleable\"><input class=\"sk-toggleable__control sk-hidden--visually\" id=\"sk-estimator-id-8\" type=\"checkbox\" checked><label for=\"sk-estimator-id-8\" class=\"sk-toggleable__label sk-toggleable__label-arrow\">GradientBoostingClassifier</label><div class=\"sk-toggleable__content\"><pre>GradientBoostingClassifier(max_depth=2)</pre></div></div></div></div></div>"
            ]
          },
          "metadata": {},
          "execution_count": 60
        }
      ]
    },
    {
      "cell_type": "code",
      "metadata": {
        "id": "Bd8uJWj8ao_0",
        "outputId": "258417a5-2c4f-468e-b8b1-e7c7b2def09c",
        "colab": {
          "base_uri": "https://localhost:8080/"
        }
      },
      "source": [
        "gbt.feature_importances_"
      ],
      "execution_count": 61,
      "outputs": [
        {
          "output_type": "execute_result",
          "data": {
            "text/plain": [
              "array([0.00000000e+00, 0.00000000e+00, 0.00000000e+00, 0.00000000e+00,\n",
              "       0.00000000e+00, 0.00000000e+00, 0.00000000e+00, 0.00000000e+00,\n",
              "       0.00000000e+00, 0.00000000e+00, 0.00000000e+00, 0.00000000e+00,\n",
              "       0.00000000e+00, 0.00000000e+00, 0.00000000e+00, 0.00000000e+00,\n",
              "       0.00000000e+00, 0.00000000e+00, 0.00000000e+00, 0.00000000e+00,\n",
              "       0.00000000e+00, 0.00000000e+00, 0.00000000e+00, 3.39347352e-02,\n",
              "       1.45182677e-03, 2.21691766e-02, 1.32013404e-01, 1.86747129e-02,\n",
              "       0.00000000e+00, 1.56628888e-02, 0.00000000e+00, 0.00000000e+00,\n",
              "       6.32481421e-02, 3.18511703e-02, 1.27724793e-02, 1.11494926e-05,\n",
              "       0.00000000e+00, 0.00000000e+00, 0.00000000e+00, 0.00000000e+00,\n",
              "       0.00000000e+00, 0.00000000e+00, 5.47754538e-03, 0.00000000e+00,\n",
              "       1.75061732e-02, 2.56302319e-02, 0.00000000e+00, 3.88373701e-02,\n",
              "       0.00000000e+00, 0.00000000e+00, 0.00000000e+00, 3.13251584e-03,\n",
              "       1.41513432e-02, 0.00000000e+00, 0.00000000e+00, 3.06649711e-03,\n",
              "       9.00580858e-03, 1.37893067e-02, 3.64758584e-03, 0.00000000e+00,\n",
              "       0.00000000e+00, 1.82785255e-02, 2.08715878e-02, 1.70435084e-02,\n",
              "       1.30599836e-02, 0.00000000e+00, 8.04999762e-04, 1.87358918e-02,\n",
              "       1.29840566e-03, 1.74158771e-02, 1.28182042e-02, 0.00000000e+00,\n",
              "       0.00000000e+00, 0.00000000e+00, 1.07526619e-02, 0.00000000e+00,\n",
              "       5.20001810e-03, 0.00000000e+00, 0.00000000e+00, 0.00000000e+00,\n",
              "       9.73578045e-03, 1.54411196e-02, 0.00000000e+00, 6.55913598e-04,\n",
              "       6.38592990e-03, 7.43960826e-04, 2.88761587e-02, 4.45849104e-03,\n",
              "       2.64579089e-02, 8.70644843e-04, 0.00000000e+00, 5.27195904e-03,\n",
              "       0.00000000e+00, 9.87224809e-04, 3.86995221e-03, 0.00000000e+00,\n",
              "       4.08243454e-03, 0.00000000e+00, 0.00000000e+00, 7.72868074e-04,\n",
              "       2.70684677e-03, 0.00000000e+00, 3.62040990e-03, 2.94596438e-02,\n",
              "       1.74610687e-03, 5.72595818e-03, 1.25381810e-02, 5.50470175e-03,\n",
              "       0.00000000e+00, 8.36475887e-03, 5.40964698e-03, 0.00000000e+00,\n",
              "       0.00000000e+00, 0.00000000e+00, 5.55730085e-03, 8.28536859e-03,\n",
              "       7.89575699e-03, 8.37193203e-04, 1.85371546e-02, 0.00000000e+00,\n",
              "       0.00000000e+00, 4.16817375e-03, 6.60162787e-03, 0.00000000e+00,\n",
              "       1.44149206e-05, 0.00000000e+00, 0.00000000e+00, 1.91764498e-03,\n",
              "       9.93853488e-03, 7.93733623e-03, 2.42663164e-03, 0.00000000e+00,\n",
              "       0.00000000e+00, 8.45840519e-03, 1.16752989e-02, 0.00000000e+00,\n",
              "       4.24401557e-03, 0.00000000e+00, 2.25963199e-03, 0.00000000e+00,\n",
              "       0.00000000e+00, 0.00000000e+00, 0.00000000e+00, 0.00000000e+00,\n",
              "       4.76066214e-03, 6.35457934e-03, 0.00000000e+00, 0.00000000e+00,\n",
              "       0.00000000e+00, 0.00000000e+00, 0.00000000e+00, 1.06035204e-03,\n",
              "       0.00000000e+00, 0.00000000e+00, 0.00000000e+00, 6.34156188e-03,\n",
              "       2.36046431e-03, 0.00000000e+00, 1.76889831e-03, 4.91660222e-03,\n",
              "       0.00000000e+00, 0.00000000e+00, 0.00000000e+00, 0.00000000e+00,\n",
              "       0.00000000e+00, 0.00000000e+00, 2.45459179e-03, 0.00000000e+00,\n",
              "       0.00000000e+00, 0.00000000e+00, 9.42923181e-03, 0.00000000e+00,\n",
              "       0.00000000e+00, 0.00000000e+00, 0.00000000e+00, 0.00000000e+00,\n",
              "       0.00000000e+00, 7.95207736e-04, 0.00000000e+00, 2.10182798e-02,\n",
              "       0.00000000e+00, 0.00000000e+00, 0.00000000e+00, 0.00000000e+00,\n",
              "       5.83574589e-03, 1.37999993e-03, 0.00000000e+00, 5.96493642e-03,\n",
              "       5.73960934e-03, 1.61660172e-03, 1.88488770e-03, 0.00000000e+00,\n",
              "       0.00000000e+00, 0.00000000e+00, 0.00000000e+00, 0.00000000e+00,\n",
              "       6.55541489e-03, 0.00000000e+00, 6.44880136e-04, 0.00000000e+00,\n",
              "       6.18281224e-03, 0.00000000e+00, 0.00000000e+00, 0.00000000e+00,\n",
              "       0.00000000e+00, 0.00000000e+00, 0.00000000e+00, 0.00000000e+00,\n",
              "       0.00000000e+00, 0.00000000e+00, 0.00000000e+00, 0.00000000e+00,\n",
              "       6.70239753e-03, 0.00000000e+00, 2.65804846e-03, 0.00000000e+00,\n",
              "       1.52580259e-03, 0.00000000e+00, 9.66214026e-04, 0.00000000e+00,\n",
              "       0.00000000e+00, 0.00000000e+00, 0.00000000e+00, 0.00000000e+00,\n",
              "       4.32740013e-03, 0.00000000e+00, 0.00000000e+00, 0.00000000e+00,\n",
              "       0.00000000e+00, 0.00000000e+00, 0.00000000e+00])"
            ]
          },
          "metadata": {},
          "execution_count": 61
        }
      ]
    },
    {
      "cell_type": "code",
      "metadata": {
        "id": "A5Wiojljao_1",
        "outputId": "73501a5c-b16d-43bf-ed5e-ddd1d21c0d30",
        "colab": {
          "base_uri": "https://localhost:8080/"
        }
      },
      "source": [
        "print(f'Importancias mayores a cero: {(gbt.feature_importances_>0).sum()}')"
      ],
      "execution_count": 62,
      "outputs": [
        {
          "output_type": "stream",
          "name": "stdout",
          "text": [
            "Importancias mayores a cero: 95\n"
          ]
        }
      ]
    },
    {
      "cell_type": "code",
      "metadata": {
        "id": "jZPp-SeYao_1",
        "outputId": "06975ca0-2340-4f2a-c152-fe03e9385390",
        "colab": {
          "base_uri": "https://localhost:8080/"
        }
      },
      "source": [
        "print('================ Resultados Gradient Boosting Trees =================\\n')\n",
        "print(classification_report(y_test, gbt.predict(X_test_cod)))"
      ],
      "execution_count": 63,
      "outputs": [
        {
          "output_type": "stream",
          "name": "stdout",
          "text": [
            "================ Resultados Gradient Boosting Trees =================\n",
            "\n",
            "              precision    recall  f1-score   support\n",
            "\n",
            "           0       0.57      0.58      0.57        50\n",
            "           1       0.86      0.85      0.86       150\n",
            "\n",
            "    accuracy                           0.79       200\n",
            "   macro avg       0.71      0.72      0.72       200\n",
            "weighted avg       0.79      0.79      0.79       200\n",
            "\n"
          ]
        }
      ]
    },
    {
      "cell_type": "markdown",
      "metadata": {
        "id": "i7IZdBb_L-fK"
      },
      "source": [
        "# Wrapper Methods"
      ]
    },
    {
      "cell_type": "code",
      "metadata": {
        "id": "oVHqPikPL98l"
      },
      "source": [
        "from sklearn.feature_selection import SequentialFeatureSelector, RFECV, RFE\n",
        "from sklearn.neighbors import KNeighborsClassifier"
      ],
      "execution_count": 64,
      "outputs": []
    },
    {
      "cell_type": "markdown",
      "metadata": {
        "id": "cXJRHc0ML-j5"
      },
      "source": [
        "## Stepwise selection"
      ]
    },
    {
      "cell_type": "markdown",
      "metadata": {
        "id": "D5Z5wdN8qMvg"
      },
      "source": [
        "### Forward"
      ]
    },
    {
      "cell_type": "code",
      "metadata": {
        "id": "k74Ogj9foWAo"
      },
      "source": [
        "rf = RandomForestClassifier(n_estimators=25)"
      ],
      "execution_count": 65,
      "outputs": []
    },
    {
      "cell_type": "code",
      "metadata": {
        "id": "rZCnhPl8og48"
      },
      "source": [
        "n_features = 5"
      ],
      "execution_count": 66,
      "outputs": []
    },
    {
      "cell_type": "code",
      "metadata": {
        "id": "T06N3rDLL-mO"
      },
      "source": [
        "forward_stepwise = SequentialFeatureSelector(rf,n_features_to_select=n_features, direction='forward', cv=2 )"
      ],
      "execution_count": 67,
      "outputs": []
    },
    {
      "cell_type": "code",
      "metadata": {
        "id": "U-VkQKbmowzo",
        "outputId": "e97f0508-6307-4b48-868c-c227b9358bca",
        "colab": {
          "base_uri": "https://localhost:8080/"
        }
      },
      "source": [
        "%%time\n",
        "forward_stepwise.fit(X_train_cod1, y_train) #X_train_cod1 -> 20 features  duration:7.37s"
      ],
      "execution_count": 68,
      "outputs": [
        {
          "output_type": "stream",
          "name": "stdout",
          "text": [
            "CPU times: user 10.1 s, sys: 64.1 ms, total: 10.2 s\n",
            "Wall time: 10.3 s\n"
          ]
        },
        {
          "output_type": "execute_result",
          "data": {
            "text/plain": [
              "SequentialFeatureSelector(cv=2,\n",
              "                          estimator=RandomForestClassifier(n_estimators=25),\n",
              "                          n_features_to_select=5)"
            ],
            "text/html": [
              "<style>#sk-container-id-9 {color: black;background-color: white;}#sk-container-id-9 pre{padding: 0;}#sk-container-id-9 div.sk-toggleable {background-color: white;}#sk-container-id-9 label.sk-toggleable__label {cursor: pointer;display: block;width: 100%;margin-bottom: 0;padding: 0.3em;box-sizing: border-box;text-align: center;}#sk-container-id-9 label.sk-toggleable__label-arrow:before {content: \"▸\";float: left;margin-right: 0.25em;color: #696969;}#sk-container-id-9 label.sk-toggleable__label-arrow:hover:before {color: black;}#sk-container-id-9 div.sk-estimator:hover label.sk-toggleable__label-arrow:before {color: black;}#sk-container-id-9 div.sk-toggleable__content {max-height: 0;max-width: 0;overflow: hidden;text-align: left;background-color: #f0f8ff;}#sk-container-id-9 div.sk-toggleable__content pre {margin: 0.2em;color: black;border-radius: 0.25em;background-color: #f0f8ff;}#sk-container-id-9 input.sk-toggleable__control:checked~div.sk-toggleable__content {max-height: 200px;max-width: 100%;overflow: auto;}#sk-container-id-9 input.sk-toggleable__control:checked~label.sk-toggleable__label-arrow:before {content: \"▾\";}#sk-container-id-9 div.sk-estimator input.sk-toggleable__control:checked~label.sk-toggleable__label {background-color: #d4ebff;}#sk-container-id-9 div.sk-label input.sk-toggleable__control:checked~label.sk-toggleable__label {background-color: #d4ebff;}#sk-container-id-9 input.sk-hidden--visually {border: 0;clip: rect(1px 1px 1px 1px);clip: rect(1px, 1px, 1px, 1px);height: 1px;margin: -1px;overflow: hidden;padding: 0;position: absolute;width: 1px;}#sk-container-id-9 div.sk-estimator {font-family: monospace;background-color: #f0f8ff;border: 1px dotted black;border-radius: 0.25em;box-sizing: border-box;margin-bottom: 0.5em;}#sk-container-id-9 div.sk-estimator:hover {background-color: #d4ebff;}#sk-container-id-9 div.sk-parallel-item::after {content: \"\";width: 100%;border-bottom: 1px solid gray;flex-grow: 1;}#sk-container-id-9 div.sk-label:hover label.sk-toggleable__label {background-color: #d4ebff;}#sk-container-id-9 div.sk-serial::before {content: \"\";position: absolute;border-left: 1px solid gray;box-sizing: border-box;top: 0;bottom: 0;left: 50%;z-index: 0;}#sk-container-id-9 div.sk-serial {display: flex;flex-direction: column;align-items: center;background-color: white;padding-right: 0.2em;padding-left: 0.2em;position: relative;}#sk-container-id-9 div.sk-item {position: relative;z-index: 1;}#sk-container-id-9 div.sk-parallel {display: flex;align-items: stretch;justify-content: center;background-color: white;position: relative;}#sk-container-id-9 div.sk-item::before, #sk-container-id-9 div.sk-parallel-item::before {content: \"\";position: absolute;border-left: 1px solid gray;box-sizing: border-box;top: 0;bottom: 0;left: 50%;z-index: -1;}#sk-container-id-9 div.sk-parallel-item {display: flex;flex-direction: column;z-index: 1;position: relative;background-color: white;}#sk-container-id-9 div.sk-parallel-item:first-child::after {align-self: flex-end;width: 50%;}#sk-container-id-9 div.sk-parallel-item:last-child::after {align-self: flex-start;width: 50%;}#sk-container-id-9 div.sk-parallel-item:only-child::after {width: 0;}#sk-container-id-9 div.sk-dashed-wrapped {border: 1px dashed gray;margin: 0 0.4em 0.5em 0.4em;box-sizing: border-box;padding-bottom: 0.4em;background-color: white;}#sk-container-id-9 div.sk-label label {font-family: monospace;font-weight: bold;display: inline-block;line-height: 1.2em;}#sk-container-id-9 div.sk-label-container {text-align: center;}#sk-container-id-9 div.sk-container {/* jupyter's `normalize.less` sets `[hidden] { display: none; }` but bootstrap.min.css set `[hidden] { display: none !important; }` so we also need the `!important` here to be able to override the default hidden behavior on the sphinx rendered scikit-learn.org. See: https://github.com/scikit-learn/scikit-learn/issues/21755 */display: inline-block !important;position: relative;}#sk-container-id-9 div.sk-text-repr-fallback {display: none;}</style><div id=\"sk-container-id-9\" class=\"sk-top-container\"><div class=\"sk-text-repr-fallback\"><pre>SequentialFeatureSelector(cv=2,\n",
              "                          estimator=RandomForestClassifier(n_estimators=25),\n",
              "                          n_features_to_select=5)</pre><b>In a Jupyter environment, please rerun this cell to show the HTML representation or trust the notebook. <br />On GitHub, the HTML representation is unable to render, please try loading this page with nbviewer.org.</b></div><div class=\"sk-container\" hidden><div class=\"sk-item sk-dashed-wrapped\"><div class=\"sk-label-container\"><div class=\"sk-label sk-toggleable\"><input class=\"sk-toggleable__control sk-hidden--visually\" id=\"sk-estimator-id-9\" type=\"checkbox\" ><label for=\"sk-estimator-id-9\" class=\"sk-toggleable__label sk-toggleable__label-arrow\">SequentialFeatureSelector</label><div class=\"sk-toggleable__content\"><pre>SequentialFeatureSelector(cv=2,\n",
              "                          estimator=RandomForestClassifier(n_estimators=25),\n",
              "                          n_features_to_select=5)</pre></div></div></div><div class=\"sk-parallel\"><div class=\"sk-parallel-item\"><div class=\"sk-item\"><div class=\"sk-label-container\"><div class=\"sk-label sk-toggleable\"><input class=\"sk-toggleable__control sk-hidden--visually\" id=\"sk-estimator-id-10\" type=\"checkbox\" ><label for=\"sk-estimator-id-10\" class=\"sk-toggleable__label sk-toggleable__label-arrow\">estimator: RandomForestClassifier</label><div class=\"sk-toggleable__content\"><pre>RandomForestClassifier(n_estimators=25)</pre></div></div></div><div class=\"sk-serial\"><div class=\"sk-item\"><div class=\"sk-estimator sk-toggleable\"><input class=\"sk-toggleable__control sk-hidden--visually\" id=\"sk-estimator-id-11\" type=\"checkbox\" ><label for=\"sk-estimator-id-11\" class=\"sk-toggleable__label sk-toggleable__label-arrow\">RandomForestClassifier</label><div class=\"sk-toggleable__content\"><pre>RandomForestClassifier(n_estimators=25)</pre></div></div></div></div></div></div></div></div></div></div>"
            ]
          },
          "metadata": {},
          "execution_count": 68
        }
      ]
    },
    {
      "cell_type": "code",
      "metadata": {
        "id": "4nc4z0gITDtE",
        "outputId": "200fe833-4f68-4a8d-bed8-dc199b551149",
        "colab": {
          "base_uri": "https://localhost:8080/"
        }
      },
      "source": [
        "X_train_cod1.shape"
      ],
      "execution_count": 69,
      "outputs": [
        {
          "output_type": "execute_result",
          "data": {
            "text/plain": [
              "(800, 20)"
            ]
          },
          "metadata": {},
          "execution_count": 69
        }
      ]
    },
    {
      "cell_type": "code",
      "metadata": {
        "id": "DMB7LMt6Tch6"
      },
      "source": [],
      "execution_count": 69,
      "outputs": []
    },
    {
      "cell_type": "code",
      "metadata": {
        "id": "fPGyg1fRpo04",
        "outputId": "82ea0289-bd5b-489b-f181-866b2278c2ba",
        "colab": {
          "base_uri": "https://localhost:8080/"
        }
      },
      "source": [
        "forward_stepwise.get_support()"
      ],
      "execution_count": 70,
      "outputs": [
        {
          "output_type": "execute_result",
          "data": {
            "text/plain": [
              "array([ True, False,  True, False, False,  True, False, False, False,\n",
              "        True, False, False, False, False, False, False, False, False,\n",
              "       False,  True])"
            ]
          },
          "metadata": {},
          "execution_count": 70
        }
      ]
    },
    {
      "cell_type": "code",
      "metadata": {
        "id": "PkzGuFL6piOc"
      },
      "source": [
        "X_train_frw = forward_stepwise.transform(X_train_cod1)\n",
        "X_test_frw = forward_stepwise.transform(X_test_cod1)"
      ],
      "execution_count": 71,
      "outputs": []
    },
    {
      "cell_type": "code",
      "metadata": {
        "id": "iBsqI7ssAU8P",
        "outputId": "d9821739-0c40-4785-a9f6-1b5fcde5b6d8",
        "colab": {
          "base_uri": "https://localhost:8080/"
        }
      },
      "source": [
        "X_train_frw.shape"
      ],
      "execution_count": 72,
      "outputs": [
        {
          "output_type": "execute_result",
          "data": {
            "text/plain": [
              "(800, 5)"
            ]
          },
          "metadata": {},
          "execution_count": 72
        }
      ]
    },
    {
      "cell_type": "code",
      "metadata": {
        "id": "uVnBkWLjp3oc",
        "outputId": "3f9444b4-2bd7-487b-d30f-2454482a0f2c",
        "colab": {
          "base_uri": "https://localhost:8080/"
        }
      },
      "source": [
        "rf_frw = RandomForestClassifier(n_estimators=25)\n",
        "rf_frw.fit(X_train_frw, y_train)"
      ],
      "execution_count": 73,
      "outputs": [
        {
          "output_type": "execute_result",
          "data": {
            "text/plain": [
              "RandomForestClassifier(n_estimators=25)"
            ],
            "text/html": [
              "<style>#sk-container-id-10 {color: black;background-color: white;}#sk-container-id-10 pre{padding: 0;}#sk-container-id-10 div.sk-toggleable {background-color: white;}#sk-container-id-10 label.sk-toggleable__label {cursor: pointer;display: block;width: 100%;margin-bottom: 0;padding: 0.3em;box-sizing: border-box;text-align: center;}#sk-container-id-10 label.sk-toggleable__label-arrow:before {content: \"▸\";float: left;margin-right: 0.25em;color: #696969;}#sk-container-id-10 label.sk-toggleable__label-arrow:hover:before {color: black;}#sk-container-id-10 div.sk-estimator:hover label.sk-toggleable__label-arrow:before {color: black;}#sk-container-id-10 div.sk-toggleable__content {max-height: 0;max-width: 0;overflow: hidden;text-align: left;background-color: #f0f8ff;}#sk-container-id-10 div.sk-toggleable__content pre {margin: 0.2em;color: black;border-radius: 0.25em;background-color: #f0f8ff;}#sk-container-id-10 input.sk-toggleable__control:checked~div.sk-toggleable__content {max-height: 200px;max-width: 100%;overflow: auto;}#sk-container-id-10 input.sk-toggleable__control:checked~label.sk-toggleable__label-arrow:before {content: \"▾\";}#sk-container-id-10 div.sk-estimator input.sk-toggleable__control:checked~label.sk-toggleable__label {background-color: #d4ebff;}#sk-container-id-10 div.sk-label input.sk-toggleable__control:checked~label.sk-toggleable__label {background-color: #d4ebff;}#sk-container-id-10 input.sk-hidden--visually {border: 0;clip: rect(1px 1px 1px 1px);clip: rect(1px, 1px, 1px, 1px);height: 1px;margin: -1px;overflow: hidden;padding: 0;position: absolute;width: 1px;}#sk-container-id-10 div.sk-estimator {font-family: monospace;background-color: #f0f8ff;border: 1px dotted black;border-radius: 0.25em;box-sizing: border-box;margin-bottom: 0.5em;}#sk-container-id-10 div.sk-estimator:hover {background-color: #d4ebff;}#sk-container-id-10 div.sk-parallel-item::after {content: \"\";width: 100%;border-bottom: 1px solid gray;flex-grow: 1;}#sk-container-id-10 div.sk-label:hover label.sk-toggleable__label {background-color: #d4ebff;}#sk-container-id-10 div.sk-serial::before {content: \"\";position: absolute;border-left: 1px solid gray;box-sizing: border-box;top: 0;bottom: 0;left: 50%;z-index: 0;}#sk-container-id-10 div.sk-serial {display: flex;flex-direction: column;align-items: center;background-color: white;padding-right: 0.2em;padding-left: 0.2em;position: relative;}#sk-container-id-10 div.sk-item {position: relative;z-index: 1;}#sk-container-id-10 div.sk-parallel {display: flex;align-items: stretch;justify-content: center;background-color: white;position: relative;}#sk-container-id-10 div.sk-item::before, #sk-container-id-10 div.sk-parallel-item::before {content: \"\";position: absolute;border-left: 1px solid gray;box-sizing: border-box;top: 0;bottom: 0;left: 50%;z-index: -1;}#sk-container-id-10 div.sk-parallel-item {display: flex;flex-direction: column;z-index: 1;position: relative;background-color: white;}#sk-container-id-10 div.sk-parallel-item:first-child::after {align-self: flex-end;width: 50%;}#sk-container-id-10 div.sk-parallel-item:last-child::after {align-self: flex-start;width: 50%;}#sk-container-id-10 div.sk-parallel-item:only-child::after {width: 0;}#sk-container-id-10 div.sk-dashed-wrapped {border: 1px dashed gray;margin: 0 0.4em 0.5em 0.4em;box-sizing: border-box;padding-bottom: 0.4em;background-color: white;}#sk-container-id-10 div.sk-label label {font-family: monospace;font-weight: bold;display: inline-block;line-height: 1.2em;}#sk-container-id-10 div.sk-label-container {text-align: center;}#sk-container-id-10 div.sk-container {/* jupyter's `normalize.less` sets `[hidden] { display: none; }` but bootstrap.min.css set `[hidden] { display: none !important; }` so we also need the `!important` here to be able to override the default hidden behavior on the sphinx rendered scikit-learn.org. See: https://github.com/scikit-learn/scikit-learn/issues/21755 */display: inline-block !important;position: relative;}#sk-container-id-10 div.sk-text-repr-fallback {display: none;}</style><div id=\"sk-container-id-10\" class=\"sk-top-container\"><div class=\"sk-text-repr-fallback\"><pre>RandomForestClassifier(n_estimators=25)</pre><b>In a Jupyter environment, please rerun this cell to show the HTML representation or trust the notebook. <br />On GitHub, the HTML representation is unable to render, please try loading this page with nbviewer.org.</b></div><div class=\"sk-container\" hidden><div class=\"sk-item\"><div class=\"sk-estimator sk-toggleable\"><input class=\"sk-toggleable__control sk-hidden--visually\" id=\"sk-estimator-id-12\" type=\"checkbox\" checked><label for=\"sk-estimator-id-12\" class=\"sk-toggleable__label sk-toggleable__label-arrow\">RandomForestClassifier</label><div class=\"sk-toggleable__content\"><pre>RandomForestClassifier(n_estimators=25)</pre></div></div></div></div></div>"
            ]
          },
          "metadata": {},
          "execution_count": 73
        }
      ]
    },
    {
      "cell_type": "code",
      "metadata": {
        "id": "pIy9vmaoow8m",
        "outputId": "c9a3bee3-9ca7-4cea-cf38-fc721f4dbd95",
        "colab": {
          "base_uri": "https://localhost:8080/"
        }
      },
      "source": [
        "print('================ Resultados Forward Stepwise Random Forest =================\\n')\n",
        "print(classification_report(y_test, rf_frw.predict(X_test_frw)))"
      ],
      "execution_count": 74,
      "outputs": [
        {
          "output_type": "stream",
          "name": "stdout",
          "text": [
            "================ Resultados Forward Stepwise Random Forest =================\n",
            "\n",
            "              precision    recall  f1-score   support\n",
            "\n",
            "           0       0.51      0.58      0.54        50\n",
            "           1       0.85      0.81      0.83       150\n",
            "\n",
            "    accuracy                           0.76       200\n",
            "   macro avg       0.68      0.70      0.69       200\n",
            "weighted avg       0.77      0.76      0.76       200\n",
            "\n"
          ]
        }
      ]
    },
    {
      "cell_type": "markdown",
      "metadata": {
        "id": "mcCxAJmGqPsN"
      },
      "source": [
        "### Backward"
      ]
    },
    {
      "cell_type": "code",
      "metadata": {
        "id": "ZS_PAdS4qsA6"
      },
      "source": [
        "rf = RandomForestClassifier(n_estimators=25)"
      ],
      "execution_count": 75,
      "outputs": []
    },
    {
      "cell_type": "code",
      "metadata": {
        "id": "WkQQfigmqsBA"
      },
      "source": [
        "n_features = 5"
      ],
      "execution_count": 76,
      "outputs": []
    },
    {
      "cell_type": "code",
      "metadata": {
        "id": "vhzTQjPRqsBA"
      },
      "source": [
        "backward_stepwise = SequentialFeatureSelector(rf,n_features_to_select=n_features, direction='backward', cv=2)"
      ],
      "execution_count": 77,
      "outputs": []
    },
    {
      "cell_type": "code",
      "metadata": {
        "id": "zpHIl9U9qsBA",
        "outputId": "bd382833-b02a-4aac-b75d-bfd227a6adcd",
        "colab": {
          "base_uri": "https://localhost:8080/"
        }
      },
      "source": [
        "%%time\n",
        "backward_stepwise.fit(X_train_cod1, y_train) #X_train_cod1 -> 20 features duration: 17s"
      ],
      "execution_count": 78,
      "outputs": [
        {
          "output_type": "stream",
          "name": "stdout",
          "text": [
            "CPU times: user 24.5 s, sys: 125 ms, total: 24.6 s\n",
            "Wall time: 24.9 s\n"
          ]
        },
        {
          "output_type": "execute_result",
          "data": {
            "text/plain": [
              "SequentialFeatureSelector(cv=2, direction='backward',\n",
              "                          estimator=RandomForestClassifier(n_estimators=25),\n",
              "                          n_features_to_select=5)"
            ],
            "text/html": [
              "<style>#sk-container-id-11 {color: black;background-color: white;}#sk-container-id-11 pre{padding: 0;}#sk-container-id-11 div.sk-toggleable {background-color: white;}#sk-container-id-11 label.sk-toggleable__label {cursor: pointer;display: block;width: 100%;margin-bottom: 0;padding: 0.3em;box-sizing: border-box;text-align: center;}#sk-container-id-11 label.sk-toggleable__label-arrow:before {content: \"▸\";float: left;margin-right: 0.25em;color: #696969;}#sk-container-id-11 label.sk-toggleable__label-arrow:hover:before {color: black;}#sk-container-id-11 div.sk-estimator:hover label.sk-toggleable__label-arrow:before {color: black;}#sk-container-id-11 div.sk-toggleable__content {max-height: 0;max-width: 0;overflow: hidden;text-align: left;background-color: #f0f8ff;}#sk-container-id-11 div.sk-toggleable__content pre {margin: 0.2em;color: black;border-radius: 0.25em;background-color: #f0f8ff;}#sk-container-id-11 input.sk-toggleable__control:checked~div.sk-toggleable__content {max-height: 200px;max-width: 100%;overflow: auto;}#sk-container-id-11 input.sk-toggleable__control:checked~label.sk-toggleable__label-arrow:before {content: \"▾\";}#sk-container-id-11 div.sk-estimator input.sk-toggleable__control:checked~label.sk-toggleable__label {background-color: #d4ebff;}#sk-container-id-11 div.sk-label input.sk-toggleable__control:checked~label.sk-toggleable__label {background-color: #d4ebff;}#sk-container-id-11 input.sk-hidden--visually {border: 0;clip: rect(1px 1px 1px 1px);clip: rect(1px, 1px, 1px, 1px);height: 1px;margin: -1px;overflow: hidden;padding: 0;position: absolute;width: 1px;}#sk-container-id-11 div.sk-estimator {font-family: monospace;background-color: #f0f8ff;border: 1px dotted black;border-radius: 0.25em;box-sizing: border-box;margin-bottom: 0.5em;}#sk-container-id-11 div.sk-estimator:hover {background-color: #d4ebff;}#sk-container-id-11 div.sk-parallel-item::after {content: \"\";width: 100%;border-bottom: 1px solid gray;flex-grow: 1;}#sk-container-id-11 div.sk-label:hover label.sk-toggleable__label {background-color: #d4ebff;}#sk-container-id-11 div.sk-serial::before {content: \"\";position: absolute;border-left: 1px solid gray;box-sizing: border-box;top: 0;bottom: 0;left: 50%;z-index: 0;}#sk-container-id-11 div.sk-serial {display: flex;flex-direction: column;align-items: center;background-color: white;padding-right: 0.2em;padding-left: 0.2em;position: relative;}#sk-container-id-11 div.sk-item {position: relative;z-index: 1;}#sk-container-id-11 div.sk-parallel {display: flex;align-items: stretch;justify-content: center;background-color: white;position: relative;}#sk-container-id-11 div.sk-item::before, #sk-container-id-11 div.sk-parallel-item::before {content: \"\";position: absolute;border-left: 1px solid gray;box-sizing: border-box;top: 0;bottom: 0;left: 50%;z-index: -1;}#sk-container-id-11 div.sk-parallel-item {display: flex;flex-direction: column;z-index: 1;position: relative;background-color: white;}#sk-container-id-11 div.sk-parallel-item:first-child::after {align-self: flex-end;width: 50%;}#sk-container-id-11 div.sk-parallel-item:last-child::after {align-self: flex-start;width: 50%;}#sk-container-id-11 div.sk-parallel-item:only-child::after {width: 0;}#sk-container-id-11 div.sk-dashed-wrapped {border: 1px dashed gray;margin: 0 0.4em 0.5em 0.4em;box-sizing: border-box;padding-bottom: 0.4em;background-color: white;}#sk-container-id-11 div.sk-label label {font-family: monospace;font-weight: bold;display: inline-block;line-height: 1.2em;}#sk-container-id-11 div.sk-label-container {text-align: center;}#sk-container-id-11 div.sk-container {/* jupyter's `normalize.less` sets `[hidden] { display: none; }` but bootstrap.min.css set `[hidden] { display: none !important; }` so we also need the `!important` here to be able to override the default hidden behavior on the sphinx rendered scikit-learn.org. See: https://github.com/scikit-learn/scikit-learn/issues/21755 */display: inline-block !important;position: relative;}#sk-container-id-11 div.sk-text-repr-fallback {display: none;}</style><div id=\"sk-container-id-11\" class=\"sk-top-container\"><div class=\"sk-text-repr-fallback\"><pre>SequentialFeatureSelector(cv=2, direction=&#x27;backward&#x27;,\n",
              "                          estimator=RandomForestClassifier(n_estimators=25),\n",
              "                          n_features_to_select=5)</pre><b>In a Jupyter environment, please rerun this cell to show the HTML representation or trust the notebook. <br />On GitHub, the HTML representation is unable to render, please try loading this page with nbviewer.org.</b></div><div class=\"sk-container\" hidden><div class=\"sk-item sk-dashed-wrapped\"><div class=\"sk-label-container\"><div class=\"sk-label sk-toggleable\"><input class=\"sk-toggleable__control sk-hidden--visually\" id=\"sk-estimator-id-13\" type=\"checkbox\" ><label for=\"sk-estimator-id-13\" class=\"sk-toggleable__label sk-toggleable__label-arrow\">SequentialFeatureSelector</label><div class=\"sk-toggleable__content\"><pre>SequentialFeatureSelector(cv=2, direction=&#x27;backward&#x27;,\n",
              "                          estimator=RandomForestClassifier(n_estimators=25),\n",
              "                          n_features_to_select=5)</pre></div></div></div><div class=\"sk-parallel\"><div class=\"sk-parallel-item\"><div class=\"sk-item\"><div class=\"sk-label-container\"><div class=\"sk-label sk-toggleable\"><input class=\"sk-toggleable__control sk-hidden--visually\" id=\"sk-estimator-id-14\" type=\"checkbox\" ><label for=\"sk-estimator-id-14\" class=\"sk-toggleable__label sk-toggleable__label-arrow\">estimator: RandomForestClassifier</label><div class=\"sk-toggleable__content\"><pre>RandomForestClassifier(n_estimators=25)</pre></div></div></div><div class=\"sk-serial\"><div class=\"sk-item\"><div class=\"sk-estimator sk-toggleable\"><input class=\"sk-toggleable__control sk-hidden--visually\" id=\"sk-estimator-id-15\" type=\"checkbox\" ><label for=\"sk-estimator-id-15\" class=\"sk-toggleable__label sk-toggleable__label-arrow\">RandomForestClassifier</label><div class=\"sk-toggleable__content\"><pre>RandomForestClassifier(n_estimators=25)</pre></div></div></div></div></div></div></div></div></div></div>"
            ]
          },
          "metadata": {},
          "execution_count": 78
        }
      ]
    },
    {
      "cell_type": "code",
      "metadata": {
        "id": "HLBJIZxyqsBB",
        "outputId": "75e3f39f-68c7-4b05-9b25-2b3f26de3981",
        "colab": {
          "base_uri": "https://localhost:8080/"
        }
      },
      "source": [
        "backward_stepwise.get_support()"
      ],
      "execution_count": 79,
      "outputs": [
        {
          "output_type": "execute_result",
          "data": {
            "text/plain": [
              "array([ True, False, False, False, False,  True, False, False,  True,\n",
              "       False, False,  True, False, False, False, False, False, False,\n",
              "        True, False])"
            ]
          },
          "metadata": {},
          "execution_count": 79
        }
      ]
    },
    {
      "cell_type": "code",
      "metadata": {
        "id": "mDVZMxytqsBB"
      },
      "source": [
        "X_train_bkw = backward_stepwise.transform(X_train_cod1)\n",
        "X_test_bkw = backward_stepwise.transform(X_test_cod1)"
      ],
      "execution_count": 80,
      "outputs": []
    },
    {
      "cell_type": "code",
      "metadata": {
        "id": "dFbJ-Wa8qsBB",
        "outputId": "be5d1183-1397-4e46-f0df-bcbc721953ed",
        "colab": {
          "base_uri": "https://localhost:8080/"
        }
      },
      "source": [
        "rf_bkw = RandomForestClassifier(n_estimators=25)\n",
        "rf_bkw.fit(X_train_bkw, y_train)"
      ],
      "execution_count": 81,
      "outputs": [
        {
          "output_type": "execute_result",
          "data": {
            "text/plain": [
              "RandomForestClassifier(n_estimators=25)"
            ],
            "text/html": [
              "<style>#sk-container-id-12 {color: black;background-color: white;}#sk-container-id-12 pre{padding: 0;}#sk-container-id-12 div.sk-toggleable {background-color: white;}#sk-container-id-12 label.sk-toggleable__label {cursor: pointer;display: block;width: 100%;margin-bottom: 0;padding: 0.3em;box-sizing: border-box;text-align: center;}#sk-container-id-12 label.sk-toggleable__label-arrow:before {content: \"▸\";float: left;margin-right: 0.25em;color: #696969;}#sk-container-id-12 label.sk-toggleable__label-arrow:hover:before {color: black;}#sk-container-id-12 div.sk-estimator:hover label.sk-toggleable__label-arrow:before {color: black;}#sk-container-id-12 div.sk-toggleable__content {max-height: 0;max-width: 0;overflow: hidden;text-align: left;background-color: #f0f8ff;}#sk-container-id-12 div.sk-toggleable__content pre {margin: 0.2em;color: black;border-radius: 0.25em;background-color: #f0f8ff;}#sk-container-id-12 input.sk-toggleable__control:checked~div.sk-toggleable__content {max-height: 200px;max-width: 100%;overflow: auto;}#sk-container-id-12 input.sk-toggleable__control:checked~label.sk-toggleable__label-arrow:before {content: \"▾\";}#sk-container-id-12 div.sk-estimator input.sk-toggleable__control:checked~label.sk-toggleable__label {background-color: #d4ebff;}#sk-container-id-12 div.sk-label input.sk-toggleable__control:checked~label.sk-toggleable__label {background-color: #d4ebff;}#sk-container-id-12 input.sk-hidden--visually {border: 0;clip: rect(1px 1px 1px 1px);clip: rect(1px, 1px, 1px, 1px);height: 1px;margin: -1px;overflow: hidden;padding: 0;position: absolute;width: 1px;}#sk-container-id-12 div.sk-estimator {font-family: monospace;background-color: #f0f8ff;border: 1px dotted black;border-radius: 0.25em;box-sizing: border-box;margin-bottom: 0.5em;}#sk-container-id-12 div.sk-estimator:hover {background-color: #d4ebff;}#sk-container-id-12 div.sk-parallel-item::after {content: \"\";width: 100%;border-bottom: 1px solid gray;flex-grow: 1;}#sk-container-id-12 div.sk-label:hover label.sk-toggleable__label {background-color: #d4ebff;}#sk-container-id-12 div.sk-serial::before {content: \"\";position: absolute;border-left: 1px solid gray;box-sizing: border-box;top: 0;bottom: 0;left: 50%;z-index: 0;}#sk-container-id-12 div.sk-serial {display: flex;flex-direction: column;align-items: center;background-color: white;padding-right: 0.2em;padding-left: 0.2em;position: relative;}#sk-container-id-12 div.sk-item {position: relative;z-index: 1;}#sk-container-id-12 div.sk-parallel {display: flex;align-items: stretch;justify-content: center;background-color: white;position: relative;}#sk-container-id-12 div.sk-item::before, #sk-container-id-12 div.sk-parallel-item::before {content: \"\";position: absolute;border-left: 1px solid gray;box-sizing: border-box;top: 0;bottom: 0;left: 50%;z-index: -1;}#sk-container-id-12 div.sk-parallel-item {display: flex;flex-direction: column;z-index: 1;position: relative;background-color: white;}#sk-container-id-12 div.sk-parallel-item:first-child::after {align-self: flex-end;width: 50%;}#sk-container-id-12 div.sk-parallel-item:last-child::after {align-self: flex-start;width: 50%;}#sk-container-id-12 div.sk-parallel-item:only-child::after {width: 0;}#sk-container-id-12 div.sk-dashed-wrapped {border: 1px dashed gray;margin: 0 0.4em 0.5em 0.4em;box-sizing: border-box;padding-bottom: 0.4em;background-color: white;}#sk-container-id-12 div.sk-label label {font-family: monospace;font-weight: bold;display: inline-block;line-height: 1.2em;}#sk-container-id-12 div.sk-label-container {text-align: center;}#sk-container-id-12 div.sk-container {/* jupyter's `normalize.less` sets `[hidden] { display: none; }` but bootstrap.min.css set `[hidden] { display: none !important; }` so we also need the `!important` here to be able to override the default hidden behavior on the sphinx rendered scikit-learn.org. See: https://github.com/scikit-learn/scikit-learn/issues/21755 */display: inline-block !important;position: relative;}#sk-container-id-12 div.sk-text-repr-fallback {display: none;}</style><div id=\"sk-container-id-12\" class=\"sk-top-container\"><div class=\"sk-text-repr-fallback\"><pre>RandomForestClassifier(n_estimators=25)</pre><b>In a Jupyter environment, please rerun this cell to show the HTML representation or trust the notebook. <br />On GitHub, the HTML representation is unable to render, please try loading this page with nbviewer.org.</b></div><div class=\"sk-container\" hidden><div class=\"sk-item\"><div class=\"sk-estimator sk-toggleable\"><input class=\"sk-toggleable__control sk-hidden--visually\" id=\"sk-estimator-id-16\" type=\"checkbox\" checked><label for=\"sk-estimator-id-16\" class=\"sk-toggleable__label sk-toggleable__label-arrow\">RandomForestClassifier</label><div class=\"sk-toggleable__content\"><pre>RandomForestClassifier(n_estimators=25)</pre></div></div></div></div></div>"
            ]
          },
          "metadata": {},
          "execution_count": 81
        }
      ]
    },
    {
      "cell_type": "code",
      "metadata": {
        "id": "AoLktoLvqsBB",
        "outputId": "1dfe1fca-0951-41ec-897d-007e64f43b70",
        "colab": {
          "base_uri": "https://localhost:8080/"
        }
      },
      "source": [
        "print('================ Resultados Backward Stepwise Random Forest =================\\n')\n",
        "print(classification_report(y_test, rf_bkw.predict(X_test_bkw)))"
      ],
      "execution_count": 82,
      "outputs": [
        {
          "output_type": "stream",
          "name": "stdout",
          "text": [
            "================ Resultados Backward Stepwise Random Forest =================\n",
            "\n",
            "              precision    recall  f1-score   support\n",
            "\n",
            "           0       0.50      0.58      0.54        50\n",
            "           1       0.85      0.81      0.83       150\n",
            "\n",
            "    accuracy                           0.75       200\n",
            "   macro avg       0.68      0.69      0.68       200\n",
            "weighted avg       0.76      0.75      0.76       200\n",
            "\n"
          ]
        }
      ]
    },
    {
      "cell_type": "markdown",
      "metadata": {
        "id": "aleXoWk7L-tH"
      },
      "source": [
        "## Recursive Feature Elimination"
      ]
    },
    {
      "cell_type": "code",
      "metadata": {
        "id": "OtRcITEDrhU9"
      },
      "source": [
        "rf = RandomForestClassifier(n_estimators=25)"
      ],
      "execution_count": 83,
      "outputs": []
    },
    {
      "cell_type": "code",
      "metadata": {
        "id": "j08IzeI4rhVD"
      },
      "source": [
        "n_features = 5"
      ],
      "execution_count": 84,
      "outputs": []
    },
    {
      "cell_type": "code",
      "metadata": {
        "id": "dTmp81ggrhVE"
      },
      "source": [
        "rfe = RFECV(rf,min_features_to_select=n_features, cv=2)"
      ],
      "execution_count": 85,
      "outputs": []
    },
    {
      "cell_type": "code",
      "metadata": {
        "id": "ZWbPU0zrrhVE",
        "outputId": "e480001d-1384-4109-9f48-6b9c69b6d78c",
        "colab": {
          "base_uri": "https://localhost:8080/"
        }
      },
      "source": [
        "%%time \n",
        "rfe.fit(X_train_cod1, y_train) #X_train_cod1 -> 20 features duration:1.73s"
      ],
      "execution_count": 86,
      "outputs": [
        {
          "output_type": "stream",
          "name": "stdout",
          "text": [
            "CPU times: user 2.74 s, sys: 21.1 ms, total: 2.77 s\n",
            "Wall time: 2.8 s\n"
          ]
        },
        {
          "output_type": "execute_result",
          "data": {
            "text/plain": [
              "RFECV(cv=2, estimator=RandomForestClassifier(n_estimators=25),\n",
              "      min_features_to_select=5)"
            ],
            "text/html": [
              "<style>#sk-container-id-13 {color: black;background-color: white;}#sk-container-id-13 pre{padding: 0;}#sk-container-id-13 div.sk-toggleable {background-color: white;}#sk-container-id-13 label.sk-toggleable__label {cursor: pointer;display: block;width: 100%;margin-bottom: 0;padding: 0.3em;box-sizing: border-box;text-align: center;}#sk-container-id-13 label.sk-toggleable__label-arrow:before {content: \"▸\";float: left;margin-right: 0.25em;color: #696969;}#sk-container-id-13 label.sk-toggleable__label-arrow:hover:before {color: black;}#sk-container-id-13 div.sk-estimator:hover label.sk-toggleable__label-arrow:before {color: black;}#sk-container-id-13 div.sk-toggleable__content {max-height: 0;max-width: 0;overflow: hidden;text-align: left;background-color: #f0f8ff;}#sk-container-id-13 div.sk-toggleable__content pre {margin: 0.2em;color: black;border-radius: 0.25em;background-color: #f0f8ff;}#sk-container-id-13 input.sk-toggleable__control:checked~div.sk-toggleable__content {max-height: 200px;max-width: 100%;overflow: auto;}#sk-container-id-13 input.sk-toggleable__control:checked~label.sk-toggleable__label-arrow:before {content: \"▾\";}#sk-container-id-13 div.sk-estimator input.sk-toggleable__control:checked~label.sk-toggleable__label {background-color: #d4ebff;}#sk-container-id-13 div.sk-label input.sk-toggleable__control:checked~label.sk-toggleable__label {background-color: #d4ebff;}#sk-container-id-13 input.sk-hidden--visually {border: 0;clip: rect(1px 1px 1px 1px);clip: rect(1px, 1px, 1px, 1px);height: 1px;margin: -1px;overflow: hidden;padding: 0;position: absolute;width: 1px;}#sk-container-id-13 div.sk-estimator {font-family: monospace;background-color: #f0f8ff;border: 1px dotted black;border-radius: 0.25em;box-sizing: border-box;margin-bottom: 0.5em;}#sk-container-id-13 div.sk-estimator:hover {background-color: #d4ebff;}#sk-container-id-13 div.sk-parallel-item::after {content: \"\";width: 100%;border-bottom: 1px solid gray;flex-grow: 1;}#sk-container-id-13 div.sk-label:hover label.sk-toggleable__label {background-color: #d4ebff;}#sk-container-id-13 div.sk-serial::before {content: \"\";position: absolute;border-left: 1px solid gray;box-sizing: border-box;top: 0;bottom: 0;left: 50%;z-index: 0;}#sk-container-id-13 div.sk-serial {display: flex;flex-direction: column;align-items: center;background-color: white;padding-right: 0.2em;padding-left: 0.2em;position: relative;}#sk-container-id-13 div.sk-item {position: relative;z-index: 1;}#sk-container-id-13 div.sk-parallel {display: flex;align-items: stretch;justify-content: center;background-color: white;position: relative;}#sk-container-id-13 div.sk-item::before, #sk-container-id-13 div.sk-parallel-item::before {content: \"\";position: absolute;border-left: 1px solid gray;box-sizing: border-box;top: 0;bottom: 0;left: 50%;z-index: -1;}#sk-container-id-13 div.sk-parallel-item {display: flex;flex-direction: column;z-index: 1;position: relative;background-color: white;}#sk-container-id-13 div.sk-parallel-item:first-child::after {align-self: flex-end;width: 50%;}#sk-container-id-13 div.sk-parallel-item:last-child::after {align-self: flex-start;width: 50%;}#sk-container-id-13 div.sk-parallel-item:only-child::after {width: 0;}#sk-container-id-13 div.sk-dashed-wrapped {border: 1px dashed gray;margin: 0 0.4em 0.5em 0.4em;box-sizing: border-box;padding-bottom: 0.4em;background-color: white;}#sk-container-id-13 div.sk-label label {font-family: monospace;font-weight: bold;display: inline-block;line-height: 1.2em;}#sk-container-id-13 div.sk-label-container {text-align: center;}#sk-container-id-13 div.sk-container {/* jupyter's `normalize.less` sets `[hidden] { display: none; }` but bootstrap.min.css set `[hidden] { display: none !important; }` so we also need the `!important` here to be able to override the default hidden behavior on the sphinx rendered scikit-learn.org. See: https://github.com/scikit-learn/scikit-learn/issues/21755 */display: inline-block !important;position: relative;}#sk-container-id-13 div.sk-text-repr-fallback {display: none;}</style><div id=\"sk-container-id-13\" class=\"sk-top-container\"><div class=\"sk-text-repr-fallback\"><pre>RFECV(cv=2, estimator=RandomForestClassifier(n_estimators=25),\n",
              "      min_features_to_select=5)</pre><b>In a Jupyter environment, please rerun this cell to show the HTML representation or trust the notebook. <br />On GitHub, the HTML representation is unable to render, please try loading this page with nbviewer.org.</b></div><div class=\"sk-container\" hidden><div class=\"sk-item sk-dashed-wrapped\"><div class=\"sk-label-container\"><div class=\"sk-label sk-toggleable\"><input class=\"sk-toggleable__control sk-hidden--visually\" id=\"sk-estimator-id-17\" type=\"checkbox\" ><label for=\"sk-estimator-id-17\" class=\"sk-toggleable__label sk-toggleable__label-arrow\">RFECV</label><div class=\"sk-toggleable__content\"><pre>RFECV(cv=2, estimator=RandomForestClassifier(n_estimators=25),\n",
              "      min_features_to_select=5)</pre></div></div></div><div class=\"sk-parallel\"><div class=\"sk-parallel-item\"><div class=\"sk-item\"><div class=\"sk-label-container\"><div class=\"sk-label sk-toggleable\"><input class=\"sk-toggleable__control sk-hidden--visually\" id=\"sk-estimator-id-18\" type=\"checkbox\" ><label for=\"sk-estimator-id-18\" class=\"sk-toggleable__label sk-toggleable__label-arrow\">estimator: RandomForestClassifier</label><div class=\"sk-toggleable__content\"><pre>RandomForestClassifier(n_estimators=25)</pre></div></div></div><div class=\"sk-serial\"><div class=\"sk-item\"><div class=\"sk-estimator sk-toggleable\"><input class=\"sk-toggleable__control sk-hidden--visually\" id=\"sk-estimator-id-19\" type=\"checkbox\" ><label for=\"sk-estimator-id-19\" class=\"sk-toggleable__label sk-toggleable__label-arrow\">RandomForestClassifier</label><div class=\"sk-toggleable__content\"><pre>RandomForestClassifier(n_estimators=25)</pre></div></div></div></div></div></div></div></div></div></div>"
            ]
          },
          "metadata": {},
          "execution_count": 86
        }
      ]
    },
    {
      "cell_type": "code",
      "metadata": {
        "id": "02id7Xi_rhVE",
        "outputId": "39cde9ae-ebf9-4149-a2d3-bd4389620c08",
        "colab": {
          "base_uri": "https://localhost:8080/"
        }
      },
      "source": [
        "rfe.get_support()"
      ],
      "execution_count": 87,
      "outputs": [
        {
          "output_type": "execute_result",
          "data": {
            "text/plain": [
              "array([ True,  True,  True,  True,  True,  True,  True,  True,  True,\n",
              "       False,  True,  True,  True, False, False, False,  True, False,\n",
              "       False, False])"
            ]
          },
          "metadata": {},
          "execution_count": 87
        }
      ]
    },
    {
      "cell_type": "code",
      "metadata": {
        "id": "6dugMBpIrhVF"
      },
      "source": [
        "X_train_rfe = rfe.transform(X_train_cod1)\n",
        "X_test_ref = rfe.transform(X_test_cod1)"
      ],
      "execution_count": 88,
      "outputs": []
    },
    {
      "cell_type": "code",
      "metadata": {
        "id": "f0O1WgD4CDT5",
        "outputId": "5a8d4418-4ed8-4cf4-f4f4-ebe2a59aac29",
        "colab": {
          "base_uri": "https://localhost:8080/"
        }
      },
      "source": [
        "X_train_rfe.shape"
      ],
      "execution_count": 89,
      "outputs": [
        {
          "output_type": "execute_result",
          "data": {
            "text/plain": [
              "(800, 13)"
            ]
          },
          "metadata": {},
          "execution_count": 89
        }
      ]
    },
    {
      "cell_type": "code",
      "metadata": {
        "id": "Vh6S9F7qrhVF",
        "outputId": "66c6c44e-a291-44fc-988f-cca879977044",
        "colab": {
          "base_uri": "https://localhost:8080/"
        }
      },
      "source": [
        "rf_rfe = RandomForestClassifier(n_estimators=25)\n",
        "rf_rfe.fit(X_train_rfe, y_train)"
      ],
      "execution_count": 90,
      "outputs": [
        {
          "output_type": "execute_result",
          "data": {
            "text/plain": [
              "RandomForestClassifier(n_estimators=25)"
            ],
            "text/html": [
              "<style>#sk-container-id-14 {color: black;background-color: white;}#sk-container-id-14 pre{padding: 0;}#sk-container-id-14 div.sk-toggleable {background-color: white;}#sk-container-id-14 label.sk-toggleable__label {cursor: pointer;display: block;width: 100%;margin-bottom: 0;padding: 0.3em;box-sizing: border-box;text-align: center;}#sk-container-id-14 label.sk-toggleable__label-arrow:before {content: \"▸\";float: left;margin-right: 0.25em;color: #696969;}#sk-container-id-14 label.sk-toggleable__label-arrow:hover:before {color: black;}#sk-container-id-14 div.sk-estimator:hover label.sk-toggleable__label-arrow:before {color: black;}#sk-container-id-14 div.sk-toggleable__content {max-height: 0;max-width: 0;overflow: hidden;text-align: left;background-color: #f0f8ff;}#sk-container-id-14 div.sk-toggleable__content pre {margin: 0.2em;color: black;border-radius: 0.25em;background-color: #f0f8ff;}#sk-container-id-14 input.sk-toggleable__control:checked~div.sk-toggleable__content {max-height: 200px;max-width: 100%;overflow: auto;}#sk-container-id-14 input.sk-toggleable__control:checked~label.sk-toggleable__label-arrow:before {content: \"▾\";}#sk-container-id-14 div.sk-estimator input.sk-toggleable__control:checked~label.sk-toggleable__label {background-color: #d4ebff;}#sk-container-id-14 div.sk-label input.sk-toggleable__control:checked~label.sk-toggleable__label {background-color: #d4ebff;}#sk-container-id-14 input.sk-hidden--visually {border: 0;clip: rect(1px 1px 1px 1px);clip: rect(1px, 1px, 1px, 1px);height: 1px;margin: -1px;overflow: hidden;padding: 0;position: absolute;width: 1px;}#sk-container-id-14 div.sk-estimator {font-family: monospace;background-color: #f0f8ff;border: 1px dotted black;border-radius: 0.25em;box-sizing: border-box;margin-bottom: 0.5em;}#sk-container-id-14 div.sk-estimator:hover {background-color: #d4ebff;}#sk-container-id-14 div.sk-parallel-item::after {content: \"\";width: 100%;border-bottom: 1px solid gray;flex-grow: 1;}#sk-container-id-14 div.sk-label:hover label.sk-toggleable__label {background-color: #d4ebff;}#sk-container-id-14 div.sk-serial::before {content: \"\";position: absolute;border-left: 1px solid gray;box-sizing: border-box;top: 0;bottom: 0;left: 50%;z-index: 0;}#sk-container-id-14 div.sk-serial {display: flex;flex-direction: column;align-items: center;background-color: white;padding-right: 0.2em;padding-left: 0.2em;position: relative;}#sk-container-id-14 div.sk-item {position: relative;z-index: 1;}#sk-container-id-14 div.sk-parallel {display: flex;align-items: stretch;justify-content: center;background-color: white;position: relative;}#sk-container-id-14 div.sk-item::before, #sk-container-id-14 div.sk-parallel-item::before {content: \"\";position: absolute;border-left: 1px solid gray;box-sizing: border-box;top: 0;bottom: 0;left: 50%;z-index: -1;}#sk-container-id-14 div.sk-parallel-item {display: flex;flex-direction: column;z-index: 1;position: relative;background-color: white;}#sk-container-id-14 div.sk-parallel-item:first-child::after {align-self: flex-end;width: 50%;}#sk-container-id-14 div.sk-parallel-item:last-child::after {align-self: flex-start;width: 50%;}#sk-container-id-14 div.sk-parallel-item:only-child::after {width: 0;}#sk-container-id-14 div.sk-dashed-wrapped {border: 1px dashed gray;margin: 0 0.4em 0.5em 0.4em;box-sizing: border-box;padding-bottom: 0.4em;background-color: white;}#sk-container-id-14 div.sk-label label {font-family: monospace;font-weight: bold;display: inline-block;line-height: 1.2em;}#sk-container-id-14 div.sk-label-container {text-align: center;}#sk-container-id-14 div.sk-container {/* jupyter's `normalize.less` sets `[hidden] { display: none; }` but bootstrap.min.css set `[hidden] { display: none !important; }` so we also need the `!important` here to be able to override the default hidden behavior on the sphinx rendered scikit-learn.org. See: https://github.com/scikit-learn/scikit-learn/issues/21755 */display: inline-block !important;position: relative;}#sk-container-id-14 div.sk-text-repr-fallback {display: none;}</style><div id=\"sk-container-id-14\" class=\"sk-top-container\"><div class=\"sk-text-repr-fallback\"><pre>RandomForestClassifier(n_estimators=25)</pre><b>In a Jupyter environment, please rerun this cell to show the HTML representation or trust the notebook. <br />On GitHub, the HTML representation is unable to render, please try loading this page with nbviewer.org.</b></div><div class=\"sk-container\" hidden><div class=\"sk-item\"><div class=\"sk-estimator sk-toggleable\"><input class=\"sk-toggleable__control sk-hidden--visually\" id=\"sk-estimator-id-20\" type=\"checkbox\" checked><label for=\"sk-estimator-id-20\" class=\"sk-toggleable__label sk-toggleable__label-arrow\">RandomForestClassifier</label><div class=\"sk-toggleable__content\"><pre>RandomForestClassifier(n_estimators=25)</pre></div></div></div></div></div>"
            ]
          },
          "metadata": {},
          "execution_count": 90
        }
      ]
    },
    {
      "cell_type": "code",
      "metadata": {
        "id": "AZMrofE6rhVF",
        "outputId": "11559b99-58a1-4b7d-fe2e-c64df04d8b35",
        "colab": {
          "base_uri": "https://localhost:8080/"
        }
      },
      "source": [
        "print('================ Resultados Recursive Feature Elimination Random Forests =================\\n')\n",
        "print(classification_report(y_test, rf_rfe.predict(X_test_ref)))"
      ],
      "execution_count": 91,
      "outputs": [
        {
          "output_type": "stream",
          "name": "stdout",
          "text": [
            "================ Resultados Recursive Feature Elimination Random Forests =================\n",
            "\n",
            "              precision    recall  f1-score   support\n",
            "\n",
            "           0       0.57      0.54      0.56        50\n",
            "           1       0.85      0.87      0.86       150\n",
            "\n",
            "    accuracy                           0.79       200\n",
            "   macro avg       0.71      0.70      0.71       200\n",
            "weighted avg       0.78      0.79      0.78       200\n",
            "\n"
          ]
        }
      ]
    },
    {
      "cell_type": "markdown",
      "metadata": {
        "id": "V7Cu3tYxsCTW"
      },
      "source": [
        "sin cross validation"
      ]
    },
    {
      "cell_type": "code",
      "metadata": {
        "id": "N6umrF2TBrXx"
      },
      "source": [
        "rf = RandomForestClassifier(n_estimators=25)"
      ],
      "execution_count": 92,
      "outputs": []
    },
    {
      "cell_type": "code",
      "metadata": {
        "id": "w7foqsVDBrX4"
      },
      "source": [
        "n_features = 5"
      ],
      "execution_count": 93,
      "outputs": []
    },
    {
      "cell_type": "code",
      "metadata": {
        "id": "C_7GKrBdBrX4"
      },
      "source": [
        "rfe = RFE(rf,n_features_to_select=n_features)"
      ],
      "execution_count": 94,
      "outputs": []
    },
    {
      "cell_type": "code",
      "metadata": {
        "id": "621UvtUdBrX4",
        "outputId": "bfb42090-eda3-47ee-fa02-5ef9da564285",
        "colab": {
          "base_uri": "https://localhost:8080/"
        }
      },
      "source": [
        "%%time \n",
        "rfe.fit(X_train_cod1, y_train) #X_train_cod1 -> 20 features duration:1.73s"
      ],
      "execution_count": 95,
      "outputs": [
        {
          "output_type": "stream",
          "name": "stdout",
          "text": [
            "CPU times: user 1.1 s, sys: 5.99 ms, total: 1.11 s\n",
            "Wall time: 1.12 s\n"
          ]
        },
        {
          "output_type": "execute_result",
          "data": {
            "text/plain": [
              "RFE(estimator=RandomForestClassifier(n_estimators=25), n_features_to_select=5)"
            ],
            "text/html": [
              "<style>#sk-container-id-15 {color: black;background-color: white;}#sk-container-id-15 pre{padding: 0;}#sk-container-id-15 div.sk-toggleable {background-color: white;}#sk-container-id-15 label.sk-toggleable__label {cursor: pointer;display: block;width: 100%;margin-bottom: 0;padding: 0.3em;box-sizing: border-box;text-align: center;}#sk-container-id-15 label.sk-toggleable__label-arrow:before {content: \"▸\";float: left;margin-right: 0.25em;color: #696969;}#sk-container-id-15 label.sk-toggleable__label-arrow:hover:before {color: black;}#sk-container-id-15 div.sk-estimator:hover label.sk-toggleable__label-arrow:before {color: black;}#sk-container-id-15 div.sk-toggleable__content {max-height: 0;max-width: 0;overflow: hidden;text-align: left;background-color: #f0f8ff;}#sk-container-id-15 div.sk-toggleable__content pre {margin: 0.2em;color: black;border-radius: 0.25em;background-color: #f0f8ff;}#sk-container-id-15 input.sk-toggleable__control:checked~div.sk-toggleable__content {max-height: 200px;max-width: 100%;overflow: auto;}#sk-container-id-15 input.sk-toggleable__control:checked~label.sk-toggleable__label-arrow:before {content: \"▾\";}#sk-container-id-15 div.sk-estimator input.sk-toggleable__control:checked~label.sk-toggleable__label {background-color: #d4ebff;}#sk-container-id-15 div.sk-label input.sk-toggleable__control:checked~label.sk-toggleable__label {background-color: #d4ebff;}#sk-container-id-15 input.sk-hidden--visually {border: 0;clip: rect(1px 1px 1px 1px);clip: rect(1px, 1px, 1px, 1px);height: 1px;margin: -1px;overflow: hidden;padding: 0;position: absolute;width: 1px;}#sk-container-id-15 div.sk-estimator {font-family: monospace;background-color: #f0f8ff;border: 1px dotted black;border-radius: 0.25em;box-sizing: border-box;margin-bottom: 0.5em;}#sk-container-id-15 div.sk-estimator:hover {background-color: #d4ebff;}#sk-container-id-15 div.sk-parallel-item::after {content: \"\";width: 100%;border-bottom: 1px solid gray;flex-grow: 1;}#sk-container-id-15 div.sk-label:hover label.sk-toggleable__label {background-color: #d4ebff;}#sk-container-id-15 div.sk-serial::before {content: \"\";position: absolute;border-left: 1px solid gray;box-sizing: border-box;top: 0;bottom: 0;left: 50%;z-index: 0;}#sk-container-id-15 div.sk-serial {display: flex;flex-direction: column;align-items: center;background-color: white;padding-right: 0.2em;padding-left: 0.2em;position: relative;}#sk-container-id-15 div.sk-item {position: relative;z-index: 1;}#sk-container-id-15 div.sk-parallel {display: flex;align-items: stretch;justify-content: center;background-color: white;position: relative;}#sk-container-id-15 div.sk-item::before, #sk-container-id-15 div.sk-parallel-item::before {content: \"\";position: absolute;border-left: 1px solid gray;box-sizing: border-box;top: 0;bottom: 0;left: 50%;z-index: -1;}#sk-container-id-15 div.sk-parallel-item {display: flex;flex-direction: column;z-index: 1;position: relative;background-color: white;}#sk-container-id-15 div.sk-parallel-item:first-child::after {align-self: flex-end;width: 50%;}#sk-container-id-15 div.sk-parallel-item:last-child::after {align-self: flex-start;width: 50%;}#sk-container-id-15 div.sk-parallel-item:only-child::after {width: 0;}#sk-container-id-15 div.sk-dashed-wrapped {border: 1px dashed gray;margin: 0 0.4em 0.5em 0.4em;box-sizing: border-box;padding-bottom: 0.4em;background-color: white;}#sk-container-id-15 div.sk-label label {font-family: monospace;font-weight: bold;display: inline-block;line-height: 1.2em;}#sk-container-id-15 div.sk-label-container {text-align: center;}#sk-container-id-15 div.sk-container {/* jupyter's `normalize.less` sets `[hidden] { display: none; }` but bootstrap.min.css set `[hidden] { display: none !important; }` so we also need the `!important` here to be able to override the default hidden behavior on the sphinx rendered scikit-learn.org. See: https://github.com/scikit-learn/scikit-learn/issues/21755 */display: inline-block !important;position: relative;}#sk-container-id-15 div.sk-text-repr-fallback {display: none;}</style><div id=\"sk-container-id-15\" class=\"sk-top-container\"><div class=\"sk-text-repr-fallback\"><pre>RFE(estimator=RandomForestClassifier(n_estimators=25), n_features_to_select=5)</pre><b>In a Jupyter environment, please rerun this cell to show the HTML representation or trust the notebook. <br />On GitHub, the HTML representation is unable to render, please try loading this page with nbviewer.org.</b></div><div class=\"sk-container\" hidden><div class=\"sk-item sk-dashed-wrapped\"><div class=\"sk-label-container\"><div class=\"sk-label sk-toggleable\"><input class=\"sk-toggleable__control sk-hidden--visually\" id=\"sk-estimator-id-21\" type=\"checkbox\" ><label for=\"sk-estimator-id-21\" class=\"sk-toggleable__label sk-toggleable__label-arrow\">RFE</label><div class=\"sk-toggleable__content\"><pre>RFE(estimator=RandomForestClassifier(n_estimators=25), n_features_to_select=5)</pre></div></div></div><div class=\"sk-parallel\"><div class=\"sk-parallel-item\"><div class=\"sk-item\"><div class=\"sk-label-container\"><div class=\"sk-label sk-toggleable\"><input class=\"sk-toggleable__control sk-hidden--visually\" id=\"sk-estimator-id-22\" type=\"checkbox\" ><label for=\"sk-estimator-id-22\" class=\"sk-toggleable__label sk-toggleable__label-arrow\">estimator: RandomForestClassifier</label><div class=\"sk-toggleable__content\"><pre>RandomForestClassifier(n_estimators=25)</pre></div></div></div><div class=\"sk-serial\"><div class=\"sk-item\"><div class=\"sk-estimator sk-toggleable\"><input class=\"sk-toggleable__control sk-hidden--visually\" id=\"sk-estimator-id-23\" type=\"checkbox\" ><label for=\"sk-estimator-id-23\" class=\"sk-toggleable__label sk-toggleable__label-arrow\">RandomForestClassifier</label><div class=\"sk-toggleable__content\"><pre>RandomForestClassifier(n_estimators=25)</pre></div></div></div></div></div></div></div></div></div></div>"
            ]
          },
          "metadata": {},
          "execution_count": 95
        }
      ]
    },
    {
      "cell_type": "code",
      "metadata": {
        "id": "sI8WKefcBrX4",
        "outputId": "f979ba41-6610-4930-9a7e-eecfd11f6147",
        "colab": {
          "base_uri": "https://localhost:8080/"
        }
      },
      "source": [
        "rfe.get_support()"
      ],
      "execution_count": 96,
      "outputs": [
        {
          "output_type": "execute_result",
          "data": {
            "text/plain": [
              "array([ True,  True, False,  True,  True, False, False, False, False,\n",
              "       False, False, False,  True, False, False, False, False, False,\n",
              "       False, False])"
            ]
          },
          "metadata": {},
          "execution_count": 96
        }
      ]
    },
    {
      "cell_type": "code",
      "metadata": {
        "id": "arXRzMjmBrX5"
      },
      "source": [
        "X_train_rfe = rfe.transform(X_train_cod1)\n",
        "X_test_ref = rfe.transform(X_test_cod1)"
      ],
      "execution_count": 97,
      "outputs": []
    },
    {
      "cell_type": "code",
      "metadata": {
        "id": "D_P3xV_iCZrR",
        "outputId": "ad36ba1c-973d-4028-877e-46bcf154efc6",
        "colab": {
          "base_uri": "https://localhost:8080/"
        }
      },
      "source": [
        "X_train_rfe.shape"
      ],
      "execution_count": 98,
      "outputs": [
        {
          "output_type": "execute_result",
          "data": {
            "text/plain": [
              "(800, 5)"
            ]
          },
          "metadata": {},
          "execution_count": 98
        }
      ]
    },
    {
      "cell_type": "code",
      "metadata": {
        "id": "XE3wbKYBBrX5",
        "outputId": "87015ad4-3488-4044-f760-ace016523d43",
        "colab": {
          "base_uri": "https://localhost:8080/"
        }
      },
      "source": [
        "rf_rfe = RandomForestClassifier(n_estimators=25)\n",
        "rf_rfe.fit(X_train_rfe, y_train)"
      ],
      "execution_count": 99,
      "outputs": [
        {
          "output_type": "execute_result",
          "data": {
            "text/plain": [
              "RandomForestClassifier(n_estimators=25)"
            ],
            "text/html": [
              "<style>#sk-container-id-16 {color: black;background-color: white;}#sk-container-id-16 pre{padding: 0;}#sk-container-id-16 div.sk-toggleable {background-color: white;}#sk-container-id-16 label.sk-toggleable__label {cursor: pointer;display: block;width: 100%;margin-bottom: 0;padding: 0.3em;box-sizing: border-box;text-align: center;}#sk-container-id-16 label.sk-toggleable__label-arrow:before {content: \"▸\";float: left;margin-right: 0.25em;color: #696969;}#sk-container-id-16 label.sk-toggleable__label-arrow:hover:before {color: black;}#sk-container-id-16 div.sk-estimator:hover label.sk-toggleable__label-arrow:before {color: black;}#sk-container-id-16 div.sk-toggleable__content {max-height: 0;max-width: 0;overflow: hidden;text-align: left;background-color: #f0f8ff;}#sk-container-id-16 div.sk-toggleable__content pre {margin: 0.2em;color: black;border-radius: 0.25em;background-color: #f0f8ff;}#sk-container-id-16 input.sk-toggleable__control:checked~div.sk-toggleable__content {max-height: 200px;max-width: 100%;overflow: auto;}#sk-container-id-16 input.sk-toggleable__control:checked~label.sk-toggleable__label-arrow:before {content: \"▾\";}#sk-container-id-16 div.sk-estimator input.sk-toggleable__control:checked~label.sk-toggleable__label {background-color: #d4ebff;}#sk-container-id-16 div.sk-label input.sk-toggleable__control:checked~label.sk-toggleable__label {background-color: #d4ebff;}#sk-container-id-16 input.sk-hidden--visually {border: 0;clip: rect(1px 1px 1px 1px);clip: rect(1px, 1px, 1px, 1px);height: 1px;margin: -1px;overflow: hidden;padding: 0;position: absolute;width: 1px;}#sk-container-id-16 div.sk-estimator {font-family: monospace;background-color: #f0f8ff;border: 1px dotted black;border-radius: 0.25em;box-sizing: border-box;margin-bottom: 0.5em;}#sk-container-id-16 div.sk-estimator:hover {background-color: #d4ebff;}#sk-container-id-16 div.sk-parallel-item::after {content: \"\";width: 100%;border-bottom: 1px solid gray;flex-grow: 1;}#sk-container-id-16 div.sk-label:hover label.sk-toggleable__label {background-color: #d4ebff;}#sk-container-id-16 div.sk-serial::before {content: \"\";position: absolute;border-left: 1px solid gray;box-sizing: border-box;top: 0;bottom: 0;left: 50%;z-index: 0;}#sk-container-id-16 div.sk-serial {display: flex;flex-direction: column;align-items: center;background-color: white;padding-right: 0.2em;padding-left: 0.2em;position: relative;}#sk-container-id-16 div.sk-item {position: relative;z-index: 1;}#sk-container-id-16 div.sk-parallel {display: flex;align-items: stretch;justify-content: center;background-color: white;position: relative;}#sk-container-id-16 div.sk-item::before, #sk-container-id-16 div.sk-parallel-item::before {content: \"\";position: absolute;border-left: 1px solid gray;box-sizing: border-box;top: 0;bottom: 0;left: 50%;z-index: -1;}#sk-container-id-16 div.sk-parallel-item {display: flex;flex-direction: column;z-index: 1;position: relative;background-color: white;}#sk-container-id-16 div.sk-parallel-item:first-child::after {align-self: flex-end;width: 50%;}#sk-container-id-16 div.sk-parallel-item:last-child::after {align-self: flex-start;width: 50%;}#sk-container-id-16 div.sk-parallel-item:only-child::after {width: 0;}#sk-container-id-16 div.sk-dashed-wrapped {border: 1px dashed gray;margin: 0 0.4em 0.5em 0.4em;box-sizing: border-box;padding-bottom: 0.4em;background-color: white;}#sk-container-id-16 div.sk-label label {font-family: monospace;font-weight: bold;display: inline-block;line-height: 1.2em;}#sk-container-id-16 div.sk-label-container {text-align: center;}#sk-container-id-16 div.sk-container {/* jupyter's `normalize.less` sets `[hidden] { display: none; }` but bootstrap.min.css set `[hidden] { display: none !important; }` so we also need the `!important` here to be able to override the default hidden behavior on the sphinx rendered scikit-learn.org. See: https://github.com/scikit-learn/scikit-learn/issues/21755 */display: inline-block !important;position: relative;}#sk-container-id-16 div.sk-text-repr-fallback {display: none;}</style><div id=\"sk-container-id-16\" class=\"sk-top-container\"><div class=\"sk-text-repr-fallback\"><pre>RandomForestClassifier(n_estimators=25)</pre><b>In a Jupyter environment, please rerun this cell to show the HTML representation or trust the notebook. <br />On GitHub, the HTML representation is unable to render, please try loading this page with nbviewer.org.</b></div><div class=\"sk-container\" hidden><div class=\"sk-item\"><div class=\"sk-estimator sk-toggleable\"><input class=\"sk-toggleable__control sk-hidden--visually\" id=\"sk-estimator-id-24\" type=\"checkbox\" checked><label for=\"sk-estimator-id-24\" class=\"sk-toggleable__label sk-toggleable__label-arrow\">RandomForestClassifier</label><div class=\"sk-toggleable__content\"><pre>RandomForestClassifier(n_estimators=25)</pre></div></div></div></div></div>"
            ]
          },
          "metadata": {},
          "execution_count": 99
        }
      ]
    },
    {
      "cell_type": "code",
      "metadata": {
        "id": "94xe6q59BrX5",
        "outputId": "5d4f0141-c316-4e97-ae6f-44a2fc9d577a",
        "colab": {
          "base_uri": "https://localhost:8080/"
        }
      },
      "source": [
        "print('================ Resultados Recursive Feature Elimination Random Forests =================\\n')\n",
        "print(classification_report(y_test, rf_rfe.predict(X_test_ref)))"
      ],
      "execution_count": 100,
      "outputs": [
        {
          "output_type": "stream",
          "name": "stdout",
          "text": [
            "================ Resultados Recursive Feature Elimination Random Forests =================\n",
            "\n",
            "              precision    recall  f1-score   support\n",
            "\n",
            "           0       0.37      0.42      0.39        50\n",
            "           1       0.80      0.76      0.78       150\n",
            "\n",
            "    accuracy                           0.68       200\n",
            "   macro avg       0.58      0.59      0.59       200\n",
            "weighted avg       0.69      0.68      0.68       200\n",
            "\n"
          ]
        }
      ]
    },
    {
      "cell_type": "markdown",
      "metadata": {
        "id": "1W3FG7f5L-RK"
      },
      "source": [
        "# Filtros"
      ]
    },
    {
      "cell_type": "code",
      "metadata": {
        "id": "i9m2SCfCL-WT"
      },
      "source": [
        "from sklearn.feature_selection import SelectKBest, chi2, f_classif, mutual_info_classif"
      ],
      "execution_count": 101,
      "outputs": []
    },
    {
      "cell_type": "markdown",
      "metadata": {
        "id": "jaZ1kK9nvLZn"
      },
      "source": [
        "## Filtro utilizando Chi2"
      ]
    },
    {
      "cell_type": "code",
      "metadata": {
        "id": "MJ1vB65lL-Y1",
        "outputId": "34f06ecb-ec59-4a49-d7e2-7b217ac12c7e",
        "colab": {
          "base_uri": "https://localhost:8080/"
        }
      },
      "source": [
        "chi2_best = SelectKBest(chi2, k=5)\n",
        "chi2_best.fit_transform(X_train_cod1, y_train)"
      ],
      "execution_count": 102,
      "outputs": [
        {
          "output_type": "execute_result",
          "data": {
            "text/plain": [
              "array([[8.74023438e-01, 1.80000000e+01, 1.53000000e+03, 3.00000000e+00,\n",
              "        3.20000000e+01],\n",
              "       [6.11944444e-01, 1.80000000e+01, 4.29700000e+03, 4.00000000e+00,\n",
              "        4.00000000e+01],\n",
              "       [6.11944444e-01, 1.80000000e+01, 1.23900000e+03, 4.00000000e+00,\n",
              "        6.10000000e+01],\n",
              "       ...,\n",
              "       [6.11944444e-01, 1.80000000e+01, 1.92800000e+03, 2.00000000e+00,\n",
              "        3.10000000e+01],\n",
              "       [8.74023438e-01, 6.00000000e+00, 1.54300000e+03, 4.00000000e+00,\n",
              "        3.30000000e+01],\n",
              "       [8.74023438e-01, 1.20000000e+01, 1.18500000e+03, 3.00000000e+00,\n",
              "        2.70000000e+01]])"
            ]
          },
          "metadata": {},
          "execution_count": 102
        }
      ]
    },
    {
      "cell_type": "code",
      "metadata": {
        "id": "eDg_cqkmtlz6",
        "outputId": "76dbe8f8-925e-4e5d-e386-1f1e091cacdc",
        "colab": {
          "base_uri": "https://localhost:8080/"
        }
      },
      "source": [
        "chi2_best.fit_transform(X_train_cod1, y_train).shape"
      ],
      "execution_count": 103,
      "outputs": [
        {
          "output_type": "execute_result",
          "data": {
            "text/plain": [
              "(800, 5)"
            ]
          },
          "metadata": {},
          "execution_count": 103
        }
      ]
    },
    {
      "cell_type": "code",
      "metadata": {
        "id": "gl6v1LLHuXsn",
        "outputId": "c4b7239d-71ac-4753-c040-3ab1f164c537",
        "colab": {
          "base_uri": "https://localhost:8080/"
        }
      },
      "source": [
        "chi2_best.get_support()"
      ],
      "execution_count": 104,
      "outputs": [
        {
          "output_type": "execute_result",
          "data": {
            "text/plain": [
              "array([ True,  True, False, False,  True, False, False,  True, False,\n",
              "       False, False, False,  True, False, False, False, False, False,\n",
              "       False, False])"
            ]
          },
          "metadata": {},
          "execution_count": 104
        }
      ]
    },
    {
      "cell_type": "code",
      "metadata": {
        "id": "4v3R7CGEu8nP"
      },
      "source": [
        "X_train_chi2 = chi2_best.transform(X_train_cod1)\n",
        "X_test_chi2 = chi2_best.transform(X_test_cod1)"
      ],
      "execution_count": 105,
      "outputs": []
    },
    {
      "cell_type": "code",
      "metadata": {
        "id": "KAd60c6Bu8nR",
        "outputId": "cca73ad2-0950-4b86-e372-32351a9add92",
        "colab": {
          "base_uri": "https://localhost:8080/"
        }
      },
      "source": [
        "rf_chi2 = RandomForestClassifier(n_estimators=25)\n",
        "rf_chi2.fit(X_train_chi2, y_train)"
      ],
      "execution_count": 106,
      "outputs": [
        {
          "output_type": "execute_result",
          "data": {
            "text/plain": [
              "RandomForestClassifier(n_estimators=25)"
            ],
            "text/html": [
              "<style>#sk-container-id-17 {color: black;background-color: white;}#sk-container-id-17 pre{padding: 0;}#sk-container-id-17 div.sk-toggleable {background-color: white;}#sk-container-id-17 label.sk-toggleable__label {cursor: pointer;display: block;width: 100%;margin-bottom: 0;padding: 0.3em;box-sizing: border-box;text-align: center;}#sk-container-id-17 label.sk-toggleable__label-arrow:before {content: \"▸\";float: left;margin-right: 0.25em;color: #696969;}#sk-container-id-17 label.sk-toggleable__label-arrow:hover:before {color: black;}#sk-container-id-17 div.sk-estimator:hover label.sk-toggleable__label-arrow:before {color: black;}#sk-container-id-17 div.sk-toggleable__content {max-height: 0;max-width: 0;overflow: hidden;text-align: left;background-color: #f0f8ff;}#sk-container-id-17 div.sk-toggleable__content pre {margin: 0.2em;color: black;border-radius: 0.25em;background-color: #f0f8ff;}#sk-container-id-17 input.sk-toggleable__control:checked~div.sk-toggleable__content {max-height: 200px;max-width: 100%;overflow: auto;}#sk-container-id-17 input.sk-toggleable__control:checked~label.sk-toggleable__label-arrow:before {content: \"▾\";}#sk-container-id-17 div.sk-estimator input.sk-toggleable__control:checked~label.sk-toggleable__label {background-color: #d4ebff;}#sk-container-id-17 div.sk-label input.sk-toggleable__control:checked~label.sk-toggleable__label {background-color: #d4ebff;}#sk-container-id-17 input.sk-hidden--visually {border: 0;clip: rect(1px 1px 1px 1px);clip: rect(1px, 1px, 1px, 1px);height: 1px;margin: -1px;overflow: hidden;padding: 0;position: absolute;width: 1px;}#sk-container-id-17 div.sk-estimator {font-family: monospace;background-color: #f0f8ff;border: 1px dotted black;border-radius: 0.25em;box-sizing: border-box;margin-bottom: 0.5em;}#sk-container-id-17 div.sk-estimator:hover {background-color: #d4ebff;}#sk-container-id-17 div.sk-parallel-item::after {content: \"\";width: 100%;border-bottom: 1px solid gray;flex-grow: 1;}#sk-container-id-17 div.sk-label:hover label.sk-toggleable__label {background-color: #d4ebff;}#sk-container-id-17 div.sk-serial::before {content: \"\";position: absolute;border-left: 1px solid gray;box-sizing: border-box;top: 0;bottom: 0;left: 50%;z-index: 0;}#sk-container-id-17 div.sk-serial {display: flex;flex-direction: column;align-items: center;background-color: white;padding-right: 0.2em;padding-left: 0.2em;position: relative;}#sk-container-id-17 div.sk-item {position: relative;z-index: 1;}#sk-container-id-17 div.sk-parallel {display: flex;align-items: stretch;justify-content: center;background-color: white;position: relative;}#sk-container-id-17 div.sk-item::before, #sk-container-id-17 div.sk-parallel-item::before {content: \"\";position: absolute;border-left: 1px solid gray;box-sizing: border-box;top: 0;bottom: 0;left: 50%;z-index: -1;}#sk-container-id-17 div.sk-parallel-item {display: flex;flex-direction: column;z-index: 1;position: relative;background-color: white;}#sk-container-id-17 div.sk-parallel-item:first-child::after {align-self: flex-end;width: 50%;}#sk-container-id-17 div.sk-parallel-item:last-child::after {align-self: flex-start;width: 50%;}#sk-container-id-17 div.sk-parallel-item:only-child::after {width: 0;}#sk-container-id-17 div.sk-dashed-wrapped {border: 1px dashed gray;margin: 0 0.4em 0.5em 0.4em;box-sizing: border-box;padding-bottom: 0.4em;background-color: white;}#sk-container-id-17 div.sk-label label {font-family: monospace;font-weight: bold;display: inline-block;line-height: 1.2em;}#sk-container-id-17 div.sk-label-container {text-align: center;}#sk-container-id-17 div.sk-container {/* jupyter's `normalize.less` sets `[hidden] { display: none; }` but bootstrap.min.css set `[hidden] { display: none !important; }` so we also need the `!important` here to be able to override the default hidden behavior on the sphinx rendered scikit-learn.org. See: https://github.com/scikit-learn/scikit-learn/issues/21755 */display: inline-block !important;position: relative;}#sk-container-id-17 div.sk-text-repr-fallback {display: none;}</style><div id=\"sk-container-id-17\" class=\"sk-top-container\"><div class=\"sk-text-repr-fallback\"><pre>RandomForestClassifier(n_estimators=25)</pre><b>In a Jupyter environment, please rerun this cell to show the HTML representation or trust the notebook. <br />On GitHub, the HTML representation is unable to render, please try loading this page with nbviewer.org.</b></div><div class=\"sk-container\" hidden><div class=\"sk-item\"><div class=\"sk-estimator sk-toggleable\"><input class=\"sk-toggleable__control sk-hidden--visually\" id=\"sk-estimator-id-25\" type=\"checkbox\" checked><label for=\"sk-estimator-id-25\" class=\"sk-toggleable__label sk-toggleable__label-arrow\">RandomForestClassifier</label><div class=\"sk-toggleable__content\"><pre>RandomForestClassifier(n_estimators=25)</pre></div></div></div></div></div>"
            ]
          },
          "metadata": {},
          "execution_count": 106
        }
      ]
    },
    {
      "cell_type": "code",
      "metadata": {
        "id": "da2eOiEcu8nR",
        "outputId": "976a2562-b9ab-44ce-c27b-03f89db0122c",
        "colab": {
          "base_uri": "https://localhost:8080/"
        }
      },
      "source": [
        "print('================ Resultados Chi2 Filter Random Forests =================\\n')\n",
        "print(classification_report(y_test, rf_chi2.predict(X_test_chi2)))"
      ],
      "execution_count": 107,
      "outputs": [
        {
          "output_type": "stream",
          "name": "stdout",
          "text": [
            "================ Resultados Chi2 Filter Random Forests =================\n",
            "\n",
            "              precision    recall  f1-score   support\n",
            "\n",
            "           0       0.47      0.52      0.50        50\n",
            "           1       0.83      0.81      0.82       150\n",
            "\n",
            "    accuracy                           0.73       200\n",
            "   macro avg       0.65      0.66      0.66       200\n",
            "weighted avg       0.74      0.73      0.74       200\n",
            "\n"
          ]
        }
      ]
    },
    {
      "cell_type": "code",
      "metadata": {
        "id": "6gPfvRvWuNu_"
      },
      "source": [],
      "execution_count": null,
      "outputs": []
    },
    {
      "cell_type": "markdown",
      "metadata": {
        "id": "WD9-S2tZvRvb"
      },
      "source": [
        "## Filtro utilizando ANOVA F-value"
      ]
    },
    {
      "cell_type": "code",
      "metadata": {
        "id": "tHtFPnJPvRvb",
        "outputId": "615fb255-a41f-4c3f-aba6-4d91dab1df9b",
        "colab": {
          "base_uri": "https://localhost:8080/"
        }
      },
      "source": [
        "fclass_best = SelectKBest(f_classif, k=15)\n",
        "fclass_best.fit_transform(X_train_cod1, y_train)"
      ],
      "execution_count": 108,
      "outputs": [
        {
          "output_type": "execute_result",
          "data": {
            "text/plain": [
              "array([[ 0.87402344, 18.        ,  0.82494703, ...,  0.72437284,\n",
              "         0.69274902,  0.68011364],\n",
              "       [ 0.61194444, 18.        ,  0.671875  , ...,  0.72437284,\n",
              "         0.62980769,  0.68011364],\n",
              "       [ 0.61194444, 18.        ,  0.66358568, ...,  0.58659639,\n",
              "         0.69274902,  0.68011364],\n",
              "       ...,\n",
              "       [ 0.61194444, 18.        ,  0.82494703, ...,  0.72437284,\n",
              "         0.7241242 ,  0.68011364],\n",
              "       [ 0.87402344,  6.        ,  0.66358568, ...,  0.72437284,\n",
              "         0.69274902,  0.68011364],\n",
              "       [ 0.87402344, 12.        ,  0.82494703, ...,  0.72437284,\n",
              "         0.69274902,  0.68011364]])"
            ]
          },
          "metadata": {},
          "execution_count": 108
        }
      ]
    },
    {
      "cell_type": "code",
      "metadata": {
        "id": "lSGSW7G0vRvg",
        "outputId": "11540f44-4f9d-4b51-88a4-f9e61b8dfe54",
        "colab": {
          "base_uri": "https://localhost:8080/"
        }
      },
      "source": [
        "fclass_best.fit_transform(X_train_cod1, y_train).shape"
      ],
      "execution_count": 109,
      "outputs": [
        {
          "output_type": "execute_result",
          "data": {
            "text/plain": [
              "(800, 15)"
            ]
          },
          "metadata": {},
          "execution_count": 109
        }
      ]
    },
    {
      "cell_type": "code",
      "metadata": {
        "id": "cXeogGhTvRvg",
        "outputId": "5ae9fbc5-7674-4ee1-d4d6-b518356809f0",
        "colab": {
          "base_uri": "https://localhost:8080/"
        }
      },
      "source": [
        "fclass_best.get_support()"
      ],
      "execution_count": 110,
      "outputs": [
        {
          "output_type": "execute_result",
          "data": {
            "text/plain": [
              "array([ True,  True,  True,  True,  True,  True,  True, False,  True,\n",
              "        True, False,  True,  True,  True,  True, False,  True, False,\n",
              "       False,  True])"
            ]
          },
          "metadata": {},
          "execution_count": 110
        }
      ]
    },
    {
      "cell_type": "code",
      "metadata": {
        "id": "2NFO7L7AvRvg"
      },
      "source": [
        "X_train_fclass = fclass_best.transform(X_train_cod1)\n",
        "X_test_fclass = fclass_best.transform(X_test_cod1)"
      ],
      "execution_count": 111,
      "outputs": []
    },
    {
      "cell_type": "code",
      "metadata": {
        "id": "jyQB7PGlvRvh",
        "outputId": "bf8e0e40-a2b2-404f-daca-a7c4520c6406",
        "colab": {
          "base_uri": "https://localhost:8080/"
        }
      },
      "source": [
        "rf_fclass = RandomForestClassifier(n_estimators=25)\n",
        "rf_fclass.fit(X_train_fclass, y_train)"
      ],
      "execution_count": 112,
      "outputs": [
        {
          "output_type": "execute_result",
          "data": {
            "text/plain": [
              "RandomForestClassifier(n_estimators=25)"
            ],
            "text/html": [
              "<style>#sk-container-id-18 {color: black;background-color: white;}#sk-container-id-18 pre{padding: 0;}#sk-container-id-18 div.sk-toggleable {background-color: white;}#sk-container-id-18 label.sk-toggleable__label {cursor: pointer;display: block;width: 100%;margin-bottom: 0;padding: 0.3em;box-sizing: border-box;text-align: center;}#sk-container-id-18 label.sk-toggleable__label-arrow:before {content: \"▸\";float: left;margin-right: 0.25em;color: #696969;}#sk-container-id-18 label.sk-toggleable__label-arrow:hover:before {color: black;}#sk-container-id-18 div.sk-estimator:hover label.sk-toggleable__label-arrow:before {color: black;}#sk-container-id-18 div.sk-toggleable__content {max-height: 0;max-width: 0;overflow: hidden;text-align: left;background-color: #f0f8ff;}#sk-container-id-18 div.sk-toggleable__content pre {margin: 0.2em;color: black;border-radius: 0.25em;background-color: #f0f8ff;}#sk-container-id-18 input.sk-toggleable__control:checked~div.sk-toggleable__content {max-height: 200px;max-width: 100%;overflow: auto;}#sk-container-id-18 input.sk-toggleable__control:checked~label.sk-toggleable__label-arrow:before {content: \"▾\";}#sk-container-id-18 div.sk-estimator input.sk-toggleable__control:checked~label.sk-toggleable__label {background-color: #d4ebff;}#sk-container-id-18 div.sk-label input.sk-toggleable__control:checked~label.sk-toggleable__label {background-color: #d4ebff;}#sk-container-id-18 input.sk-hidden--visually {border: 0;clip: rect(1px 1px 1px 1px);clip: rect(1px, 1px, 1px, 1px);height: 1px;margin: -1px;overflow: hidden;padding: 0;position: absolute;width: 1px;}#sk-container-id-18 div.sk-estimator {font-family: monospace;background-color: #f0f8ff;border: 1px dotted black;border-radius: 0.25em;box-sizing: border-box;margin-bottom: 0.5em;}#sk-container-id-18 div.sk-estimator:hover {background-color: #d4ebff;}#sk-container-id-18 div.sk-parallel-item::after {content: \"\";width: 100%;border-bottom: 1px solid gray;flex-grow: 1;}#sk-container-id-18 div.sk-label:hover label.sk-toggleable__label {background-color: #d4ebff;}#sk-container-id-18 div.sk-serial::before {content: \"\";position: absolute;border-left: 1px solid gray;box-sizing: border-box;top: 0;bottom: 0;left: 50%;z-index: 0;}#sk-container-id-18 div.sk-serial {display: flex;flex-direction: column;align-items: center;background-color: white;padding-right: 0.2em;padding-left: 0.2em;position: relative;}#sk-container-id-18 div.sk-item {position: relative;z-index: 1;}#sk-container-id-18 div.sk-parallel {display: flex;align-items: stretch;justify-content: center;background-color: white;position: relative;}#sk-container-id-18 div.sk-item::before, #sk-container-id-18 div.sk-parallel-item::before {content: \"\";position: absolute;border-left: 1px solid gray;box-sizing: border-box;top: 0;bottom: 0;left: 50%;z-index: -1;}#sk-container-id-18 div.sk-parallel-item {display: flex;flex-direction: column;z-index: 1;position: relative;background-color: white;}#sk-container-id-18 div.sk-parallel-item:first-child::after {align-self: flex-end;width: 50%;}#sk-container-id-18 div.sk-parallel-item:last-child::after {align-self: flex-start;width: 50%;}#sk-container-id-18 div.sk-parallel-item:only-child::after {width: 0;}#sk-container-id-18 div.sk-dashed-wrapped {border: 1px dashed gray;margin: 0 0.4em 0.5em 0.4em;box-sizing: border-box;padding-bottom: 0.4em;background-color: white;}#sk-container-id-18 div.sk-label label {font-family: monospace;font-weight: bold;display: inline-block;line-height: 1.2em;}#sk-container-id-18 div.sk-label-container {text-align: center;}#sk-container-id-18 div.sk-container {/* jupyter's `normalize.less` sets `[hidden] { display: none; }` but bootstrap.min.css set `[hidden] { display: none !important; }` so we also need the `!important` here to be able to override the default hidden behavior on the sphinx rendered scikit-learn.org. See: https://github.com/scikit-learn/scikit-learn/issues/21755 */display: inline-block !important;position: relative;}#sk-container-id-18 div.sk-text-repr-fallback {display: none;}</style><div id=\"sk-container-id-18\" class=\"sk-top-container\"><div class=\"sk-text-repr-fallback\"><pre>RandomForestClassifier(n_estimators=25)</pre><b>In a Jupyter environment, please rerun this cell to show the HTML representation or trust the notebook. <br />On GitHub, the HTML representation is unable to render, please try loading this page with nbviewer.org.</b></div><div class=\"sk-container\" hidden><div class=\"sk-item\"><div class=\"sk-estimator sk-toggleable\"><input class=\"sk-toggleable__control sk-hidden--visually\" id=\"sk-estimator-id-26\" type=\"checkbox\" checked><label for=\"sk-estimator-id-26\" class=\"sk-toggleable__label sk-toggleable__label-arrow\">RandomForestClassifier</label><div class=\"sk-toggleable__content\"><pre>RandomForestClassifier(n_estimators=25)</pre></div></div></div></div></div>"
            ]
          },
          "metadata": {},
          "execution_count": 112
        }
      ]
    },
    {
      "cell_type": "code",
      "metadata": {
        "id": "9xHAQS1pvRvh",
        "outputId": "60578721-e7f5-4065-b84a-712ac5e131a7",
        "colab": {
          "base_uri": "https://localhost:8080/"
        }
      },
      "source": [
        "print('================ Resultados F-value Filter Random Forests =================\\n')\n",
        "print(classification_report(y_test, rf_fclass.predict(X_test_fclass)))"
      ],
      "execution_count": 113,
      "outputs": [
        {
          "output_type": "stream",
          "name": "stdout",
          "text": [
            "================ Resultados F-value Filter Random Forests =================\n",
            "\n",
            "              precision    recall  f1-score   support\n",
            "\n",
            "           0       0.57      0.54      0.56        50\n",
            "           1       0.85      0.87      0.86       150\n",
            "\n",
            "    accuracy                           0.79       200\n",
            "   macro avg       0.71      0.70      0.71       200\n",
            "weighted avg       0.78      0.79      0.78       200\n",
            "\n"
          ]
        }
      ]
    },
    {
      "cell_type": "code",
      "metadata": {
        "id": "h7Xpn04vudl_"
      },
      "source": [],
      "execution_count": null,
      "outputs": []
    },
    {
      "cell_type": "markdown",
      "metadata": {
        "id": "1BwjNo7Gv44j"
      },
      "source": [
        "## Filtro utilizando mutual information"
      ]
    },
    {
      "cell_type": "code",
      "metadata": {
        "id": "hQXa5cJov44l",
        "outputId": "328166e5-5cd6-47f4-d452-e22ab8080fff",
        "colab": {
          "base_uri": "https://localhost:8080/"
        }
      },
      "source": [
        "mutual_best = SelectKBest(mutual_info_classif, k=5)\n",
        "mutual_best.fit_transform(X_train_cod1, y_train)"
      ],
      "execution_count": 114,
      "outputs": [
        {
          "output_type": "execute_result",
          "data": {
            "text/plain": [
              "array([[0.87402344, 0.82494703, 0.56863839, 1.        , 0.67434896],\n",
              "       [0.61194444, 0.671875  , 0.71226959, 1.        , 0.70710404],\n",
              "       [0.61194444, 0.66358568, 0.71226959, 1.        , 0.67434896],\n",
              "       ...,\n",
              "       [0.61194444, 0.82494703, 0.71226959, 1.        , 0.67434896],\n",
              "       [0.87402344, 0.66358568, 0.71226959, 1.        , 0.67434896],\n",
              "       [0.87402344, 0.82494703, 0.71226959, 1.        , 0.67434896]])"
            ]
          },
          "metadata": {},
          "execution_count": 114
        }
      ]
    },
    {
      "cell_type": "code",
      "metadata": {
        "id": "gM0h_KDKv44l",
        "outputId": "9f308524-7e46-4ff6-fd02-507fcb050fca",
        "colab": {
          "base_uri": "https://localhost:8080/"
        }
      },
      "source": [
        "mutual_best.fit_transform(X_train_cod1, y_train).shape"
      ],
      "execution_count": 115,
      "outputs": [
        {
          "output_type": "execute_result",
          "data": {
            "text/plain": [
              "(800, 5)"
            ]
          },
          "metadata": {},
          "execution_count": 115
        }
      ]
    },
    {
      "cell_type": "code",
      "metadata": {
        "id": "KWa9xSOlv44m",
        "outputId": "0216e857-d8df-4ace-824d-93aee39f0b4e",
        "colab": {
          "base_uri": "https://localhost:8080/"
        }
      },
      "source": [
        "mutual_best.get_support()"
      ],
      "execution_count": 116,
      "outputs": [
        {
          "output_type": "execute_result",
          "data": {
            "text/plain": [
              "array([ True,  True, False, False, False, False, False, False,  True,\n",
              "       False, False,  True, False,  True, False, False, False, False,\n",
              "       False, False])"
            ]
          },
          "metadata": {},
          "execution_count": 116
        }
      ]
    },
    {
      "cell_type": "code",
      "metadata": {
        "id": "BoP4pQIHv44m"
      },
      "source": [
        "X_train_mutual = mutual_best.transform(X_train_cod1)\n",
        "X_test_mutual = mutual_best.transform(X_test_cod1)"
      ],
      "execution_count": 117,
      "outputs": []
    },
    {
      "cell_type": "code",
      "metadata": {
        "id": "aq0z7DiEv44m",
        "outputId": "b9128ce6-882f-4f84-9357-919a497305dc",
        "colab": {
          "base_uri": "https://localhost:8080/"
        }
      },
      "source": [
        "rf_mutual = RandomForestClassifier(n_estimators=25)\n",
        "rf_mutual.fit(X_train_mutual, y_train)"
      ],
      "execution_count": 118,
      "outputs": [
        {
          "output_type": "execute_result",
          "data": {
            "text/plain": [
              "RandomForestClassifier(n_estimators=25)"
            ],
            "text/html": [
              "<style>#sk-container-id-19 {color: black;background-color: white;}#sk-container-id-19 pre{padding: 0;}#sk-container-id-19 div.sk-toggleable {background-color: white;}#sk-container-id-19 label.sk-toggleable__label {cursor: pointer;display: block;width: 100%;margin-bottom: 0;padding: 0.3em;box-sizing: border-box;text-align: center;}#sk-container-id-19 label.sk-toggleable__label-arrow:before {content: \"▸\";float: left;margin-right: 0.25em;color: #696969;}#sk-container-id-19 label.sk-toggleable__label-arrow:hover:before {color: black;}#sk-container-id-19 div.sk-estimator:hover label.sk-toggleable__label-arrow:before {color: black;}#sk-container-id-19 div.sk-toggleable__content {max-height: 0;max-width: 0;overflow: hidden;text-align: left;background-color: #f0f8ff;}#sk-container-id-19 div.sk-toggleable__content pre {margin: 0.2em;color: black;border-radius: 0.25em;background-color: #f0f8ff;}#sk-container-id-19 input.sk-toggleable__control:checked~div.sk-toggleable__content {max-height: 200px;max-width: 100%;overflow: auto;}#sk-container-id-19 input.sk-toggleable__control:checked~label.sk-toggleable__label-arrow:before {content: \"▾\";}#sk-container-id-19 div.sk-estimator input.sk-toggleable__control:checked~label.sk-toggleable__label {background-color: #d4ebff;}#sk-container-id-19 div.sk-label input.sk-toggleable__control:checked~label.sk-toggleable__label {background-color: #d4ebff;}#sk-container-id-19 input.sk-hidden--visually {border: 0;clip: rect(1px 1px 1px 1px);clip: rect(1px, 1px, 1px, 1px);height: 1px;margin: -1px;overflow: hidden;padding: 0;position: absolute;width: 1px;}#sk-container-id-19 div.sk-estimator {font-family: monospace;background-color: #f0f8ff;border: 1px dotted black;border-radius: 0.25em;box-sizing: border-box;margin-bottom: 0.5em;}#sk-container-id-19 div.sk-estimator:hover {background-color: #d4ebff;}#sk-container-id-19 div.sk-parallel-item::after {content: \"\";width: 100%;border-bottom: 1px solid gray;flex-grow: 1;}#sk-container-id-19 div.sk-label:hover label.sk-toggleable__label {background-color: #d4ebff;}#sk-container-id-19 div.sk-serial::before {content: \"\";position: absolute;border-left: 1px solid gray;box-sizing: border-box;top: 0;bottom: 0;left: 50%;z-index: 0;}#sk-container-id-19 div.sk-serial {display: flex;flex-direction: column;align-items: center;background-color: white;padding-right: 0.2em;padding-left: 0.2em;position: relative;}#sk-container-id-19 div.sk-item {position: relative;z-index: 1;}#sk-container-id-19 div.sk-parallel {display: flex;align-items: stretch;justify-content: center;background-color: white;position: relative;}#sk-container-id-19 div.sk-item::before, #sk-container-id-19 div.sk-parallel-item::before {content: \"\";position: absolute;border-left: 1px solid gray;box-sizing: border-box;top: 0;bottom: 0;left: 50%;z-index: -1;}#sk-container-id-19 div.sk-parallel-item {display: flex;flex-direction: column;z-index: 1;position: relative;background-color: white;}#sk-container-id-19 div.sk-parallel-item:first-child::after {align-self: flex-end;width: 50%;}#sk-container-id-19 div.sk-parallel-item:last-child::after {align-self: flex-start;width: 50%;}#sk-container-id-19 div.sk-parallel-item:only-child::after {width: 0;}#sk-container-id-19 div.sk-dashed-wrapped {border: 1px dashed gray;margin: 0 0.4em 0.5em 0.4em;box-sizing: border-box;padding-bottom: 0.4em;background-color: white;}#sk-container-id-19 div.sk-label label {font-family: monospace;font-weight: bold;display: inline-block;line-height: 1.2em;}#sk-container-id-19 div.sk-label-container {text-align: center;}#sk-container-id-19 div.sk-container {/* jupyter's `normalize.less` sets `[hidden] { display: none; }` but bootstrap.min.css set `[hidden] { display: none !important; }` so we also need the `!important` here to be able to override the default hidden behavior on the sphinx rendered scikit-learn.org. See: https://github.com/scikit-learn/scikit-learn/issues/21755 */display: inline-block !important;position: relative;}#sk-container-id-19 div.sk-text-repr-fallback {display: none;}</style><div id=\"sk-container-id-19\" class=\"sk-top-container\"><div class=\"sk-text-repr-fallback\"><pre>RandomForestClassifier(n_estimators=25)</pre><b>In a Jupyter environment, please rerun this cell to show the HTML representation or trust the notebook. <br />On GitHub, the HTML representation is unable to render, please try loading this page with nbviewer.org.</b></div><div class=\"sk-container\" hidden><div class=\"sk-item\"><div class=\"sk-estimator sk-toggleable\"><input class=\"sk-toggleable__control sk-hidden--visually\" id=\"sk-estimator-id-27\" type=\"checkbox\" checked><label for=\"sk-estimator-id-27\" class=\"sk-toggleable__label sk-toggleable__label-arrow\">RandomForestClassifier</label><div class=\"sk-toggleable__content\"><pre>RandomForestClassifier(n_estimators=25)</pre></div></div></div></div></div>"
            ]
          },
          "metadata": {},
          "execution_count": 118
        }
      ]
    },
    {
      "cell_type": "code",
      "metadata": {
        "id": "nT0bkkVPv44m",
        "outputId": "e86d88f4-84a0-4b55-886f-2a671e06d2d4",
        "colab": {
          "base_uri": "https://localhost:8080/"
        }
      },
      "source": [
        "print('================ Resultados Mutual Information Filter Random Forests =================\\n')\n",
        "print(classification_report(y_test, rf_mutual.predict(X_test_mutual)))"
      ],
      "execution_count": 119,
      "outputs": [
        {
          "output_type": "stream",
          "name": "stdout",
          "text": [
            "================ Resultados Mutual Information Filter Random Forests =================\n",
            "\n",
            "              precision    recall  f1-score   support\n",
            "\n",
            "           0       0.42      0.48      0.45        50\n",
            "           1       0.82      0.78      0.80       150\n",
            "\n",
            "    accuracy                           0.70       200\n",
            "   macro avg       0.62      0.63      0.62       200\n",
            "weighted avg       0.72      0.70      0.71       200\n",
            "\n"
          ]
        }
      ]
    },
    {
      "cell_type": "code",
      "metadata": {
        "id": "BiSYx7DBwfvj"
      },
      "source": [],
      "execution_count": null,
      "outputs": []
    }
  ]
}