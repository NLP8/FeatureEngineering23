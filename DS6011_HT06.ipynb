{
  "nbformat": 4,
  "nbformat_minor": 0,
  "metadata": {
    "colab": {
      "provenance": []
    },
    "kernelspec": {
      "name": "python3",
      "display_name": "Python 3"
    },
    "language_info": {
      "name": "python"
    }
  },
  "cells": [
    {
      "cell_type": "markdown",
      "metadata": {
        "id": "saaO06RMwzGH"
      },
      "source": [
        "# Hoja de Trabajo \\# 6\n",
        "\n",
        "\n",
        "---\n",
        "\n",
        "\n",
        "por Josué Obregón <br>\n",
        "DS6011 - Feature Engineering <br>\n",
        "UVG Masters - Escuela de Negocios<br>\n"
      ]
    },
    {
      "cell_type": "markdown",
      "metadata": {
        "id": "w0-nImUHNxOv"
      },
      "source": [
        "## Objetivos\n",
        "\n",
        "El objetivo de esta hoja de trabajo  es presentar al estudiante diferentes técnicas selección de atributos.\n",
        "\n",
        "También se busca que el estudiante practique la utilización de éstas técnicas con las librerías disponibles en el lenguaje Python."
      ]
    },
    {
      "cell_type": "markdown",
      "metadata": {
        "id": "RYjZ_KEuTCTe"
      },
      "source": [
        "## Importación de librerías y carga de los datos\n",
        "\n",
        "Las librerías que importaremos para empezar son pandas y numpy para el manejo de los datos, y matplotlib, seaborn y plotly para la generación de visualizaciones. \n",
        "\n"
      ]
    },
    {
      "cell_type": "code",
      "metadata": {
        "id": "EoXELFC48mlh"
      },
      "source": [
        "import pandas as pd\n",
        "import numpy as np\n",
        "import matplotlib.pyplot as plt\n",
        "import seaborn as sns\n",
        "import plotly.express as px\n",
        "import plotly.graph_objects as go"
      ],
      "execution_count": 1,
      "outputs": []
    },
    {
      "cell_type": "markdown",
      "metadata": {
        "id": "D2RN6ldfA9Mb"
      },
      "source": [
        "### Cargando los datos"
      ]
    },
    {
      "cell_type": "code",
      "metadata": {
        "id": "U1qfjKMGBAyj"
      },
      "source": [
        "from sklearn.datasets import fetch_openml\n",
        "from sklearn.preprocessing import LabelEncoder\n",
        "from sklearn.model_selection import train_test_split"
      ],
      "execution_count": 2,
      "outputs": []
    },
    {
      "cell_type": "code",
      "metadata": {
        "id": "xSUrDnSQBFoe",
        "outputId": "b6292a18-5187-427a-d517-f3fe7199c52c",
        "colab": {
          "base_uri": "https://localhost:8080/"
        }
      },
      "source": [
        "credit_g =  fetch_openml('credit-g') # https://www.openml.org/t/31"
      ],
      "execution_count": 3,
      "outputs": [
        {
          "output_type": "stream",
          "name": "stderr",
          "text": [
            "/usr/local/lib/python3.10/dist-packages/sklearn/datasets/_openml.py:301: UserWarning: Multiple active versions of the dataset matching the name credit-g exist. Versions may be fundamentally different, returning version 1.\n",
            "  warn(\n",
            "/usr/local/lib/python3.10/dist-packages/sklearn/datasets/_openml.py:968: FutureWarning: The default value of `parser` will change from `'liac-arff'` to `'auto'` in 1.4. You can set `parser='auto'` to silence this warning. Therefore, an `ImportError` will be raised from 1.4 if the dataset is dense and pandas is not installed. Note that the pandas parser may return different data types. See the Notes Section in fetch_openml's API doc for details.\n",
            "  warn(\n"
          ]
        }
      ]
    },
    {
      "cell_type": "code",
      "metadata": {
        "id": "5SQfRjhbBhal",
        "outputId": "48847af2-002a-4436-c8d6-24d28a46dd42",
        "colab": {
          "base_uri": "https://localhost:8080/"
        }
      },
      "source": [
        "credit_g.keys()"
      ],
      "execution_count": 4,
      "outputs": [
        {
          "output_type": "execute_result",
          "data": {
            "text/plain": [
              "dict_keys(['data', 'target', 'frame', 'categories', 'feature_names', 'target_names', 'DESCR', 'details', 'url'])"
            ]
          },
          "metadata": {},
          "execution_count": 4
        }
      ]
    },
    {
      "cell_type": "code",
      "metadata": {
        "id": "kYdAx40dBFrS",
        "outputId": "07398f54-aa70-4266-dde1-a0a004b574ba",
        "colab": {
          "base_uri": "https://localhost:8080/"
        }
      },
      "source": [
        "print(credit_g['DESCR'])"
      ],
      "execution_count": 5,
      "outputs": [
        {
          "output_type": "stream",
          "name": "stdout",
          "text": [
            "**Author**: Dr. Hans Hofmann  \n",
            "**Source**: [UCI](https://archive.ics.uci.edu/ml/datasets/statlog+(german+credit+data)) - 1994    \n",
            "**Please cite**: [UCI](https://archive.ics.uci.edu/ml/citation_policy.html)\n",
            "\n",
            "**German Credit dataset**  \n",
            "This dataset classifies people described by a set of attributes as good or bad credit risks.\n",
            "\n",
            "This dataset comes with a cost matrix: \n",
            "``` \n",
            "Good  Bad (predicted)  \n",
            "Good   0    1   (actual)  \n",
            "Bad    5    0  \n",
            "```\n",
            "\n",
            "It is worse to class a customer as good when they are bad (5), than it is to class a customer as bad when they are good (1).  \n",
            "\n",
            "### Attribute description  \n",
            "\n",
            "1. Status of existing checking account, in Deutsche Mark.  \n",
            "2. Duration in months  \n",
            "3. Credit history (credits taken, paid back duly, delays, critical accounts)  \n",
            "4. Purpose of the credit (car, television,...)  \n",
            "5. Credit amount  \n",
            "6. Status of savings account/bonds, in Deutsche Mark.  \n",
            "7. Present employment, in number of years.  \n",
            "8. Installment rate in percentage of disposable income  \n",
            "9. Personal status (married, single,...) and sex  \n",
            "10. Other debtors / guarantors  \n",
            "11. Present residence since X years  \n",
            "12. Property (e.g. real estate)  \n",
            "13. Age in years  \n",
            "14. Other installment plans (banks, stores)  \n",
            "15. Housing (rent, own,...)  \n",
            "16. Number of existing credits at this bank  \n",
            "17. Job  \n",
            "18. Number of people being liable to provide maintenance for  \n",
            "19. Telephone (yes,no)  \n",
            "20. Foreign worker (yes,no)\n",
            "\n",
            "Downloaded from openml.org.\n"
          ]
        }
      ]
    },
    {
      "cell_type": "code",
      "metadata": {
        "id": "aLbwlg78BFts",
        "outputId": "98ba3100-8540-487a-8ef8-de9105d7d3c3",
        "colab": {
          "base_uri": "https://localhost:8080/"
        }
      },
      "source": [
        "df_credit = credit_g['data']\n",
        "lbl_enc = LabelEncoder()\n",
        "df_credit['class']= lbl_enc.fit_transform(credit_g['target'])\n",
        "df_credit.head()"
      ],
      "execution_count": 6,
      "outputs": [
        {
          "output_type": "execute_result",
          "data": {
            "text/plain": [
              "  checking_status  duration                  credit_history  \\\n",
              "0              <0       6.0  critical/other existing credit   \n",
              "1        0<=X<200      48.0                   existing paid   \n",
              "2     no checking      12.0  critical/other existing credit   \n",
              "3              <0      42.0                   existing paid   \n",
              "4              <0      24.0              delayed previously   \n",
              "\n",
              "               purpose  credit_amount    savings_status employment  \\\n",
              "0             radio/tv         1169.0  no known savings        >=7   \n",
              "1             radio/tv         5951.0              <100     1<=X<4   \n",
              "2            education         2096.0              <100     4<=X<7   \n",
              "3  furniture/equipment         7882.0              <100     4<=X<7   \n",
              "4              new car         4870.0              <100     1<=X<4   \n",
              "\n",
              "   installment_commitment     personal_status other_parties  ...  \\\n",
              "0                     4.0         male single          none  ...   \n",
              "1                     2.0  female div/dep/mar          none  ...   \n",
              "2                     2.0         male single          none  ...   \n",
              "3                     2.0         male single     guarantor  ...   \n",
              "4                     3.0         male single          none  ...   \n",
              "\n",
              "   property_magnitude   age  other_payment_plans   housing existing_credits  \\\n",
              "0         real estate  67.0                 none       own              2.0   \n",
              "1         real estate  22.0                 none       own              1.0   \n",
              "2         real estate  49.0                 none       own              1.0   \n",
              "3      life insurance  45.0                 none  for free              1.0   \n",
              "4   no known property  53.0                 none  for free              2.0   \n",
              "\n",
              "                  job num_dependents  own_telephone foreign_worker class  \n",
              "0             skilled            1.0            yes            yes     1  \n",
              "1             skilled            1.0           none            yes     0  \n",
              "2  unskilled resident            2.0           none            yes     1  \n",
              "3             skilled            2.0           none            yes     1  \n",
              "4             skilled            2.0           none            yes     0  \n",
              "\n",
              "[5 rows x 21 columns]"
            ],
            "text/html": [
              "\n",
              "  <div id=\"df-94bc1d8f-75e1-4498-911d-c1eec55f8130\">\n",
              "    <div class=\"colab-df-container\">\n",
              "      <div>\n",
              "<style scoped>\n",
              "    .dataframe tbody tr th:only-of-type {\n",
              "        vertical-align: middle;\n",
              "    }\n",
              "\n",
              "    .dataframe tbody tr th {\n",
              "        vertical-align: top;\n",
              "    }\n",
              "\n",
              "    .dataframe thead th {\n",
              "        text-align: right;\n",
              "    }\n",
              "</style>\n",
              "<table border=\"1\" class=\"dataframe\">\n",
              "  <thead>\n",
              "    <tr style=\"text-align: right;\">\n",
              "      <th></th>\n",
              "      <th>checking_status</th>\n",
              "      <th>duration</th>\n",
              "      <th>credit_history</th>\n",
              "      <th>purpose</th>\n",
              "      <th>credit_amount</th>\n",
              "      <th>savings_status</th>\n",
              "      <th>employment</th>\n",
              "      <th>installment_commitment</th>\n",
              "      <th>personal_status</th>\n",
              "      <th>other_parties</th>\n",
              "      <th>...</th>\n",
              "      <th>property_magnitude</th>\n",
              "      <th>age</th>\n",
              "      <th>other_payment_plans</th>\n",
              "      <th>housing</th>\n",
              "      <th>existing_credits</th>\n",
              "      <th>job</th>\n",
              "      <th>num_dependents</th>\n",
              "      <th>own_telephone</th>\n",
              "      <th>foreign_worker</th>\n",
              "      <th>class</th>\n",
              "    </tr>\n",
              "  </thead>\n",
              "  <tbody>\n",
              "    <tr>\n",
              "      <th>0</th>\n",
              "      <td>&lt;0</td>\n",
              "      <td>6.0</td>\n",
              "      <td>critical/other existing credit</td>\n",
              "      <td>radio/tv</td>\n",
              "      <td>1169.0</td>\n",
              "      <td>no known savings</td>\n",
              "      <td>&gt;=7</td>\n",
              "      <td>4.0</td>\n",
              "      <td>male single</td>\n",
              "      <td>none</td>\n",
              "      <td>...</td>\n",
              "      <td>real estate</td>\n",
              "      <td>67.0</td>\n",
              "      <td>none</td>\n",
              "      <td>own</td>\n",
              "      <td>2.0</td>\n",
              "      <td>skilled</td>\n",
              "      <td>1.0</td>\n",
              "      <td>yes</td>\n",
              "      <td>yes</td>\n",
              "      <td>1</td>\n",
              "    </tr>\n",
              "    <tr>\n",
              "      <th>1</th>\n",
              "      <td>0&lt;=X&lt;200</td>\n",
              "      <td>48.0</td>\n",
              "      <td>existing paid</td>\n",
              "      <td>radio/tv</td>\n",
              "      <td>5951.0</td>\n",
              "      <td>&lt;100</td>\n",
              "      <td>1&lt;=X&lt;4</td>\n",
              "      <td>2.0</td>\n",
              "      <td>female div/dep/mar</td>\n",
              "      <td>none</td>\n",
              "      <td>...</td>\n",
              "      <td>real estate</td>\n",
              "      <td>22.0</td>\n",
              "      <td>none</td>\n",
              "      <td>own</td>\n",
              "      <td>1.0</td>\n",
              "      <td>skilled</td>\n",
              "      <td>1.0</td>\n",
              "      <td>none</td>\n",
              "      <td>yes</td>\n",
              "      <td>0</td>\n",
              "    </tr>\n",
              "    <tr>\n",
              "      <th>2</th>\n",
              "      <td>no checking</td>\n",
              "      <td>12.0</td>\n",
              "      <td>critical/other existing credit</td>\n",
              "      <td>education</td>\n",
              "      <td>2096.0</td>\n",
              "      <td>&lt;100</td>\n",
              "      <td>4&lt;=X&lt;7</td>\n",
              "      <td>2.0</td>\n",
              "      <td>male single</td>\n",
              "      <td>none</td>\n",
              "      <td>...</td>\n",
              "      <td>real estate</td>\n",
              "      <td>49.0</td>\n",
              "      <td>none</td>\n",
              "      <td>own</td>\n",
              "      <td>1.0</td>\n",
              "      <td>unskilled resident</td>\n",
              "      <td>2.0</td>\n",
              "      <td>none</td>\n",
              "      <td>yes</td>\n",
              "      <td>1</td>\n",
              "    </tr>\n",
              "    <tr>\n",
              "      <th>3</th>\n",
              "      <td>&lt;0</td>\n",
              "      <td>42.0</td>\n",
              "      <td>existing paid</td>\n",
              "      <td>furniture/equipment</td>\n",
              "      <td>7882.0</td>\n",
              "      <td>&lt;100</td>\n",
              "      <td>4&lt;=X&lt;7</td>\n",
              "      <td>2.0</td>\n",
              "      <td>male single</td>\n",
              "      <td>guarantor</td>\n",
              "      <td>...</td>\n",
              "      <td>life insurance</td>\n",
              "      <td>45.0</td>\n",
              "      <td>none</td>\n",
              "      <td>for free</td>\n",
              "      <td>1.0</td>\n",
              "      <td>skilled</td>\n",
              "      <td>2.0</td>\n",
              "      <td>none</td>\n",
              "      <td>yes</td>\n",
              "      <td>1</td>\n",
              "    </tr>\n",
              "    <tr>\n",
              "      <th>4</th>\n",
              "      <td>&lt;0</td>\n",
              "      <td>24.0</td>\n",
              "      <td>delayed previously</td>\n",
              "      <td>new car</td>\n",
              "      <td>4870.0</td>\n",
              "      <td>&lt;100</td>\n",
              "      <td>1&lt;=X&lt;4</td>\n",
              "      <td>3.0</td>\n",
              "      <td>male single</td>\n",
              "      <td>none</td>\n",
              "      <td>...</td>\n",
              "      <td>no known property</td>\n",
              "      <td>53.0</td>\n",
              "      <td>none</td>\n",
              "      <td>for free</td>\n",
              "      <td>2.0</td>\n",
              "      <td>skilled</td>\n",
              "      <td>2.0</td>\n",
              "      <td>none</td>\n",
              "      <td>yes</td>\n",
              "      <td>0</td>\n",
              "    </tr>\n",
              "  </tbody>\n",
              "</table>\n",
              "<p>5 rows × 21 columns</p>\n",
              "</div>\n",
              "      <button class=\"colab-df-convert\" onclick=\"convertToInteractive('df-94bc1d8f-75e1-4498-911d-c1eec55f8130')\"\n",
              "              title=\"Convert this dataframe to an interactive table.\"\n",
              "              style=\"display:none;\">\n",
              "        \n",
              "  <svg xmlns=\"http://www.w3.org/2000/svg\" height=\"24px\"viewBox=\"0 0 24 24\"\n",
              "       width=\"24px\">\n",
              "    <path d=\"M0 0h24v24H0V0z\" fill=\"none\"/>\n",
              "    <path d=\"M18.56 5.44l.94 2.06.94-2.06 2.06-.94-2.06-.94-.94-2.06-.94 2.06-2.06.94zm-11 1L8.5 8.5l.94-2.06 2.06-.94-2.06-.94L8.5 2.5l-.94 2.06-2.06.94zm10 10l.94 2.06.94-2.06 2.06-.94-2.06-.94-.94-2.06-.94 2.06-2.06.94z\"/><path d=\"M17.41 7.96l-1.37-1.37c-.4-.4-.92-.59-1.43-.59-.52 0-1.04.2-1.43.59L10.3 9.45l-7.72 7.72c-.78.78-.78 2.05 0 2.83L4 21.41c.39.39.9.59 1.41.59.51 0 1.02-.2 1.41-.59l7.78-7.78 2.81-2.81c.8-.78.8-2.07 0-2.86zM5.41 20L4 18.59l7.72-7.72 1.47 1.35L5.41 20z\"/>\n",
              "  </svg>\n",
              "      </button>\n",
              "      \n",
              "  <style>\n",
              "    .colab-df-container {\n",
              "      display:flex;\n",
              "      flex-wrap:wrap;\n",
              "      gap: 12px;\n",
              "    }\n",
              "\n",
              "    .colab-df-convert {\n",
              "      background-color: #E8F0FE;\n",
              "      border: none;\n",
              "      border-radius: 50%;\n",
              "      cursor: pointer;\n",
              "      display: none;\n",
              "      fill: #1967D2;\n",
              "      height: 32px;\n",
              "      padding: 0 0 0 0;\n",
              "      width: 32px;\n",
              "    }\n",
              "\n",
              "    .colab-df-convert:hover {\n",
              "      background-color: #E2EBFA;\n",
              "      box-shadow: 0px 1px 2px rgba(60, 64, 67, 0.3), 0px 1px 3px 1px rgba(60, 64, 67, 0.15);\n",
              "      fill: #174EA6;\n",
              "    }\n",
              "\n",
              "    [theme=dark] .colab-df-convert {\n",
              "      background-color: #3B4455;\n",
              "      fill: #D2E3FC;\n",
              "    }\n",
              "\n",
              "    [theme=dark] .colab-df-convert:hover {\n",
              "      background-color: #434B5C;\n",
              "      box-shadow: 0px 1px 3px 1px rgba(0, 0, 0, 0.15);\n",
              "      filter: drop-shadow(0px 1px 2px rgba(0, 0, 0, 0.3));\n",
              "      fill: #FFFFFF;\n",
              "    }\n",
              "  </style>\n",
              "\n",
              "      <script>\n",
              "        const buttonEl =\n",
              "          document.querySelector('#df-94bc1d8f-75e1-4498-911d-c1eec55f8130 button.colab-df-convert');\n",
              "        buttonEl.style.display =\n",
              "          google.colab.kernel.accessAllowed ? 'block' : 'none';\n",
              "\n",
              "        async function convertToInteractive(key) {\n",
              "          const element = document.querySelector('#df-94bc1d8f-75e1-4498-911d-c1eec55f8130');\n",
              "          const dataTable =\n",
              "            await google.colab.kernel.invokeFunction('convertToInteractive',\n",
              "                                                     [key], {});\n",
              "          if (!dataTable) return;\n",
              "\n",
              "          const docLinkHtml = 'Like what you see? Visit the ' +\n",
              "            '<a target=\"_blank\" href=https://colab.research.google.com/notebooks/data_table.ipynb>data table notebook</a>'\n",
              "            + ' to learn more about interactive tables.';\n",
              "          element.innerHTML = '';\n",
              "          dataTable['output_type'] = 'display_data';\n",
              "          await google.colab.output.renderOutput(dataTable, element);\n",
              "          const docLink = document.createElement('div');\n",
              "          docLink.innerHTML = docLinkHtml;\n",
              "          element.appendChild(docLink);\n",
              "        }\n",
              "      </script>\n",
              "    </div>\n",
              "  </div>\n",
              "  "
            ]
          },
          "metadata": {},
          "execution_count": 6
        }
      ]
    },
    {
      "cell_type": "markdown",
      "metadata": {
        "id": "35BTVieVKnBm"
      },
      "source": [
        "Generamos el conjunto de datos de entrenamiento y el de prueba"
      ]
    },
    {
      "cell_type": "code",
      "metadata": {
        "id": "U4Zj1Ex6KKgM",
        "outputId": "7489e2f8-80be-4451-d7ec-6e9a4df023a9",
        "colab": {
          "base_uri": "https://localhost:8080/"
        }
      },
      "source": [
        "X_train, X_test, y_train, y_test = train_test_split(df_credit.drop(['class'],axis=1),df_credit['class'],train_size=0.80, random_state=6011, shuffle=True)\n",
        "print(X_train.shape)\n",
        "print(y_train.shape)\n",
        "print(X_test.shape)\n",
        "print(y_test.shape)"
      ],
      "execution_count": 7,
      "outputs": [
        {
          "output_type": "stream",
          "name": "stdout",
          "text": [
            "(800, 20)\n",
            "(800,)\n",
            "(200, 20)\n",
            "(200,)\n"
          ]
        }
      ]
    },
    {
      "cell_type": "markdown",
      "metadata": {
        "id": "3vtAGMPVIgp6"
      },
      "source": [
        "#### Codificando variables categóricas"
      ]
    },
    {
      "cell_type": "code",
      "metadata": {
        "id": "aJpOmmoqdQyM",
        "outputId": "bb051916-a695-491b-cf41-b3ae84339819",
        "colab": {
          "base_uri": "https://localhost:8080/"
        }
      },
      "source": [
        "!pip install category_encoders"
      ],
      "execution_count": 8,
      "outputs": [
        {
          "output_type": "stream",
          "name": "stdout",
          "text": [
            "Looking in indexes: https://pypi.org/simple, https://us-python.pkg.dev/colab-wheels/public/simple/\n",
            "Collecting category_encoders\n",
            "  Downloading category_encoders-2.6.1-py2.py3-none-any.whl (81 kB)\n",
            "\u001b[2K     \u001b[90m━━━━━━━━━━━━━━━━━━━━━━━━━━━━━━━━━━━━━━━━\u001b[0m \u001b[32m81.9/81.9 kB\u001b[0m \u001b[31m2.8 MB/s\u001b[0m eta \u001b[36m0:00:00\u001b[0m\n",
            "\u001b[?25hRequirement already satisfied: numpy>=1.14.0 in /usr/local/lib/python3.10/dist-packages (from category_encoders) (1.22.4)\n",
            "Requirement already satisfied: scikit-learn>=0.20.0 in /usr/local/lib/python3.10/dist-packages (from category_encoders) (1.2.2)\n",
            "Requirement already satisfied: scipy>=1.0.0 in /usr/local/lib/python3.10/dist-packages (from category_encoders) (1.10.1)\n",
            "Requirement already satisfied: statsmodels>=0.9.0 in /usr/local/lib/python3.10/dist-packages (from category_encoders) (0.13.5)\n",
            "Requirement already satisfied: pandas>=1.0.5 in /usr/local/lib/python3.10/dist-packages (from category_encoders) (1.5.3)\n",
            "Requirement already satisfied: patsy>=0.5.1 in /usr/local/lib/python3.10/dist-packages (from category_encoders) (0.5.3)\n",
            "Requirement already satisfied: python-dateutil>=2.8.1 in /usr/local/lib/python3.10/dist-packages (from pandas>=1.0.5->category_encoders) (2.8.2)\n",
            "Requirement already satisfied: pytz>=2020.1 in /usr/local/lib/python3.10/dist-packages (from pandas>=1.0.5->category_encoders) (2022.7.1)\n",
            "Requirement already satisfied: six in /usr/local/lib/python3.10/dist-packages (from patsy>=0.5.1->category_encoders) (1.16.0)\n",
            "Requirement already satisfied: joblib>=1.1.1 in /usr/local/lib/python3.10/dist-packages (from scikit-learn>=0.20.0->category_encoders) (1.2.0)\n",
            "Requirement already satisfied: threadpoolctl>=2.0.0 in /usr/local/lib/python3.10/dist-packages (from scikit-learn>=0.20.0->category_encoders) (3.1.0)\n",
            "Requirement already satisfied: packaging>=21.3 in /usr/local/lib/python3.10/dist-packages (from statsmodels>=0.9.0->category_encoders) (23.1)\n",
            "Installing collected packages: category_encoders\n",
            "Successfully installed category_encoders-2.6.1\n"
          ]
        }
      ]
    },
    {
      "cell_type": "code",
      "metadata": {
        "id": "DPjxMGjDdV0k"
      },
      "source": [
        "from category_encoders import MEstimateEncoder"
      ],
      "execution_count": 9,
      "outputs": []
    },
    {
      "cell_type": "code",
      "metadata": {
        "id": "kJCDGOZ_EJnu"
      },
      "source": [
        "cat_cols = ['checking_status','credit_history','purpose','savings_status','employment','personal_status','other_parties','residence_since','property_magnitude','other_payment_plans','housing','job','own_telephone','foreign_worker']"
      ],
      "execution_count": 10,
      "outputs": []
    },
    {
      "cell_type": "code",
      "metadata": {
        "id": "pdO125jHdcsY"
      },
      "source": [
        "mest_enc = MEstimateEncoder(cols=cat_cols)"
      ],
      "execution_count": 11,
      "outputs": []
    },
    {
      "cell_type": "code",
      "metadata": {
        "id": "16qqaIGteC-A"
      },
      "source": [
        "X_train_cod1 = mest_enc.fit_transform(X_train, y_train)"
      ],
      "execution_count": 12,
      "outputs": []
    },
    {
      "cell_type": "code",
      "metadata": {
        "id": "phDz1BK0eDAy",
        "outputId": "a5d3fc5b-8332-4260-8386-119df034e759",
        "colab": {
          "base_uri": "https://localhost:8080/"
        }
      },
      "source": [
        "X_train_cod1"
      ],
      "execution_count": 13,
      "outputs": [
        {
          "output_type": "execute_result",
          "data": {
            "text/plain": [
              "     checking_status  duration  credit_history   purpose  credit_amount  \\\n",
              "621         0.874023      18.0        0.824947  0.607955         1530.0   \n",
              "199         0.611944      18.0        0.671875  0.679789         4297.0   \n",
              "360         0.611944      18.0        0.663586  0.556090         1239.0   \n",
              "65          0.874023      27.0        0.663586  0.634375         5190.0   \n",
              "981         0.874023      48.0        0.663586  0.638117         4844.0   \n",
              "..               ...       ...             ...       ...            ...   \n",
              "187         0.611944      16.0        0.824947  0.607955         1175.0   \n",
              "478         0.611944      12.0        0.663586  0.638117         1037.0   \n",
              "559         0.611944      18.0        0.824947  0.679789         1928.0   \n",
              "305         0.874023       6.0        0.663586  0.679789         1543.0   \n",
              "243         0.874023      12.0        0.824947  0.638117         1185.0   \n",
              "\n",
              "     savings_status  employment  installment_commitment  personal_status  \\\n",
              "621        0.622500    0.683036                     3.0         0.723900   \n",
              "199        0.622500    0.737377                     4.0         0.597384   \n",
              "360        0.803272    0.683036                     4.0         0.723900   \n",
              "65         0.803272    0.737377                     4.0         0.723900   \n",
              "981        0.622500    0.593750                     3.0         0.723900   \n",
              "..              ...         ...                     ...              ...   \n",
              "187        0.622500    0.593750                     2.0         0.723900   \n",
              "478        0.681882    0.784052                     3.0         0.723900   \n",
              "559        0.622500    0.558067                     2.0         0.723900   \n",
              "305        0.876453    0.683036                     4.0         0.597384   \n",
              "243        0.622500    0.683036                     3.0         0.623214   \n",
              "\n",
              "     other_parties  residence_since  property_magnitude   age  \\\n",
              "621       0.688523         0.672262            0.672126  32.0   \n",
              "199       0.688523         0.709500            0.550305  40.0   \n",
              "360       0.688523         0.681835            0.550305  61.0   \n",
              "65        0.688523         0.681835            0.672126  48.0   \n",
              "981       0.688523         0.672262            0.679136  33.0   \n",
              "..             ...              ...                 ...   ...   \n",
              "187       0.688523         0.709500            0.679136  68.0   \n",
              "478       0.688523         0.681835            0.785278  39.0   \n",
              "559       0.688523         0.672262            0.785278  31.0   \n",
              "305       0.688523         0.672262            0.785278  33.0   \n",
              "243       0.688523         0.672262            0.785278  27.0   \n",
              "\n",
              "     other_payment_plans   housing  existing_credits       job  \\\n",
              "621             0.568638  0.724373               2.0  0.692749   \n",
              "199             0.712270  0.724373               1.0  0.629808   \n",
              "360             0.712270  0.586596               1.0  0.692749   \n",
              "65              0.712270  0.724373               4.0  0.692749   \n",
              "981             0.568638  0.596391               1.0  0.629808   \n",
              "..                   ...       ...               ...       ...   \n",
              "187             0.712270  0.586596               3.0  0.593750   \n",
              "478             0.712270  0.724373               1.0  0.724124   \n",
              "559             0.712270  0.724373               2.0  0.724124   \n",
              "305             0.712270  0.724373               1.0  0.692749   \n",
              "243             0.712270  0.724373               2.0  0.692749   \n",
              "\n",
              "     num_dependents  own_telephone  foreign_worker  \n",
              "621             1.0       0.674349        0.680114  \n",
              "199             1.0       0.707104        0.680114  \n",
              "360             1.0       0.674349        0.680114  \n",
              "65              2.0       0.707104        0.680114  \n",
              "981             1.0       0.707104        0.680114  \n",
              "..              ...            ...             ...  \n",
              "187             1.0       0.707104        0.680114  \n",
              "478             1.0       0.674349        0.680114  \n",
              "559             1.0       0.674349        0.680114  \n",
              "305             1.0       0.674349        0.680114  \n",
              "243             1.0       0.674349        0.680114  \n",
              "\n",
              "[800 rows x 20 columns]"
            ],
            "text/html": [
              "\n",
              "  <div id=\"df-46110602-2df1-4822-86b6-5e23a3b2ffbb\">\n",
              "    <div class=\"colab-df-container\">\n",
              "      <div>\n",
              "<style scoped>\n",
              "    .dataframe tbody tr th:only-of-type {\n",
              "        vertical-align: middle;\n",
              "    }\n",
              "\n",
              "    .dataframe tbody tr th {\n",
              "        vertical-align: top;\n",
              "    }\n",
              "\n",
              "    .dataframe thead th {\n",
              "        text-align: right;\n",
              "    }\n",
              "</style>\n",
              "<table border=\"1\" class=\"dataframe\">\n",
              "  <thead>\n",
              "    <tr style=\"text-align: right;\">\n",
              "      <th></th>\n",
              "      <th>checking_status</th>\n",
              "      <th>duration</th>\n",
              "      <th>credit_history</th>\n",
              "      <th>purpose</th>\n",
              "      <th>credit_amount</th>\n",
              "      <th>savings_status</th>\n",
              "      <th>employment</th>\n",
              "      <th>installment_commitment</th>\n",
              "      <th>personal_status</th>\n",
              "      <th>other_parties</th>\n",
              "      <th>residence_since</th>\n",
              "      <th>property_magnitude</th>\n",
              "      <th>age</th>\n",
              "      <th>other_payment_plans</th>\n",
              "      <th>housing</th>\n",
              "      <th>existing_credits</th>\n",
              "      <th>job</th>\n",
              "      <th>num_dependents</th>\n",
              "      <th>own_telephone</th>\n",
              "      <th>foreign_worker</th>\n",
              "    </tr>\n",
              "  </thead>\n",
              "  <tbody>\n",
              "    <tr>\n",
              "      <th>621</th>\n",
              "      <td>0.874023</td>\n",
              "      <td>18.0</td>\n",
              "      <td>0.824947</td>\n",
              "      <td>0.607955</td>\n",
              "      <td>1530.0</td>\n",
              "      <td>0.622500</td>\n",
              "      <td>0.683036</td>\n",
              "      <td>3.0</td>\n",
              "      <td>0.723900</td>\n",
              "      <td>0.688523</td>\n",
              "      <td>0.672262</td>\n",
              "      <td>0.672126</td>\n",
              "      <td>32.0</td>\n",
              "      <td>0.568638</td>\n",
              "      <td>0.724373</td>\n",
              "      <td>2.0</td>\n",
              "      <td>0.692749</td>\n",
              "      <td>1.0</td>\n",
              "      <td>0.674349</td>\n",
              "      <td>0.680114</td>\n",
              "    </tr>\n",
              "    <tr>\n",
              "      <th>199</th>\n",
              "      <td>0.611944</td>\n",
              "      <td>18.0</td>\n",
              "      <td>0.671875</td>\n",
              "      <td>0.679789</td>\n",
              "      <td>4297.0</td>\n",
              "      <td>0.622500</td>\n",
              "      <td>0.737377</td>\n",
              "      <td>4.0</td>\n",
              "      <td>0.597384</td>\n",
              "      <td>0.688523</td>\n",
              "      <td>0.709500</td>\n",
              "      <td>0.550305</td>\n",
              "      <td>40.0</td>\n",
              "      <td>0.712270</td>\n",
              "      <td>0.724373</td>\n",
              "      <td>1.0</td>\n",
              "      <td>0.629808</td>\n",
              "      <td>1.0</td>\n",
              "      <td>0.707104</td>\n",
              "      <td>0.680114</td>\n",
              "    </tr>\n",
              "    <tr>\n",
              "      <th>360</th>\n",
              "      <td>0.611944</td>\n",
              "      <td>18.0</td>\n",
              "      <td>0.663586</td>\n",
              "      <td>0.556090</td>\n",
              "      <td>1239.0</td>\n",
              "      <td>0.803272</td>\n",
              "      <td>0.683036</td>\n",
              "      <td>4.0</td>\n",
              "      <td>0.723900</td>\n",
              "      <td>0.688523</td>\n",
              "      <td>0.681835</td>\n",
              "      <td>0.550305</td>\n",
              "      <td>61.0</td>\n",
              "      <td>0.712270</td>\n",
              "      <td>0.586596</td>\n",
              "      <td>1.0</td>\n",
              "      <td>0.692749</td>\n",
              "      <td>1.0</td>\n",
              "      <td>0.674349</td>\n",
              "      <td>0.680114</td>\n",
              "    </tr>\n",
              "    <tr>\n",
              "      <th>65</th>\n",
              "      <td>0.874023</td>\n",
              "      <td>27.0</td>\n",
              "      <td>0.663586</td>\n",
              "      <td>0.634375</td>\n",
              "      <td>5190.0</td>\n",
              "      <td>0.803272</td>\n",
              "      <td>0.737377</td>\n",
              "      <td>4.0</td>\n",
              "      <td>0.723900</td>\n",
              "      <td>0.688523</td>\n",
              "      <td>0.681835</td>\n",
              "      <td>0.672126</td>\n",
              "      <td>48.0</td>\n",
              "      <td>0.712270</td>\n",
              "      <td>0.724373</td>\n",
              "      <td>4.0</td>\n",
              "      <td>0.692749</td>\n",
              "      <td>2.0</td>\n",
              "      <td>0.707104</td>\n",
              "      <td>0.680114</td>\n",
              "    </tr>\n",
              "    <tr>\n",
              "      <th>981</th>\n",
              "      <td>0.874023</td>\n",
              "      <td>48.0</td>\n",
              "      <td>0.663586</td>\n",
              "      <td>0.638117</td>\n",
              "      <td>4844.0</td>\n",
              "      <td>0.622500</td>\n",
              "      <td>0.593750</td>\n",
              "      <td>3.0</td>\n",
              "      <td>0.723900</td>\n",
              "      <td>0.688523</td>\n",
              "      <td>0.672262</td>\n",
              "      <td>0.679136</td>\n",
              "      <td>33.0</td>\n",
              "      <td>0.568638</td>\n",
              "      <td>0.596391</td>\n",
              "      <td>1.0</td>\n",
              "      <td>0.629808</td>\n",
              "      <td>1.0</td>\n",
              "      <td>0.707104</td>\n",
              "      <td>0.680114</td>\n",
              "    </tr>\n",
              "    <tr>\n",
              "      <th>...</th>\n",
              "      <td>...</td>\n",
              "      <td>...</td>\n",
              "      <td>...</td>\n",
              "      <td>...</td>\n",
              "      <td>...</td>\n",
              "      <td>...</td>\n",
              "      <td>...</td>\n",
              "      <td>...</td>\n",
              "      <td>...</td>\n",
              "      <td>...</td>\n",
              "      <td>...</td>\n",
              "      <td>...</td>\n",
              "      <td>...</td>\n",
              "      <td>...</td>\n",
              "      <td>...</td>\n",
              "      <td>...</td>\n",
              "      <td>...</td>\n",
              "      <td>...</td>\n",
              "      <td>...</td>\n",
              "      <td>...</td>\n",
              "    </tr>\n",
              "    <tr>\n",
              "      <th>187</th>\n",
              "      <td>0.611944</td>\n",
              "      <td>16.0</td>\n",
              "      <td>0.824947</td>\n",
              "      <td>0.607955</td>\n",
              "      <td>1175.0</td>\n",
              "      <td>0.622500</td>\n",
              "      <td>0.593750</td>\n",
              "      <td>2.0</td>\n",
              "      <td>0.723900</td>\n",
              "      <td>0.688523</td>\n",
              "      <td>0.709500</td>\n",
              "      <td>0.679136</td>\n",
              "      <td>68.0</td>\n",
              "      <td>0.712270</td>\n",
              "      <td>0.586596</td>\n",
              "      <td>3.0</td>\n",
              "      <td>0.593750</td>\n",
              "      <td>1.0</td>\n",
              "      <td>0.707104</td>\n",
              "      <td>0.680114</td>\n",
              "    </tr>\n",
              "    <tr>\n",
              "      <th>478</th>\n",
              "      <td>0.611944</td>\n",
              "      <td>12.0</td>\n",
              "      <td>0.663586</td>\n",
              "      <td>0.638117</td>\n",
              "      <td>1037.0</td>\n",
              "      <td>0.681882</td>\n",
              "      <td>0.784052</td>\n",
              "      <td>3.0</td>\n",
              "      <td>0.723900</td>\n",
              "      <td>0.688523</td>\n",
              "      <td>0.681835</td>\n",
              "      <td>0.785278</td>\n",
              "      <td>39.0</td>\n",
              "      <td>0.712270</td>\n",
              "      <td>0.724373</td>\n",
              "      <td>1.0</td>\n",
              "      <td>0.724124</td>\n",
              "      <td>1.0</td>\n",
              "      <td>0.674349</td>\n",
              "      <td>0.680114</td>\n",
              "    </tr>\n",
              "    <tr>\n",
              "      <th>559</th>\n",
              "      <td>0.611944</td>\n",
              "      <td>18.0</td>\n",
              "      <td>0.824947</td>\n",
              "      <td>0.679789</td>\n",
              "      <td>1928.0</td>\n",
              "      <td>0.622500</td>\n",
              "      <td>0.558067</td>\n",
              "      <td>2.0</td>\n",
              "      <td>0.723900</td>\n",
              "      <td>0.688523</td>\n",
              "      <td>0.672262</td>\n",
              "      <td>0.785278</td>\n",
              "      <td>31.0</td>\n",
              "      <td>0.712270</td>\n",
              "      <td>0.724373</td>\n",
              "      <td>2.0</td>\n",
              "      <td>0.724124</td>\n",
              "      <td>1.0</td>\n",
              "      <td>0.674349</td>\n",
              "      <td>0.680114</td>\n",
              "    </tr>\n",
              "    <tr>\n",
              "      <th>305</th>\n",
              "      <td>0.874023</td>\n",
              "      <td>6.0</td>\n",
              "      <td>0.663586</td>\n",
              "      <td>0.679789</td>\n",
              "      <td>1543.0</td>\n",
              "      <td>0.876453</td>\n",
              "      <td>0.683036</td>\n",
              "      <td>4.0</td>\n",
              "      <td>0.597384</td>\n",
              "      <td>0.688523</td>\n",
              "      <td>0.672262</td>\n",
              "      <td>0.785278</td>\n",
              "      <td>33.0</td>\n",
              "      <td>0.712270</td>\n",
              "      <td>0.724373</td>\n",
              "      <td>1.0</td>\n",
              "      <td>0.692749</td>\n",
              "      <td>1.0</td>\n",
              "      <td>0.674349</td>\n",
              "      <td>0.680114</td>\n",
              "    </tr>\n",
              "    <tr>\n",
              "      <th>243</th>\n",
              "      <td>0.874023</td>\n",
              "      <td>12.0</td>\n",
              "      <td>0.824947</td>\n",
              "      <td>0.638117</td>\n",
              "      <td>1185.0</td>\n",
              "      <td>0.622500</td>\n",
              "      <td>0.683036</td>\n",
              "      <td>3.0</td>\n",
              "      <td>0.623214</td>\n",
              "      <td>0.688523</td>\n",
              "      <td>0.672262</td>\n",
              "      <td>0.785278</td>\n",
              "      <td>27.0</td>\n",
              "      <td>0.712270</td>\n",
              "      <td>0.724373</td>\n",
              "      <td>2.0</td>\n",
              "      <td>0.692749</td>\n",
              "      <td>1.0</td>\n",
              "      <td>0.674349</td>\n",
              "      <td>0.680114</td>\n",
              "    </tr>\n",
              "  </tbody>\n",
              "</table>\n",
              "<p>800 rows × 20 columns</p>\n",
              "</div>\n",
              "      <button class=\"colab-df-convert\" onclick=\"convertToInteractive('df-46110602-2df1-4822-86b6-5e23a3b2ffbb')\"\n",
              "              title=\"Convert this dataframe to an interactive table.\"\n",
              "              style=\"display:none;\">\n",
              "        \n",
              "  <svg xmlns=\"http://www.w3.org/2000/svg\" height=\"24px\"viewBox=\"0 0 24 24\"\n",
              "       width=\"24px\">\n",
              "    <path d=\"M0 0h24v24H0V0z\" fill=\"none\"/>\n",
              "    <path d=\"M18.56 5.44l.94 2.06.94-2.06 2.06-.94-2.06-.94-.94-2.06-.94 2.06-2.06.94zm-11 1L8.5 8.5l.94-2.06 2.06-.94-2.06-.94L8.5 2.5l-.94 2.06-2.06.94zm10 10l.94 2.06.94-2.06 2.06-.94-2.06-.94-.94-2.06-.94 2.06-2.06.94z\"/><path d=\"M17.41 7.96l-1.37-1.37c-.4-.4-.92-.59-1.43-.59-.52 0-1.04.2-1.43.59L10.3 9.45l-7.72 7.72c-.78.78-.78 2.05 0 2.83L4 21.41c.39.39.9.59 1.41.59.51 0 1.02-.2 1.41-.59l7.78-7.78 2.81-2.81c.8-.78.8-2.07 0-2.86zM5.41 20L4 18.59l7.72-7.72 1.47 1.35L5.41 20z\"/>\n",
              "  </svg>\n",
              "      </button>\n",
              "      \n",
              "  <style>\n",
              "    .colab-df-container {\n",
              "      display:flex;\n",
              "      flex-wrap:wrap;\n",
              "      gap: 12px;\n",
              "    }\n",
              "\n",
              "    .colab-df-convert {\n",
              "      background-color: #E8F0FE;\n",
              "      border: none;\n",
              "      border-radius: 50%;\n",
              "      cursor: pointer;\n",
              "      display: none;\n",
              "      fill: #1967D2;\n",
              "      height: 32px;\n",
              "      padding: 0 0 0 0;\n",
              "      width: 32px;\n",
              "    }\n",
              "\n",
              "    .colab-df-convert:hover {\n",
              "      background-color: #E2EBFA;\n",
              "      box-shadow: 0px 1px 2px rgba(60, 64, 67, 0.3), 0px 1px 3px 1px rgba(60, 64, 67, 0.15);\n",
              "      fill: #174EA6;\n",
              "    }\n",
              "\n",
              "    [theme=dark] .colab-df-convert {\n",
              "      background-color: #3B4455;\n",
              "      fill: #D2E3FC;\n",
              "    }\n",
              "\n",
              "    [theme=dark] .colab-df-convert:hover {\n",
              "      background-color: #434B5C;\n",
              "      box-shadow: 0px 1px 3px 1px rgba(0, 0, 0, 0.15);\n",
              "      filter: drop-shadow(0px 1px 2px rgba(0, 0, 0, 0.3));\n",
              "      fill: #FFFFFF;\n",
              "    }\n",
              "  </style>\n",
              "\n",
              "      <script>\n",
              "        const buttonEl =\n",
              "          document.querySelector('#df-46110602-2df1-4822-86b6-5e23a3b2ffbb button.colab-df-convert');\n",
              "        buttonEl.style.display =\n",
              "          google.colab.kernel.accessAllowed ? 'block' : 'none';\n",
              "\n",
              "        async function convertToInteractive(key) {\n",
              "          const element = document.querySelector('#df-46110602-2df1-4822-86b6-5e23a3b2ffbb');\n",
              "          const dataTable =\n",
              "            await google.colab.kernel.invokeFunction('convertToInteractive',\n",
              "                                                     [key], {});\n",
              "          if (!dataTable) return;\n",
              "\n",
              "          const docLinkHtml = 'Like what you see? Visit the ' +\n",
              "            '<a target=\"_blank\" href=https://colab.research.google.com/notebooks/data_table.ipynb>data table notebook</a>'\n",
              "            + ' to learn more about interactive tables.';\n",
              "          element.innerHTML = '';\n",
              "          dataTable['output_type'] = 'display_data';\n",
              "          await google.colab.output.renderOutput(dataTable, element);\n",
              "          const docLink = document.createElement('div');\n",
              "          docLink.innerHTML = docLinkHtml;\n",
              "          element.appendChild(docLink);\n",
              "        }\n",
              "      </script>\n",
              "    </div>\n",
              "  </div>\n",
              "  "
            ]
          },
          "metadata": {},
          "execution_count": 13
        }
      ]
    },
    {
      "cell_type": "code",
      "metadata": {
        "id": "L3lsJrKFeh9X",
        "outputId": "b081aab5-320d-4f5c-b13e-253f8cb17f6f",
        "colab": {
          "base_uri": "https://localhost:8080/"
        }
      },
      "source": [
        "mest_enc.mapping"
      ],
      "execution_count": 14,
      "outputs": [
        {
          "output_type": "execute_result",
          "data": {
            "text/plain": [
              "{'checking_status': checking_status\n",
              "  1    0.874023\n",
              "  2    0.611944\n",
              "  3    0.477192\n",
              "  4    0.722656\n",
              " -1    0.687500\n",
              " -2    0.687500\n",
              " dtype: float64,\n",
              " 'credit_history': credit_history\n",
              "  1    0.824947\n",
              "  2    0.671875\n",
              "  3    0.663586\n",
              "  4    0.417187\n",
              "  5    0.391071\n",
              " -1    0.687500\n",
              " -2    0.687500\n",
              " dtype: float64,\n",
              " 'purpose': purpose\n",
              "  1     0.607955\n",
              "  2     0.679789\n",
              "  3     0.556090\n",
              "  4     0.634375\n",
              "  5     0.638117\n",
              "  6     0.764895\n",
              "  7     0.810320\n",
              "  8     0.568750\n",
              "  9     0.835938\n",
              "  10    0.607955\n",
              " -1     0.687500\n",
              " -2     0.687500\n",
              " dtype: float64,\n",
              " 'savings_status': savings_status\n",
              "  1    0.622500\n",
              "  2    0.803272\n",
              "  3    0.809949\n",
              "  4    0.681882\n",
              "  5    0.876453\n",
              " -1    0.687500\n",
              " -2    0.687500\n",
              " dtype: float64,\n",
              " 'employment': employment\n",
              "  1    0.683036\n",
              "  2    0.737377\n",
              "  3    0.593750\n",
              "  4    0.784052\n",
              "  5    0.558067\n",
              " -1    0.687500\n",
              " -2    0.687500\n",
              " dtype: float64,\n",
              " 'personal_status': personal_status\n",
              "  1    0.723900\n",
              "  2    0.597384\n",
              "  3    0.735445\n",
              "  4    0.623214\n",
              " -1    0.687500\n",
              " -2    0.687500\n",
              " dtype: float64,\n",
              " 'other_parties': other_parties\n",
              "  1    0.688523\n",
              "  2    0.535985\n",
              "  3    0.802365\n",
              " -1    0.687500\n",
              " -2    0.687500\n",
              " dtype: float64,\n",
              " 'residence_since': residence_since\n",
              "  1    0.672262\n",
              "  2    0.709500\n",
              "  3    0.681835\n",
              "  4    0.714033\n",
              " -1    0.687500\n",
              " -2    0.687500\n",
              " dtype: float64,\n",
              " 'property_magnitude': property_magnitude\n",
              "  1    0.672126\n",
              "  2    0.550305\n",
              "  3    0.679136\n",
              "  4    0.785278\n",
              " -1    0.687500\n",
              " -2    0.687500\n",
              " dtype: float64,\n",
              " 'other_payment_plans': other_payment_plans\n",
              "  1    0.568638\n",
              "  2    0.712270\n",
              "  3    0.617188\n",
              " -1    0.687500\n",
              " -2    0.687500\n",
              " dtype: float64,\n",
              " 'housing': housing\n",
              "  1    0.724373\n",
              "  2    0.586596\n",
              "  3    0.596391\n",
              " -1    0.687500\n",
              " -2    0.687500\n",
              " dtype: float64,\n",
              " 'job': job\n",
              "  1    0.692749\n",
              "  2    0.629808\n",
              "  3    0.724124\n",
              "  4    0.593750\n",
              " -1    0.687500\n",
              " -2    0.687500\n",
              " dtype: float64,\n",
              " 'own_telephone': own_telephone\n",
              "  1    0.674349\n",
              "  2    0.707104\n",
              " -1    0.687500\n",
              " -2    0.687500\n",
              " dtype: float64,\n",
              " 'foreign_worker': foreign_worker\n",
              "  1    0.680114\n",
              "  2    0.865234\n",
              " -1    0.687500\n",
              " -2    0.687500\n",
              " dtype: float64}"
            ]
          },
          "metadata": {},
          "execution_count": 14
        }
      ]
    },
    {
      "cell_type": "code",
      "metadata": {
        "id": "fvblAl1AgTMn"
      },
      "source": [
        "X_test_cod1 = mest_enc.transform(X_test)"
      ],
      "execution_count": 15,
      "outputs": []
    },
    {
      "cell_type": "code",
      "metadata": {
        "id": "lux5I1vLhRaS"
      },
      "source": [
        "from sklearn.preprocessing import PolynomialFeatures"
      ],
      "execution_count": 16,
      "outputs": []
    },
    {
      "cell_type": "code",
      "metadata": {
        "id": "utS44rR5hVzz"
      },
      "source": [
        "poly_gen = PolynomialFeatures(2)"
      ],
      "execution_count": 17,
      "outputs": []
    },
    {
      "cell_type": "code",
      "metadata": {
        "id": "7lSBa5MmhV2m",
        "outputId": "79fb9103-f8ca-40f3-8554-30ecc9e27781",
        "colab": {
          "base_uri": "https://localhost:8080/"
        }
      },
      "source": [
        "poly_gen.fit_transform(X_train_cod1).shape"
      ],
      "execution_count": 18,
      "outputs": [
        {
          "output_type": "execute_result",
          "data": {
            "text/plain": [
              "(800, 231)"
            ]
          },
          "metadata": {},
          "execution_count": 18
        }
      ]
    },
    {
      "cell_type": "code",
      "metadata": {
        "id": "RB-4q3prhV5y",
        "outputId": "fa82c244-9924-44aa-9c3c-a5ca835e7c01",
        "colab": {
          "base_uri": "https://localhost:8080/"
        }
      },
      "source": [
        "X_train_cod = pd.DataFrame(poly_gen.fit_transform(X_train_cod1), columns=poly_gen.get_feature_names_out())\n",
        "X_train_cod"
      ],
      "execution_count": 19,
      "outputs": [
        {
          "output_type": "execute_result",
          "data": {
            "text/plain": [
              "       1  checking_status  duration  credit_history   purpose  credit_amount  \\\n",
              "0    1.0         0.874023      18.0        0.824947  0.607955         1530.0   \n",
              "1    1.0         0.611944      18.0        0.671875  0.679789         4297.0   \n",
              "2    1.0         0.611944      18.0        0.663586  0.556090         1239.0   \n",
              "3    1.0         0.874023      27.0        0.663586  0.634375         5190.0   \n",
              "4    1.0         0.874023      48.0        0.663586  0.638117         4844.0   \n",
              "..   ...              ...       ...             ...       ...            ...   \n",
              "795  1.0         0.611944      16.0        0.824947  0.607955         1175.0   \n",
              "796  1.0         0.611944      12.0        0.663586  0.638117         1037.0   \n",
              "797  1.0         0.611944      18.0        0.824947  0.679789         1928.0   \n",
              "798  1.0         0.874023       6.0        0.663586  0.679789         1543.0   \n",
              "799  1.0         0.874023      12.0        0.824947  0.638117         1185.0   \n",
              "\n",
              "     savings_status  employment  installment_commitment  personal_status  ...  \\\n",
              "0          0.622500    0.683036                     3.0         0.723900  ...   \n",
              "1          0.622500    0.737377                     4.0         0.597384  ...   \n",
              "2          0.803272    0.683036                     4.0         0.723900  ...   \n",
              "3          0.803272    0.737377                     4.0         0.723900  ...   \n",
              "4          0.622500    0.593750                     3.0         0.723900  ...   \n",
              "..              ...         ...                     ...              ...  ...   \n",
              "795        0.622500    0.593750                     2.0         0.723900  ...   \n",
              "796        0.681882    0.784052                     3.0         0.723900  ...   \n",
              "797        0.622500    0.558067                     2.0         0.723900  ...   \n",
              "798        0.876453    0.683036                     4.0         0.597384  ...   \n",
              "799        0.622500    0.683036                     3.0         0.623214  ...   \n",
              "\n",
              "        job^2  job num_dependents  job own_telephone  job foreign_worker  \\\n",
              "0    0.479901            0.692749           0.467155            0.471148   \n",
              "1    0.396658            0.629808           0.445340            0.428341   \n",
              "2    0.479901            0.692749           0.467155            0.471148   \n",
              "3    0.479901            1.385498           0.489846            0.471148   \n",
              "4    0.396658            0.629808           0.445340            0.428341   \n",
              "..        ...                 ...                ...                 ...   \n",
              "795  0.352539            0.593750           0.419843            0.403817   \n",
              "796  0.524356            0.724124           0.488312            0.492487   \n",
              "797  0.524356            0.724124           0.488312            0.492487   \n",
              "798  0.479901            0.692749           0.467155            0.471148   \n",
              "799  0.479901            0.692749           0.467155            0.471148   \n",
              "\n",
              "     num_dependents^2  num_dependents own_telephone  \\\n",
              "0                 1.0                      0.674349   \n",
              "1                 1.0                      0.707104   \n",
              "2                 1.0                      0.674349   \n",
              "3                 4.0                      1.414208   \n",
              "4                 1.0                      0.707104   \n",
              "..                ...                           ...   \n",
              "795               1.0                      0.707104   \n",
              "796               1.0                      0.674349   \n",
              "797               1.0                      0.674349   \n",
              "798               1.0                      0.674349   \n",
              "799               1.0                      0.674349   \n",
              "\n",
              "     num_dependents foreign_worker  own_telephone^2  \\\n",
              "0                         0.680114         0.454747   \n",
              "1                         0.680114         0.499996   \n",
              "2                         0.680114         0.454747   \n",
              "3                         1.360227         0.499996   \n",
              "4                         0.680114         0.499996   \n",
              "..                             ...              ...   \n",
              "795                       0.680114         0.499996   \n",
              "796                       0.680114         0.454747   \n",
              "797                       0.680114         0.454747   \n",
              "798                       0.680114         0.454747   \n",
              "799                       0.680114         0.454747   \n",
              "\n",
              "     own_telephone foreign_worker  foreign_worker^2  \n",
              "0                        0.458634          0.462555  \n",
              "1                        0.480911          0.462555  \n",
              "2                        0.458634          0.462555  \n",
              "3                        0.480911          0.462555  \n",
              "4                        0.480911          0.462555  \n",
              "..                            ...               ...  \n",
              "795                      0.480911          0.462555  \n",
              "796                      0.458634          0.462555  \n",
              "797                      0.458634          0.462555  \n",
              "798                      0.458634          0.462555  \n",
              "799                      0.458634          0.462555  \n",
              "\n",
              "[800 rows x 231 columns]"
            ],
            "text/html": [
              "\n",
              "  <div id=\"df-95516804-1f1b-4b16-9ef1-c230c404a9b4\">\n",
              "    <div class=\"colab-df-container\">\n",
              "      <div>\n",
              "<style scoped>\n",
              "    .dataframe tbody tr th:only-of-type {\n",
              "        vertical-align: middle;\n",
              "    }\n",
              "\n",
              "    .dataframe tbody tr th {\n",
              "        vertical-align: top;\n",
              "    }\n",
              "\n",
              "    .dataframe thead th {\n",
              "        text-align: right;\n",
              "    }\n",
              "</style>\n",
              "<table border=\"1\" class=\"dataframe\">\n",
              "  <thead>\n",
              "    <tr style=\"text-align: right;\">\n",
              "      <th></th>\n",
              "      <th>1</th>\n",
              "      <th>checking_status</th>\n",
              "      <th>duration</th>\n",
              "      <th>credit_history</th>\n",
              "      <th>purpose</th>\n",
              "      <th>credit_amount</th>\n",
              "      <th>savings_status</th>\n",
              "      <th>employment</th>\n",
              "      <th>installment_commitment</th>\n",
              "      <th>personal_status</th>\n",
              "      <th>...</th>\n",
              "      <th>job^2</th>\n",
              "      <th>job num_dependents</th>\n",
              "      <th>job own_telephone</th>\n",
              "      <th>job foreign_worker</th>\n",
              "      <th>num_dependents^2</th>\n",
              "      <th>num_dependents own_telephone</th>\n",
              "      <th>num_dependents foreign_worker</th>\n",
              "      <th>own_telephone^2</th>\n",
              "      <th>own_telephone foreign_worker</th>\n",
              "      <th>foreign_worker^2</th>\n",
              "    </tr>\n",
              "  </thead>\n",
              "  <tbody>\n",
              "    <tr>\n",
              "      <th>0</th>\n",
              "      <td>1.0</td>\n",
              "      <td>0.874023</td>\n",
              "      <td>18.0</td>\n",
              "      <td>0.824947</td>\n",
              "      <td>0.607955</td>\n",
              "      <td>1530.0</td>\n",
              "      <td>0.622500</td>\n",
              "      <td>0.683036</td>\n",
              "      <td>3.0</td>\n",
              "      <td>0.723900</td>\n",
              "      <td>...</td>\n",
              "      <td>0.479901</td>\n",
              "      <td>0.692749</td>\n",
              "      <td>0.467155</td>\n",
              "      <td>0.471148</td>\n",
              "      <td>1.0</td>\n",
              "      <td>0.674349</td>\n",
              "      <td>0.680114</td>\n",
              "      <td>0.454747</td>\n",
              "      <td>0.458634</td>\n",
              "      <td>0.462555</td>\n",
              "    </tr>\n",
              "    <tr>\n",
              "      <th>1</th>\n",
              "      <td>1.0</td>\n",
              "      <td>0.611944</td>\n",
              "      <td>18.0</td>\n",
              "      <td>0.671875</td>\n",
              "      <td>0.679789</td>\n",
              "      <td>4297.0</td>\n",
              "      <td>0.622500</td>\n",
              "      <td>0.737377</td>\n",
              "      <td>4.0</td>\n",
              "      <td>0.597384</td>\n",
              "      <td>...</td>\n",
              "      <td>0.396658</td>\n",
              "      <td>0.629808</td>\n",
              "      <td>0.445340</td>\n",
              "      <td>0.428341</td>\n",
              "      <td>1.0</td>\n",
              "      <td>0.707104</td>\n",
              "      <td>0.680114</td>\n",
              "      <td>0.499996</td>\n",
              "      <td>0.480911</td>\n",
              "      <td>0.462555</td>\n",
              "    </tr>\n",
              "    <tr>\n",
              "      <th>2</th>\n",
              "      <td>1.0</td>\n",
              "      <td>0.611944</td>\n",
              "      <td>18.0</td>\n",
              "      <td>0.663586</td>\n",
              "      <td>0.556090</td>\n",
              "      <td>1239.0</td>\n",
              "      <td>0.803272</td>\n",
              "      <td>0.683036</td>\n",
              "      <td>4.0</td>\n",
              "      <td>0.723900</td>\n",
              "      <td>...</td>\n",
              "      <td>0.479901</td>\n",
              "      <td>0.692749</td>\n",
              "      <td>0.467155</td>\n",
              "      <td>0.471148</td>\n",
              "      <td>1.0</td>\n",
              "      <td>0.674349</td>\n",
              "      <td>0.680114</td>\n",
              "      <td>0.454747</td>\n",
              "      <td>0.458634</td>\n",
              "      <td>0.462555</td>\n",
              "    </tr>\n",
              "    <tr>\n",
              "      <th>3</th>\n",
              "      <td>1.0</td>\n",
              "      <td>0.874023</td>\n",
              "      <td>27.0</td>\n",
              "      <td>0.663586</td>\n",
              "      <td>0.634375</td>\n",
              "      <td>5190.0</td>\n",
              "      <td>0.803272</td>\n",
              "      <td>0.737377</td>\n",
              "      <td>4.0</td>\n",
              "      <td>0.723900</td>\n",
              "      <td>...</td>\n",
              "      <td>0.479901</td>\n",
              "      <td>1.385498</td>\n",
              "      <td>0.489846</td>\n",
              "      <td>0.471148</td>\n",
              "      <td>4.0</td>\n",
              "      <td>1.414208</td>\n",
              "      <td>1.360227</td>\n",
              "      <td>0.499996</td>\n",
              "      <td>0.480911</td>\n",
              "      <td>0.462555</td>\n",
              "    </tr>\n",
              "    <tr>\n",
              "      <th>4</th>\n",
              "      <td>1.0</td>\n",
              "      <td>0.874023</td>\n",
              "      <td>48.0</td>\n",
              "      <td>0.663586</td>\n",
              "      <td>0.638117</td>\n",
              "      <td>4844.0</td>\n",
              "      <td>0.622500</td>\n",
              "      <td>0.593750</td>\n",
              "      <td>3.0</td>\n",
              "      <td>0.723900</td>\n",
              "      <td>...</td>\n",
              "      <td>0.396658</td>\n",
              "      <td>0.629808</td>\n",
              "      <td>0.445340</td>\n",
              "      <td>0.428341</td>\n",
              "      <td>1.0</td>\n",
              "      <td>0.707104</td>\n",
              "      <td>0.680114</td>\n",
              "      <td>0.499996</td>\n",
              "      <td>0.480911</td>\n",
              "      <td>0.462555</td>\n",
              "    </tr>\n",
              "    <tr>\n",
              "      <th>...</th>\n",
              "      <td>...</td>\n",
              "      <td>...</td>\n",
              "      <td>...</td>\n",
              "      <td>...</td>\n",
              "      <td>...</td>\n",
              "      <td>...</td>\n",
              "      <td>...</td>\n",
              "      <td>...</td>\n",
              "      <td>...</td>\n",
              "      <td>...</td>\n",
              "      <td>...</td>\n",
              "      <td>...</td>\n",
              "      <td>...</td>\n",
              "      <td>...</td>\n",
              "      <td>...</td>\n",
              "      <td>...</td>\n",
              "      <td>...</td>\n",
              "      <td>...</td>\n",
              "      <td>...</td>\n",
              "      <td>...</td>\n",
              "      <td>...</td>\n",
              "    </tr>\n",
              "    <tr>\n",
              "      <th>795</th>\n",
              "      <td>1.0</td>\n",
              "      <td>0.611944</td>\n",
              "      <td>16.0</td>\n",
              "      <td>0.824947</td>\n",
              "      <td>0.607955</td>\n",
              "      <td>1175.0</td>\n",
              "      <td>0.622500</td>\n",
              "      <td>0.593750</td>\n",
              "      <td>2.0</td>\n",
              "      <td>0.723900</td>\n",
              "      <td>...</td>\n",
              "      <td>0.352539</td>\n",
              "      <td>0.593750</td>\n",
              "      <td>0.419843</td>\n",
              "      <td>0.403817</td>\n",
              "      <td>1.0</td>\n",
              "      <td>0.707104</td>\n",
              "      <td>0.680114</td>\n",
              "      <td>0.499996</td>\n",
              "      <td>0.480911</td>\n",
              "      <td>0.462555</td>\n",
              "    </tr>\n",
              "    <tr>\n",
              "      <th>796</th>\n",
              "      <td>1.0</td>\n",
              "      <td>0.611944</td>\n",
              "      <td>12.0</td>\n",
              "      <td>0.663586</td>\n",
              "      <td>0.638117</td>\n",
              "      <td>1037.0</td>\n",
              "      <td>0.681882</td>\n",
              "      <td>0.784052</td>\n",
              "      <td>3.0</td>\n",
              "      <td>0.723900</td>\n",
              "      <td>...</td>\n",
              "      <td>0.524356</td>\n",
              "      <td>0.724124</td>\n",
              "      <td>0.488312</td>\n",
              "      <td>0.492487</td>\n",
              "      <td>1.0</td>\n",
              "      <td>0.674349</td>\n",
              "      <td>0.680114</td>\n",
              "      <td>0.454747</td>\n",
              "      <td>0.458634</td>\n",
              "      <td>0.462555</td>\n",
              "    </tr>\n",
              "    <tr>\n",
              "      <th>797</th>\n",
              "      <td>1.0</td>\n",
              "      <td>0.611944</td>\n",
              "      <td>18.0</td>\n",
              "      <td>0.824947</td>\n",
              "      <td>0.679789</td>\n",
              "      <td>1928.0</td>\n",
              "      <td>0.622500</td>\n",
              "      <td>0.558067</td>\n",
              "      <td>2.0</td>\n",
              "      <td>0.723900</td>\n",
              "      <td>...</td>\n",
              "      <td>0.524356</td>\n",
              "      <td>0.724124</td>\n",
              "      <td>0.488312</td>\n",
              "      <td>0.492487</td>\n",
              "      <td>1.0</td>\n",
              "      <td>0.674349</td>\n",
              "      <td>0.680114</td>\n",
              "      <td>0.454747</td>\n",
              "      <td>0.458634</td>\n",
              "      <td>0.462555</td>\n",
              "    </tr>\n",
              "    <tr>\n",
              "      <th>798</th>\n",
              "      <td>1.0</td>\n",
              "      <td>0.874023</td>\n",
              "      <td>6.0</td>\n",
              "      <td>0.663586</td>\n",
              "      <td>0.679789</td>\n",
              "      <td>1543.0</td>\n",
              "      <td>0.876453</td>\n",
              "      <td>0.683036</td>\n",
              "      <td>4.0</td>\n",
              "      <td>0.597384</td>\n",
              "      <td>...</td>\n",
              "      <td>0.479901</td>\n",
              "      <td>0.692749</td>\n",
              "      <td>0.467155</td>\n",
              "      <td>0.471148</td>\n",
              "      <td>1.0</td>\n",
              "      <td>0.674349</td>\n",
              "      <td>0.680114</td>\n",
              "      <td>0.454747</td>\n",
              "      <td>0.458634</td>\n",
              "      <td>0.462555</td>\n",
              "    </tr>\n",
              "    <tr>\n",
              "      <th>799</th>\n",
              "      <td>1.0</td>\n",
              "      <td>0.874023</td>\n",
              "      <td>12.0</td>\n",
              "      <td>0.824947</td>\n",
              "      <td>0.638117</td>\n",
              "      <td>1185.0</td>\n",
              "      <td>0.622500</td>\n",
              "      <td>0.683036</td>\n",
              "      <td>3.0</td>\n",
              "      <td>0.623214</td>\n",
              "      <td>...</td>\n",
              "      <td>0.479901</td>\n",
              "      <td>0.692749</td>\n",
              "      <td>0.467155</td>\n",
              "      <td>0.471148</td>\n",
              "      <td>1.0</td>\n",
              "      <td>0.674349</td>\n",
              "      <td>0.680114</td>\n",
              "      <td>0.454747</td>\n",
              "      <td>0.458634</td>\n",
              "      <td>0.462555</td>\n",
              "    </tr>\n",
              "  </tbody>\n",
              "</table>\n",
              "<p>800 rows × 231 columns</p>\n",
              "</div>\n",
              "      <button class=\"colab-df-convert\" onclick=\"convertToInteractive('df-95516804-1f1b-4b16-9ef1-c230c404a9b4')\"\n",
              "              title=\"Convert this dataframe to an interactive table.\"\n",
              "              style=\"display:none;\">\n",
              "        \n",
              "  <svg xmlns=\"http://www.w3.org/2000/svg\" height=\"24px\"viewBox=\"0 0 24 24\"\n",
              "       width=\"24px\">\n",
              "    <path d=\"M0 0h24v24H0V0z\" fill=\"none\"/>\n",
              "    <path d=\"M18.56 5.44l.94 2.06.94-2.06 2.06-.94-2.06-.94-.94-2.06-.94 2.06-2.06.94zm-11 1L8.5 8.5l.94-2.06 2.06-.94-2.06-.94L8.5 2.5l-.94 2.06-2.06.94zm10 10l.94 2.06.94-2.06 2.06-.94-2.06-.94-.94-2.06-.94 2.06-2.06.94z\"/><path d=\"M17.41 7.96l-1.37-1.37c-.4-.4-.92-.59-1.43-.59-.52 0-1.04.2-1.43.59L10.3 9.45l-7.72 7.72c-.78.78-.78 2.05 0 2.83L4 21.41c.39.39.9.59 1.41.59.51 0 1.02-.2 1.41-.59l7.78-7.78 2.81-2.81c.8-.78.8-2.07 0-2.86zM5.41 20L4 18.59l7.72-7.72 1.47 1.35L5.41 20z\"/>\n",
              "  </svg>\n",
              "      </button>\n",
              "      \n",
              "  <style>\n",
              "    .colab-df-container {\n",
              "      display:flex;\n",
              "      flex-wrap:wrap;\n",
              "      gap: 12px;\n",
              "    }\n",
              "\n",
              "    .colab-df-convert {\n",
              "      background-color: #E8F0FE;\n",
              "      border: none;\n",
              "      border-radius: 50%;\n",
              "      cursor: pointer;\n",
              "      display: none;\n",
              "      fill: #1967D2;\n",
              "      height: 32px;\n",
              "      padding: 0 0 0 0;\n",
              "      width: 32px;\n",
              "    }\n",
              "\n",
              "    .colab-df-convert:hover {\n",
              "      background-color: #E2EBFA;\n",
              "      box-shadow: 0px 1px 2px rgba(60, 64, 67, 0.3), 0px 1px 3px 1px rgba(60, 64, 67, 0.15);\n",
              "      fill: #174EA6;\n",
              "    }\n",
              "\n",
              "    [theme=dark] .colab-df-convert {\n",
              "      background-color: #3B4455;\n",
              "      fill: #D2E3FC;\n",
              "    }\n",
              "\n",
              "    [theme=dark] .colab-df-convert:hover {\n",
              "      background-color: #434B5C;\n",
              "      box-shadow: 0px 1px 3px 1px rgba(0, 0, 0, 0.15);\n",
              "      filter: drop-shadow(0px 1px 2px rgba(0, 0, 0, 0.3));\n",
              "      fill: #FFFFFF;\n",
              "    }\n",
              "  </style>\n",
              "\n",
              "      <script>\n",
              "        const buttonEl =\n",
              "          document.querySelector('#df-95516804-1f1b-4b16-9ef1-c230c404a9b4 button.colab-df-convert');\n",
              "        buttonEl.style.display =\n",
              "          google.colab.kernel.accessAllowed ? 'block' : 'none';\n",
              "\n",
              "        async function convertToInteractive(key) {\n",
              "          const element = document.querySelector('#df-95516804-1f1b-4b16-9ef1-c230c404a9b4');\n",
              "          const dataTable =\n",
              "            await google.colab.kernel.invokeFunction('convertToInteractive',\n",
              "                                                     [key], {});\n",
              "          if (!dataTable) return;\n",
              "\n",
              "          const docLinkHtml = 'Like what you see? Visit the ' +\n",
              "            '<a target=\"_blank\" href=https://colab.research.google.com/notebooks/data_table.ipynb>data table notebook</a>'\n",
              "            + ' to learn more about interactive tables.';\n",
              "          element.innerHTML = '';\n",
              "          dataTable['output_type'] = 'display_data';\n",
              "          await google.colab.output.renderOutput(dataTable, element);\n",
              "          const docLink = document.createElement('div');\n",
              "          docLink.innerHTML = docLinkHtml;\n",
              "          element.appendChild(docLink);\n",
              "        }\n",
              "      </script>\n",
              "    </div>\n",
              "  </div>\n",
              "  "
            ]
          },
          "metadata": {},
          "execution_count": 19
        }
      ]
    },
    {
      "cell_type": "code",
      "metadata": {
        "id": "5LanwIjhiDdO"
      },
      "source": [
        "X_test_cod = pd.DataFrame(poly_gen.transform(X_test_cod1), columns=poly_gen.get_feature_names_out())"
      ],
      "execution_count": 20,
      "outputs": []
    },
    {
      "cell_type": "markdown",
      "metadata": {
        "id": "JzQls2dVO-d_"
      },
      "source": [
        "#### Modelo base"
      ]
    },
    {
      "cell_type": "code",
      "metadata": {
        "id": "Qd6c_EbLPC7f"
      },
      "source": [
        "from sklearn.linear_model import LogisticRegression\n",
        "from sklearn.metrics import classification_report"
      ],
      "execution_count": 21,
      "outputs": []
    },
    {
      "cell_type": "code",
      "metadata": {
        "id": "dmX7eKFzPDEq",
        "outputId": "76d6eb7d-4ef4-483e-9932-2335f2fd4cbc",
        "colab": {
          "base_uri": "https://localhost:8080/"
        }
      },
      "source": [
        "base_model = LogisticRegression( penalty='none', max_iter=1000, random_state=6011)\n",
        "base_model.fit(X_train_cod,y_train)"
      ],
      "execution_count": 22,
      "outputs": [
        {
          "output_type": "stream",
          "name": "stderr",
          "text": [
            "/usr/local/lib/python3.10/dist-packages/sklearn/linear_model/_logistic.py:1173: FutureWarning: `penalty='none'`has been deprecated in 1.2 and will be removed in 1.4. To keep the past behaviour, set `penalty=None`.\n",
            "  warnings.warn(\n"
          ]
        },
        {
          "output_type": "execute_result",
          "data": {
            "text/plain": [
              "LogisticRegression(max_iter=1000, penalty='none', random_state=6011)"
            ],
            "text/html": [
              "<style>#sk-container-id-1 {color: black;background-color: white;}#sk-container-id-1 pre{padding: 0;}#sk-container-id-1 div.sk-toggleable {background-color: white;}#sk-container-id-1 label.sk-toggleable__label {cursor: pointer;display: block;width: 100%;margin-bottom: 0;padding: 0.3em;box-sizing: border-box;text-align: center;}#sk-container-id-1 label.sk-toggleable__label-arrow:before {content: \"▸\";float: left;margin-right: 0.25em;color: #696969;}#sk-container-id-1 label.sk-toggleable__label-arrow:hover:before {color: black;}#sk-container-id-1 div.sk-estimator:hover label.sk-toggleable__label-arrow:before {color: black;}#sk-container-id-1 div.sk-toggleable__content {max-height: 0;max-width: 0;overflow: hidden;text-align: left;background-color: #f0f8ff;}#sk-container-id-1 div.sk-toggleable__content pre {margin: 0.2em;color: black;border-radius: 0.25em;background-color: #f0f8ff;}#sk-container-id-1 input.sk-toggleable__control:checked~div.sk-toggleable__content {max-height: 200px;max-width: 100%;overflow: auto;}#sk-container-id-1 input.sk-toggleable__control:checked~label.sk-toggleable__label-arrow:before {content: \"▾\";}#sk-container-id-1 div.sk-estimator input.sk-toggleable__control:checked~label.sk-toggleable__label {background-color: #d4ebff;}#sk-container-id-1 div.sk-label input.sk-toggleable__control:checked~label.sk-toggleable__label {background-color: #d4ebff;}#sk-container-id-1 input.sk-hidden--visually {border: 0;clip: rect(1px 1px 1px 1px);clip: rect(1px, 1px, 1px, 1px);height: 1px;margin: -1px;overflow: hidden;padding: 0;position: absolute;width: 1px;}#sk-container-id-1 div.sk-estimator {font-family: monospace;background-color: #f0f8ff;border: 1px dotted black;border-radius: 0.25em;box-sizing: border-box;margin-bottom: 0.5em;}#sk-container-id-1 div.sk-estimator:hover {background-color: #d4ebff;}#sk-container-id-1 div.sk-parallel-item::after {content: \"\";width: 100%;border-bottom: 1px solid gray;flex-grow: 1;}#sk-container-id-1 div.sk-label:hover label.sk-toggleable__label {background-color: #d4ebff;}#sk-container-id-1 div.sk-serial::before {content: \"\";position: absolute;border-left: 1px solid gray;box-sizing: border-box;top: 0;bottom: 0;left: 50%;z-index: 0;}#sk-container-id-1 div.sk-serial {display: flex;flex-direction: column;align-items: center;background-color: white;padding-right: 0.2em;padding-left: 0.2em;position: relative;}#sk-container-id-1 div.sk-item {position: relative;z-index: 1;}#sk-container-id-1 div.sk-parallel {display: flex;align-items: stretch;justify-content: center;background-color: white;position: relative;}#sk-container-id-1 div.sk-item::before, #sk-container-id-1 div.sk-parallel-item::before {content: \"\";position: absolute;border-left: 1px solid gray;box-sizing: border-box;top: 0;bottom: 0;left: 50%;z-index: -1;}#sk-container-id-1 div.sk-parallel-item {display: flex;flex-direction: column;z-index: 1;position: relative;background-color: white;}#sk-container-id-1 div.sk-parallel-item:first-child::after {align-self: flex-end;width: 50%;}#sk-container-id-1 div.sk-parallel-item:last-child::after {align-self: flex-start;width: 50%;}#sk-container-id-1 div.sk-parallel-item:only-child::after {width: 0;}#sk-container-id-1 div.sk-dashed-wrapped {border: 1px dashed gray;margin: 0 0.4em 0.5em 0.4em;box-sizing: border-box;padding-bottom: 0.4em;background-color: white;}#sk-container-id-1 div.sk-label label {font-family: monospace;font-weight: bold;display: inline-block;line-height: 1.2em;}#sk-container-id-1 div.sk-label-container {text-align: center;}#sk-container-id-1 div.sk-container {/* jupyter's `normalize.less` sets `[hidden] { display: none; }` but bootstrap.min.css set `[hidden] { display: none !important; }` so we also need the `!important` here to be able to override the default hidden behavior on the sphinx rendered scikit-learn.org. See: https://github.com/scikit-learn/scikit-learn/issues/21755 */display: inline-block !important;position: relative;}#sk-container-id-1 div.sk-text-repr-fallback {display: none;}</style><div id=\"sk-container-id-1\" class=\"sk-top-container\"><div class=\"sk-text-repr-fallback\"><pre>LogisticRegression(max_iter=1000, penalty=&#x27;none&#x27;, random_state=6011)</pre><b>In a Jupyter environment, please rerun this cell to show the HTML representation or trust the notebook. <br />On GitHub, the HTML representation is unable to render, please try loading this page with nbviewer.org.</b></div><div class=\"sk-container\" hidden><div class=\"sk-item\"><div class=\"sk-estimator sk-toggleable\"><input class=\"sk-toggleable__control sk-hidden--visually\" id=\"sk-estimator-id-1\" type=\"checkbox\" checked><label for=\"sk-estimator-id-1\" class=\"sk-toggleable__label sk-toggleable__label-arrow\">LogisticRegression</label><div class=\"sk-toggleable__content\"><pre>LogisticRegression(max_iter=1000, penalty=&#x27;none&#x27;, random_state=6011)</pre></div></div></div></div></div>"
            ]
          },
          "metadata": {},
          "execution_count": 22
        }
      ]
    },
    {
      "cell_type": "code",
      "metadata": {
        "id": "l3_RyeLsQFRy",
        "outputId": "15d9a19d-45d2-489d-da71-6719da889304",
        "colab": {
          "base_uri": "https://localhost:8080/"
        }
      },
      "source": [
        "print(f'Coeficientes mayores a cero: {(base_model.coef_>0).sum()}')"
      ],
      "execution_count": 23,
      "outputs": [
        {
          "output_type": "stream",
          "name": "stdout",
          "text": [
            "Coeficientes mayores a cero: 199\n"
          ]
        }
      ]
    },
    {
      "cell_type": "code",
      "metadata": {
        "id": "0HR36AxtPhR3",
        "outputId": "36d07ab5-b26d-44fe-a4be-cb73c149d6b3",
        "colab": {
          "base_uri": "https://localhost:8080/"
        }
      },
      "source": [
        "print(classification_report(y_test, base_model.predict(X_test_cod)))"
      ],
      "execution_count": 24,
      "outputs": [
        {
          "output_type": "stream",
          "name": "stdout",
          "text": [
            "              precision    recall  f1-score   support\n",
            "\n",
            "           0       0.63      0.24      0.35        50\n",
            "           1       0.79      0.95      0.86       150\n",
            "\n",
            "    accuracy                           0.78       200\n",
            "   macro avg       0.71      0.60      0.61       200\n",
            "weighted avg       0.75      0.78      0.73       200\n",
            "\n"
          ]
        }
      ]
    },
    {
      "cell_type": "markdown",
      "metadata": {
        "id": "20NXuQF2L9j9"
      },
      "source": [
        "# Métodos Intrínsecos"
      ]
    },
    {
      "cell_type": "markdown",
      "metadata": {
        "id": "jSV6T2kPKHN9"
      },
      "source": [
        "## Regresion Ridge"
      ]
    },
    {
      "cell_type": "code",
      "metadata": {
        "id": "JnJbw1M-QMyr"
      },
      "source": [
        "from sklearn.linear_model import LassoCV, RidgeCV, ElasticNetCV, LogisticRegressionCV"
      ],
      "execution_count": 25,
      "outputs": []
    },
    {
      "cell_type": "code",
      "metadata": {
        "id": "XsJ4yJlmQMyr",
        "outputId": "4879aab8-4153-46c7-9708-835e4bc49740",
        "colab": {
          "base_uri": "https://localhost:8080/"
        }
      },
      "source": [
        "ridge_classifier = LogisticRegressionCV(cv=2, max_iter=100, penalty='l2', solver='liblinear', random_state=6011)\n",
        "ridge_classifier.fit(X_train_cod,y_train)"
      ],
      "execution_count": 26,
      "outputs": [
        {
          "output_type": "execute_result",
          "data": {
            "text/plain": [
              "LogisticRegressionCV(cv=2, random_state=6011, solver='liblinear')"
            ],
            "text/html": [
              "<style>#sk-container-id-2 {color: black;background-color: white;}#sk-container-id-2 pre{padding: 0;}#sk-container-id-2 div.sk-toggleable {background-color: white;}#sk-container-id-2 label.sk-toggleable__label {cursor: pointer;display: block;width: 100%;margin-bottom: 0;padding: 0.3em;box-sizing: border-box;text-align: center;}#sk-container-id-2 label.sk-toggleable__label-arrow:before {content: \"▸\";float: left;margin-right: 0.25em;color: #696969;}#sk-container-id-2 label.sk-toggleable__label-arrow:hover:before {color: black;}#sk-container-id-2 div.sk-estimator:hover label.sk-toggleable__label-arrow:before {color: black;}#sk-container-id-2 div.sk-toggleable__content {max-height: 0;max-width: 0;overflow: hidden;text-align: left;background-color: #f0f8ff;}#sk-container-id-2 div.sk-toggleable__content pre {margin: 0.2em;color: black;border-radius: 0.25em;background-color: #f0f8ff;}#sk-container-id-2 input.sk-toggleable__control:checked~div.sk-toggleable__content {max-height: 200px;max-width: 100%;overflow: auto;}#sk-container-id-2 input.sk-toggleable__control:checked~label.sk-toggleable__label-arrow:before {content: \"▾\";}#sk-container-id-2 div.sk-estimator input.sk-toggleable__control:checked~label.sk-toggleable__label {background-color: #d4ebff;}#sk-container-id-2 div.sk-label input.sk-toggleable__control:checked~label.sk-toggleable__label {background-color: #d4ebff;}#sk-container-id-2 input.sk-hidden--visually {border: 0;clip: rect(1px 1px 1px 1px);clip: rect(1px, 1px, 1px, 1px);height: 1px;margin: -1px;overflow: hidden;padding: 0;position: absolute;width: 1px;}#sk-container-id-2 div.sk-estimator {font-family: monospace;background-color: #f0f8ff;border: 1px dotted black;border-radius: 0.25em;box-sizing: border-box;margin-bottom: 0.5em;}#sk-container-id-2 div.sk-estimator:hover {background-color: #d4ebff;}#sk-container-id-2 div.sk-parallel-item::after {content: \"\";width: 100%;border-bottom: 1px solid gray;flex-grow: 1;}#sk-container-id-2 div.sk-label:hover label.sk-toggleable__label {background-color: #d4ebff;}#sk-container-id-2 div.sk-serial::before {content: \"\";position: absolute;border-left: 1px solid gray;box-sizing: border-box;top: 0;bottom: 0;left: 50%;z-index: 0;}#sk-container-id-2 div.sk-serial {display: flex;flex-direction: column;align-items: center;background-color: white;padding-right: 0.2em;padding-left: 0.2em;position: relative;}#sk-container-id-2 div.sk-item {position: relative;z-index: 1;}#sk-container-id-2 div.sk-parallel {display: flex;align-items: stretch;justify-content: center;background-color: white;position: relative;}#sk-container-id-2 div.sk-item::before, #sk-container-id-2 div.sk-parallel-item::before {content: \"\";position: absolute;border-left: 1px solid gray;box-sizing: border-box;top: 0;bottom: 0;left: 50%;z-index: -1;}#sk-container-id-2 div.sk-parallel-item {display: flex;flex-direction: column;z-index: 1;position: relative;background-color: white;}#sk-container-id-2 div.sk-parallel-item:first-child::after {align-self: flex-end;width: 50%;}#sk-container-id-2 div.sk-parallel-item:last-child::after {align-self: flex-start;width: 50%;}#sk-container-id-2 div.sk-parallel-item:only-child::after {width: 0;}#sk-container-id-2 div.sk-dashed-wrapped {border: 1px dashed gray;margin: 0 0.4em 0.5em 0.4em;box-sizing: border-box;padding-bottom: 0.4em;background-color: white;}#sk-container-id-2 div.sk-label label {font-family: monospace;font-weight: bold;display: inline-block;line-height: 1.2em;}#sk-container-id-2 div.sk-label-container {text-align: center;}#sk-container-id-2 div.sk-container {/* jupyter's `normalize.less` sets `[hidden] { display: none; }` but bootstrap.min.css set `[hidden] { display: none !important; }` so we also need the `!important` here to be able to override the default hidden behavior on the sphinx rendered scikit-learn.org. See: https://github.com/scikit-learn/scikit-learn/issues/21755 */display: inline-block !important;position: relative;}#sk-container-id-2 div.sk-text-repr-fallback {display: none;}</style><div id=\"sk-container-id-2\" class=\"sk-top-container\"><div class=\"sk-text-repr-fallback\"><pre>LogisticRegressionCV(cv=2, random_state=6011, solver=&#x27;liblinear&#x27;)</pre><b>In a Jupyter environment, please rerun this cell to show the HTML representation or trust the notebook. <br />On GitHub, the HTML representation is unable to render, please try loading this page with nbviewer.org.</b></div><div class=\"sk-container\" hidden><div class=\"sk-item\"><div class=\"sk-estimator sk-toggleable\"><input class=\"sk-toggleable__control sk-hidden--visually\" id=\"sk-estimator-id-2\" type=\"checkbox\" checked><label for=\"sk-estimator-id-2\" class=\"sk-toggleable__label sk-toggleable__label-arrow\">LogisticRegressionCV</label><div class=\"sk-toggleable__content\"><pre>LogisticRegressionCV(cv=2, random_state=6011, solver=&#x27;liblinear&#x27;)</pre></div></div></div></div></div>"
            ]
          },
          "metadata": {},
          "execution_count": 26
        }
      ]
    },
    {
      "cell_type": "code",
      "metadata": {
        "id": "TKRpyUEyQMyr",
        "outputId": "dca5520f-086d-4774-f861-21d90b91b0ae",
        "colab": {
          "base_uri": "https://localhost:8080/"
        }
      },
      "source": [
        "ridge_classifier.classes_"
      ],
      "execution_count": 27,
      "outputs": [
        {
          "output_type": "execute_result",
          "data": {
            "text/plain": [
              "array([0, 1])"
            ]
          },
          "metadata": {},
          "execution_count": 27
        }
      ]
    },
    {
      "cell_type": "code",
      "metadata": {
        "id": "aijpQ7Z5QMys",
        "outputId": "9d75f0f9-6fba-45c7-c585-2389218c9be7",
        "colab": {
          "base_uri": "https://localhost:8080/"
        }
      },
      "source": [
        "ridge_classifier.coef_"
      ],
      "execution_count": 28,
      "outputs": [
        {
          "output_type": "execute_result",
          "data": {
            "text/plain": [
              "array([[ 2.34814244e-06,  7.02108252e-06, -5.08499543e-05,\n",
              "         4.89841388e-06,  3.39891023e-06, -1.81871251e-03,\n",
              "         3.08778064e-06,  2.86397081e-06,  5.96761952e-06,\n",
              "         2.28763023e-06,  2.38232781e-06,  1.79728622e-06,\n",
              "         3.00631565e-06,  8.95614215e-05,  2.55470191e-06,\n",
              "         2.52087213e-06,  7.07800256e-06,  1.82806802e-06,\n",
              "         1.00394608e-06,  1.79504957e-06,  2.23917392e-06,\n",
              "         8.52322058e-06,  6.87946461e-05,  6.95015033e-06,\n",
              "         6.07883724e-06,  7.75374631e-04,  5.76727968e-06,\n",
              "         5.72377702e-06,  2.44426177e-05,  5.26211769e-06,\n",
              "         5.30083156e-06,  4.95505167e-06,  5.78620975e-06,\n",
              "         2.50870451e-04,  5.59823316e-06,  5.47567812e-06,\n",
              "         1.09758023e-05,  5.03714497e-06,  6.56231739e-06,\n",
              "         4.92793021e-06,  5.19260778e-06, -1.88986860e-03,\n",
              "        -1.70470618e-05, -6.81458053e-06,  2.04620788e-05,\n",
              "         2.78522046e-06, -1.20122658e-05, -1.86574992e-04,\n",
              "        -1.84261388e-05, -2.00698057e-05, -2.76095135e-05,\n",
              "        -1.94739404e-05, -6.32491069e-04, -1.62774935e-05,\n",
              "        -1.51801979e-05, -4.02717459e-05, -3.71121663e-05,\n",
              "        -6.32849687e-05, -2.88021936e-05, -2.72855491e-05,\n",
              "         5.41377635e-06,  4.54733877e-06,  2.19604497e-04,\n",
              "         4.23684858e-06,  4.24919766e-06,  1.51154363e-05,\n",
              "         3.82209961e-06,  3.87292312e-06,  3.51037601e-06,\n",
              "         4.21866448e-06,  1.89456145e-04,  4.07771955e-06,\n",
              "         3.91018068e-06,  1.10141699e-05,  3.49431494e-06,\n",
              "         5.66084480e-06,  3.50088029e-06,  3.78578410e-06,\n",
              "         3.59475911e-06,  5.15722476e-04,  3.29472498e-06,\n",
              "         3.20789423e-06,  1.06517718e-05,  2.79199881e-06,\n",
              "         2.89589169e-06,  2.45905235e-06,  3.30842829e-06,\n",
              "         1.23358168e-04,  2.96694019e-06,  2.99755043e-06,\n",
              "         7.55949917e-06,  2.47847807e-06,  2.82083823e-06,\n",
              "         2.44457411e-06,  2.73760624e-06, -9.46021305e-08,\n",
              "         8.42840533e-04,  8.21209264e-04, -5.48494835e-05,\n",
              "         1.66480231e-03,  5.81133723e-04, -3.65603293e-04,\n",
              "         3.94553655e-05, -9.06662062e-06,  7.38295079e-04,\n",
              "         2.33493183e-04, -4.28014623e-05, -1.69100691e-03,\n",
              "         3.37762617e-05, -7.36772327e-04,  3.02080830e-04,\n",
              "         3.26927530e-06,  2.95240664e-06,  9.81068715e-06,\n",
              "         2.55558969e-06,  2.60030375e-06,  2.24069013e-06,\n",
              "         3.14742096e-06,  1.11168971e-04,  2.76566586e-06,\n",
              "         2.77937427e-06,  6.33079199e-06,  2.26600263e-06,\n",
              "         2.44285222e-06,  2.24678651e-06,  2.55030262e-06,\n",
              "         2.80479750e-06,  8.16539716e-06,  2.37775768e-06,\n",
              "         2.47572456e-06,  2.09262150e-06,  2.95170957e-06,\n",
              "         1.01468832e-04,  2.69358878e-06,  2.59856076e-06,\n",
              "         6.86504121e-06,  2.12255875e-06,  2.11992014e-06,\n",
              "         2.10235743e-06,  2.36743626e-06,  2.30103033e-05,\n",
              "         6.37660687e-06,  6.07956300e-06,  4.69737602e-06,\n",
              "         8.06717059e-06,  2.27327837e-04,  7.22021139e-06,\n",
              "         7.36120850e-06,  2.53187038e-05,  4.46403669e-06,\n",
              "        -3.60531272e-06,  4.98667793e-06,  5.67602701e-06,\n",
              "         2.02378796e-06,  2.09556276e-06,  1.69992772e-06,\n",
              "         2.57153707e-06,  7.83691066e-05,  2.21514718e-06,\n",
              "         2.16582802e-06,  5.70453037e-06,  1.71245125e-06,\n",
              "         1.30118767e-06,  1.69619702e-06,  2.00815511e-06,\n",
              "         2.16671635e-06,  1.76282472e-06,  2.63484718e-06,\n",
              "         8.75017085e-05,  2.30113844e-06,  2.30182554e-06,\n",
              "         5.90400857e-06,  1.79802701e-06,  1.66532524e-06,\n",
              "         1.75573628e-06,  2.05809478e-06,  1.36403116e-06,\n",
              "         2.18460852e-06,  6.52578974e-05,  1.86354568e-06,\n",
              "         1.85377542e-06,  5.21525514e-06,  1.38746943e-06,\n",
              "         9.59819443e-07,  1.36014496e-06,  1.66257221e-06,\n",
              "         3.06307383e-06,  1.15558802e-04,  2.71696202e-06,\n",
              "         2.71696866e-06,  6.93832627e-06,  2.26026229e-06,\n",
              "         2.76203099e-06,  2.17540436e-06,  2.52246381e-06,\n",
              "         6.92204992e-04,  9.42901134e-05,  9.55552673e-05,\n",
              "         2.42476364e-04,  6.91736999e-05,  1.10268757e-05,\n",
              "         6.93036062e-05,  8.32831600e-05,  2.32507932e-06,\n",
              "         2.37362952e-06,  6.30782782e-06,  1.93788326e-06,\n",
              "         2.10237815e-06,  1.87479348e-06,  2.18707878e-06,\n",
              "         2.31463081e-06,  6.46679541e-06,  1.91552538e-06,\n",
              "         1.88175966e-06,  1.84562904e-06,  2.15713560e-06,\n",
              "         1.79125631e-05,  5.32752896e-06,  8.07329735e-06,\n",
              "         5.09640213e-06,  5.70621275e-06,  1.39705681e-06,\n",
              "         9.23065656e-07,  1.37831070e-06,  1.69869459e-06,\n",
              "        -1.68444664e-06,  9.69336852e-07,  1.58191703e-06,\n",
              "         1.36010041e-06,  1.65779641e-06,  2.07852047e-06]])"
            ]
          },
          "metadata": {},
          "execution_count": 28
        }
      ]
    },
    {
      "cell_type": "code",
      "metadata": {
        "id": "pAvig7DyQMys",
        "outputId": "e6d43fdc-45e1-4654-e3a8-1bd19d4510ae",
        "colab": {
          "base_uri": "https://localhost:8080/"
        }
      },
      "source": [
        "print(f'Coeficientes mayores a cero: {(ridge_classifier.coef_>0).sum()}')"
      ],
      "execution_count": 29,
      "outputs": [
        {
          "output_type": "stream",
          "name": "stdout",
          "text": [
            "Coeficientes mayores a cero: 203\n"
          ]
        }
      ]
    },
    {
      "cell_type": "code",
      "metadata": {
        "id": "Omn4C8BlQMys",
        "outputId": "f8ad1d05-4860-4d83-e9e1-b24ebff303ad",
        "colab": {
          "base_uri": "https://localhost:8080/"
        }
      },
      "source": [
        "ridge_classifier.C_"
      ],
      "execution_count": 30,
      "outputs": [
        {
          "output_type": "execute_result",
          "data": {
            "text/plain": [
              "array([0.00599484])"
            ]
          },
          "metadata": {},
          "execution_count": 30
        }
      ]
    },
    {
      "cell_type": "code",
      "metadata": {
        "id": "39qLEEtnQMys",
        "outputId": "701cc29a-78ae-4cc7-a49a-6357a2fca87c",
        "colab": {
          "base_uri": "https://localhost:8080/"
        }
      },
      "source": [
        "print(f'Mejor valor para lambda: {1/ridge_classifier.C_}')"
      ],
      "execution_count": 31,
      "outputs": [
        {
          "output_type": "stream",
          "name": "stdout",
          "text": [
            "Mejor valor para lambda: [166.81005372]\n"
          ]
        }
      ]
    },
    {
      "cell_type": "code",
      "metadata": {
        "id": "7FfAoxepQMyt",
        "outputId": "f7348ea6-5b31-4d44-bec3-572c66ef7f82",
        "colab": {
          "base_uri": "https://localhost:8080/"
        }
      },
      "source": [
        "print('================ Resultados Ridge Classifier =================\\n')\n",
        "print(classification_report(y_test, ridge_classifier.predict(X_test_cod)))"
      ],
      "execution_count": 32,
      "outputs": [
        {
          "output_type": "stream",
          "name": "stdout",
          "text": [
            "================ Resultados Ridge Classifier =================\n",
            "\n",
            "              precision    recall  f1-score   support\n",
            "\n",
            "           0       0.56      0.40      0.47        50\n",
            "           1       0.82      0.89      0.85       150\n",
            "\n",
            "    accuracy                           0.77       200\n",
            "   macro avg       0.69      0.65      0.66       200\n",
            "weighted avg       0.75      0.77      0.76       200\n",
            "\n"
          ]
        }
      ]
    },
    {
      "cell_type": "markdown",
      "metadata": {
        "id": "yTvrCAncL9_S"
      },
      "source": [
        "## Regresión LASSO"
      ]
    },
    {
      "cell_type": "code",
      "metadata": {
        "id": "LiABPLonbb8N",
        "outputId": "4828c5e0-1c35-4f20-9dab-875ef5564b19",
        "colab": {
          "base_uri": "https://localhost:8080/"
        }
      },
      "source": [
        "lasso_classifier = LogisticRegressionCV(cv=2, penalty='l1', max_iter=100, solver='liblinear', random_state=6011)\n",
        "lasso_classifier.fit(X_train_cod,y_train)\n",
        "# 21 sec"
      ],
      "execution_count": 33,
      "outputs": [
        {
          "output_type": "stream",
          "name": "stderr",
          "text": [
            "/usr/local/lib/python3.10/dist-packages/sklearn/svm/_base.py:1244: ConvergenceWarning: Liblinear failed to converge, increase the number of iterations.\n",
            "  warnings.warn(\n",
            "/usr/local/lib/python3.10/dist-packages/sklearn/svm/_base.py:1244: ConvergenceWarning: Liblinear failed to converge, increase the number of iterations.\n",
            "  warnings.warn(\n",
            "/usr/local/lib/python3.10/dist-packages/sklearn/svm/_base.py:1244: ConvergenceWarning: Liblinear failed to converge, increase the number of iterations.\n",
            "  warnings.warn(\n",
            "/usr/local/lib/python3.10/dist-packages/sklearn/svm/_base.py:1244: ConvergenceWarning: Liblinear failed to converge, increase the number of iterations.\n",
            "  warnings.warn(\n",
            "/usr/local/lib/python3.10/dist-packages/sklearn/svm/_base.py:1244: ConvergenceWarning: Liblinear failed to converge, increase the number of iterations.\n",
            "  warnings.warn(\n",
            "/usr/local/lib/python3.10/dist-packages/sklearn/svm/_base.py:1244: ConvergenceWarning: Liblinear failed to converge, increase the number of iterations.\n",
            "  warnings.warn(\n",
            "/usr/local/lib/python3.10/dist-packages/sklearn/svm/_base.py:1244: ConvergenceWarning: Liblinear failed to converge, increase the number of iterations.\n",
            "  warnings.warn(\n",
            "/usr/local/lib/python3.10/dist-packages/sklearn/svm/_base.py:1244: ConvergenceWarning: Liblinear failed to converge, increase the number of iterations.\n",
            "  warnings.warn(\n",
            "/usr/local/lib/python3.10/dist-packages/sklearn/svm/_base.py:1244: ConvergenceWarning: Liblinear failed to converge, increase the number of iterations.\n",
            "  warnings.warn(\n",
            "/usr/local/lib/python3.10/dist-packages/sklearn/svm/_base.py:1244: ConvergenceWarning: Liblinear failed to converge, increase the number of iterations.\n",
            "  warnings.warn(\n",
            "/usr/local/lib/python3.10/dist-packages/sklearn/svm/_base.py:1244: ConvergenceWarning: Liblinear failed to converge, increase the number of iterations.\n",
            "  warnings.warn(\n",
            "/usr/local/lib/python3.10/dist-packages/sklearn/svm/_base.py:1244: ConvergenceWarning: Liblinear failed to converge, increase the number of iterations.\n",
            "  warnings.warn(\n"
          ]
        },
        {
          "output_type": "execute_result",
          "data": {
            "text/plain": [
              "LogisticRegressionCV(cv=2, penalty='l1', random_state=6011, solver='liblinear')"
            ],
            "text/html": [
              "<style>#sk-container-id-3 {color: black;background-color: white;}#sk-container-id-3 pre{padding: 0;}#sk-container-id-3 div.sk-toggleable {background-color: white;}#sk-container-id-3 label.sk-toggleable__label {cursor: pointer;display: block;width: 100%;margin-bottom: 0;padding: 0.3em;box-sizing: border-box;text-align: center;}#sk-container-id-3 label.sk-toggleable__label-arrow:before {content: \"▸\";float: left;margin-right: 0.25em;color: #696969;}#sk-container-id-3 label.sk-toggleable__label-arrow:hover:before {color: black;}#sk-container-id-3 div.sk-estimator:hover label.sk-toggleable__label-arrow:before {color: black;}#sk-container-id-3 div.sk-toggleable__content {max-height: 0;max-width: 0;overflow: hidden;text-align: left;background-color: #f0f8ff;}#sk-container-id-3 div.sk-toggleable__content pre {margin: 0.2em;color: black;border-radius: 0.25em;background-color: #f0f8ff;}#sk-container-id-3 input.sk-toggleable__control:checked~div.sk-toggleable__content {max-height: 200px;max-width: 100%;overflow: auto;}#sk-container-id-3 input.sk-toggleable__control:checked~label.sk-toggleable__label-arrow:before {content: \"▾\";}#sk-container-id-3 div.sk-estimator input.sk-toggleable__control:checked~label.sk-toggleable__label {background-color: #d4ebff;}#sk-container-id-3 div.sk-label input.sk-toggleable__control:checked~label.sk-toggleable__label {background-color: #d4ebff;}#sk-container-id-3 input.sk-hidden--visually {border: 0;clip: rect(1px 1px 1px 1px);clip: rect(1px, 1px, 1px, 1px);height: 1px;margin: -1px;overflow: hidden;padding: 0;position: absolute;width: 1px;}#sk-container-id-3 div.sk-estimator {font-family: monospace;background-color: #f0f8ff;border: 1px dotted black;border-radius: 0.25em;box-sizing: border-box;margin-bottom: 0.5em;}#sk-container-id-3 div.sk-estimator:hover {background-color: #d4ebff;}#sk-container-id-3 div.sk-parallel-item::after {content: \"\";width: 100%;border-bottom: 1px solid gray;flex-grow: 1;}#sk-container-id-3 div.sk-label:hover label.sk-toggleable__label {background-color: #d4ebff;}#sk-container-id-3 div.sk-serial::before {content: \"\";position: absolute;border-left: 1px solid gray;box-sizing: border-box;top: 0;bottom: 0;left: 50%;z-index: 0;}#sk-container-id-3 div.sk-serial {display: flex;flex-direction: column;align-items: center;background-color: white;padding-right: 0.2em;padding-left: 0.2em;position: relative;}#sk-container-id-3 div.sk-item {position: relative;z-index: 1;}#sk-container-id-3 div.sk-parallel {display: flex;align-items: stretch;justify-content: center;background-color: white;position: relative;}#sk-container-id-3 div.sk-item::before, #sk-container-id-3 div.sk-parallel-item::before {content: \"\";position: absolute;border-left: 1px solid gray;box-sizing: border-box;top: 0;bottom: 0;left: 50%;z-index: -1;}#sk-container-id-3 div.sk-parallel-item {display: flex;flex-direction: column;z-index: 1;position: relative;background-color: white;}#sk-container-id-3 div.sk-parallel-item:first-child::after {align-self: flex-end;width: 50%;}#sk-container-id-3 div.sk-parallel-item:last-child::after {align-self: flex-start;width: 50%;}#sk-container-id-3 div.sk-parallel-item:only-child::after {width: 0;}#sk-container-id-3 div.sk-dashed-wrapped {border: 1px dashed gray;margin: 0 0.4em 0.5em 0.4em;box-sizing: border-box;padding-bottom: 0.4em;background-color: white;}#sk-container-id-3 div.sk-label label {font-family: monospace;font-weight: bold;display: inline-block;line-height: 1.2em;}#sk-container-id-3 div.sk-label-container {text-align: center;}#sk-container-id-3 div.sk-container {/* jupyter's `normalize.less` sets `[hidden] { display: none; }` but bootstrap.min.css set `[hidden] { display: none !important; }` so we also need the `!important` here to be able to override the default hidden behavior on the sphinx rendered scikit-learn.org. See: https://github.com/scikit-learn/scikit-learn/issues/21755 */display: inline-block !important;position: relative;}#sk-container-id-3 div.sk-text-repr-fallback {display: none;}</style><div id=\"sk-container-id-3\" class=\"sk-top-container\"><div class=\"sk-text-repr-fallback\"><pre>LogisticRegressionCV(cv=2, penalty=&#x27;l1&#x27;, random_state=6011, solver=&#x27;liblinear&#x27;)</pre><b>In a Jupyter environment, please rerun this cell to show the HTML representation or trust the notebook. <br />On GitHub, the HTML representation is unable to render, please try loading this page with nbviewer.org.</b></div><div class=\"sk-container\" hidden><div class=\"sk-item\"><div class=\"sk-estimator sk-toggleable\"><input class=\"sk-toggleable__control sk-hidden--visually\" id=\"sk-estimator-id-3\" type=\"checkbox\" checked><label for=\"sk-estimator-id-3\" class=\"sk-toggleable__label sk-toggleable__label-arrow\">LogisticRegressionCV</label><div class=\"sk-toggleable__content\"><pre>LogisticRegressionCV(cv=2, penalty=&#x27;l1&#x27;, random_state=6011, solver=&#x27;liblinear&#x27;)</pre></div></div></div></div></div>"
            ]
          },
          "metadata": {},
          "execution_count": 33
        }
      ]
    },
    {
      "cell_type": "code",
      "metadata": {
        "id": "AxqYvjHTKG_N",
        "outputId": "b41e9725-84f3-480b-fdbb-7a4640f2f5df",
        "colab": {
          "base_uri": "https://localhost:8080/"
        }
      },
      "source": [
        "lasso_classifier.classes_"
      ],
      "execution_count": 34,
      "outputs": [
        {
          "output_type": "execute_result",
          "data": {
            "text/plain": [
              "array([0, 1])"
            ]
          },
          "metadata": {},
          "execution_count": 34
        }
      ]
    },
    {
      "cell_type": "code",
      "metadata": {
        "id": "99UCUElqKHCe",
        "outputId": "bc99d3bb-8df3-42e3-c4b1-2a66cd67514f",
        "colab": {
          "base_uri": "https://localhost:8080/"
        }
      },
      "source": [
        "lasso_classifier.coef_"
      ],
      "execution_count": 35,
      "outputs": [
        {
          "output_type": "execute_result",
          "data": {
            "text/plain": [
              "array([[ 0.00000000e+00,  0.00000000e+00, -4.51882087e-01,\n",
              "         0.00000000e+00,  0.00000000e+00, -1.83352862e-03,\n",
              "         0.00000000e+00,  0.00000000e+00,  0.00000000e+00,\n",
              "         0.00000000e+00,  0.00000000e+00,  0.00000000e+00,\n",
              "         0.00000000e+00, -4.33901140e-01,  0.00000000e+00,\n",
              "         0.00000000e+00,  0.00000000e+00,  0.00000000e+00,\n",
              "         0.00000000e+00,  0.00000000e+00,  0.00000000e+00,\n",
              "         0.00000000e+00,  1.83041275e-01,  0.00000000e+00,\n",
              "         0.00000000e+00, -5.41904266e-04,  0.00000000e+00,\n",
              "         0.00000000e+00,  0.00000000e+00,  0.00000000e+00,\n",
              "         0.00000000e+00,  0.00000000e+00,  0.00000000e+00,\n",
              "         8.98106469e-02,  0.00000000e+00,  0.00000000e+00,\n",
              "         0.00000000e+00,  0.00000000e+00,  0.00000000e+00,\n",
              "         0.00000000e+00,  0.00000000e+00, -1.54779551e-03,\n",
              "        -3.62326024e-01,  3.11098936e-02,  2.40859918e-05,\n",
              "         2.00821859e-01,  1.02283097e-01, -1.46884716e-02,\n",
              "         0.00000000e+00,  0.00000000e+00,  1.05112561e-01,\n",
              "        -6.85434089e-02,  1.44402580e-03,  2.18503609e-01,\n",
              "         1.84942939e-01,  0.00000000e+00, -3.80692811e-02,\n",
              "         2.48374504e-03,  0.00000000e+00,  0.00000000e+00,\n",
              "         0.00000000e+00,  0.00000000e+00,  4.23132038e-04,\n",
              "         0.00000000e+00,  0.00000000e+00,  0.00000000e+00,\n",
              "         0.00000000e+00,  0.00000000e+00,  0.00000000e+00,\n",
              "         0.00000000e+00,  2.96619888e-01,  0.00000000e+00,\n",
              "         0.00000000e+00,  0.00000000e+00,  0.00000000e+00,\n",
              "         0.00000000e+00,  0.00000000e+00,  0.00000000e+00,\n",
              "         0.00000000e+00, -4.84472955e-04,  0.00000000e+00,\n",
              "         0.00000000e+00,  0.00000000e+00,  0.00000000e+00,\n",
              "         0.00000000e+00,  0.00000000e+00,  0.00000000e+00,\n",
              "         1.68492300e-01,  0.00000000e+00,  0.00000000e+00,\n",
              "         0.00000000e+00,  0.00000000e+00,  0.00000000e+00,\n",
              "         0.00000000e+00,  0.00000000e+00, -9.39247323e-08,\n",
              "        -3.81948486e-04, -1.76461928e-04,  2.73301025e-05,\n",
              "         2.35955978e-03,  8.16255061e-04,  2.87837413e-03,\n",
              "        -1.64844808e-04, -1.53029935e-05, -8.96064197e-04,\n",
              "        -5.10702828e-04, -2.77306542e-05, -1.47049204e-03,\n",
              "         1.61464802e-04,  4.88981508e-06,  1.63507270e-03,\n",
              "         0.00000000e+00,  0.00000000e+00,  0.00000000e+00,\n",
              "         0.00000000e+00,  0.00000000e+00,  0.00000000e+00,\n",
              "         0.00000000e+00,  0.00000000e+00,  0.00000000e+00,\n",
              "         0.00000000e+00,  0.00000000e+00,  0.00000000e+00,\n",
              "         0.00000000e+00,  0.00000000e+00,  0.00000000e+00,\n",
              "         0.00000000e+00,  0.00000000e+00,  0.00000000e+00,\n",
              "         0.00000000e+00,  0.00000000e+00,  0.00000000e+00,\n",
              "         6.86559035e-02,  0.00000000e+00,  0.00000000e+00,\n",
              "         0.00000000e+00,  0.00000000e+00,  0.00000000e+00,\n",
              "         0.00000000e+00,  0.00000000e+00,  7.08312971e-02,\n",
              "         0.00000000e+00,  0.00000000e+00,  0.00000000e+00,\n",
              "         0.00000000e+00, -7.50468903e-03,  0.00000000e+00,\n",
              "         0.00000000e+00,  5.35189731e-02,  0.00000000e+00,\n",
              "        -1.58095972e-01,  0.00000000e+00,  0.00000000e+00,\n",
              "         0.00000000e+00,  0.00000000e+00,  0.00000000e+00,\n",
              "         0.00000000e+00, -7.66734285e-02,  0.00000000e+00,\n",
              "         0.00000000e+00,  0.00000000e+00,  0.00000000e+00,\n",
              "         0.00000000e+00,  0.00000000e+00,  0.00000000e+00,\n",
              "         0.00000000e+00,  0.00000000e+00,  0.00000000e+00,\n",
              "         1.38653266e-01,  0.00000000e+00,  0.00000000e+00,\n",
              "         0.00000000e+00,  0.00000000e+00,  0.00000000e+00,\n",
              "         0.00000000e+00,  0.00000000e+00,  0.00000000e+00,\n",
              "         0.00000000e+00, -6.71690024e-02,  0.00000000e+00,\n",
              "         0.00000000e+00,  0.00000000e+00,  0.00000000e+00,\n",
              "         0.00000000e+00,  0.00000000e+00,  0.00000000e+00,\n",
              "         0.00000000e+00,  6.41397313e-02,  0.00000000e+00,\n",
              "         0.00000000e+00,  0.00000000e+00,  0.00000000e+00,\n",
              "         0.00000000e+00,  0.00000000e+00,  0.00000000e+00,\n",
              "         2.89380026e-04, -1.81628457e-03, -1.61738265e-02,\n",
              "        -2.20064192e-02,  0.00000000e+00, -1.55975766e-02,\n",
              "         6.22378978e-02,  3.86573770e-02,  0.00000000e+00,\n",
              "         0.00000000e+00,  0.00000000e+00,  0.00000000e+00,\n",
              "         0.00000000e+00,  0.00000000e+00,  0.00000000e+00,\n",
              "         0.00000000e+00,  0.00000000e+00,  0.00000000e+00,\n",
              "         0.00000000e+00,  0.00000000e+00,  0.00000000e+00,\n",
              "         0.00000000e+00,  0.00000000e+00,  2.73909954e-01,\n",
              "         0.00000000e+00,  0.00000000e+00,  0.00000000e+00,\n",
              "         0.00000000e+00,  0.00000000e+00,  0.00000000e+00,\n",
              "         0.00000000e+00,  0.00000000e+00,  0.00000000e+00,\n",
              "         0.00000000e+00,  0.00000000e+00,  0.00000000e+00]])"
            ]
          },
          "metadata": {},
          "execution_count": 35
        }
      ]
    },
    {
      "cell_type": "code",
      "metadata": {
        "id": "rvVuGWPBP67j",
        "outputId": "113c9f07-0d68-4a49-d4d1-c81fd1530f43",
        "colab": {
          "base_uri": "https://localhost:8080/"
        }
      },
      "source": [
        "print(f'Coeficientes mayores a cero: {(lasso_classifier.coef_>0).sum()}')"
      ],
      "execution_count": 36,
      "outputs": [
        {
          "output_type": "stream",
          "name": "stdout",
          "text": [
            "Coeficientes mayores a cero: 30\n"
          ]
        }
      ]
    },
    {
      "cell_type": "code",
      "metadata": {
        "id": "lD-YSULoKHFa",
        "outputId": "fc04f7c4-2dd5-4aeb-af13-849332bace84",
        "colab": {
          "base_uri": "https://localhost:8080/"
        }
      },
      "source": [
        "lasso_classifier.C_"
      ],
      "execution_count": 37,
      "outputs": [
        {
          "output_type": "execute_result",
          "data": {
            "text/plain": [
              "array([0.35938137])"
            ]
          },
          "metadata": {},
          "execution_count": 37
        }
      ]
    },
    {
      "cell_type": "code",
      "metadata": {
        "id": "WGqRToQyKHIA",
        "outputId": "56d20020-4bbc-4432-ff12-9c5413cecb26",
        "colab": {
          "base_uri": "https://localhost:8080/"
        }
      },
      "source": [
        "print(f'Mejor valor para lambda: {1/lasso_classifier.C_}')"
      ],
      "execution_count": 38,
      "outputs": [
        {
          "output_type": "stream",
          "name": "stdout",
          "text": [
            "Mejor valor para lambda: [2.7825594]\n"
          ]
        }
      ]
    },
    {
      "cell_type": "code",
      "metadata": {
        "id": "-oy3pMVgKHK0",
        "outputId": "b7dac39b-afd3-4371-98a5-3f69a8a456d2",
        "colab": {
          "base_uri": "https://localhost:8080/"
        }
      },
      "source": [
        "print('================ Resultados LASSO Logistic Regressor =================\\n')\n",
        "print(classification_report(y_test, lasso_classifier.predict(X_test_cod)))"
      ],
      "execution_count": 39,
      "outputs": [
        {
          "output_type": "stream",
          "name": "stdout",
          "text": [
            "================ Resultados LASSO Logistic Regressor =================\n",
            "\n",
            "              precision    recall  f1-score   support\n",
            "\n",
            "           0       0.57      0.62      0.60        50\n",
            "           1       0.87      0.85      0.86       150\n",
            "\n",
            "    accuracy                           0.79       200\n",
            "   macro avg       0.72      0.73      0.73       200\n",
            "weighted avg       0.80      0.79      0.79       200\n",
            "\n"
          ]
        }
      ]
    },
    {
      "cell_type": "markdown",
      "metadata": {
        "id": "pEbpMvp9ROmb"
      },
      "source": [
        "## Elastic Net (L1 y L2 regularizer combinados)"
      ]
    },
    {
      "cell_type": "code",
      "metadata": {
        "id": "w-3XJYJ4t7-i",
        "outputId": "9fbff493-3d4d-4956-f88b-cb643e720110",
        "colab": {
          "base_uri": "https://localhost:8080/"
        }
      },
      "source": [
        "elastic_classifier = LogisticRegression( penalty='elasticnet', solver='saga', max_iter=100, l1_ratio=0.5, random_state=6011)\n",
        "elastic_classifier.fit(X_train_cod,y_train)"
      ],
      "execution_count": 40,
      "outputs": [
        {
          "output_type": "stream",
          "name": "stderr",
          "text": [
            "/usr/local/lib/python3.10/dist-packages/sklearn/linear_model/_sag.py:350: ConvergenceWarning: The max_iter was reached which means the coef_ did not converge\n",
            "  warnings.warn(\n"
          ]
        },
        {
          "output_type": "execute_result",
          "data": {
            "text/plain": [
              "LogisticRegression(l1_ratio=0.5, penalty='elasticnet', random_state=6011,\n",
              "                   solver='saga')"
            ],
            "text/html": [
              "<style>#sk-container-id-4 {color: black;background-color: white;}#sk-container-id-4 pre{padding: 0;}#sk-container-id-4 div.sk-toggleable {background-color: white;}#sk-container-id-4 label.sk-toggleable__label {cursor: pointer;display: block;width: 100%;margin-bottom: 0;padding: 0.3em;box-sizing: border-box;text-align: center;}#sk-container-id-4 label.sk-toggleable__label-arrow:before {content: \"▸\";float: left;margin-right: 0.25em;color: #696969;}#sk-container-id-4 label.sk-toggleable__label-arrow:hover:before {color: black;}#sk-container-id-4 div.sk-estimator:hover label.sk-toggleable__label-arrow:before {color: black;}#sk-container-id-4 div.sk-toggleable__content {max-height: 0;max-width: 0;overflow: hidden;text-align: left;background-color: #f0f8ff;}#sk-container-id-4 div.sk-toggleable__content pre {margin: 0.2em;color: black;border-radius: 0.25em;background-color: #f0f8ff;}#sk-container-id-4 input.sk-toggleable__control:checked~div.sk-toggleable__content {max-height: 200px;max-width: 100%;overflow: auto;}#sk-container-id-4 input.sk-toggleable__control:checked~label.sk-toggleable__label-arrow:before {content: \"▾\";}#sk-container-id-4 div.sk-estimator input.sk-toggleable__control:checked~label.sk-toggleable__label {background-color: #d4ebff;}#sk-container-id-4 div.sk-label input.sk-toggleable__control:checked~label.sk-toggleable__label {background-color: #d4ebff;}#sk-container-id-4 input.sk-hidden--visually {border: 0;clip: rect(1px 1px 1px 1px);clip: rect(1px, 1px, 1px, 1px);height: 1px;margin: -1px;overflow: hidden;padding: 0;position: absolute;width: 1px;}#sk-container-id-4 div.sk-estimator {font-family: monospace;background-color: #f0f8ff;border: 1px dotted black;border-radius: 0.25em;box-sizing: border-box;margin-bottom: 0.5em;}#sk-container-id-4 div.sk-estimator:hover {background-color: #d4ebff;}#sk-container-id-4 div.sk-parallel-item::after {content: \"\";width: 100%;border-bottom: 1px solid gray;flex-grow: 1;}#sk-container-id-4 div.sk-label:hover label.sk-toggleable__label {background-color: #d4ebff;}#sk-container-id-4 div.sk-serial::before {content: \"\";position: absolute;border-left: 1px solid gray;box-sizing: border-box;top: 0;bottom: 0;left: 50%;z-index: 0;}#sk-container-id-4 div.sk-serial {display: flex;flex-direction: column;align-items: center;background-color: white;padding-right: 0.2em;padding-left: 0.2em;position: relative;}#sk-container-id-4 div.sk-item {position: relative;z-index: 1;}#sk-container-id-4 div.sk-parallel {display: flex;align-items: stretch;justify-content: center;background-color: white;position: relative;}#sk-container-id-4 div.sk-item::before, #sk-container-id-4 div.sk-parallel-item::before {content: \"\";position: absolute;border-left: 1px solid gray;box-sizing: border-box;top: 0;bottom: 0;left: 50%;z-index: -1;}#sk-container-id-4 div.sk-parallel-item {display: flex;flex-direction: column;z-index: 1;position: relative;background-color: white;}#sk-container-id-4 div.sk-parallel-item:first-child::after {align-self: flex-end;width: 50%;}#sk-container-id-4 div.sk-parallel-item:last-child::after {align-self: flex-start;width: 50%;}#sk-container-id-4 div.sk-parallel-item:only-child::after {width: 0;}#sk-container-id-4 div.sk-dashed-wrapped {border: 1px dashed gray;margin: 0 0.4em 0.5em 0.4em;box-sizing: border-box;padding-bottom: 0.4em;background-color: white;}#sk-container-id-4 div.sk-label label {font-family: monospace;font-weight: bold;display: inline-block;line-height: 1.2em;}#sk-container-id-4 div.sk-label-container {text-align: center;}#sk-container-id-4 div.sk-container {/* jupyter's `normalize.less` sets `[hidden] { display: none; }` but bootstrap.min.css set `[hidden] { display: none !important; }` so we also need the `!important` here to be able to override the default hidden behavior on the sphinx rendered scikit-learn.org. See: https://github.com/scikit-learn/scikit-learn/issues/21755 */display: inline-block !important;position: relative;}#sk-container-id-4 div.sk-text-repr-fallback {display: none;}</style><div id=\"sk-container-id-4\" class=\"sk-top-container\"><div class=\"sk-text-repr-fallback\"><pre>LogisticRegression(l1_ratio=0.5, penalty=&#x27;elasticnet&#x27;, random_state=6011,\n",
              "                   solver=&#x27;saga&#x27;)</pre><b>In a Jupyter environment, please rerun this cell to show the HTML representation or trust the notebook. <br />On GitHub, the HTML representation is unable to render, please try loading this page with nbviewer.org.</b></div><div class=\"sk-container\" hidden><div class=\"sk-item\"><div class=\"sk-estimator sk-toggleable\"><input class=\"sk-toggleable__control sk-hidden--visually\" id=\"sk-estimator-id-4\" type=\"checkbox\" checked><label for=\"sk-estimator-id-4\" class=\"sk-toggleable__label sk-toggleable__label-arrow\">LogisticRegression</label><div class=\"sk-toggleable__content\"><pre>LogisticRegression(l1_ratio=0.5, penalty=&#x27;elasticnet&#x27;, random_state=6011,\n",
              "                   solver=&#x27;saga&#x27;)</pre></div></div></div></div></div>"
            ]
          },
          "metadata": {},
          "execution_count": 40
        }
      ]
    },
    {
      "cell_type": "code",
      "metadata": {
        "id": "qrFbEGRIRVV_",
        "outputId": "1f5ad905-9e06-46f2-d34d-07626c61805b",
        "colab": {
          "base_uri": "https://localhost:8080/"
        }
      },
      "source": [
        "elastic_classifier = LogisticRegression(C=1000, penalty='elasticnet', solver='saga', max_iter=100, l1_ratio=0.5, random_state=6011)\n",
        "elastic_classifier.fit(X_train_cod,y_train)"
      ],
      "execution_count": 48,
      "outputs": [
        {
          "output_type": "stream",
          "name": "stderr",
          "text": [
            "/usr/local/lib/python3.10/dist-packages/sklearn/linear_model/_sag.py:350: ConvergenceWarning: The max_iter was reached which means the coef_ did not converge\n",
            "  warnings.warn(\n"
          ]
        },
        {
          "output_type": "execute_result",
          "data": {
            "text/plain": [
              "LogisticRegression(C=1000, l1_ratio=0.5, penalty='elasticnet',\n",
              "                   random_state=6011, solver='saga')"
            ],
            "text/html": [
              "<style>#sk-container-id-6 {color: black;background-color: white;}#sk-container-id-6 pre{padding: 0;}#sk-container-id-6 div.sk-toggleable {background-color: white;}#sk-container-id-6 label.sk-toggleable__label {cursor: pointer;display: block;width: 100%;margin-bottom: 0;padding: 0.3em;box-sizing: border-box;text-align: center;}#sk-container-id-6 label.sk-toggleable__label-arrow:before {content: \"▸\";float: left;margin-right: 0.25em;color: #696969;}#sk-container-id-6 label.sk-toggleable__label-arrow:hover:before {color: black;}#sk-container-id-6 div.sk-estimator:hover label.sk-toggleable__label-arrow:before {color: black;}#sk-container-id-6 div.sk-toggleable__content {max-height: 0;max-width: 0;overflow: hidden;text-align: left;background-color: #f0f8ff;}#sk-container-id-6 div.sk-toggleable__content pre {margin: 0.2em;color: black;border-radius: 0.25em;background-color: #f0f8ff;}#sk-container-id-6 input.sk-toggleable__control:checked~div.sk-toggleable__content {max-height: 200px;max-width: 100%;overflow: auto;}#sk-container-id-6 input.sk-toggleable__control:checked~label.sk-toggleable__label-arrow:before {content: \"▾\";}#sk-container-id-6 div.sk-estimator input.sk-toggleable__control:checked~label.sk-toggleable__label {background-color: #d4ebff;}#sk-container-id-6 div.sk-label input.sk-toggleable__control:checked~label.sk-toggleable__label {background-color: #d4ebff;}#sk-container-id-6 input.sk-hidden--visually {border: 0;clip: rect(1px 1px 1px 1px);clip: rect(1px, 1px, 1px, 1px);height: 1px;margin: -1px;overflow: hidden;padding: 0;position: absolute;width: 1px;}#sk-container-id-6 div.sk-estimator {font-family: monospace;background-color: #f0f8ff;border: 1px dotted black;border-radius: 0.25em;box-sizing: border-box;margin-bottom: 0.5em;}#sk-container-id-6 div.sk-estimator:hover {background-color: #d4ebff;}#sk-container-id-6 div.sk-parallel-item::after {content: \"\";width: 100%;border-bottom: 1px solid gray;flex-grow: 1;}#sk-container-id-6 div.sk-label:hover label.sk-toggleable__label {background-color: #d4ebff;}#sk-container-id-6 div.sk-serial::before {content: \"\";position: absolute;border-left: 1px solid gray;box-sizing: border-box;top: 0;bottom: 0;left: 50%;z-index: 0;}#sk-container-id-6 div.sk-serial {display: flex;flex-direction: column;align-items: center;background-color: white;padding-right: 0.2em;padding-left: 0.2em;position: relative;}#sk-container-id-6 div.sk-item {position: relative;z-index: 1;}#sk-container-id-6 div.sk-parallel {display: flex;align-items: stretch;justify-content: center;background-color: white;position: relative;}#sk-container-id-6 div.sk-item::before, #sk-container-id-6 div.sk-parallel-item::before {content: \"\";position: absolute;border-left: 1px solid gray;box-sizing: border-box;top: 0;bottom: 0;left: 50%;z-index: -1;}#sk-container-id-6 div.sk-parallel-item {display: flex;flex-direction: column;z-index: 1;position: relative;background-color: white;}#sk-container-id-6 div.sk-parallel-item:first-child::after {align-self: flex-end;width: 50%;}#sk-container-id-6 div.sk-parallel-item:last-child::after {align-self: flex-start;width: 50%;}#sk-container-id-6 div.sk-parallel-item:only-child::after {width: 0;}#sk-container-id-6 div.sk-dashed-wrapped {border: 1px dashed gray;margin: 0 0.4em 0.5em 0.4em;box-sizing: border-box;padding-bottom: 0.4em;background-color: white;}#sk-container-id-6 div.sk-label label {font-family: monospace;font-weight: bold;display: inline-block;line-height: 1.2em;}#sk-container-id-6 div.sk-label-container {text-align: center;}#sk-container-id-6 div.sk-container {/* jupyter's `normalize.less` sets `[hidden] { display: none; }` but bootstrap.min.css set `[hidden] { display: none !important; }` so we also need the `!important` here to be able to override the default hidden behavior on the sphinx rendered scikit-learn.org. See: https://github.com/scikit-learn/scikit-learn/issues/21755 */display: inline-block !important;position: relative;}#sk-container-id-6 div.sk-text-repr-fallback {display: none;}</style><div id=\"sk-container-id-6\" class=\"sk-top-container\"><div class=\"sk-text-repr-fallback\"><pre>LogisticRegression(C=1000, l1_ratio=0.5, penalty=&#x27;elasticnet&#x27;,\n",
              "                   random_state=6011, solver=&#x27;saga&#x27;)</pre><b>In a Jupyter environment, please rerun this cell to show the HTML representation or trust the notebook. <br />On GitHub, the HTML representation is unable to render, please try loading this page with nbviewer.org.</b></div><div class=\"sk-container\" hidden><div class=\"sk-item\"><div class=\"sk-estimator sk-toggleable\"><input class=\"sk-toggleable__control sk-hidden--visually\" id=\"sk-estimator-id-6\" type=\"checkbox\" checked><label for=\"sk-estimator-id-6\" class=\"sk-toggleable__label sk-toggleable__label-arrow\">LogisticRegression</label><div class=\"sk-toggleable__content\"><pre>LogisticRegression(C=1000, l1_ratio=0.5, penalty=&#x27;elasticnet&#x27;,\n",
              "                   random_state=6011, solver=&#x27;saga&#x27;)</pre></div></div></div></div></div>"
            ]
          },
          "metadata": {},
          "execution_count": 48
        }
      ]
    },
    {
      "cell_type": "code",
      "metadata": {
        "id": "8ZiM_5tARVV_",
        "outputId": "ea3fb1db-ff14-4891-b06b-9a9af0857640",
        "colab": {
          "base_uri": "https://localhost:8080/"
        }
      },
      "source": [
        "elastic_classifier.classes_"
      ],
      "execution_count": 49,
      "outputs": [
        {
          "output_type": "execute_result",
          "data": {
            "text/plain": [
              "array([0, 1])"
            ]
          },
          "metadata": {},
          "execution_count": 49
        }
      ]
    },
    {
      "cell_type": "code",
      "metadata": {
        "id": "jVIu9FNzRVV_",
        "outputId": "f9b7fed1-4ca7-4b1f-996f-0adb9279b6b3",
        "colab": {
          "base_uri": "https://localhost:8080/"
        }
      },
      "source": [
        "elastic_classifier.coef_"
      ],
      "execution_count": 50,
      "outputs": [
        {
          "output_type": "execute_result",
          "data": {
            "text/plain": [
              "array([[2.54629855e-13, 2.13413664e-13, 3.51006911e-12, 1.94259161e-13,\n",
              "        1.83997764e-13, 5.06977518e-10, 1.85938796e-13, 1.83302752e-13,\n",
              "        7.13029280e-13, 1.78738374e-13, 1.77304972e-13, 1.75420664e-13,\n",
              "        1.83284658e-13, 9.73370037e-12, 1.78977037e-13, 1.80094376e-13,\n",
              "        3.79478231e-13, 1.76558709e-13, 2.97193719e-13, 1.75361044e-13,\n",
              "        1.76882973e-13, 1.80066100e-13, 3.29698494e-12, 1.60069782e-13,\n",
              "        1.53279012e-13, 4.70433863e-10, 1.54807708e-13, 1.52862880e-13,\n",
              "        6.12477295e-13, 1.49330781e-13, 1.47926916e-13, 1.46871907e-13,\n",
              "        1.52007258e-13, 8.08312458e-12, 1.49841751e-13, 1.50325269e-13,\n",
              "        3.13323495e-13, 1.47924731e-13, 2.47700717e-13, 1.46964838e-13,\n",
              "        1.47777794e-13, 4.99081765e-11, 2.72180455e-12, 2.64015819e-12,\n",
              "        6.68757346e-09, 2.71383756e-12, 2.59932437e-12, 9.84875206e-12,\n",
              "        2.50018225e-12, 2.46074745e-12, 2.42923405e-12, 2.55802656e-12,\n",
              "        1.33570462e-10, 2.47536825e-12, 2.54325696e-12, 5.22977616e-12,\n",
              "        2.42153404e-12, 4.13157202e-12, 2.43235422e-12, 2.41663230e-12,\n",
              "        1.48159509e-13, 1.39425875e-13, 4.06367041e-10, 1.40740527e-13,\n",
              "        1.39528960e-13, 5.47522624e-13, 1.36149980e-13, 1.34984667e-13,\n",
              "        1.33835793e-13, 1.38843169e-13, 7.48707170e-12, 1.36695894e-13,\n",
              "        1.36791928e-13, 2.98331276e-13, 1.34497485e-13, 2.28919134e-13,\n",
              "        1.33805844e-13, 1.34859105e-13, 1.34341712e-13, 3.85583098e-10,\n",
              "        1.34076904e-13, 1.32304551e-13, 5.17847796e-13, 1.29116114e-13,\n",
              "        1.28076474e-13, 1.26717081e-13, 1.32173687e-13, 6.97548599e-12,\n",
              "        1.29179542e-13, 1.30162239e-13, 2.72341432e-13, 1.27457020e-13,\n",
              "        2.13912376e-13, 1.26692194e-13, 1.27586007e-13, 1.15502749e-09,\n",
              "        3.91185507e-10, 3.77460689e-10, 1.37903578e-09, 3.64701146e-10,\n",
              "        3.56482416e-10, 3.50837670e-10, 3.74721610e-10, 1.84872900e-08,\n",
              "        3.59232461e-10, 3.65485080e-10, 7.61651689e-10, 3.53528739e-10,\n",
              "        6.36402554e-10, 3.48010737e-10, 3.47868925e-10, 1.38132511e-13,\n",
              "        1.33581744e-13, 5.26354376e-13, 1.30284720e-13, 1.29207521e-13,\n",
              "        1.28025387e-13, 1.33410524e-13, 7.10750583e-12, 1.30572088e-13,\n",
              "        1.31333499e-13, 2.74135554e-13, 1.28859946e-13, 2.16724319e-13,\n",
              "        1.28092895e-13, 1.29063021e-13, 1.32826642e-13, 5.16977611e-13,\n",
              "        1.28508339e-13, 1.27437392e-13, 1.26244836e-13, 1.31642117e-13,\n",
              "        6.99843713e-12, 1.28930392e-13, 1.29631214e-13, 2.73923505e-13,\n",
              "        1.27140155e-13, 2.13678335e-13, 1.26289700e-13, 1.27167475e-13,\n",
              "        2.32873861e-12, 5.03784926e-13, 4.96342046e-13, 4.91131836e-13,\n",
              "        5.12367721e-13, 2.78363418e-11, 5.01928851e-13, 5.08381356e-13,\n",
              "        1.08778515e-12, 4.93306863e-13, 8.02016403e-13, 4.92731313e-13,\n",
              "        4.94325721e-13, 1.25965348e-13, 1.24428311e-13, 1.23132201e-13,\n",
              "        1.28586909e-13, 6.81586265e-12, 1.25558030e-13, 1.26332583e-13,\n",
              "        2.66475853e-13, 1.23909311e-13, 2.09059800e-13, 1.23099222e-13,\n",
              "        1.24223356e-13, 1.23725010e-13, 1.22144910e-13, 1.27663479e-13,\n",
              "        6.76786113e-12, 1.24613708e-13, 1.25432851e-13, 2.64113499e-13,\n",
              "        1.22944182e-13, 2.07416781e-13, 1.22096622e-13, 1.23143259e-13,\n",
              "        1.20919119e-13, 1.26234674e-13, 6.69682213e-12, 1.23244434e-13,\n",
              "        1.24059609e-13, 2.61672068e-13, 1.21637920e-13, 2.04917437e-13,\n",
              "        1.20810617e-13, 1.21846517e-13, 1.32901072e-13, 7.00669216e-12,\n",
              "        1.28807508e-13, 1.29768406e-13, 2.72296843e-13, 1.27250605e-13,\n",
              "        2.15290229e-13, 1.26157157e-13, 1.27401426e-13, 4.01388305e-10,\n",
              "        6.84070183e-12, 6.89284119e-12, 1.48226305e-11, 6.73773328e-12,\n",
              "        1.13725737e-11, 6.71124782e-12, 6.75884931e-12, 1.26087945e-13,\n",
              "        1.26548377e-13, 2.66224693e-13, 1.24139250e-13, 2.09133284e-13,\n",
              "        1.23246273e-13, 1.24344505e-13, 1.27874057e-13, 2.68964939e-13,\n",
              "        1.24962507e-13, 2.10708645e-13, 1.23996154e-13, 1.25022641e-13,\n",
              "        6.57986021e-13, 2.63390891e-13, 4.53545569e-13, 2.61440404e-13,\n",
              "        2.63586605e-13, 1.22602190e-13, 2.06145189e-13, 1.21545773e-13,\n",
              "        1.22710331e-13, 3.82321448e-13, 2.04807795e-13, 2.07616808e-13,\n",
              "        1.20836562e-13, 1.21768321e-13, 1.23506815e-13]])"
            ]
          },
          "metadata": {},
          "execution_count": 50
        }
      ]
    },
    {
      "cell_type": "code",
      "metadata": {
        "id": "Fma_i1dARVWA",
        "outputId": "9102f0c5-4f44-489a-ac18-be5c56fbfc98",
        "colab": {
          "base_uri": "https://localhost:8080/"
        }
      },
      "source": [
        "print(f'Coeficientes mayores a cero: {(elastic_classifier.coef_>0).sum()}')"
      ],
      "execution_count": 51,
      "outputs": [
        {
          "output_type": "stream",
          "name": "stdout",
          "text": [
            "Coeficientes mayores a cero: 231\n"
          ]
        }
      ]
    },
    {
      "cell_type": "code",
      "metadata": {
        "id": "qNff6KeMRVWA",
        "outputId": "3e3ab72f-805e-4cda-c42d-e764277e849a",
        "colab": {
          "base_uri": "https://localhost:8080/"
        }
      },
      "source": [
        "elastic_classifier.C"
      ],
      "execution_count": 52,
      "outputs": [
        {
          "output_type": "execute_result",
          "data": {
            "text/plain": [
              "1000"
            ]
          },
          "metadata": {},
          "execution_count": 52
        }
      ]
    },
    {
      "cell_type": "code",
      "metadata": {
        "id": "Zv6b4KOlRVWA",
        "outputId": "de1811cc-b31e-4766-c45e-797152766811",
        "colab": {
          "base_uri": "https://localhost:8080/"
        }
      },
      "source": [
        "print(f'Mejor valor para lambda: {1/elastic_classifier.C}')"
      ],
      "execution_count": 53,
      "outputs": [
        {
          "output_type": "stream",
          "name": "stdout",
          "text": [
            "Mejor valor para lambda: 0.001\n"
          ]
        }
      ]
    },
    {
      "cell_type": "code",
      "metadata": {
        "id": "QOwV38xSRVWA",
        "outputId": "8404722c-19a3-4878-b1d1-6a3db63bc26a",
        "colab": {
          "base_uri": "https://localhost:8080/"
        }
      },
      "source": [
        "print('================ Resultados de la Elastic Net =================\\n')\n",
        "print(classification_report(y_test, elastic_classifier.predict(X_test_cod)))"
      ],
      "execution_count": 54,
      "outputs": [
        {
          "output_type": "stream",
          "name": "stdout",
          "text": [
            "================ Resultados de la Elastic Net =================\n",
            "\n",
            "              precision    recall  f1-score   support\n",
            "\n",
            "           0       0.00      0.00      0.00        50\n",
            "           1       0.75      1.00      0.86       150\n",
            "\n",
            "    accuracy                           0.75       200\n",
            "   macro avg       0.38      0.50      0.43       200\n",
            "weighted avg       0.56      0.75      0.64       200\n",
            "\n"
          ]
        },
        {
          "output_type": "stream",
          "name": "stderr",
          "text": [
            "/usr/local/lib/python3.10/dist-packages/sklearn/metrics/_classification.py:1344: UndefinedMetricWarning: Precision and F-score are ill-defined and being set to 0.0 in labels with no predicted samples. Use `zero_division` parameter to control this behavior.\n",
            "  _warn_prf(average, modifier, msg_start, len(result))\n",
            "/usr/local/lib/python3.10/dist-packages/sklearn/metrics/_classification.py:1344: UndefinedMetricWarning: Precision and F-score are ill-defined and being set to 0.0 in labels with no predicted samples. Use `zero_division` parameter to control this behavior.\n",
            "  _warn_prf(average, modifier, msg_start, len(result))\n",
            "/usr/local/lib/python3.10/dist-packages/sklearn/metrics/_classification.py:1344: UndefinedMetricWarning: Precision and F-score are ill-defined and being set to 0.0 in labels with no predicted samples. Use `zero_division` parameter to control this behavior.\n",
            "  _warn_prf(average, modifier, msg_start, len(result))\n"
          ]
        }
      ]
    },
    {
      "cell_type": "markdown",
      "metadata": {
        "id": "MJZCzbdOL-EZ"
      },
      "source": [
        "## Árboles de Decisión"
      ]
    },
    {
      "cell_type": "code",
      "metadata": {
        "id": "JgPFaxxAL-MV"
      },
      "source": [
        "from sklearn.tree import DecisionTreeClassifier\n",
        "from sklearn.ensemble import RandomForestClassifier, GradientBoostingClassifier"
      ],
      "execution_count": 55,
      "outputs": []
    },
    {
      "cell_type": "code",
      "metadata": {
        "id": "ofsyk40KTT49",
        "outputId": "b0259474-87b6-41f4-e3af-aec0012cabf8",
        "colab": {
          "base_uri": "https://localhost:8080/"
        }
      },
      "source": [
        "dt = DecisionTreeClassifier()\n",
        "dt.fit(X_train_cod, y_train)"
      ],
      "execution_count": 56,
      "outputs": [
        {
          "output_type": "execute_result",
          "data": {
            "text/plain": [
              "DecisionTreeClassifier()"
            ],
            "text/html": [
              "<style>#sk-container-id-7 {color: black;background-color: white;}#sk-container-id-7 pre{padding: 0;}#sk-container-id-7 div.sk-toggleable {background-color: white;}#sk-container-id-7 label.sk-toggleable__label {cursor: pointer;display: block;width: 100%;margin-bottom: 0;padding: 0.3em;box-sizing: border-box;text-align: center;}#sk-container-id-7 label.sk-toggleable__label-arrow:before {content: \"▸\";float: left;margin-right: 0.25em;color: #696969;}#sk-container-id-7 label.sk-toggleable__label-arrow:hover:before {color: black;}#sk-container-id-7 div.sk-estimator:hover label.sk-toggleable__label-arrow:before {color: black;}#sk-container-id-7 div.sk-toggleable__content {max-height: 0;max-width: 0;overflow: hidden;text-align: left;background-color: #f0f8ff;}#sk-container-id-7 div.sk-toggleable__content pre {margin: 0.2em;color: black;border-radius: 0.25em;background-color: #f0f8ff;}#sk-container-id-7 input.sk-toggleable__control:checked~div.sk-toggleable__content {max-height: 200px;max-width: 100%;overflow: auto;}#sk-container-id-7 input.sk-toggleable__control:checked~label.sk-toggleable__label-arrow:before {content: \"▾\";}#sk-container-id-7 div.sk-estimator input.sk-toggleable__control:checked~label.sk-toggleable__label {background-color: #d4ebff;}#sk-container-id-7 div.sk-label input.sk-toggleable__control:checked~label.sk-toggleable__label {background-color: #d4ebff;}#sk-container-id-7 input.sk-hidden--visually {border: 0;clip: rect(1px 1px 1px 1px);clip: rect(1px, 1px, 1px, 1px);height: 1px;margin: -1px;overflow: hidden;padding: 0;position: absolute;width: 1px;}#sk-container-id-7 div.sk-estimator {font-family: monospace;background-color: #f0f8ff;border: 1px dotted black;border-radius: 0.25em;box-sizing: border-box;margin-bottom: 0.5em;}#sk-container-id-7 div.sk-estimator:hover {background-color: #d4ebff;}#sk-container-id-7 div.sk-parallel-item::after {content: \"\";width: 100%;border-bottom: 1px solid gray;flex-grow: 1;}#sk-container-id-7 div.sk-label:hover label.sk-toggleable__label {background-color: #d4ebff;}#sk-container-id-7 div.sk-serial::before {content: \"\";position: absolute;border-left: 1px solid gray;box-sizing: border-box;top: 0;bottom: 0;left: 50%;z-index: 0;}#sk-container-id-7 div.sk-serial {display: flex;flex-direction: column;align-items: center;background-color: white;padding-right: 0.2em;padding-left: 0.2em;position: relative;}#sk-container-id-7 div.sk-item {position: relative;z-index: 1;}#sk-container-id-7 div.sk-parallel {display: flex;align-items: stretch;justify-content: center;background-color: white;position: relative;}#sk-container-id-7 div.sk-item::before, #sk-container-id-7 div.sk-parallel-item::before {content: \"\";position: absolute;border-left: 1px solid gray;box-sizing: border-box;top: 0;bottom: 0;left: 50%;z-index: -1;}#sk-container-id-7 div.sk-parallel-item {display: flex;flex-direction: column;z-index: 1;position: relative;background-color: white;}#sk-container-id-7 div.sk-parallel-item:first-child::after {align-self: flex-end;width: 50%;}#sk-container-id-7 div.sk-parallel-item:last-child::after {align-self: flex-start;width: 50%;}#sk-container-id-7 div.sk-parallel-item:only-child::after {width: 0;}#sk-container-id-7 div.sk-dashed-wrapped {border: 1px dashed gray;margin: 0 0.4em 0.5em 0.4em;box-sizing: border-box;padding-bottom: 0.4em;background-color: white;}#sk-container-id-7 div.sk-label label {font-family: monospace;font-weight: bold;display: inline-block;line-height: 1.2em;}#sk-container-id-7 div.sk-label-container {text-align: center;}#sk-container-id-7 div.sk-container {/* jupyter's `normalize.less` sets `[hidden] { display: none; }` but bootstrap.min.css set `[hidden] { display: none !important; }` so we also need the `!important` here to be able to override the default hidden behavior on the sphinx rendered scikit-learn.org. See: https://github.com/scikit-learn/scikit-learn/issues/21755 */display: inline-block !important;position: relative;}#sk-container-id-7 div.sk-text-repr-fallback {display: none;}</style><div id=\"sk-container-id-7\" class=\"sk-top-container\"><div class=\"sk-text-repr-fallback\"><pre>DecisionTreeClassifier()</pre><b>In a Jupyter environment, please rerun this cell to show the HTML representation or trust the notebook. <br />On GitHub, the HTML representation is unable to render, please try loading this page with nbviewer.org.</b></div><div class=\"sk-container\" hidden><div class=\"sk-item\"><div class=\"sk-estimator sk-toggleable\"><input class=\"sk-toggleable__control sk-hidden--visually\" id=\"sk-estimator-id-7\" type=\"checkbox\" checked><label for=\"sk-estimator-id-7\" class=\"sk-toggleable__label sk-toggleable__label-arrow\">DecisionTreeClassifier</label><div class=\"sk-toggleable__content\"><pre>DecisionTreeClassifier()</pre></div></div></div></div></div>"
            ]
          },
          "metadata": {},
          "execution_count": 56
        }
      ]
    },
    {
      "cell_type": "code",
      "metadata": {
        "id": "5IMfXYlrTT74",
        "outputId": "fe02cf15-8899-4c33-f718-7214e9d9090c",
        "colab": {
          "base_uri": "https://localhost:8080/"
        }
      },
      "source": [
        "dt.feature_importances_"
      ],
      "execution_count": 57,
      "outputs": [
        {
          "output_type": "execute_result",
          "data": {
            "text/plain": [
              "array([0.        , 0.        , 0.        , 0.        , 0.        ,\n",
              "       0.        , 0.        , 0.        , 0.        , 0.        ,\n",
              "       0.        , 0.        , 0.        , 0.01078713, 0.        ,\n",
              "       0.        , 0.        , 0.        , 0.        , 0.        ,\n",
              "       0.        , 0.        , 0.        , 0.        , 0.        ,\n",
              "       0.0080881 , 0.13687648, 0.        , 0.        , 0.00551196,\n",
              "       0.        , 0.01769468, 0.        , 0.02111516, 0.        ,\n",
              "       0.00093444, 0.        , 0.        , 0.        , 0.        ,\n",
              "       0.        , 0.        , 0.        , 0.        , 0.        ,\n",
              "       0.01491841, 0.        , 0.01801024, 0.        , 0.00498701,\n",
              "       0.00620606, 0.03660315, 0.00184078, 0.        , 0.        ,\n",
              "       0.        , 0.01139933, 0.        , 0.        , 0.        ,\n",
              "       0.        , 0.02693016, 0.07281571, 0.00892458, 0.        ,\n",
              "       0.00509091, 0.        , 0.        , 0.00484848, 0.05169166,\n",
              "       0.        , 0.00826218, 0.        , 0.00487378, 0.00465455,\n",
              "       0.        , 0.01164735, 0.        , 0.        , 0.        ,\n",
              "       0.01164329, 0.01864796, 0.00484848, 0.        , 0.00524305,\n",
              "       0.00406328, 0.02053994, 0.01125392, 0.        , 0.        ,\n",
              "       0.01188739, 0.        , 0.01014784, 0.        , 0.00833333,\n",
              "       0.        , 0.        , 0.01618268, 0.00549495, 0.02065142,\n",
              "       0.00517172, 0.        , 0.        , 0.        , 0.00930909,\n",
              "       0.        , 0.        , 0.        , 0.        , 0.        ,\n",
              "       0.        , 0.        , 0.        , 0.        , 0.        ,\n",
              "       0.        , 0.        , 0.        , 0.02666132, 0.01112952,\n",
              "       0.        , 0.        , 0.01187879, 0.        , 0.        ,\n",
              "       0.        , 0.        , 0.00490479, 0.        , 0.01480353,\n",
              "       0.        , 0.00971901, 0.        , 0.02479309, 0.00167493,\n",
              "       0.        , 0.01847771, 0.        , 0.        , 0.        ,\n",
              "       0.00387879, 0.        , 0.        , 0.00387879, 0.0123516 ,\n",
              "       0.        , 0.        , 0.        , 0.        , 0.        ,\n",
              "       0.        , 0.        , 0.        , 0.        , 0.        ,\n",
              "       0.        , 0.        , 0.00145712, 0.00387879, 0.0213081 ,\n",
              "       0.01024011, 0.        , 0.        , 0.01119559, 0.0051297 ,\n",
              "       0.        , 0.        , 0.01114007, 0.        , 0.        ,\n",
              "       0.        , 0.        , 0.        , 0.        , 0.01137389,\n",
              "       0.        , 0.        , 0.01612219, 0.01168214, 0.        ,\n",
              "       0.        , 0.        , 0.01020797, 0.        , 0.        ,\n",
              "       0.        , 0.        , 0.01388745, 0.        , 0.        ,\n",
              "       0.00557576, 0.        , 0.        , 0.        , 0.        ,\n",
              "       0.        , 0.        , 0.        , 0.01108225, 0.00393498,\n",
              "       0.01030947, 0.00775758, 0.        , 0.        , 0.        ,\n",
              "       0.        , 0.        , 0.        , 0.        , 0.        ,\n",
              "       0.        , 0.        , 0.01282591, 0.00290909, 0.        ,\n",
              "       0.        , 0.        , 0.        , 0.0050994 , 0.01059993,\n",
              "       0.        , 0.        , 0.        , 0.        , 0.        ,\n",
              "       0.        , 0.        , 0.        , 0.        , 0.        ,\n",
              "       0.        ])"
            ]
          },
          "metadata": {},
          "execution_count": 57
        }
      ]
    },
    {
      "cell_type": "code",
      "metadata": {
        "id": "R_iC8tSk0IuP",
        "outputId": "ef6fc0cb-688a-4e42-afc5-ea28cd764ecd",
        "colab": {
          "base_uri": "https://localhost:8080/"
        }
      },
      "source": [
        "np.array(dt.feature_importances_).sum()"
      ],
      "execution_count": 58,
      "outputs": [
        {
          "output_type": "execute_result",
          "data": {
            "text/plain": [
              "0.9999999999999998"
            ]
          },
          "metadata": {},
          "execution_count": 58
        }
      ]
    },
    {
      "cell_type": "code",
      "metadata": {
        "id": "VM2AC1vj0VU8",
        "outputId": "47d2ddb0-bf44-49b3-fcf5-2dde99a5738f",
        "colab": {
          "base_uri": "https://localhost:8080/"
        }
      },
      "source": [
        "dt.get_depth()"
      ],
      "execution_count": 59,
      "outputs": [
        {
          "output_type": "execute_result",
          "data": {
            "text/plain": [
              "14"
            ]
          },
          "metadata": {},
          "execution_count": 59
        }
      ]
    },
    {
      "cell_type": "code",
      "metadata": {
        "id": "yn12IDDGace3",
        "outputId": "a2b241ce-7e08-4060-e2ab-bbace72d462e",
        "colab": {
          "base_uri": "https://localhost:8080/"
        }
      },
      "source": [
        "print(f'Importancias mayores a cero: {(dt.feature_importances_>0).sum()}')"
      ],
      "execution_count": 60,
      "outputs": [
        {
          "output_type": "stream",
          "name": "stdout",
          "text": [
            "Importancias mayores a cero: 72\n"
          ]
        }
      ]
    },
    {
      "cell_type": "code",
      "metadata": {
        "id": "-g5Ok9NxTT-u",
        "outputId": "1ebee5a6-9380-41e8-9ea4-f18bae85aa2c",
        "colab": {
          "base_uri": "https://localhost:8080/"
        }
      },
      "source": [
        "print('================ Resultados Decision Tree =================\\n')\n",
        "print(classification_report(y_test, dt.predict(X_test_cod)))"
      ],
      "execution_count": 61,
      "outputs": [
        {
          "output_type": "stream",
          "name": "stdout",
          "text": [
            "================ Resultados Decision Tree =================\n",
            "\n",
            "              precision    recall  f1-score   support\n",
            "\n",
            "           0       0.43      0.54      0.48        50\n",
            "           1       0.83      0.76      0.79       150\n",
            "\n",
            "    accuracy                           0.70       200\n",
            "   macro avg       0.63      0.65      0.64       200\n",
            "weighted avg       0.73      0.70      0.72       200\n",
            "\n"
          ]
        }
      ]
    },
    {
      "cell_type": "markdown",
      "metadata": {
        "id": "tWyHp_OfTUBo"
      },
      "source": [
        "## Ensamblados de árboles"
      ]
    },
    {
      "cell_type": "code",
      "metadata": {
        "id": "nvj-wDSrUp_2",
        "outputId": "26423de1-4d8a-49e2-e30b-21620c258a4c",
        "colab": {
          "base_uri": "https://localhost:8080/"
        }
      },
      "source": [
        "rf = RandomForestClassifier()\n",
        "rf.fit(X_train_cod, y_train)"
      ],
      "execution_count": 62,
      "outputs": [
        {
          "output_type": "execute_result",
          "data": {
            "text/plain": [
              "RandomForestClassifier()"
            ],
            "text/html": [
              "<style>#sk-container-id-8 {color: black;background-color: white;}#sk-container-id-8 pre{padding: 0;}#sk-container-id-8 div.sk-toggleable {background-color: white;}#sk-container-id-8 label.sk-toggleable__label {cursor: pointer;display: block;width: 100%;margin-bottom: 0;padding: 0.3em;box-sizing: border-box;text-align: center;}#sk-container-id-8 label.sk-toggleable__label-arrow:before {content: \"▸\";float: left;margin-right: 0.25em;color: #696969;}#sk-container-id-8 label.sk-toggleable__label-arrow:hover:before {color: black;}#sk-container-id-8 div.sk-estimator:hover label.sk-toggleable__label-arrow:before {color: black;}#sk-container-id-8 div.sk-toggleable__content {max-height: 0;max-width: 0;overflow: hidden;text-align: left;background-color: #f0f8ff;}#sk-container-id-8 div.sk-toggleable__content pre {margin: 0.2em;color: black;border-radius: 0.25em;background-color: #f0f8ff;}#sk-container-id-8 input.sk-toggleable__control:checked~div.sk-toggleable__content {max-height: 200px;max-width: 100%;overflow: auto;}#sk-container-id-8 input.sk-toggleable__control:checked~label.sk-toggleable__label-arrow:before {content: \"▾\";}#sk-container-id-8 div.sk-estimator input.sk-toggleable__control:checked~label.sk-toggleable__label {background-color: #d4ebff;}#sk-container-id-8 div.sk-label input.sk-toggleable__control:checked~label.sk-toggleable__label {background-color: #d4ebff;}#sk-container-id-8 input.sk-hidden--visually {border: 0;clip: rect(1px 1px 1px 1px);clip: rect(1px, 1px, 1px, 1px);height: 1px;margin: -1px;overflow: hidden;padding: 0;position: absolute;width: 1px;}#sk-container-id-8 div.sk-estimator {font-family: monospace;background-color: #f0f8ff;border: 1px dotted black;border-radius: 0.25em;box-sizing: border-box;margin-bottom: 0.5em;}#sk-container-id-8 div.sk-estimator:hover {background-color: #d4ebff;}#sk-container-id-8 div.sk-parallel-item::after {content: \"\";width: 100%;border-bottom: 1px solid gray;flex-grow: 1;}#sk-container-id-8 div.sk-label:hover label.sk-toggleable__label {background-color: #d4ebff;}#sk-container-id-8 div.sk-serial::before {content: \"\";position: absolute;border-left: 1px solid gray;box-sizing: border-box;top: 0;bottom: 0;left: 50%;z-index: 0;}#sk-container-id-8 div.sk-serial {display: flex;flex-direction: column;align-items: center;background-color: white;padding-right: 0.2em;padding-left: 0.2em;position: relative;}#sk-container-id-8 div.sk-item {position: relative;z-index: 1;}#sk-container-id-8 div.sk-parallel {display: flex;align-items: stretch;justify-content: center;background-color: white;position: relative;}#sk-container-id-8 div.sk-item::before, #sk-container-id-8 div.sk-parallel-item::before {content: \"\";position: absolute;border-left: 1px solid gray;box-sizing: border-box;top: 0;bottom: 0;left: 50%;z-index: -1;}#sk-container-id-8 div.sk-parallel-item {display: flex;flex-direction: column;z-index: 1;position: relative;background-color: white;}#sk-container-id-8 div.sk-parallel-item:first-child::after {align-self: flex-end;width: 50%;}#sk-container-id-8 div.sk-parallel-item:last-child::after {align-self: flex-start;width: 50%;}#sk-container-id-8 div.sk-parallel-item:only-child::after {width: 0;}#sk-container-id-8 div.sk-dashed-wrapped {border: 1px dashed gray;margin: 0 0.4em 0.5em 0.4em;box-sizing: border-box;padding-bottom: 0.4em;background-color: white;}#sk-container-id-8 div.sk-label label {font-family: monospace;font-weight: bold;display: inline-block;line-height: 1.2em;}#sk-container-id-8 div.sk-label-container {text-align: center;}#sk-container-id-8 div.sk-container {/* jupyter's `normalize.less` sets `[hidden] { display: none; }` but bootstrap.min.css set `[hidden] { display: none !important; }` so we also need the `!important` here to be able to override the default hidden behavior on the sphinx rendered scikit-learn.org. See: https://github.com/scikit-learn/scikit-learn/issues/21755 */display: inline-block !important;position: relative;}#sk-container-id-8 div.sk-text-repr-fallback {display: none;}</style><div id=\"sk-container-id-8\" class=\"sk-top-container\"><div class=\"sk-text-repr-fallback\"><pre>RandomForestClassifier()</pre><b>In a Jupyter environment, please rerun this cell to show the HTML representation or trust the notebook. <br />On GitHub, the HTML representation is unable to render, please try loading this page with nbviewer.org.</b></div><div class=\"sk-container\" hidden><div class=\"sk-item\"><div class=\"sk-estimator sk-toggleable\"><input class=\"sk-toggleable__control sk-hidden--visually\" id=\"sk-estimator-id-8\" type=\"checkbox\" checked><label for=\"sk-estimator-id-8\" class=\"sk-toggleable__label sk-toggleable__label-arrow\">RandomForestClassifier</label><div class=\"sk-toggleable__content\"><pre>RandomForestClassifier()</pre></div></div></div></div></div>"
            ]
          },
          "metadata": {},
          "execution_count": 62
        }
      ]
    },
    {
      "cell_type": "code",
      "metadata": {
        "id": "QrAEHOG4Up_8",
        "outputId": "75af6588-e520-4625-8273-99d44999abbe",
        "colab": {
          "base_uri": "https://localhost:8080/"
        }
      },
      "source": [
        "rf.feature_importances_"
      ],
      "execution_count": 63,
      "outputs": [
        {
          "output_type": "execute_result",
          "data": {
            "text/plain": [
              "array([0.        , 0.00647437, 0.00294858, 0.00173288, 0.0032565 ,\n",
              "       0.00855216, 0.00239698, 0.00163171, 0.00071253, 0.00140255,\n",
              "       0.00092004, 0.00193268, 0.00239458, 0.00405905, 0.00151867,\n",
              "       0.00092072, 0.00039497, 0.00140758, 0.00045874, 0.00071712,\n",
              "       0.00011551, 0.00558915, 0.00477774, 0.02060234, 0.01316749,\n",
              "       0.00838101, 0.01968967, 0.01122695, 0.00277582, 0.00867735,\n",
              "       0.00769512, 0.00937573, 0.01577619, 0.01027197, 0.01258659,\n",
              "       0.00716865, 0.00510392, 0.00942571, 0.00636584, 0.00561464,\n",
              "       0.00323115, 0.0052601 , 0.00451286, 0.00565794, 0.00666698,\n",
              "       0.00822563, 0.00504942, 0.00872496, 0.00599014, 0.00458505,\n",
              "       0.00796608, 0.00742693, 0.00641229, 0.00444306, 0.00544001,\n",
              "       0.00565727, 0.00741939, 0.0054487 , 0.00589407, 0.00429996,\n",
              "       0.00118221, 0.00756822, 0.0108848 , 0.0101469 , 0.00884197,\n",
              "       0.00263552, 0.00573855, 0.00552425, 0.00491612, 0.00505984,\n",
              "       0.00724057, 0.00257763, 0.00533154, 0.0015402 , 0.00595157,\n",
              "       0.00127987, 0.00282116, 0.0016375 , 0.00241737, 0.00751523,\n",
              "       0.00749499, 0.00895345, 0.00380028, 0.00699504, 0.00509293,\n",
              "       0.00580684, 0.00981483, 0.00913369, 0.00490593, 0.00444503,\n",
              "       0.00322028, 0.00526539, 0.00455775, 0.00470978, 0.00410585,\n",
              "       0.00745   , 0.0062772 , 0.00842409, 0.00923857, 0.00767038,\n",
              "       0.0055953 , 0.00555502, 0.00814668, 0.00907608, 0.00645298,\n",
              "       0.0072608 , 0.00673475, 0.00677289, 0.00564974, 0.00587738,\n",
              "       0.00653012, 0.00193911, 0.004272  , 0.00313341, 0.00618611,\n",
              "       0.00330693, 0.0055373 , 0.00330515, 0.00645174, 0.00279313,\n",
              "       0.00277641, 0.00402542, 0.0036392 , 0.00207243, 0.00306855,\n",
              "       0.00243039, 0.0014672 , 0.0042432 , 0.00453375, 0.00449226,\n",
              "       0.00549171, 0.00765685, 0.0089015 , 0.00615898, 0.00522647,\n",
              "       0.00198418, 0.00457916, 0.00301271, 0.0026058 , 0.00146132,\n",
              "       0.00087734, 0.00289292, 0.00119473, 0.00387103, 0.00338183,\n",
              "       0.00480064, 0.00192336, 0.00256181, 0.00203385, 0.00298811,\n",
              "       0.00200996, 0.0023907 , 0.00094785, 0.00084858, 0.00277836,\n",
              "       0.00546632, 0.00393549, 0.00634227, 0.00402552, 0.00256828,\n",
              "       0.00320461, 0.00269432, 0.00235925, 0.00290438, 0.0010473 ,\n",
              "       0.00078602, 0.00441787, 0.00236564, 0.00577451, 0.00259705,\n",
              "       0.00299342, 0.00077726, 0.00219945, 0.00083504, 0.00255017,\n",
              "       0.00055629, 0.00310954, 0.00383299, 0.0071757 , 0.00404894,\n",
              "       0.00228912, 0.00273701, 0.00405477, 0.00385929, 0.00399799,\n",
              "       0.00229321, 0.00154669, 0.00466449, 0.00419135, 0.00303149,\n",
              "       0.00229584, 0.00304097, 0.00150886, 0.00271333, 0.00083056,\n",
              "       0.00469414, 0.00566144, 0.0051429 , 0.00635651, 0.00681465,\n",
              "       0.00628704, 0.00433769, 0.00500914, 0.00106692, 0.00162086,\n",
              "       0.0022636 , 0.00236829, 0.00084374, 0.00216809, 0.00119728,\n",
              "       0.00055302, 0.00196628, 0.00219984, 0.0014515 , 0.00177527,\n",
              "       0.00069746, 0.00039912, 0.00223052, 0.00064478, 0.00068788,\n",
              "       0.00131642, 0.00119849, 0.00141564, 0.0015679 , 0.00095566,\n",
              "       0.00010174, 0.00056486, 0.00042839, 0.00069639, 0.00095812,\n",
              "       0.00012544])"
            ]
          },
          "metadata": {},
          "execution_count": 63
        }
      ]
    },
    {
      "cell_type": "code",
      "metadata": {
        "id": "A_Kiqjjqahuj",
        "outputId": "ac7b0176-f11e-4d01-a4bc-c67e2bd6da9e",
        "colab": {
          "base_uri": "https://localhost:8080/"
        }
      },
      "source": [
        "print(f'Importancias mayores a cero: {(rf.feature_importances_>0).sum()}')"
      ],
      "execution_count": 64,
      "outputs": [
        {
          "output_type": "stream",
          "name": "stdout",
          "text": [
            "Importancias mayores a cero: 230\n"
          ]
        }
      ]
    },
    {
      "cell_type": "code",
      "metadata": {
        "id": "xy7WoJW-Up_8",
        "outputId": "ac20e585-941d-4724-a147-567c0e3dea34",
        "colab": {
          "base_uri": "https://localhost:8080/"
        }
      },
      "source": [
        "print('================ Resultados Random Forest =================\\n')\n",
        "print(classification_report(y_test, rf.predict(X_test_cod)))"
      ],
      "execution_count": 65,
      "outputs": [
        {
          "output_type": "stream",
          "name": "stdout",
          "text": [
            "================ Resultados Random Forest =================\n",
            "\n",
            "              precision    recall  f1-score   support\n",
            "\n",
            "           0       0.50      0.56      0.53        50\n",
            "           1       0.85      0.81      0.83       150\n",
            "\n",
            "    accuracy                           0.75       200\n",
            "   macro avg       0.67      0.69      0.68       200\n",
            "weighted avg       0.76      0.75      0.75       200\n",
            "\n"
          ]
        }
      ]
    },
    {
      "cell_type": "code",
      "metadata": {
        "id": "rt_M7VK7ao_v",
        "outputId": "48136f16-7cb7-4a9e-9476-b044f517cf5e",
        "colab": {
          "base_uri": "https://localhost:8080/"
        }
      },
      "source": [
        "gbt = GradientBoostingClassifier( max_depth=2)\n",
        "gbt.fit(X_train_cod, y_train)"
      ],
      "execution_count": 66,
      "outputs": [
        {
          "output_type": "execute_result",
          "data": {
            "text/plain": [
              "GradientBoostingClassifier(max_depth=2)"
            ],
            "text/html": [
              "<style>#sk-container-id-9 {color: black;background-color: white;}#sk-container-id-9 pre{padding: 0;}#sk-container-id-9 div.sk-toggleable {background-color: white;}#sk-container-id-9 label.sk-toggleable__label {cursor: pointer;display: block;width: 100%;margin-bottom: 0;padding: 0.3em;box-sizing: border-box;text-align: center;}#sk-container-id-9 label.sk-toggleable__label-arrow:before {content: \"▸\";float: left;margin-right: 0.25em;color: #696969;}#sk-container-id-9 label.sk-toggleable__label-arrow:hover:before {color: black;}#sk-container-id-9 div.sk-estimator:hover label.sk-toggleable__label-arrow:before {color: black;}#sk-container-id-9 div.sk-toggleable__content {max-height: 0;max-width: 0;overflow: hidden;text-align: left;background-color: #f0f8ff;}#sk-container-id-9 div.sk-toggleable__content pre {margin: 0.2em;color: black;border-radius: 0.25em;background-color: #f0f8ff;}#sk-container-id-9 input.sk-toggleable__control:checked~div.sk-toggleable__content {max-height: 200px;max-width: 100%;overflow: auto;}#sk-container-id-9 input.sk-toggleable__control:checked~label.sk-toggleable__label-arrow:before {content: \"▾\";}#sk-container-id-9 div.sk-estimator input.sk-toggleable__control:checked~label.sk-toggleable__label {background-color: #d4ebff;}#sk-container-id-9 div.sk-label input.sk-toggleable__control:checked~label.sk-toggleable__label {background-color: #d4ebff;}#sk-container-id-9 input.sk-hidden--visually {border: 0;clip: rect(1px 1px 1px 1px);clip: rect(1px, 1px, 1px, 1px);height: 1px;margin: -1px;overflow: hidden;padding: 0;position: absolute;width: 1px;}#sk-container-id-9 div.sk-estimator {font-family: monospace;background-color: #f0f8ff;border: 1px dotted black;border-radius: 0.25em;box-sizing: border-box;margin-bottom: 0.5em;}#sk-container-id-9 div.sk-estimator:hover {background-color: #d4ebff;}#sk-container-id-9 div.sk-parallel-item::after {content: \"\";width: 100%;border-bottom: 1px solid gray;flex-grow: 1;}#sk-container-id-9 div.sk-label:hover label.sk-toggleable__label {background-color: #d4ebff;}#sk-container-id-9 div.sk-serial::before {content: \"\";position: absolute;border-left: 1px solid gray;box-sizing: border-box;top: 0;bottom: 0;left: 50%;z-index: 0;}#sk-container-id-9 div.sk-serial {display: flex;flex-direction: column;align-items: center;background-color: white;padding-right: 0.2em;padding-left: 0.2em;position: relative;}#sk-container-id-9 div.sk-item {position: relative;z-index: 1;}#sk-container-id-9 div.sk-parallel {display: flex;align-items: stretch;justify-content: center;background-color: white;position: relative;}#sk-container-id-9 div.sk-item::before, #sk-container-id-9 div.sk-parallel-item::before {content: \"\";position: absolute;border-left: 1px solid gray;box-sizing: border-box;top: 0;bottom: 0;left: 50%;z-index: -1;}#sk-container-id-9 div.sk-parallel-item {display: flex;flex-direction: column;z-index: 1;position: relative;background-color: white;}#sk-container-id-9 div.sk-parallel-item:first-child::after {align-self: flex-end;width: 50%;}#sk-container-id-9 div.sk-parallel-item:last-child::after {align-self: flex-start;width: 50%;}#sk-container-id-9 div.sk-parallel-item:only-child::after {width: 0;}#sk-container-id-9 div.sk-dashed-wrapped {border: 1px dashed gray;margin: 0 0.4em 0.5em 0.4em;box-sizing: border-box;padding-bottom: 0.4em;background-color: white;}#sk-container-id-9 div.sk-label label {font-family: monospace;font-weight: bold;display: inline-block;line-height: 1.2em;}#sk-container-id-9 div.sk-label-container {text-align: center;}#sk-container-id-9 div.sk-container {/* jupyter's `normalize.less` sets `[hidden] { display: none; }` but bootstrap.min.css set `[hidden] { display: none !important; }` so we also need the `!important` here to be able to override the default hidden behavior on the sphinx rendered scikit-learn.org. See: https://github.com/scikit-learn/scikit-learn/issues/21755 */display: inline-block !important;position: relative;}#sk-container-id-9 div.sk-text-repr-fallback {display: none;}</style><div id=\"sk-container-id-9\" class=\"sk-top-container\"><div class=\"sk-text-repr-fallback\"><pre>GradientBoostingClassifier(max_depth=2)</pre><b>In a Jupyter environment, please rerun this cell to show the HTML representation or trust the notebook. <br />On GitHub, the HTML representation is unable to render, please try loading this page with nbviewer.org.</b></div><div class=\"sk-container\" hidden><div class=\"sk-item\"><div class=\"sk-estimator sk-toggleable\"><input class=\"sk-toggleable__control sk-hidden--visually\" id=\"sk-estimator-id-9\" type=\"checkbox\" checked><label for=\"sk-estimator-id-9\" class=\"sk-toggleable__label sk-toggleable__label-arrow\">GradientBoostingClassifier</label><div class=\"sk-toggleable__content\"><pre>GradientBoostingClassifier(max_depth=2)</pre></div></div></div></div></div>"
            ]
          },
          "metadata": {},
          "execution_count": 66
        }
      ]
    },
    {
      "cell_type": "code",
      "metadata": {
        "id": "Bd8uJWj8ao_0",
        "outputId": "c61bb761-9ef9-44d1-dba9-3cea590e5845",
        "colab": {
          "base_uri": "https://localhost:8080/"
        }
      },
      "source": [
        "gbt.feature_importances_"
      ],
      "execution_count": 67,
      "outputs": [
        {
          "output_type": "execute_result",
          "data": {
            "text/plain": [
              "array([0.00000000e+00, 0.00000000e+00, 0.00000000e+00, 0.00000000e+00,\n",
              "       0.00000000e+00, 0.00000000e+00, 0.00000000e+00, 0.00000000e+00,\n",
              "       0.00000000e+00, 0.00000000e+00, 0.00000000e+00, 1.37999993e-03,\n",
              "       0.00000000e+00, 0.00000000e+00, 0.00000000e+00, 0.00000000e+00,\n",
              "       0.00000000e+00, 0.00000000e+00, 6.44880136e-04, 0.00000000e+00,\n",
              "       0.00000000e+00, 0.00000000e+00, 0.00000000e+00, 3.39347352e-02,\n",
              "       1.45182677e-03, 2.21691766e-02, 1.32013404e-01, 1.86747129e-02,\n",
              "       0.00000000e+00, 1.56628888e-02, 0.00000000e+00, 0.00000000e+00,\n",
              "       6.32481421e-02, 3.18511703e-02, 1.27724793e-02, 1.19140262e-05,\n",
              "       0.00000000e+00, 0.00000000e+00, 0.00000000e+00, 0.00000000e+00,\n",
              "       0.00000000e+00, 0.00000000e+00, 5.47754538e-03, 0.00000000e+00,\n",
              "       1.75061732e-02, 2.56302319e-02, 0.00000000e+00, 3.88373701e-02,\n",
              "       0.00000000e+00, 0.00000000e+00, 0.00000000e+00, 3.13251584e-03,\n",
              "       1.41513432e-02, 0.00000000e+00, 0.00000000e+00, 3.06649711e-03,\n",
              "       9.00580858e-03, 1.37893067e-02, 0.00000000e+00, 3.62185631e-03,\n",
              "       0.00000000e+00, 1.82785255e-02, 2.05487585e-02, 1.70435084e-02,\n",
              "       1.30599836e-02, 0.00000000e+00, 0.00000000e+00, 1.87358918e-02,\n",
              "       1.29840566e-03, 1.74158771e-02, 1.28182042e-02, 0.00000000e+00,\n",
              "       0.00000000e+00, 5.37080282e-04, 1.15457476e-02, 0.00000000e+00,\n",
              "       5.20001810e-03, 0.00000000e+00, 7.94743404e-04, 0.00000000e+00,\n",
              "       9.73578045e-03, 1.57639489e-02, 0.00000000e+00, 6.55913598e-04,\n",
              "       6.38592990e-03, 7.43960826e-04, 2.88761587e-02, 5.27975983e-03,\n",
              "       2.64579089e-02, 8.70644843e-04, 3.96138663e-04, 5.27195904e-03,\n",
              "       0.00000000e+00, 0.00000000e+00, 3.07520881e-03, 0.00000000e+00,\n",
              "       4.08243454e-03, 0.00000000e+00, 0.00000000e+00, 7.72868074e-04,\n",
              "       2.70684677e-03, 0.00000000e+00, 3.62040990e-03, 2.94596438e-02,\n",
              "       1.74610687e-03, 5.72595818e-03, 1.25381810e-02, 5.53043129e-03,\n",
              "       0.00000000e+00, 8.36475887e-03, 5.40964698e-03, 0.00000000e+00,\n",
              "       1.29307147e-03, 0.00000000e+00, 5.55730085e-03, 8.28536859e-03,\n",
              "       7.89575699e-03, 8.37193203e-04, 1.85371546e-02, 0.00000000e+00,\n",
              "       0.00000000e+00, 4.16817375e-03, 5.30855640e-03, 0.00000000e+00,\n",
              "       0.00000000e+00, 4.29133745e-04, 0.00000000e+00, 1.91764498e-03,\n",
              "       9.93853488e-03, 7.93733623e-03, 2.42663164e-03, 0.00000000e+00,\n",
              "       0.00000000e+00, 8.45840519e-03, 1.16752989e-02, 0.00000000e+00,\n",
              "       4.24401557e-03, 0.00000000e+00, 2.25963199e-03, 0.00000000e+00,\n",
              "       0.00000000e+00, 0.00000000e+00, 0.00000000e+00, 0.00000000e+00,\n",
              "       4.76066214e-03, 6.35457934e-03, 0.00000000e+00, 0.00000000e+00,\n",
              "       0.00000000e+00, 0.00000000e+00, 0.00000000e+00, 1.06035204e-03,\n",
              "       0.00000000e+00, 1.11494926e-05, 0.00000000e+00, 6.34156188e-03,\n",
              "       2.36046431e-03, 0.00000000e+00, 1.76889831e-03, 4.91660222e-03,\n",
              "       0.00000000e+00, 0.00000000e+00, 0.00000000e+00, 0.00000000e+00,\n",
              "       0.00000000e+00, 0.00000000e+00, 2.22440915e-03, 0.00000000e+00,\n",
              "       0.00000000e+00, 0.00000000e+00, 9.42923181e-03, 0.00000000e+00,\n",
              "       0.00000000e+00, 0.00000000e+00, 0.00000000e+00, 0.00000000e+00,\n",
              "       0.00000000e+00, 7.95207736e-04, 0.00000000e+00, 2.10182798e-02,\n",
              "       1.44149206e-05, 0.00000000e+00, 0.00000000e+00, 0.00000000e+00,\n",
              "       5.83574589e-03, 0.00000000e+00, 0.00000000e+00, 5.96493642e-03,\n",
              "       5.73960934e-03, 1.61660172e-03, 1.88488770e-03, 0.00000000e+00,\n",
              "       0.00000000e+00, 0.00000000e+00, 0.00000000e+00, 0.00000000e+00,\n",
              "       6.55541489e-03, 0.00000000e+00, 0.00000000e+00, 0.00000000e+00,\n",
              "       6.18281224e-03, 0.00000000e+00, 0.00000000e+00, 0.00000000e+00,\n",
              "       0.00000000e+00, 0.00000000e+00, 0.00000000e+00, 0.00000000e+00,\n",
              "       0.00000000e+00, 0.00000000e+00, 0.00000000e+00, 0.00000000e+00,\n",
              "       6.70239753e-03, 0.00000000e+00, 2.65804846e-03, 0.00000000e+00,\n",
              "       0.00000000e+00, 0.00000000e+00, 0.00000000e+00, 1.52580259e-03,\n",
              "       0.00000000e+00, 0.00000000e+00, 0.00000000e+00, 0.00000000e+00,\n",
              "       4.32740013e-03, 0.00000000e+00, 0.00000000e+00, 0.00000000e+00,\n",
              "       0.00000000e+00, 0.00000000e+00, 0.00000000e+00])"
            ]
          },
          "metadata": {},
          "execution_count": 67
        }
      ]
    },
    {
      "cell_type": "code",
      "metadata": {
        "id": "A5Wiojljao_1",
        "outputId": "300dc08f-18b6-41b4-9479-b914cd77748c",
        "colab": {
          "base_uri": "https://localhost:8080/"
        }
      },
      "source": [
        "print(f'Importancias mayores a cero: {(gbt.feature_importances_>0).sum()}')"
      ],
      "execution_count": 68,
      "outputs": [
        {
          "output_type": "stream",
          "name": "stdout",
          "text": [
            "Importancias mayores a cero: 98\n"
          ]
        }
      ]
    },
    {
      "cell_type": "code",
      "metadata": {
        "id": "jZPp-SeYao_1",
        "outputId": "6534770e-f4f9-4660-90a3-0d624ca55a76",
        "colab": {
          "base_uri": "https://localhost:8080/"
        }
      },
      "source": [
        "print('================ Resultados Gradient Boosting Trees =================\\n')\n",
        "print(classification_report(y_test, gbt.predict(X_test_cod)))"
      ],
      "execution_count": 69,
      "outputs": [
        {
          "output_type": "stream",
          "name": "stdout",
          "text": [
            "================ Resultados Gradient Boosting Trees =================\n",
            "\n",
            "              precision    recall  f1-score   support\n",
            "\n",
            "           0       0.55      0.58      0.56        50\n",
            "           1       0.86      0.84      0.85       150\n",
            "\n",
            "    accuracy                           0.78       200\n",
            "   macro avg       0.70      0.71      0.71       200\n",
            "weighted avg       0.78      0.78      0.78       200\n",
            "\n"
          ]
        }
      ]
    },
    {
      "cell_type": "markdown",
      "metadata": {
        "id": "i7IZdBb_L-fK"
      },
      "source": [
        "# Wrapper Methods"
      ]
    },
    {
      "cell_type": "code",
      "metadata": {
        "id": "oVHqPikPL98l"
      },
      "source": [
        "from sklearn.feature_selection import SequentialFeatureSelector, RFECV, RFE\n",
        "from sklearn.neighbors import KNeighborsClassifier"
      ],
      "execution_count": null,
      "outputs": []
    },
    {
      "cell_type": "markdown",
      "metadata": {
        "id": "cXJRHc0ML-j5"
      },
      "source": [
        "## Stepwise selection"
      ]
    },
    {
      "cell_type": "markdown",
      "metadata": {
        "id": "D5Z5wdN8qMvg"
      },
      "source": [
        "### Forward"
      ]
    },
    {
      "cell_type": "code",
      "metadata": {
        "id": "k74Ogj9foWAo"
      },
      "source": [
        "rf = RandomForestClassifier(n_estimators=25)"
      ],
      "execution_count": null,
      "outputs": []
    },
    {
      "cell_type": "code",
      "metadata": {
        "id": "rZCnhPl8og48"
      },
      "source": [
        "n_features = 5"
      ],
      "execution_count": null,
      "outputs": []
    },
    {
      "cell_type": "code",
      "metadata": {
        "id": "T06N3rDLL-mO"
      },
      "source": [
        "forward_stepwise = SequentialFeatureSelector(rf,n_features_to_select=n_features, direction='forward', cv=2 )"
      ],
      "execution_count": null,
      "outputs": []
    },
    {
      "cell_type": "code",
      "metadata": {
        "id": "U-VkQKbmowzo"
      },
      "source": [
        "%%time\n",
        "forward_stepwise.fit(X_train_cod1, y_train) #X_train_cod1 -> 20 features  duration:7.37s"
      ],
      "execution_count": null,
      "outputs": []
    },
    {
      "cell_type": "code",
      "metadata": {
        "id": "4nc4z0gITDtE"
      },
      "source": [
        "X_train_cod1.shape"
      ],
      "execution_count": null,
      "outputs": []
    },
    {
      "cell_type": "code",
      "metadata": {
        "id": "DMB7LMt6Tch6"
      },
      "source": [],
      "execution_count": null,
      "outputs": []
    },
    {
      "cell_type": "code",
      "metadata": {
        "id": "fPGyg1fRpo04"
      },
      "source": [
        "forward_stepwise.get_support()"
      ],
      "execution_count": null,
      "outputs": []
    },
    {
      "cell_type": "code",
      "metadata": {
        "id": "PkzGuFL6piOc"
      },
      "source": [
        "X_train_frw = forward_stepwise.transform(X_train_cod1)\n",
        "X_test_frw = forward_stepwise.transform(X_test_cod1)"
      ],
      "execution_count": null,
      "outputs": []
    },
    {
      "cell_type": "code",
      "metadata": {
        "id": "iBsqI7ssAU8P"
      },
      "source": [
        "X_train_frw.shape"
      ],
      "execution_count": null,
      "outputs": []
    },
    {
      "cell_type": "code",
      "metadata": {
        "id": "uVnBkWLjp3oc"
      },
      "source": [
        "rf_frw = RandomForestClassifier(n_estimators=25)\n",
        "rf_frw.fit(X_train_frw, y_train)"
      ],
      "execution_count": null,
      "outputs": []
    },
    {
      "cell_type": "code",
      "metadata": {
        "id": "pIy9vmaoow8m"
      },
      "source": [
        "print('================ Resultados Forward Stepwise Random Forest =================\\n')\n",
        "print(classification_report(y_test, rf_frw.predict(X_test_frw)))"
      ],
      "execution_count": null,
      "outputs": []
    },
    {
      "cell_type": "markdown",
      "metadata": {
        "id": "mcCxAJmGqPsN"
      },
      "source": [
        "### Backward"
      ]
    },
    {
      "cell_type": "code",
      "metadata": {
        "id": "ZS_PAdS4qsA6"
      },
      "source": [
        "rf = RandomForestClassifier(n_estimators=25)"
      ],
      "execution_count": null,
      "outputs": []
    },
    {
      "cell_type": "code",
      "metadata": {
        "id": "WkQQfigmqsBA"
      },
      "source": [
        "n_features = 5"
      ],
      "execution_count": null,
      "outputs": []
    },
    {
      "cell_type": "code",
      "metadata": {
        "id": "vhzTQjPRqsBA"
      },
      "source": [
        "backward_stepwise = SequentialFeatureSelector(rf,n_features_to_select=n_features, direction='backward', cv=2)"
      ],
      "execution_count": null,
      "outputs": []
    },
    {
      "cell_type": "code",
      "metadata": {
        "id": "zpHIl9U9qsBA"
      },
      "source": [
        "%%time\n",
        "backward_stepwise.fit(X_train_cod1, y_train) #X_train_cod1 -> 20 features duration: 17s"
      ],
      "execution_count": null,
      "outputs": []
    },
    {
      "cell_type": "code",
      "metadata": {
        "id": "HLBJIZxyqsBB"
      },
      "source": [
        "backward_stepwise.get_support()"
      ],
      "execution_count": null,
      "outputs": []
    },
    {
      "cell_type": "code",
      "metadata": {
        "id": "mDVZMxytqsBB"
      },
      "source": [
        "X_train_bkw = backward_stepwise.transform(X_train_cod1)\n",
        "X_test_bkw = backward_stepwise.transform(X_test_cod1)"
      ],
      "execution_count": null,
      "outputs": []
    },
    {
      "cell_type": "code",
      "metadata": {
        "id": "dFbJ-Wa8qsBB"
      },
      "source": [
        "rf_bkw = RandomForestClassifier(n_estimators=25)\n",
        "rf_bkw.fit(X_train_bkw, y_train)"
      ],
      "execution_count": null,
      "outputs": []
    },
    {
      "cell_type": "code",
      "metadata": {
        "id": "AoLktoLvqsBB"
      },
      "source": [
        "print('================ Resultados Backward Stepwise Random Forest =================\\n')\n",
        "print(classification_report(y_test, rf_bkw.predict(X_test_bkw)))"
      ],
      "execution_count": null,
      "outputs": []
    },
    {
      "cell_type": "markdown",
      "metadata": {
        "id": "aleXoWk7L-tH"
      },
      "source": [
        "## Recursive Feature Elimination"
      ]
    },
    {
      "cell_type": "code",
      "metadata": {
        "id": "OtRcITEDrhU9"
      },
      "source": [
        "rf = RandomForestClassifier(n_estimators=25)"
      ],
      "execution_count": null,
      "outputs": []
    },
    {
      "cell_type": "code",
      "metadata": {
        "id": "j08IzeI4rhVD"
      },
      "source": [
        "n_features = 5"
      ],
      "execution_count": null,
      "outputs": []
    },
    {
      "cell_type": "code",
      "metadata": {
        "id": "dTmp81ggrhVE"
      },
      "source": [
        "rfe = RFECV(rf,min_features_to_select=n_features, cv=2)"
      ],
      "execution_count": null,
      "outputs": []
    },
    {
      "cell_type": "code",
      "metadata": {
        "id": "ZWbPU0zrrhVE"
      },
      "source": [
        "%%time \n",
        "rfe.fit(X_train_cod1, y_train) #X_train_cod1 -> 20 features duration:1.73s"
      ],
      "execution_count": null,
      "outputs": []
    },
    {
      "cell_type": "code",
      "metadata": {
        "id": "02id7Xi_rhVE"
      },
      "source": [
        "rfe.get_support()"
      ],
      "execution_count": null,
      "outputs": []
    },
    {
      "cell_type": "code",
      "metadata": {
        "id": "6dugMBpIrhVF"
      },
      "source": [
        "X_train_rfe = rfe.transform(X_train_cod1)\n",
        "X_test_ref = rfe.transform(X_test_cod1)"
      ],
      "execution_count": null,
      "outputs": []
    },
    {
      "cell_type": "code",
      "metadata": {
        "id": "f0O1WgD4CDT5"
      },
      "source": [
        "X_train_rfe.shape"
      ],
      "execution_count": null,
      "outputs": []
    },
    {
      "cell_type": "code",
      "metadata": {
        "id": "Vh6S9F7qrhVF"
      },
      "source": [
        "rf_rfe = RandomForestClassifier(n_estimators=25)\n",
        "rf_rfe.fit(X_train_rfe, y_train)"
      ],
      "execution_count": null,
      "outputs": []
    },
    {
      "cell_type": "code",
      "metadata": {
        "id": "AZMrofE6rhVF"
      },
      "source": [
        "print('================ Resultados Recursive Feature Elimination Random Forests =================\\n')\n",
        "print(classification_report(y_test, rf_rfe.predict(X_test_ref)))"
      ],
      "execution_count": null,
      "outputs": []
    },
    {
      "cell_type": "markdown",
      "metadata": {
        "id": "V7Cu3tYxsCTW"
      },
      "source": [
        "sin cross validation"
      ]
    },
    {
      "cell_type": "code",
      "metadata": {
        "id": "N6umrF2TBrXx"
      },
      "source": [
        "rf = RandomForestClassifier(n_estimators=25)"
      ],
      "execution_count": null,
      "outputs": []
    },
    {
      "cell_type": "code",
      "metadata": {
        "id": "w7foqsVDBrX4"
      },
      "source": [
        "n_features = 5"
      ],
      "execution_count": null,
      "outputs": []
    },
    {
      "cell_type": "code",
      "metadata": {
        "id": "C_7GKrBdBrX4"
      },
      "source": [
        "rfe = RFE(rf,n_features_to_select=n_features)"
      ],
      "execution_count": null,
      "outputs": []
    },
    {
      "cell_type": "code",
      "metadata": {
        "id": "621UvtUdBrX4"
      },
      "source": [
        "%%time \n",
        "rfe.fit(X_train_cod1, y_train) #X_train_cod1 -> 20 features duration:1.73s"
      ],
      "execution_count": null,
      "outputs": []
    },
    {
      "cell_type": "code",
      "metadata": {
        "id": "sI8WKefcBrX4"
      },
      "source": [
        "rfe.get_support()"
      ],
      "execution_count": null,
      "outputs": []
    },
    {
      "cell_type": "code",
      "metadata": {
        "id": "arXRzMjmBrX5"
      },
      "source": [
        "X_train_rfe = rfe.transform(X_train_cod1)\n",
        "X_test_ref = rfe.transform(X_test_cod1)"
      ],
      "execution_count": null,
      "outputs": []
    },
    {
      "cell_type": "code",
      "metadata": {
        "id": "D_P3xV_iCZrR"
      },
      "source": [
        "X_train_rfe.shape"
      ],
      "execution_count": null,
      "outputs": []
    },
    {
      "cell_type": "code",
      "metadata": {
        "id": "XE3wbKYBBrX5"
      },
      "source": [
        "rf_rfe = RandomForestClassifier(n_estimators=25)\n",
        "rf_rfe.fit(X_train_rfe, y_train)"
      ],
      "execution_count": null,
      "outputs": []
    },
    {
      "cell_type": "code",
      "metadata": {
        "id": "94xe6q59BrX5"
      },
      "source": [
        "print('================ Resultados Recursive Feature Elimination Random Forests =================\\n')\n",
        "print(classification_report(y_test, rf_rfe.predict(X_test_ref)))"
      ],
      "execution_count": null,
      "outputs": []
    },
    {
      "cell_type": "markdown",
      "metadata": {
        "id": "1W3FG7f5L-RK"
      },
      "source": [
        "# Filtros"
      ]
    },
    {
      "cell_type": "code",
      "metadata": {
        "id": "i9m2SCfCL-WT"
      },
      "source": [
        "from sklearn.feature_selection import SelectKBest, chi2, f_classif, mutual_info_classif"
      ],
      "execution_count": null,
      "outputs": []
    },
    {
      "cell_type": "markdown",
      "metadata": {
        "id": "jaZ1kK9nvLZn"
      },
      "source": [
        "## Filtro utilizando Chi2"
      ]
    },
    {
      "cell_type": "code",
      "metadata": {
        "id": "MJ1vB65lL-Y1"
      },
      "source": [
        "chi2_best = SelectKBest(chi2, k=5)\n",
        "chi2_best.fit_transform(X_train_cod1, y_train)"
      ],
      "execution_count": null,
      "outputs": []
    },
    {
      "cell_type": "code",
      "metadata": {
        "id": "eDg_cqkmtlz6"
      },
      "source": [
        "chi2_best.fit_transform(X_train_cod1, y_train).shape"
      ],
      "execution_count": null,
      "outputs": []
    },
    {
      "cell_type": "code",
      "metadata": {
        "id": "gl6v1LLHuXsn"
      },
      "source": [
        "chi2_best.get_support()"
      ],
      "execution_count": null,
      "outputs": []
    },
    {
      "cell_type": "code",
      "metadata": {
        "id": "4v3R7CGEu8nP"
      },
      "source": [
        "X_train_chi2 = chi2_best.transform(X_train_cod1)\n",
        "X_test_chi2 = chi2_best.transform(X_test_cod1)"
      ],
      "execution_count": null,
      "outputs": []
    },
    {
      "cell_type": "code",
      "metadata": {
        "id": "KAd60c6Bu8nR"
      },
      "source": [
        "rf_chi2 = RandomForestClassifier(n_estimators=25)\n",
        "rf_chi2.fit(X_train_chi2, y_train)"
      ],
      "execution_count": null,
      "outputs": []
    },
    {
      "cell_type": "code",
      "metadata": {
        "id": "da2eOiEcu8nR"
      },
      "source": [
        "print('================ Resultados Chi2 Filter Random Forests =================\\n')\n",
        "print(classification_report(y_test, rf_chi2.predict(X_test_chi2)))"
      ],
      "execution_count": null,
      "outputs": []
    },
    {
      "cell_type": "code",
      "metadata": {
        "id": "6gPfvRvWuNu_"
      },
      "source": [],
      "execution_count": null,
      "outputs": []
    },
    {
      "cell_type": "markdown",
      "metadata": {
        "id": "WD9-S2tZvRvb"
      },
      "source": [
        "## Filtro utilizando ANOVA F-value"
      ]
    },
    {
      "cell_type": "code",
      "metadata": {
        "id": "tHtFPnJPvRvb"
      },
      "source": [
        "fclass_best = SelectKBest(f_classif, k=15)\n",
        "fclass_best.fit_transform(X_train_cod1, y_train)"
      ],
      "execution_count": null,
      "outputs": []
    },
    {
      "cell_type": "code",
      "metadata": {
        "id": "lSGSW7G0vRvg"
      },
      "source": [
        "fclass_best.fit_transform(X_train_cod1, y_train).shape"
      ],
      "execution_count": null,
      "outputs": []
    },
    {
      "cell_type": "code",
      "metadata": {
        "id": "cXeogGhTvRvg"
      },
      "source": [
        "fclass_best.get_support()"
      ],
      "execution_count": null,
      "outputs": []
    },
    {
      "cell_type": "code",
      "metadata": {
        "id": "2NFO7L7AvRvg"
      },
      "source": [
        "X_train_fclass = fclass_best.transform(X_train_cod1)\n",
        "X_test_fclass = fclass_best.transform(X_test_cod1)"
      ],
      "execution_count": null,
      "outputs": []
    },
    {
      "cell_type": "code",
      "metadata": {
        "id": "jyQB7PGlvRvh"
      },
      "source": [
        "rf_fclass = RandomForestClassifier(n_estimators=25)\n",
        "rf_fclass.fit(X_train_fclass, y_train)"
      ],
      "execution_count": null,
      "outputs": []
    },
    {
      "cell_type": "code",
      "metadata": {
        "id": "9xHAQS1pvRvh"
      },
      "source": [
        "print('================ Resultados F-value Filter Random Forests =================\\n')\n",
        "print(classification_report(y_test, rf_fclass.predict(X_test_fclass)))"
      ],
      "execution_count": null,
      "outputs": []
    },
    {
      "cell_type": "code",
      "metadata": {
        "id": "h7Xpn04vudl_"
      },
      "source": [],
      "execution_count": null,
      "outputs": []
    },
    {
      "cell_type": "markdown",
      "metadata": {
        "id": "1BwjNo7Gv44j"
      },
      "source": [
        "## Filtro utilizando mutual information"
      ]
    },
    {
      "cell_type": "code",
      "metadata": {
        "id": "hQXa5cJov44l"
      },
      "source": [
        "mutual_best = SelectKBest(mutual_info_classif, k=5)\n",
        "mutual_best.fit_transform(X_train_cod1, y_train)"
      ],
      "execution_count": null,
      "outputs": []
    },
    {
      "cell_type": "code",
      "metadata": {
        "id": "gM0h_KDKv44l"
      },
      "source": [
        "mutual_best.fit_transform(X_train_cod1, y_train).shape"
      ],
      "execution_count": null,
      "outputs": []
    },
    {
      "cell_type": "code",
      "metadata": {
        "id": "KWa9xSOlv44m"
      },
      "source": [
        "mutual_best.get_support()"
      ],
      "execution_count": null,
      "outputs": []
    },
    {
      "cell_type": "code",
      "metadata": {
        "id": "BoP4pQIHv44m"
      },
      "source": [
        "X_train_mutual = mutual_best.transform(X_train_cod1)\n",
        "X_test_mutual = mutual_best.transform(X_test_cod1)"
      ],
      "execution_count": null,
      "outputs": []
    },
    {
      "cell_type": "code",
      "metadata": {
        "id": "aq0z7DiEv44m"
      },
      "source": [
        "rf_mutual = RandomForestClassifier(n_estimators=25)\n",
        "rf_mutual.fit(X_train_mutual, y_train)"
      ],
      "execution_count": null,
      "outputs": []
    },
    {
      "cell_type": "code",
      "metadata": {
        "id": "nT0bkkVPv44m"
      },
      "source": [
        "print('================ Resultados Mutual Information Filter Random Forests =================\\n')\n",
        "print(classification_report(y_test, rf_mutual.predict(X_test_mutual)))"
      ],
      "execution_count": null,
      "outputs": []
    },
    {
      "cell_type": "code",
      "metadata": {
        "id": "BiSYx7DBwfvj"
      },
      "source": [],
      "execution_count": null,
      "outputs": []
    }
  ]
}