{
  "nbformat": 4,
  "nbformat_minor": 0,
  "metadata": {
    "colab": {
      "provenance": []
    },
    "kernelspec": {
      "name": "python3",
      "display_name": "Python 3"
    },
    "language_info": {
      "name": "python"
    }
  },
  "cells": [
    {
      "cell_type": "markdown",
      "metadata": {
        "id": "saaO06RMwzGH"
      },
      "source": [
        "# Hoja de Trabajo \\# 5\n",
        "\n",
        "\n",
        "---\n",
        "\n",
        "\n",
        "por Josué Obregón <br>\n",
        "DS6011 - Feature Engineering <br>\n",
        "UVG Masters - Escuela de Negocios<br>\n"
      ]
    },
    {
      "cell_type": "markdown",
      "metadata": {
        "id": "w0-nImUHNxOv"
      },
      "source": [
        "## Objetivos\n",
        "\n",
        "El objetivo de esta hoja de trabajo  es presentar al estudiante diferentes técnicas de extracción y generación de atributos.\n",
        "\n",
        "También se busca que el estudiante practique la utilización de éstas técnicas con las librerías disponibles en el lenguaje Python."
      ]
    },
    {
      "cell_type": "markdown",
      "metadata": {
        "id": "RYjZ_KEuTCTe"
      },
      "source": [
        "## Importación de librerías y carga de los datos\n",
        "\n",
        "Las librerías que importaremos para empezar son pandas y numpy para el manejo de los datos, y matplotlib, seaborn y plotly para la generación de visualizaciones. \n",
        "\n"
      ]
    },
    {
      "cell_type": "code",
      "metadata": {
        "id": "EoXELFC48mlh"
      },
      "source": [
        "import pandas as pd\n",
        "import numpy as np\n",
        "import matplotlib.pyplot as plt\n",
        "import seaborn as sns\n",
        "import plotly.express as px\n",
        "import plotly.graph_objects as go"
      ],
      "execution_count": 1,
      "outputs": []
    },
    {
      "cell_type": "markdown",
      "metadata": {
        "id": "Ndtakjmx8rQs"
      },
      "source": [
        "# Dimensionality reduction"
      ]
    },
    {
      "cell_type": "markdown",
      "metadata": {
        "id": "0-0etrH4ChqZ"
      },
      "source": [
        "## Ejemplo con datos de prueba"
      ]
    },
    {
      "cell_type": "code",
      "metadata": {
        "id": "1aI1NNgR8tAJ"
      },
      "source": [
        "df_test = pd.DataFrame({\n",
        "... 'Gene1': [10,11,8,3,2,1],\n",
        "... 'Gene2': [6,4,5,3,2.8,1],\n",
        "... 'Gene3': [12,9,10,2.5,1.3,2],\n",
        "... 'Gene4': [5,7,6,2,4,7]\n",
        "... }, index=['Mouse1','Mouse2','Mouse3','Mouse4','Mouse5','Mouse6'])"
      ],
      "execution_count": 2,
      "outputs": []
    },
    {
      "cell_type": "code",
      "metadata": {
        "id": "Cje97qC09st8",
        "colab": {
          "base_uri": "https://localhost:8080/",
          "height": 238
        },
        "outputId": "aa41433a-1d75-4326-f07e-d12d6c2926e2"
      },
      "source": [
        "df_test"
      ],
      "execution_count": 3,
      "outputs": [
        {
          "output_type": "execute_result",
          "data": {
            "text/plain": [
              "        Gene1  Gene2  Gene3  Gene4\n",
              "Mouse1     10    6.0   12.0      5\n",
              "Mouse2     11    4.0    9.0      7\n",
              "Mouse3      8    5.0   10.0      6\n",
              "Mouse4      3    3.0    2.5      2\n",
              "Mouse5      2    2.8    1.3      4\n",
              "Mouse6      1    1.0    2.0      7"
            ],
            "text/html": [
              "\n",
              "  <div id=\"df-e80b120e-8cec-4648-bf78-f31a93ddf23e\">\n",
              "    <div class=\"colab-df-container\">\n",
              "      <div>\n",
              "<style scoped>\n",
              "    .dataframe tbody tr th:only-of-type {\n",
              "        vertical-align: middle;\n",
              "    }\n",
              "\n",
              "    .dataframe tbody tr th {\n",
              "        vertical-align: top;\n",
              "    }\n",
              "\n",
              "    .dataframe thead th {\n",
              "        text-align: right;\n",
              "    }\n",
              "</style>\n",
              "<table border=\"1\" class=\"dataframe\">\n",
              "  <thead>\n",
              "    <tr style=\"text-align: right;\">\n",
              "      <th></th>\n",
              "      <th>Gene1</th>\n",
              "      <th>Gene2</th>\n",
              "      <th>Gene3</th>\n",
              "      <th>Gene4</th>\n",
              "    </tr>\n",
              "  </thead>\n",
              "  <tbody>\n",
              "    <tr>\n",
              "      <th>Mouse1</th>\n",
              "      <td>10</td>\n",
              "      <td>6.0</td>\n",
              "      <td>12.0</td>\n",
              "      <td>5</td>\n",
              "    </tr>\n",
              "    <tr>\n",
              "      <th>Mouse2</th>\n",
              "      <td>11</td>\n",
              "      <td>4.0</td>\n",
              "      <td>9.0</td>\n",
              "      <td>7</td>\n",
              "    </tr>\n",
              "    <tr>\n",
              "      <th>Mouse3</th>\n",
              "      <td>8</td>\n",
              "      <td>5.0</td>\n",
              "      <td>10.0</td>\n",
              "      <td>6</td>\n",
              "    </tr>\n",
              "    <tr>\n",
              "      <th>Mouse4</th>\n",
              "      <td>3</td>\n",
              "      <td>3.0</td>\n",
              "      <td>2.5</td>\n",
              "      <td>2</td>\n",
              "    </tr>\n",
              "    <tr>\n",
              "      <th>Mouse5</th>\n",
              "      <td>2</td>\n",
              "      <td>2.8</td>\n",
              "      <td>1.3</td>\n",
              "      <td>4</td>\n",
              "    </tr>\n",
              "    <tr>\n",
              "      <th>Mouse6</th>\n",
              "      <td>1</td>\n",
              "      <td>1.0</td>\n",
              "      <td>2.0</td>\n",
              "      <td>7</td>\n",
              "    </tr>\n",
              "  </tbody>\n",
              "</table>\n",
              "</div>\n",
              "      <button class=\"colab-df-convert\" onclick=\"convertToInteractive('df-e80b120e-8cec-4648-bf78-f31a93ddf23e')\"\n",
              "              title=\"Convert this dataframe to an interactive table.\"\n",
              "              style=\"display:none;\">\n",
              "        \n",
              "  <svg xmlns=\"http://www.w3.org/2000/svg\" height=\"24px\"viewBox=\"0 0 24 24\"\n",
              "       width=\"24px\">\n",
              "    <path d=\"M0 0h24v24H0V0z\" fill=\"none\"/>\n",
              "    <path d=\"M18.56 5.44l.94 2.06.94-2.06 2.06-.94-2.06-.94-.94-2.06-.94 2.06-2.06.94zm-11 1L8.5 8.5l.94-2.06 2.06-.94-2.06-.94L8.5 2.5l-.94 2.06-2.06.94zm10 10l.94 2.06.94-2.06 2.06-.94-2.06-.94-.94-2.06-.94 2.06-2.06.94z\"/><path d=\"M17.41 7.96l-1.37-1.37c-.4-.4-.92-.59-1.43-.59-.52 0-1.04.2-1.43.59L10.3 9.45l-7.72 7.72c-.78.78-.78 2.05 0 2.83L4 21.41c.39.39.9.59 1.41.59.51 0 1.02-.2 1.41-.59l7.78-7.78 2.81-2.81c.8-.78.8-2.07 0-2.86zM5.41 20L4 18.59l7.72-7.72 1.47 1.35L5.41 20z\"/>\n",
              "  </svg>\n",
              "      </button>\n",
              "      \n",
              "  <style>\n",
              "    .colab-df-container {\n",
              "      display:flex;\n",
              "      flex-wrap:wrap;\n",
              "      gap: 12px;\n",
              "    }\n",
              "\n",
              "    .colab-df-convert {\n",
              "      background-color: #E8F0FE;\n",
              "      border: none;\n",
              "      border-radius: 50%;\n",
              "      cursor: pointer;\n",
              "      display: none;\n",
              "      fill: #1967D2;\n",
              "      height: 32px;\n",
              "      padding: 0 0 0 0;\n",
              "      width: 32px;\n",
              "    }\n",
              "\n",
              "    .colab-df-convert:hover {\n",
              "      background-color: #E2EBFA;\n",
              "      box-shadow: 0px 1px 2px rgba(60, 64, 67, 0.3), 0px 1px 3px 1px rgba(60, 64, 67, 0.15);\n",
              "      fill: #174EA6;\n",
              "    }\n",
              "\n",
              "    [theme=dark] .colab-df-convert {\n",
              "      background-color: #3B4455;\n",
              "      fill: #D2E3FC;\n",
              "    }\n",
              "\n",
              "    [theme=dark] .colab-df-convert:hover {\n",
              "      background-color: #434B5C;\n",
              "      box-shadow: 0px 1px 3px 1px rgba(0, 0, 0, 0.15);\n",
              "      filter: drop-shadow(0px 1px 2px rgba(0, 0, 0, 0.3));\n",
              "      fill: #FFFFFF;\n",
              "    }\n",
              "  </style>\n",
              "\n",
              "      <script>\n",
              "        const buttonEl =\n",
              "          document.querySelector('#df-e80b120e-8cec-4648-bf78-f31a93ddf23e button.colab-df-convert');\n",
              "        buttonEl.style.display =\n",
              "          google.colab.kernel.accessAllowed ? 'block' : 'none';\n",
              "\n",
              "        async function convertToInteractive(key) {\n",
              "          const element = document.querySelector('#df-e80b120e-8cec-4648-bf78-f31a93ddf23e');\n",
              "          const dataTable =\n",
              "            await google.colab.kernel.invokeFunction('convertToInteractive',\n",
              "                                                     [key], {});\n",
              "          if (!dataTable) return;\n",
              "\n",
              "          const docLinkHtml = 'Like what you see? Visit the ' +\n",
              "            '<a target=\"_blank\" href=https://colab.research.google.com/notebooks/data_table.ipynb>data table notebook</a>'\n",
              "            + ' to learn more about interactive tables.';\n",
              "          element.innerHTML = '';\n",
              "          dataTable['output_type'] = 'display_data';\n",
              "          await google.colab.output.renderOutput(dataTable, element);\n",
              "          const docLink = document.createElement('div');\n",
              "          docLink.innerHTML = docLinkHtml;\n",
              "          element.appendChild(docLink);\n",
              "        }\n",
              "      </script>\n",
              "    </div>\n",
              "  </div>\n",
              "  "
            ]
          },
          "metadata": {},
          "execution_count": 3
        }
      ]
    },
    {
      "cell_type": "code",
      "metadata": {
        "id": "RJF7F6F_9tV-",
        "colab": {
          "base_uri": "https://localhost:8080/",
          "height": 466
        },
        "outputId": "59768a95-2ed9-409c-9f01-b6964f57e164"
      },
      "source": [
        "sns.scatterplot(data=df_test,  x='Gene1',y='Gene2')"
      ],
      "execution_count": 4,
      "outputs": [
        {
          "output_type": "execute_result",
          "data": {
            "text/plain": [
              "<Axes: xlabel='Gene1', ylabel='Gene2'>"
            ]
          },
          "metadata": {},
          "execution_count": 4
        },
        {
          "output_type": "display_data",
          "data": {
            "text/plain": [
              "<Figure size 640x480 with 1 Axes>"
            ],
            "image/png": "[encoded data removed]"
          },
          "metadata": {}
        }
      ]
    },
    {
      "cell_type": "code",
      "metadata": {
        "id": "nZWP21J0-e8r"
      },
      "source": [],
      "execution_count": null,
      "outputs": []
    },
    {
      "cell_type": "markdown",
      "metadata": {
        "id": "Na78HArY-7rL"
      },
      "source": [
        "### PCA"
      ]
    },
    {
      "cell_type": "code",
      "metadata": {
        "id": "M_EejDf3-9my"
      },
      "source": [
        "from sklearn.decomposition import PCA"
      ],
      "execution_count": 5,
      "outputs": []
    },
    {
      "cell_type": "code",
      "metadata": {
        "id": "OqyroGKU--m9"
      },
      "source": [
        "pca = PCA()"
      ],
      "execution_count": 20,
      "outputs": []
    },
    {
      "cell_type": "code",
      "metadata": {
        "id": "kIWjB07n--q-",
        "colab": {
          "base_uri": "https://localhost:8080/",
          "height": 75
        },
        "outputId": "0dcf669b-a0b8-4786-ee3c-2c48499134d9"
      },
      "source": [
        "pca.fit(df_test)"
      ],
      "execution_count": 21,
      "outputs": [
        {
          "output_type": "execute_result",
          "data": {
            "text/plain": [
              "PCA()"
            ],
            "text/html": [
              "<style>#sk-container-id-3 {color: black;background-color: white;}#sk-container-id-3 pre{padding: 0;}#sk-container-id-3 div.sk-toggleable {background-color: white;}#sk-container-id-3 label.sk-toggleable__label {cursor: pointer;display: block;width: 100%;margin-bottom: 0;padding: 0.3em;box-sizing: border-box;text-align: center;}#sk-container-id-3 label.sk-toggleable__label-arrow:before {content: \"▸\";float: left;margin-right: 0.25em;color: #696969;}#sk-container-id-3 label.sk-toggleable__label-arrow:hover:before {color: black;}#sk-container-id-3 div.sk-estimator:hover label.sk-toggleable__label-arrow:before {color: black;}#sk-container-id-3 div.sk-toggleable__content {max-height: 0;max-width: 0;overflow: hidden;text-align: left;background-color: #f0f8ff;}#sk-container-id-3 div.sk-toggleable__content pre {margin: 0.2em;color: black;border-radius: 0.25em;background-color: #f0f8ff;}#sk-container-id-3 input.sk-toggleable__control:checked~div.sk-toggleable__content {max-height: 200px;max-width: 100%;overflow: auto;}#sk-container-id-3 input.sk-toggleable__control:checked~label.sk-toggleable__label-arrow:before {content: \"▾\";}#sk-container-id-3 div.sk-estimator input.sk-toggleable__control:checked~label.sk-toggleable__label {background-color: #d4ebff;}#sk-container-id-3 div.sk-label input.sk-toggleable__control:checked~label.sk-toggleable__label {background-color: #d4ebff;}#sk-container-id-3 input.sk-hidden--visually {border: 0;clip: rect(1px 1px 1px 1px);clip: rect(1px, 1px, 1px, 1px);height: 1px;margin: -1px;overflow: hidden;padding: 0;position: absolute;width: 1px;}#sk-container-id-3 div.sk-estimator {font-family: monospace;background-color: #f0f8ff;border: 1px dotted black;border-radius: 0.25em;box-sizing: border-box;margin-bottom: 0.5em;}#sk-container-id-3 div.sk-estimator:hover {background-color: #d4ebff;}#sk-container-id-3 div.sk-parallel-item::after {content: \"\";width: 100%;border-bottom: 1px solid gray;flex-grow: 1;}#sk-container-id-3 div.sk-label:hover label.sk-toggleable__label {background-color: #d4ebff;}#sk-container-id-3 div.sk-serial::before {content: \"\";position: absolute;border-left: 1px solid gray;box-sizing: border-box;top: 0;bottom: 0;left: 50%;z-index: 0;}#sk-container-id-3 div.sk-serial {display: flex;flex-direction: column;align-items: center;background-color: white;padding-right: 0.2em;padding-left: 0.2em;position: relative;}#sk-container-id-3 div.sk-item {position: relative;z-index: 1;}#sk-container-id-3 div.sk-parallel {display: flex;align-items: stretch;justify-content: center;background-color: white;position: relative;}#sk-container-id-3 div.sk-item::before, #sk-container-id-3 div.sk-parallel-item::before {content: \"\";position: absolute;border-left: 1px solid gray;box-sizing: border-box;top: 0;bottom: 0;left: 50%;z-index: -1;}#sk-container-id-3 div.sk-parallel-item {display: flex;flex-direction: column;z-index: 1;position: relative;background-color: white;}#sk-container-id-3 div.sk-parallel-item:first-child::after {align-self: flex-end;width: 50%;}#sk-container-id-3 div.sk-parallel-item:last-child::after {align-self: flex-start;width: 50%;}#sk-container-id-3 div.sk-parallel-item:only-child::after {width: 0;}#sk-container-id-3 div.sk-dashed-wrapped {border: 1px dashed gray;margin: 0 0.4em 0.5em 0.4em;box-sizing: border-box;padding-bottom: 0.4em;background-color: white;}#sk-container-id-3 div.sk-label label {font-family: monospace;font-weight: bold;display: inline-block;line-height: 1.2em;}#sk-container-id-3 div.sk-label-container {text-align: center;}#sk-container-id-3 div.sk-container {/* jupyter's `normalize.less` sets `[hidden] { display: none; }` but bootstrap.min.css set `[hidden] { display: none !important; }` so we also need the `!important` here to be able to override the default hidden behavior on the sphinx rendered scikit-learn.org. See: https://github.com/scikit-learn/scikit-learn/issues/21755 */display: inline-block !important;position: relative;}#sk-container-id-3 div.sk-text-repr-fallback {display: none;}</style><div id=\"sk-container-id-3\" class=\"sk-top-container\"><div class=\"sk-text-repr-fallback\"><pre>PCA()</pre><b>In a Jupyter environment, please rerun this cell to show the HTML representation or trust the notebook. <br />On GitHub, the HTML representation is unable to render, please try loading this page with nbviewer.org.</b></div><div class=\"sk-container\" hidden><div class=\"sk-item\"><div class=\"sk-estimator sk-toggleable\"><input class=\"sk-toggleable__control sk-hidden--visually\" id=\"sk-estimator-id-3\" type=\"checkbox\" checked><label for=\"sk-estimator-id-3\" class=\"sk-toggleable__label sk-toggleable__label-arrow\">PCA</label><div class=\"sk-toggleable__content\"><pre>PCA()</pre></div></div></div></div></div>"
            ]
          },
          "metadata": {},
          "execution_count": 21
        }
      ]
    },
    {
      "cell_type": "code",
      "metadata": {
        "id": "gtn9eKqQ_XyQ"
      },
      "source": [
        "pca_proj = pd.DataFrame(pca.transform(df_test), columns=['Component1','Component2','Component3','Component4'], index = df_test.index) #"
      ],
      "execution_count": 22,
      "outputs": []
    },
    {
      "cell_type": "code",
      "metadata": {
        "id": "yELTJrHn_X5N",
        "colab": {
          "base_uri": "https://localhost:8080/",
          "height": 238
        },
        "outputId": "e8d83fb7-5e34-4255-c312-cb0ff912fdd6"
      },
      "source": [
        "pca_proj"
      ],
      "execution_count": 23,
      "outputs": [
        {
          "output_type": "execute_result",
          "data": {
            "text/plain": [
              "        Component1  Component2  Component3  Component4\n",
              "Mouse1    7.435167   -1.157951   -0.885242   -0.039570\n",
              "Mouse2    5.696298    1.510140    1.917896   -0.033484\n",
              "Mouse3    4.582350    0.182406   -1.077132    0.127922\n",
              "Mouse4   -4.935668   -2.625896    0.508698   -0.377957\n",
              "Mouse5   -6.264743   -0.673880    0.321437    0.553774\n",
              "Mouse6   -6.513403    2.765180   -0.785657   -0.230685"
            ],
            "text/html": [
              "\n",
              "  <div id=\"df-8ead3803-442b-4d96-b9e1-360ffba91d31\">\n",
              "    <div class=\"colab-df-container\">\n",
              "      <div>\n",
              "<style scoped>\n",
              "    .dataframe tbody tr th:only-of-type {\n",
              "        vertical-align: middle;\n",
              "    }\n",
              "\n",
              "    .dataframe tbody tr th {\n",
              "        vertical-align: top;\n",
              "    }\n",
              "\n",
              "    .dataframe thead th {\n",
              "        text-align: right;\n",
              "    }\n",
              "</style>\n",
              "<table border=\"1\" class=\"dataframe\">\n",
              "  <thead>\n",
              "    <tr style=\"text-align: right;\">\n",
              "      <th></th>\n",
              "      <th>Component1</th>\n",
              "      <th>Component2</th>\n",
              "      <th>Component3</th>\n",
              "      <th>Component4</th>\n",
              "    </tr>\n",
              "  </thead>\n",
              "  <tbody>\n",
              "    <tr>\n",
              "      <th>Mouse1</th>\n",
              "      <td>7.435167</td>\n",
              "      <td>-1.157951</td>\n",
              "      <td>-0.885242</td>\n",
              "      <td>-0.039570</td>\n",
              "    </tr>\n",
              "    <tr>\n",
              "      <th>Mouse2</th>\n",
              "      <td>5.696298</td>\n",
              "      <td>1.510140</td>\n",
              "      <td>1.917896</td>\n",
              "      <td>-0.033484</td>\n",
              "    </tr>\n",
              "    <tr>\n",
              "      <th>Mouse3</th>\n",
              "      <td>4.582350</td>\n",
              "      <td>0.182406</td>\n",
              "      <td>-1.077132</td>\n",
              "      <td>0.127922</td>\n",
              "    </tr>\n",
              "    <tr>\n",
              "      <th>Mouse4</th>\n",
              "      <td>-4.935668</td>\n",
              "      <td>-2.625896</td>\n",
              "      <td>0.508698</td>\n",
              "      <td>-0.377957</td>\n",
              "    </tr>\n",
              "    <tr>\n",
              "      <th>Mouse5</th>\n",
              "      <td>-6.264743</td>\n",
              "      <td>-0.673880</td>\n",
              "      <td>0.321437</td>\n",
              "      <td>0.553774</td>\n",
              "    </tr>\n",
              "    <tr>\n",
              "      <th>Mouse6</th>\n",
              "      <td>-6.513403</td>\n",
              "      <td>2.765180</td>\n",
              "      <td>-0.785657</td>\n",
              "      <td>-0.230685</td>\n",
              "    </tr>\n",
              "  </tbody>\n",
              "</table>\n",
              "</div>\n",
              "      <button class=\"colab-df-convert\" onclick=\"convertToInteractive('df-8ead3803-442b-4d96-b9e1-360ffba91d31')\"\n",
              "              title=\"Convert this dataframe to an interactive table.\"\n",
              "              style=\"display:none;\">\n",
              "        \n",
              "  <svg xmlns=\"http://www.w3.org/2000/svg\" height=\"24px\"viewBox=\"0 0 24 24\"\n",
              "       width=\"24px\">\n",
              "    <path d=\"M0 0h24v24H0V0z\" fill=\"none\"/>\n",
              "    <path d=\"M18.56 5.44l.94 2.06.94-2.06 2.06-.94-2.06-.94-.94-2.06-.94 2.06-2.06.94zm-11 1L8.5 8.5l.94-2.06 2.06-.94-2.06-.94L8.5 2.5l-.94 2.06-2.06.94zm10 10l.94 2.06.94-2.06 2.06-.94-2.06-.94-.94-2.06-.94 2.06-2.06.94z\"/><path d=\"M17.41 7.96l-1.37-1.37c-.4-.4-.92-.59-1.43-.59-.52 0-1.04.2-1.43.59L10.3 9.45l-7.72 7.72c-.78.78-.78 2.05 0 2.83L4 21.41c.39.39.9.59 1.41.59.51 0 1.02-.2 1.41-.59l7.78-7.78 2.81-2.81c.8-.78.8-2.07 0-2.86zM5.41 20L4 18.59l7.72-7.72 1.47 1.35L5.41 20z\"/>\n",
              "  </svg>\n",
              "      </button>\n",
              "      \n",
              "  <style>\n",
              "    .colab-df-container {\n",
              "      display:flex;\n",
              "      flex-wrap:wrap;\n",
              "      gap: 12px;\n",
              "    }\n",
              "\n",
              "    .colab-df-convert {\n",
              "      background-color: #E8F0FE;\n",
              "      border: none;\n",
              "      border-radius: 50%;\n",
              "      cursor: pointer;\n",
              "      display: none;\n",
              "      fill: #1967D2;\n",
              "      height: 32px;\n",
              "      padding: 0 0 0 0;\n",
              "      width: 32px;\n",
              "    }\n",
              "\n",
              "    .colab-df-convert:hover {\n",
              "      background-color: #E2EBFA;\n",
              "      box-shadow: 0px 1px 2px rgba(60, 64, 67, 0.3), 0px 1px 3px 1px rgba(60, 64, 67, 0.15);\n",
              "      fill: #174EA6;\n",
              "    }\n",
              "\n",
              "    [theme=dark] .colab-df-convert {\n",
              "      background-color: #3B4455;\n",
              "      fill: #D2E3FC;\n",
              "    }\n",
              "\n",
              "    [theme=dark] .colab-df-convert:hover {\n",
              "      background-color: #434B5C;\n",
              "      box-shadow: 0px 1px 3px 1px rgba(0, 0, 0, 0.15);\n",
              "      filter: drop-shadow(0px 1px 2px rgba(0, 0, 0, 0.3));\n",
              "      fill: #FFFFFF;\n",
              "    }\n",
              "  </style>\n",
              "\n",
              "      <script>\n",
              "        const buttonEl =\n",
              "          document.querySelector('#df-8ead3803-442b-4d96-b9e1-360ffba91d31 button.colab-df-convert');\n",
              "        buttonEl.style.display =\n",
              "          google.colab.kernel.accessAllowed ? 'block' : 'none';\n",
              "\n",
              "        async function convertToInteractive(key) {\n",
              "          const element = document.querySelector('#df-8ead3803-442b-4d96-b9e1-360ffba91d31');\n",
              "          const dataTable =\n",
              "            await google.colab.kernel.invokeFunction('convertToInteractive',\n",
              "                                                     [key], {});\n",
              "          if (!dataTable) return;\n",
              "\n",
              "          const docLinkHtml = 'Like what you see? Visit the ' +\n",
              "            '<a target=\"_blank\" href=https://colab.research.google.com/notebooks/data_table.ipynb>data table notebook</a>'\n",
              "            + ' to learn more about interactive tables.';\n",
              "          element.innerHTML = '';\n",
              "          dataTable['output_type'] = 'display_data';\n",
              "          await google.colab.output.renderOutput(dataTable, element);\n",
              "          const docLink = document.createElement('div');\n",
              "          docLink.innerHTML = docLinkHtml;\n",
              "          element.appendChild(docLink);\n",
              "        }\n",
              "      </script>\n",
              "    </div>\n",
              "  </div>\n",
              "  "
            ]
          },
          "metadata": {},
          "execution_count": 23
        }
      ]
    },
    {
      "cell_type": "code",
      "source": [
        "df_test\n"
      ],
      "metadata": {
        "colab": {
          "base_uri": "https://localhost:8080/",
          "height": 238
        },
        "id": "m57o6r8WxYRd",
        "outputId": "8e40c514-8bfd-479b-e279-b09dcb982c2b"
      },
      "execution_count": 24,
      "outputs": [
        {
          "output_type": "execute_result",
          "data": {
            "text/plain": [
              "        Gene1  Gene2  Gene3  Gene4\n",
              "Mouse1     10    6.0   12.0      5\n",
              "Mouse2     11    4.0    9.0      7\n",
              "Mouse3      8    5.0   10.0      6\n",
              "Mouse4      3    3.0    2.5      2\n",
              "Mouse5      2    2.8    1.3      4\n",
              "Mouse6      1    1.0    2.0      7"
            ],
            "text/html": [
              "\n",
              "  <div id=\"df-70705864-1d82-43bd-8336-5bb54247ec5e\">\n",
              "    <div class=\"colab-df-container\">\n",
              "      <div>\n",
              "<style scoped>\n",
              "    .dataframe tbody tr th:only-of-type {\n",
              "        vertical-align: middle;\n",
              "    }\n",
              "\n",
              "    .dataframe tbody tr th {\n",
              "        vertical-align: top;\n",
              "    }\n",
              "\n",
              "    .dataframe thead th {\n",
              "        text-align: right;\n",
              "    }\n",
              "</style>\n",
              "<table border=\"1\" class=\"dataframe\">\n",
              "  <thead>\n",
              "    <tr style=\"text-align: right;\">\n",
              "      <th></th>\n",
              "      <th>Gene1</th>\n",
              "      <th>Gene2</th>\n",
              "      <th>Gene3</th>\n",
              "      <th>Gene4</th>\n",
              "    </tr>\n",
              "  </thead>\n",
              "  <tbody>\n",
              "    <tr>\n",
              "      <th>Mouse1</th>\n",
              "      <td>10</td>\n",
              "      <td>6.0</td>\n",
              "      <td>12.0</td>\n",
              "      <td>5</td>\n",
              "    </tr>\n",
              "    <tr>\n",
              "      <th>Mouse2</th>\n",
              "      <td>11</td>\n",
              "      <td>4.0</td>\n",
              "      <td>9.0</td>\n",
              "      <td>7</td>\n",
              "    </tr>\n",
              "    <tr>\n",
              "      <th>Mouse3</th>\n",
              "      <td>8</td>\n",
              "      <td>5.0</td>\n",
              "      <td>10.0</td>\n",
              "      <td>6</td>\n",
              "    </tr>\n",
              "    <tr>\n",
              "      <th>Mouse4</th>\n",
              "      <td>3</td>\n",
              "      <td>3.0</td>\n",
              "      <td>2.5</td>\n",
              "      <td>2</td>\n",
              "    </tr>\n",
              "    <tr>\n",
              "      <th>Mouse5</th>\n",
              "      <td>2</td>\n",
              "      <td>2.8</td>\n",
              "      <td>1.3</td>\n",
              "      <td>4</td>\n",
              "    </tr>\n",
              "    <tr>\n",
              "      <th>Mouse6</th>\n",
              "      <td>1</td>\n",
              "      <td>1.0</td>\n",
              "      <td>2.0</td>\n",
              "      <td>7</td>\n",
              "    </tr>\n",
              "  </tbody>\n",
              "</table>\n",
              "</div>\n",
              "      <button class=\"colab-df-convert\" onclick=\"convertToInteractive('df-70705864-1d82-43bd-8336-5bb54247ec5e')\"\n",
              "              title=\"Convert this dataframe to an interactive table.\"\n",
              "              style=\"display:none;\">\n",
              "        \n",
              "  <svg xmlns=\"http://www.w3.org/2000/svg\" height=\"24px\"viewBox=\"0 0 24 24\"\n",
              "       width=\"24px\">\n",
              "    <path d=\"M0 0h24v24H0V0z\" fill=\"none\"/>\n",
              "    <path d=\"M18.56 5.44l.94 2.06.94-2.06 2.06-.94-2.06-.94-.94-2.06-.94 2.06-2.06.94zm-11 1L8.5 8.5l.94-2.06 2.06-.94-2.06-.94L8.5 2.5l-.94 2.06-2.06.94zm10 10l.94 2.06.94-2.06 2.06-.94-2.06-.94-.94-2.06-.94 2.06-2.06.94z\"/><path d=\"M17.41 7.96l-1.37-1.37c-.4-.4-.92-.59-1.43-.59-.52 0-1.04.2-1.43.59L10.3 9.45l-7.72 7.72c-.78.78-.78 2.05 0 2.83L4 21.41c.39.39.9.59 1.41.59.51 0 1.02-.2 1.41-.59l7.78-7.78 2.81-2.81c.8-.78.8-2.07 0-2.86zM5.41 20L4 18.59l7.72-7.72 1.47 1.35L5.41 20z\"/>\n",
              "  </svg>\n",
              "      </button>\n",
              "      \n",
              "  <style>\n",
              "    .colab-df-container {\n",
              "      display:flex;\n",
              "      flex-wrap:wrap;\n",
              "      gap: 12px;\n",
              "    }\n",
              "\n",
              "    .colab-df-convert {\n",
              "      background-color: #E8F0FE;\n",
              "      border: none;\n",
              "      border-radius: 50%;\n",
              "      cursor: pointer;\n",
              "      display: none;\n",
              "      fill: #1967D2;\n",
              "      height: 32px;\n",
              "      padding: 0 0 0 0;\n",
              "      width: 32px;\n",
              "    }\n",
              "\n",
              "    .colab-df-convert:hover {\n",
              "      background-color: #E2EBFA;\n",
              "      box-shadow: 0px 1px 2px rgba(60, 64, 67, 0.3), 0px 1px 3px 1px rgba(60, 64, 67, 0.15);\n",
              "      fill: #174EA6;\n",
              "    }\n",
              "\n",
              "    [theme=dark] .colab-df-convert {\n",
              "      background-color: #3B4455;\n",
              "      fill: #D2E3FC;\n",
              "    }\n",
              "\n",
              "    [theme=dark] .colab-df-convert:hover {\n",
              "      background-color: #434B5C;\n",
              "      box-shadow: 0px 1px 3px 1px rgba(0, 0, 0, 0.15);\n",
              "      filter: drop-shadow(0px 1px 2px rgba(0, 0, 0, 0.3));\n",
              "      fill: #FFFFFF;\n",
              "    }\n",
              "  </style>\n",
              "\n",
              "      <script>\n",
              "        const buttonEl =\n",
              "          document.querySelector('#df-70705864-1d82-43bd-8336-5bb54247ec5e button.colab-df-convert');\n",
              "        buttonEl.style.display =\n",
              "          google.colab.kernel.accessAllowed ? 'block' : 'none';\n",
              "\n",
              "        async function convertToInteractive(key) {\n",
              "          const element = document.querySelector('#df-70705864-1d82-43bd-8336-5bb54247ec5e');\n",
              "          const dataTable =\n",
              "            await google.colab.kernel.invokeFunction('convertToInteractive',\n",
              "                                                     [key], {});\n",
              "          if (!dataTable) return;\n",
              "\n",
              "          const docLinkHtml = 'Like what you see? Visit the ' +\n",
              "            '<a target=\"_blank\" href=https://colab.research.google.com/notebooks/data_table.ipynb>data table notebook</a>'\n",
              "            + ' to learn more about interactive tables.';\n",
              "          element.innerHTML = '';\n",
              "          dataTable['output_type'] = 'display_data';\n",
              "          await google.colab.output.renderOutput(dataTable, element);\n",
              "          const docLink = document.createElement('div');\n",
              "          docLink.innerHTML = docLinkHtml;\n",
              "          element.appendChild(docLink);\n",
              "        }\n",
              "      </script>\n",
              "    </div>\n",
              "  </div>\n",
              "  "
            ]
          },
          "metadata": {},
          "execution_count": 24
        }
      ]
    },
    {
      "cell_type": "code",
      "source": [
        "pca.components_"
      ],
      "metadata": {
        "colab": {
          "base_uri": "https://localhost:8080/"
        },
        "id": "z4AMconDxfJr",
        "outputId": "62a275ea-cf78-4c3c-be64-b12080c2d8f2"
      },
      "execution_count": 25,
      "outputs": [
        {
          "output_type": "execute_result",
          "data": {
            "text/plain": [
              "array([[ 0.65105257,  0.23955265,  0.71150241,  0.11184542],\n",
              "       [ 0.00166297, -0.3750331 , -0.02093861,  0.92677342],\n",
              "       [ 0.75901752, -0.20980962, -0.60817046, -0.10000505],\n",
              "       [ 0.00449286,  0.87060015, -0.35136104,  0.34435536]])"
            ]
          },
          "metadata": {},
          "execution_count": 25
        }
      ]
    },
    {
      "cell_type": "code",
      "metadata": {
        "id": "tuGE07c__7Pl",
        "colab": {
          "base_uri": "https://localhost:8080/"
        },
        "outputId": "2a82d66e-8037-47a7-f840-93b8e183034c"
      },
      "source": [
        "pca.explained_variance_ratio_"
      ],
      "execution_count": 19,
      "outputs": [
        {
          "output_type": "execute_result",
          "data": {
            "text/plain": [
              "array([0.89284793, 0.07753734])"
            ]
          },
          "metadata": {},
          "execution_count": 19
        }
      ]
    },
    {
      "cell_type": "code",
      "metadata": {
        "id": "dxQbq1_aN-2F",
        "colab": {
          "base_uri": "https://localhost:8080/"
        },
        "outputId": "b787fa20-aa01-49d6-94e9-68dfd59d56d9"
      },
      "source": [
        "pca.explained_variance_ratio_.sum()"
      ],
      "execution_count": 26,
      "outputs": [
        {
          "output_type": "execute_result",
          "data": {
            "text/plain": [
              "0.9999999999999999"
            ]
          },
          "metadata": {},
          "execution_count": 26
        }
      ]
    },
    {
      "cell_type": "code",
      "metadata": {
        "id": "Z760hHKn_X8R",
        "colab": {
          "base_uri": "https://localhost:8080/",
          "height": 470
        },
        "outputId": "7e78582a-138e-4443-c31f-5911fa137ce6"
      },
      "source": [
        "sns.scatterplot(data=pca_proj,  x='Component1',y='Component2')"
      ],
      "execution_count": 27,
      "outputs": [
        {
          "output_type": "execute_result",
          "data": {
            "text/plain": [
              "<Axes: xlabel='Component1', ylabel='Component2'>"
            ]
          },
          "metadata": {},
          "execution_count": 27
        },
        {
          "output_type": "display_data",
          "data": {
            "text/plain": [
              "<Figure size 640x480 with 1 Axes>"
            ],
            "image/png": "[encoded data removed]"
          },
          "metadata": {}
        }
      ]
    },
    {
      "cell_type": "code",
      "metadata": {
        "id": "3YcYg7H2OPhu",
        "colab": {
          "base_uri": "https://localhost:8080/",
          "height": 466
        },
        "outputId": "c10b4c77-924e-439e-dd4c-f010300b2cf5"
      },
      "source": [
        "sns.scatterplot(data=pca_proj,  x='Component2',y='Component3')"
      ],
      "execution_count": 28,
      "outputs": [
        {
          "output_type": "execute_result",
          "data": {
            "text/plain": [
              "<Axes: xlabel='Component2', ylabel='Component3'>"
            ]
          },
          "metadata": {},
          "execution_count": 28
        },
        {
          "output_type": "display_data",
          "data": {
            "text/plain": [
              "<Figure size 640x480 with 1 Axes>"
            ],
            "image/png": "[encoded data removed]"
          },
          "metadata": {}
        }
      ]
    },
    {
      "cell_type": "markdown",
      "metadata": {
        "id": "d0tWwtcW--7p"
      },
      "source": [
        "### NMF"
      ]
    },
    {
      "cell_type": "code",
      "metadata": {
        "id": "mk8PHMDk_DL2"
      },
      "source": [
        "from sklearn.decomposition import NMF"
      ],
      "execution_count": 29,
      "outputs": []
    },
    {
      "cell_type": "code",
      "metadata": {
        "id": "Et3nI2To_HFG"
      },
      "source": [
        "nmf = NMF(n_components=2)"
      ],
      "execution_count": 30,
      "outputs": []
    },
    {
      "cell_type": "code",
      "metadata": {
        "id": "KjLe2uIw_Thb",
        "colab": {
          "base_uri": "https://localhost:8080/",
          "height": 75
        },
        "outputId": "ada8da4f-3edc-4f0b-bcc8-dbe719e706c2"
      },
      "source": [
        "nmf.fit(df_test)"
      ],
      "execution_count": 31,
      "outputs": [
        {
          "output_type": "execute_result",
          "data": {
            "text/plain": [
              "NMF(n_components=2)"
            ],
            "text/html": [
              "<style>#sk-container-id-4 {color: black;background-color: white;}#sk-container-id-4 pre{padding: 0;}#sk-container-id-4 div.sk-toggleable {background-color: white;}#sk-container-id-4 label.sk-toggleable__label {cursor: pointer;display: block;width: 100%;margin-bottom: 0;padding: 0.3em;box-sizing: border-box;text-align: center;}#sk-container-id-4 label.sk-toggleable__label-arrow:before {content: \"▸\";float: left;margin-right: 0.25em;color: #696969;}#sk-container-id-4 label.sk-toggleable__label-arrow:hover:before {color: black;}#sk-container-id-4 div.sk-estimator:hover label.sk-toggleable__label-arrow:before {color: black;}#sk-container-id-4 div.sk-toggleable__content {max-height: 0;max-width: 0;overflow: hidden;text-align: left;background-color: #f0f8ff;}#sk-container-id-4 div.sk-toggleable__content pre {margin: 0.2em;color: black;border-radius: 0.25em;background-color: #f0f8ff;}#sk-container-id-4 input.sk-toggleable__control:checked~div.sk-toggleable__content {max-height: 200px;max-width: 100%;overflow: auto;}#sk-container-id-4 input.sk-toggleable__control:checked~label.sk-toggleable__label-arrow:before {content: \"▾\";}#sk-container-id-4 div.sk-estimator input.sk-toggleable__control:checked~label.sk-toggleable__label {background-color: #d4ebff;}#sk-container-id-4 div.sk-label input.sk-toggleable__control:checked~label.sk-toggleable__label {background-color: #d4ebff;}#sk-container-id-4 input.sk-hidden--visually {border: 0;clip: rect(1px 1px 1px 1px);clip: rect(1px, 1px, 1px, 1px);height: 1px;margin: -1px;overflow: hidden;padding: 0;position: absolute;width: 1px;}#sk-container-id-4 div.sk-estimator {font-family: monospace;background-color: #f0f8ff;border: 1px dotted black;border-radius: 0.25em;box-sizing: border-box;margin-bottom: 0.5em;}#sk-container-id-4 div.sk-estimator:hover {background-color: #d4ebff;}#sk-container-id-4 div.sk-parallel-item::after {content: \"\";width: 100%;border-bottom: 1px solid gray;flex-grow: 1;}#sk-container-id-4 div.sk-label:hover label.sk-toggleable__label {background-color: #d4ebff;}#sk-container-id-4 div.sk-serial::before {content: \"\";position: absolute;border-left: 1px solid gray;box-sizing: border-box;top: 0;bottom: 0;left: 50%;z-index: 0;}#sk-container-id-4 div.sk-serial {display: flex;flex-direction: column;align-items: center;background-color: white;padding-right: 0.2em;padding-left: 0.2em;position: relative;}#sk-container-id-4 div.sk-item {position: relative;z-index: 1;}#sk-container-id-4 div.sk-parallel {display: flex;align-items: stretch;justify-content: center;background-color: white;position: relative;}#sk-container-id-4 div.sk-item::before, #sk-container-id-4 div.sk-parallel-item::before {content: \"\";position: absolute;border-left: 1px solid gray;box-sizing: border-box;top: 0;bottom: 0;left: 50%;z-index: -1;}#sk-container-id-4 div.sk-parallel-item {display: flex;flex-direction: column;z-index: 1;position: relative;background-color: white;}#sk-container-id-4 div.sk-parallel-item:first-child::after {align-self: flex-end;width: 50%;}#sk-container-id-4 div.sk-parallel-item:last-child::after {align-self: flex-start;width: 50%;}#sk-container-id-4 div.sk-parallel-item:only-child::after {width: 0;}#sk-container-id-4 div.sk-dashed-wrapped {border: 1px dashed gray;margin: 0 0.4em 0.5em 0.4em;box-sizing: border-box;padding-bottom: 0.4em;background-color: white;}#sk-container-id-4 div.sk-label label {font-family: monospace;font-weight: bold;display: inline-block;line-height: 1.2em;}#sk-container-id-4 div.sk-label-container {text-align: center;}#sk-container-id-4 div.sk-container {/* jupyter's `normalize.less` sets `[hidden] { display: none; }` but bootstrap.min.css set `[hidden] { display: none !important; }` so we also need the `!important` here to be able to override the default hidden behavior on the sphinx rendered scikit-learn.org. See: https://github.com/scikit-learn/scikit-learn/issues/21755 */display: inline-block !important;position: relative;}#sk-container-id-4 div.sk-text-repr-fallback {display: none;}</style><div id=\"sk-container-id-4\" class=\"sk-top-container\"><div class=\"sk-text-repr-fallback\"><pre>NMF(n_components=2)</pre><b>In a Jupyter environment, please rerun this cell to show the HTML representation or trust the notebook. <br />On GitHub, the HTML representation is unable to render, please try loading this page with nbviewer.org.</b></div><div class=\"sk-container\" hidden><div class=\"sk-item\"><div class=\"sk-estimator sk-toggleable\"><input class=\"sk-toggleable__control sk-hidden--visually\" id=\"sk-estimator-id-4\" type=\"checkbox\" checked><label for=\"sk-estimator-id-4\" class=\"sk-toggleable__label sk-toggleable__label-arrow\">NMF</label><div class=\"sk-toggleable__content\"><pre>NMF(n_components=2)</pre></div></div></div></div></div>"
            ]
          },
          "metadata": {},
          "execution_count": 31
        }
      ]
    },
    {
      "cell_type": "code",
      "metadata": {
        "id": "_ZH-aqN-ASMG"
      },
      "source": [
        "nmf_proj = pd.DataFrame(nmf.transform(df_test), columns=['Component1','Component2'], index = df_test.index)"
      ],
      "execution_count": 32,
      "outputs": []
    },
    {
      "cell_type": "code",
      "metadata": {
        "id": "lPwQRmiNASMG",
        "colab": {
          "base_uri": "https://localhost:8080/",
          "height": 238
        },
        "outputId": "7b4ea3c8-50ec-4ed5-d25d-d24107b9ab78"
      },
      "source": [
        "nmf_proj"
      ],
      "execution_count": 33,
      "outputs": [
        {
          "output_type": "execute_result",
          "data": {
            "text/plain": [
              "        Component1  Component2\n",
              "Mouse1    0.398391    1.490266\n",
              "Mouse2    1.179418    1.222209\n",
              "Mouse3    0.954551    1.159240\n",
              "Mouse4    0.373067    0.384430\n",
              "Mouse5    1.163224    0.162742\n",
              "Mouse6    2.135971    0.000000"
            ],
            "text/html": [
              "\n",
              "  <div id=\"df-30d36090-a06a-4fde-ac23-af52b4c92be7\">\n",
              "    <div class=\"colab-df-container\">\n",
              "      <div>\n",
              "<style scoped>\n",
              "    .dataframe tbody tr th:only-of-type {\n",
              "        vertical-align: middle;\n",
              "    }\n",
              "\n",
              "    .dataframe tbody tr th {\n",
              "        vertical-align: top;\n",
              "    }\n",
              "\n",
              "    .dataframe thead th {\n",
              "        text-align: right;\n",
              "    }\n",
              "</style>\n",
              "<table border=\"1\" class=\"dataframe\">\n",
              "  <thead>\n",
              "    <tr style=\"text-align: right;\">\n",
              "      <th></th>\n",
              "      <th>Component1</th>\n",
              "      <th>Component2</th>\n",
              "    </tr>\n",
              "  </thead>\n",
              "  <tbody>\n",
              "    <tr>\n",
              "      <th>Mouse1</th>\n",
              "      <td>0.398391</td>\n",
              "      <td>1.490266</td>\n",
              "    </tr>\n",
              "    <tr>\n",
              "      <th>Mouse2</th>\n",
              "      <td>1.179418</td>\n",
              "      <td>1.222209</td>\n",
              "    </tr>\n",
              "    <tr>\n",
              "      <th>Mouse3</th>\n",
              "      <td>0.954551</td>\n",
              "      <td>1.159240</td>\n",
              "    </tr>\n",
              "    <tr>\n",
              "      <th>Mouse4</th>\n",
              "      <td>0.373067</td>\n",
              "      <td>0.384430</td>\n",
              "    </tr>\n",
              "    <tr>\n",
              "      <th>Mouse5</th>\n",
              "      <td>1.163224</td>\n",
              "      <td>0.162742</td>\n",
              "    </tr>\n",
              "    <tr>\n",
              "      <th>Mouse6</th>\n",
              "      <td>2.135971</td>\n",
              "      <td>0.000000</td>\n",
              "    </tr>\n",
              "  </tbody>\n",
              "</table>\n",
              "</div>\n",
              "      <button class=\"colab-df-convert\" onclick=\"convertToInteractive('df-30d36090-a06a-4fde-ac23-af52b4c92be7')\"\n",
              "              title=\"Convert this dataframe to an interactive table.\"\n",
              "              style=\"display:none;\">\n",
              "        \n",
              "  <svg xmlns=\"http://www.w3.org/2000/svg\" height=\"24px\"viewBox=\"0 0 24 24\"\n",
              "       width=\"24px\">\n",
              "    <path d=\"M0 0h24v24H0V0z\" fill=\"none\"/>\n",
              "    <path d=\"M18.56 5.44l.94 2.06.94-2.06 2.06-.94-2.06-.94-.94-2.06-.94 2.06-2.06.94zm-11 1L8.5 8.5l.94-2.06 2.06-.94-2.06-.94L8.5 2.5l-.94 2.06-2.06.94zm10 10l.94 2.06.94-2.06 2.06-.94-2.06-.94-.94-2.06-.94 2.06-2.06.94z\"/><path d=\"M17.41 7.96l-1.37-1.37c-.4-.4-.92-.59-1.43-.59-.52 0-1.04.2-1.43.59L10.3 9.45l-7.72 7.72c-.78.78-.78 2.05 0 2.83L4 21.41c.39.39.9.59 1.41.59.51 0 1.02-.2 1.41-.59l7.78-7.78 2.81-2.81c.8-.78.8-2.07 0-2.86zM5.41 20L4 18.59l7.72-7.72 1.47 1.35L5.41 20z\"/>\n",
              "  </svg>\n",
              "      </button>\n",
              "      \n",
              "  <style>\n",
              "    .colab-df-container {\n",
              "      display:flex;\n",
              "      flex-wrap:wrap;\n",
              "      gap: 12px;\n",
              "    }\n",
              "\n",
              "    .colab-df-convert {\n",
              "      background-color: #E8F0FE;\n",
              "      border: none;\n",
              "      border-radius: 50%;\n",
              "      cursor: pointer;\n",
              "      display: none;\n",
              "      fill: #1967D2;\n",
              "      height: 32px;\n",
              "      padding: 0 0 0 0;\n",
              "      width: 32px;\n",
              "    }\n",
              "\n",
              "    .colab-df-convert:hover {\n",
              "      background-color: #E2EBFA;\n",
              "      box-shadow: 0px 1px 2px rgba(60, 64, 67, 0.3), 0px 1px 3px 1px rgba(60, 64, 67, 0.15);\n",
              "      fill: #174EA6;\n",
              "    }\n",
              "\n",
              "    [theme=dark] .colab-df-convert {\n",
              "      background-color: #3B4455;\n",
              "      fill: #D2E3FC;\n",
              "    }\n",
              "\n",
              "    [theme=dark] .colab-df-convert:hover {\n",
              "      background-color: #434B5C;\n",
              "      box-shadow: 0px 1px 3px 1px rgba(0, 0, 0, 0.15);\n",
              "      filter: drop-shadow(0px 1px 2px rgba(0, 0, 0, 0.3));\n",
              "      fill: #FFFFFF;\n",
              "    }\n",
              "  </style>\n",
              "\n",
              "      <script>\n",
              "        const buttonEl =\n",
              "          document.querySelector('#df-30d36090-a06a-4fde-ac23-af52b4c92be7 button.colab-df-convert');\n",
              "        buttonEl.style.display =\n",
              "          google.colab.kernel.accessAllowed ? 'block' : 'none';\n",
              "\n",
              "        async function convertToInteractive(key) {\n",
              "          const element = document.querySelector('#df-30d36090-a06a-4fde-ac23-af52b4c92be7');\n",
              "          const dataTable =\n",
              "            await google.colab.kernel.invokeFunction('convertToInteractive',\n",
              "                                                     [key], {});\n",
              "          if (!dataTable) return;\n",
              "\n",
              "          const docLinkHtml = 'Like what you see? Visit the ' +\n",
              "            '<a target=\"_blank\" href=https://colab.research.google.com/notebooks/data_table.ipynb>data table notebook</a>'\n",
              "            + ' to learn more about interactive tables.';\n",
              "          element.innerHTML = '';\n",
              "          dataTable['output_type'] = 'display_data';\n",
              "          await google.colab.output.renderOutput(dataTable, element);\n",
              "          const docLink = document.createElement('div');\n",
              "          docLink.innerHTML = docLinkHtml;\n",
              "          element.appendChild(docLink);\n",
              "        }\n",
              "      </script>\n",
              "    </div>\n",
              "  </div>\n",
              "  "
            ]
          },
          "metadata": {},
          "execution_count": 33
        }
      ]
    },
    {
      "cell_type": "code",
      "source": [
        "pca_proj"
      ],
      "metadata": {
        "colab": {
          "base_uri": "https://localhost:8080/",
          "height": 238
        },
        "id": "YI9wgdjCAC9K",
        "outputId": "8f6a7b80-b8ec-4ea4-cb2d-8e926d37d657"
      },
      "execution_count": 49,
      "outputs": [
        {
          "output_type": "execute_result",
          "data": {
            "text/plain": [
              "        Component1  Component2  Component3  Component4\n",
              "Mouse1    7.435167   -1.157951   -0.885242   -0.039570\n",
              "Mouse2    5.696298    1.510140    1.917896   -0.033484\n",
              "Mouse3    4.582350    0.182406   -1.077132    0.127922\n",
              "Mouse4   -4.935668   -2.625896    0.508698   -0.377957\n",
              "Mouse5   -6.264743   -0.673880    0.321437    0.553774\n",
              "Mouse6   -6.513403    2.765180   -0.785657   -0.230685"
            ],
            "text/html": [
              "\n",
              "  <div id=\"df-9ecd76f1-5bf9-4317-841b-d63442f36ae7\">\n",
              "    <div class=\"colab-df-container\">\n",
              "      <div>\n",
              "<style scoped>\n",
              "    .dataframe tbody tr th:only-of-type {\n",
              "        vertical-align: middle;\n",
              "    }\n",
              "\n",
              "    .dataframe tbody tr th {\n",
              "        vertical-align: top;\n",
              "    }\n",
              "\n",
              "    .dataframe thead th {\n",
              "        text-align: right;\n",
              "    }\n",
              "</style>\n",
              "<table border=\"1\" class=\"dataframe\">\n",
              "  <thead>\n",
              "    <tr style=\"text-align: right;\">\n",
              "      <th></th>\n",
              "      <th>Component1</th>\n",
              "      <th>Component2</th>\n",
              "      <th>Component3</th>\n",
              "      <th>Component4</th>\n",
              "    </tr>\n",
              "  </thead>\n",
              "  <tbody>\n",
              "    <tr>\n",
              "      <th>Mouse1</th>\n",
              "      <td>7.435167</td>\n",
              "      <td>-1.157951</td>\n",
              "      <td>-0.885242</td>\n",
              "      <td>-0.039570</td>\n",
              "    </tr>\n",
              "    <tr>\n",
              "      <th>Mouse2</th>\n",
              "      <td>5.696298</td>\n",
              "      <td>1.510140</td>\n",
              "      <td>1.917896</td>\n",
              "      <td>-0.033484</td>\n",
              "    </tr>\n",
              "    <tr>\n",
              "      <th>Mouse3</th>\n",
              "      <td>4.582350</td>\n",
              "      <td>0.182406</td>\n",
              "      <td>-1.077132</td>\n",
              "      <td>0.127922</td>\n",
              "    </tr>\n",
              "    <tr>\n",
              "      <th>Mouse4</th>\n",
              "      <td>-4.935668</td>\n",
              "      <td>-2.625896</td>\n",
              "      <td>0.508698</td>\n",
              "      <td>-0.377957</td>\n",
              "    </tr>\n",
              "    <tr>\n",
              "      <th>Mouse5</th>\n",
              "      <td>-6.264743</td>\n",
              "      <td>-0.673880</td>\n",
              "      <td>0.321437</td>\n",
              "      <td>0.553774</td>\n",
              "    </tr>\n",
              "    <tr>\n",
              "      <th>Mouse6</th>\n",
              "      <td>-6.513403</td>\n",
              "      <td>2.765180</td>\n",
              "      <td>-0.785657</td>\n",
              "      <td>-0.230685</td>\n",
              "    </tr>\n",
              "  </tbody>\n",
              "</table>\n",
              "</div>\n",
              "      <button class=\"colab-df-convert\" onclick=\"convertToInteractive('df-9ecd76f1-5bf9-4317-841b-d63442f36ae7')\"\n",
              "              title=\"Convert this dataframe to an interactive table.\"\n",
              "              style=\"display:none;\">\n",
              "        \n",
              "  <svg xmlns=\"http://www.w3.org/2000/svg\" height=\"24px\"viewBox=\"0 0 24 24\"\n",
              "       width=\"24px\">\n",
              "    <path d=\"M0 0h24v24H0V0z\" fill=\"none\"/>\n",
              "    <path d=\"M18.56 5.44l.94 2.06.94-2.06 2.06-.94-2.06-.94-.94-2.06-.94 2.06-2.06.94zm-11 1L8.5 8.5l.94-2.06 2.06-.94-2.06-.94L8.5 2.5l-.94 2.06-2.06.94zm10 10l.94 2.06.94-2.06 2.06-.94-2.06-.94-.94-2.06-.94 2.06-2.06.94z\"/><path d=\"M17.41 7.96l-1.37-1.37c-.4-.4-.92-.59-1.43-.59-.52 0-1.04.2-1.43.59L10.3 9.45l-7.72 7.72c-.78.78-.78 2.05 0 2.83L4 21.41c.39.39.9.59 1.41.59.51 0 1.02-.2 1.41-.59l7.78-7.78 2.81-2.81c.8-.78.8-2.07 0-2.86zM5.41 20L4 18.59l7.72-7.72 1.47 1.35L5.41 20z\"/>\n",
              "  </svg>\n",
              "      </button>\n",
              "      \n",
              "  <style>\n",
              "    .colab-df-container {\n",
              "      display:flex;\n",
              "      flex-wrap:wrap;\n",
              "      gap: 12px;\n",
              "    }\n",
              "\n",
              "    .colab-df-convert {\n",
              "      background-color: #E8F0FE;\n",
              "      border: none;\n",
              "      border-radius: 50%;\n",
              "      cursor: pointer;\n",
              "      display: none;\n",
              "      fill: #1967D2;\n",
              "      height: 32px;\n",
              "      padding: 0 0 0 0;\n",
              "      width: 32px;\n",
              "    }\n",
              "\n",
              "    .colab-df-convert:hover {\n",
              "      background-color: #E2EBFA;\n",
              "      box-shadow: 0px 1px 2px rgba(60, 64, 67, 0.3), 0px 1px 3px 1px rgba(60, 64, 67, 0.15);\n",
              "      fill: #174EA6;\n",
              "    }\n",
              "\n",
              "    [theme=dark] .colab-df-convert {\n",
              "      background-color: #3B4455;\n",
              "      fill: #D2E3FC;\n",
              "    }\n",
              "\n",
              "    [theme=dark] .colab-df-convert:hover {\n",
              "      background-color: #434B5C;\n",
              "      box-shadow: 0px 1px 3px 1px rgba(0, 0, 0, 0.15);\n",
              "      filter: drop-shadow(0px 1px 2px rgba(0, 0, 0, 0.3));\n",
              "      fill: #FFFFFF;\n",
              "    }\n",
              "  </style>\n",
              "\n",
              "      <script>\n",
              "        const buttonEl =\n",
              "          document.querySelector('#df-9ecd76f1-5bf9-4317-841b-d63442f36ae7 button.colab-df-convert');\n",
              "        buttonEl.style.display =\n",
              "          google.colab.kernel.accessAllowed ? 'block' : 'none';\n",
              "\n",
              "        async function convertToInteractive(key) {\n",
              "          const element = document.querySelector('#df-9ecd76f1-5bf9-4317-841b-d63442f36ae7');\n",
              "          const dataTable =\n",
              "            await google.colab.kernel.invokeFunction('convertToInteractive',\n",
              "                                                     [key], {});\n",
              "          if (!dataTable) return;\n",
              "\n",
              "          const docLinkHtml = 'Like what you see? Visit the ' +\n",
              "            '<a target=\"_blank\" href=https://colab.research.google.com/notebooks/data_table.ipynb>data table notebook</a>'\n",
              "            + ' to learn more about interactive tables.';\n",
              "          element.innerHTML = '';\n",
              "          dataTable['output_type'] = 'display_data';\n",
              "          await google.colab.output.renderOutput(dataTable, element);\n",
              "          const docLink = document.createElement('div');\n",
              "          docLink.innerHTML = docLinkHtml;\n",
              "          element.appendChild(docLink);\n",
              "        }\n",
              "      </script>\n",
              "    </div>\n",
              "  </div>\n",
              "  "
            ]
          },
          "metadata": {},
          "execution_count": 49
        }
      ]
    },
    {
      "cell_type": "code",
      "metadata": {
        "id": "KRvp0AWFAWFG",
        "colab": {
          "base_uri": "https://localhost:8080/",
          "height": 466
        },
        "outputId": "9f3a810b-c703-4e87-a793-7850c1010b68"
      },
      "source": [
        "sns.scatterplot(data=nmf_proj,  x='Component1',y='Component2')"
      ],
      "execution_count": 50,
      "outputs": [
        {
          "output_type": "execute_result",
          "data": {
            "text/plain": [
              "<Axes: xlabel='Component1', ylabel='Component2'>"
            ]
          },
          "metadata": {},
          "execution_count": 50
        },
        {
          "output_type": "display_data",
          "data": {
            "text/plain": [
              "<Figure size 640x480 with 1 Axes>"
            ],
            "image/png": "[encoded data removed]"
          },
          "metadata": {}
        }
      ]
    },
    {
      "cell_type": "code",
      "metadata": {
        "id": "1Mj7BFV_AZLN",
        "colab": {
          "base_uri": "https://localhost:8080/"
        },
        "outputId": "3f6457f8-9d8d-48b5-c2f3-aeac335d9b8a"
      },
      "source": [
        "print('Dimensiones de los datos proyectados: ',nmf_proj.shape)\n",
        "print('Dimensiones de la matriz H: ', nmf.components_.shape)"
      ],
      "execution_count": 51,
      "outputs": [
        {
          "output_type": "stream",
          "name": "stdout",
          "text": [
            "Dimensiones de los datos proyectados:  (6, 2)\n",
            "Dimensiones de la matriz H:  (2, 4)\n"
          ]
        }
      ]
    },
    {
      "cell_type": "code",
      "metadata": {
        "id": "R9dbpQJbBDkR",
        "colab": {
          "base_uri": "https://localhost:8080/"
        },
        "outputId": "c16e21f5-b280-4181-db08-fb11dcd7ba90"
      },
      "source": [
        "  # X ≈ W x H\n",
        "np.matmul(nmf_proj.to_numpy(),nmf.components_)"
      ],
      "execution_count": 36,
      "outputs": [
        {
          "output_type": "execute_result",
          "data": {
            "text/plain": [
              "array([[10.73346572,  5.63871885, 11.47985872,  5.02704818],\n",
              "       [ 9.38233306,  5.21444676,  9.96496745,  6.88816439],\n",
              "       [ 8.78742093,  4.83225307,  9.34571582,  6.00108175],\n",
              "       [ 2.9525186 ,  1.64158833,  3.13570637,  2.17338147],\n",
              "       [ 1.93312562,  1.39049901,  1.97589085,  4.18031933],\n",
              "       [ 1.45167326,  1.47787714,  1.37776656,  6.9271514 ]])"
            ]
          },
          "metadata": {},
          "execution_count": 36
        }
      ]
    },
    {
      "cell_type": "code",
      "metadata": {
        "id": "Ru69wQimCBuL",
        "colab": {
          "base_uri": "https://localhost:8080/",
          "height": 238
        },
        "outputId": "6fd89d15-d466-4c51-f68e-cfdf066bd95a"
      },
      "source": [
        "df_test"
      ],
      "execution_count": 52,
      "outputs": [
        {
          "output_type": "execute_result",
          "data": {
            "text/plain": [
              "        Gene1  Gene2  Gene3  Gene4\n",
              "Mouse1     10    6.0   12.0      5\n",
              "Mouse2     11    4.0    9.0      7\n",
              "Mouse3      8    5.0   10.0      6\n",
              "Mouse4      3    3.0    2.5      2\n",
              "Mouse5      2    2.8    1.3      4\n",
              "Mouse6      1    1.0    2.0      7"
            ],
            "text/html": [
              "\n",
              "  <div id=\"df-08accec8-842f-4a2b-b131-0cdc207176f6\">\n",
              "    <div class=\"colab-df-container\">\n",
              "      <div>\n",
              "<style scoped>\n",
              "    .dataframe tbody tr th:only-of-type {\n",
              "        vertical-align: middle;\n",
              "    }\n",
              "\n",
              "    .dataframe tbody tr th {\n",
              "        vertical-align: top;\n",
              "    }\n",
              "\n",
              "    .dataframe thead th {\n",
              "        text-align: right;\n",
              "    }\n",
              "</style>\n",
              "<table border=\"1\" class=\"dataframe\">\n",
              "  <thead>\n",
              "    <tr style=\"text-align: right;\">\n",
              "      <th></th>\n",
              "      <th>Gene1</th>\n",
              "      <th>Gene2</th>\n",
              "      <th>Gene3</th>\n",
              "      <th>Gene4</th>\n",
              "    </tr>\n",
              "  </thead>\n",
              "  <tbody>\n",
              "    <tr>\n",
              "      <th>Mouse1</th>\n",
              "      <td>10</td>\n",
              "      <td>6.0</td>\n",
              "      <td>12.0</td>\n",
              "      <td>5</td>\n",
              "    </tr>\n",
              "    <tr>\n",
              "      <th>Mouse2</th>\n",
              "      <td>11</td>\n",
              "      <td>4.0</td>\n",
              "      <td>9.0</td>\n",
              "      <td>7</td>\n",
              "    </tr>\n",
              "    <tr>\n",
              "      <th>Mouse3</th>\n",
              "      <td>8</td>\n",
              "      <td>5.0</td>\n",
              "      <td>10.0</td>\n",
              "      <td>6</td>\n",
              "    </tr>\n",
              "    <tr>\n",
              "      <th>Mouse4</th>\n",
              "      <td>3</td>\n",
              "      <td>3.0</td>\n",
              "      <td>2.5</td>\n",
              "      <td>2</td>\n",
              "    </tr>\n",
              "    <tr>\n",
              "      <th>Mouse5</th>\n",
              "      <td>2</td>\n",
              "      <td>2.8</td>\n",
              "      <td>1.3</td>\n",
              "      <td>4</td>\n",
              "    </tr>\n",
              "    <tr>\n",
              "      <th>Mouse6</th>\n",
              "      <td>1</td>\n",
              "      <td>1.0</td>\n",
              "      <td>2.0</td>\n",
              "      <td>7</td>\n",
              "    </tr>\n",
              "  </tbody>\n",
              "</table>\n",
              "</div>\n",
              "      <button class=\"colab-df-convert\" onclick=\"convertToInteractive('df-08accec8-842f-4a2b-b131-0cdc207176f6')\"\n",
              "              title=\"Convert this dataframe to an interactive table.\"\n",
              "              style=\"display:none;\">\n",
              "        \n",
              "  <svg xmlns=\"http://www.w3.org/2000/svg\" height=\"24px\"viewBox=\"0 0 24 24\"\n",
              "       width=\"24px\">\n",
              "    <path d=\"M0 0h24v24H0V0z\" fill=\"none\"/>\n",
              "    <path d=\"M18.56 5.44l.94 2.06.94-2.06 2.06-.94-2.06-.94-.94-2.06-.94 2.06-2.06.94zm-11 1L8.5 8.5l.94-2.06 2.06-.94-2.06-.94L8.5 2.5l-.94 2.06-2.06.94zm10 10l.94 2.06.94-2.06 2.06-.94-2.06-.94-.94-2.06-.94 2.06-2.06.94z\"/><path d=\"M17.41 7.96l-1.37-1.37c-.4-.4-.92-.59-1.43-.59-.52 0-1.04.2-1.43.59L10.3 9.45l-7.72 7.72c-.78.78-.78 2.05 0 2.83L4 21.41c.39.39.9.59 1.41.59.51 0 1.02-.2 1.41-.59l7.78-7.78 2.81-2.81c.8-.78.8-2.07 0-2.86zM5.41 20L4 18.59l7.72-7.72 1.47 1.35L5.41 20z\"/>\n",
              "  </svg>\n",
              "      </button>\n",
              "      \n",
              "  <style>\n",
              "    .colab-df-container {\n",
              "      display:flex;\n",
              "      flex-wrap:wrap;\n",
              "      gap: 12px;\n",
              "    }\n",
              "\n",
              "    .colab-df-convert {\n",
              "      background-color: #E8F0FE;\n",
              "      border: none;\n",
              "      border-radius: 50%;\n",
              "      cursor: pointer;\n",
              "      display: none;\n",
              "      fill: #1967D2;\n",
              "      height: 32px;\n",
              "      padding: 0 0 0 0;\n",
              "      width: 32px;\n",
              "    }\n",
              "\n",
              "    .colab-df-convert:hover {\n",
              "      background-color: #E2EBFA;\n",
              "      box-shadow: 0px 1px 2px rgba(60, 64, 67, 0.3), 0px 1px 3px 1px rgba(60, 64, 67, 0.15);\n",
              "      fill: #174EA6;\n",
              "    }\n",
              "\n",
              "    [theme=dark] .colab-df-convert {\n",
              "      background-color: #3B4455;\n",
              "      fill: #D2E3FC;\n",
              "    }\n",
              "\n",
              "    [theme=dark] .colab-df-convert:hover {\n",
              "      background-color: #434B5C;\n",
              "      box-shadow: 0px 1px 3px 1px rgba(0, 0, 0, 0.15);\n",
              "      filter: drop-shadow(0px 1px 2px rgba(0, 0, 0, 0.3));\n",
              "      fill: #FFFFFF;\n",
              "    }\n",
              "  </style>\n",
              "\n",
              "      <script>\n",
              "        const buttonEl =\n",
              "          document.querySelector('#df-08accec8-842f-4a2b-b131-0cdc207176f6 button.colab-df-convert');\n",
              "        buttonEl.style.display =\n",
              "          google.colab.kernel.accessAllowed ? 'block' : 'none';\n",
              "\n",
              "        async function convertToInteractive(key) {\n",
              "          const element = document.querySelector('#df-08accec8-842f-4a2b-b131-0cdc207176f6');\n",
              "          const dataTable =\n",
              "            await google.colab.kernel.invokeFunction('convertToInteractive',\n",
              "                                                     [key], {});\n",
              "          if (!dataTable) return;\n",
              "\n",
              "          const docLinkHtml = 'Like what you see? Visit the ' +\n",
              "            '<a target=\"_blank\" href=https://colab.research.google.com/notebooks/data_table.ipynb>data table notebook</a>'\n",
              "            + ' to learn more about interactive tables.';\n",
              "          element.innerHTML = '';\n",
              "          dataTable['output_type'] = 'display_data';\n",
              "          await google.colab.output.renderOutput(dataTable, element);\n",
              "          const docLink = document.createElement('div');\n",
              "          docLink.innerHTML = docLinkHtml;\n",
              "          element.appendChild(docLink);\n",
              "        }\n",
              "      </script>\n",
              "    </div>\n",
              "  </div>\n",
              "  "
            ]
          },
          "metadata": {},
          "execution_count": 52
        }
      ]
    },
    {
      "cell_type": "code",
      "metadata": {
        "id": "XPgZ8CNCCXve"
      },
      "source": [],
      "execution_count": null,
      "outputs": []
    },
    {
      "cell_type": "markdown",
      "metadata": {
        "id": "rjnpR9a-njQB"
      },
      "source": [
        "# Ejemplo con los datos de pasajeros en Chicago"
      ]
    },
    {
      "cell_type": "code",
      "metadata": {
        "id": "bBRl7VGfALex"
      },
      "source": [
        "!mkdir data"
      ],
      "execution_count": 38,
      "outputs": []
    },
    {
      "cell_type": "code",
      "metadata": {
        "id": "YR1uTokC8Wzi",
        "colab": {
          "base_uri": "https://localhost:8080/"
        },
        "outputId": "dd70781e-6840-4406-bc3f-bcecaa34eb5c"
      },
      "source": [
        "import gdown\n",
        "\n",
        "urls = ['https://drive.google.com/uc?export=download&id=1QvHTL7yok7oHX0TmuSm8OMpvxnItjT_s', # training  https://drive.google.com/file/d/1QvHTL7yok7oHX0TmuSm8OMpvxnItjT_s/view?usp=sharing  \n",
        "        'https://drive.google.com/uc?export=download&id=1nWcvoCkgUeCr-AT45JSsqKcSBUr1YbpU', # testing https://drive.google.com/file/d/1nWcvoCkgUeCr-AT45JSsqKcSBUr1YbpU/view?usp=sharing\n",
        "        'https://drive.google.com/uc?export=download&id=1LIK0YFER5ve9Wn7Uap4Zb6f5pXcAExZ-', # train_days   https://drive.google.com/file/d/1LIK0YFER5ve9Wn7Uap4Zb6f5pXcAExZ-/view?usp=sharing \n",
        "        'https://drive.google.com/uc?export=download&id=16AGQw1nM9NYILv2aSZaSNSn9jBPByWPq', # okc_train  https://drive.google.com/file/d/16AGQw1nM9NYILv2aSZaSNSn9jBPByWPq/view?usp=sharing\n",
        "        ]\n",
        "outputs = ['training_proj.csv','testing_proj.csv', 'train_days.csv','okc_train.csv']\n",
        "\n",
        "for url,output in zip(urls,outputs):\n",
        "  gdown.download(url, f'data/{output}', quiet=False)"
      ],
      "execution_count": 39,
      "outputs": [
        {
          "output_type": "stream",
          "name": "stderr",
          "text": [
            "Downloading...\n",
            "From: https://drive.google.com/uc?export=download&id=1QvHTL7yok7oHX0TmuSm8OMpvxnItjT_s\n",
            "To: /content/data/training_proj.csv\n",
            "100%|██████████| 35.2M/35.2M [00:00<00:00, 56.9MB/s]\n",
            "Downloading...\n",
            "From: https://drive.google.com/uc?export=download&id=1nWcvoCkgUeCr-AT45JSsqKcSBUr1YbpU\n",
            "To: /content/data/testing_proj.csv\n",
            "100%|██████████| 101k/101k [00:00<00:00, 52.8MB/s]\n",
            "Downloading...\n",
            "From: https://drive.google.com/uc?export=download&id=1LIK0YFER5ve9Wn7Uap4Zb6f5pXcAExZ-\n",
            "To: /content/data/train_days.csv\n",
            "100%|██████████| 107k/107k [00:00<00:00, 71.5MB/s]\n",
            "Downloading...\n",
            "From: https://drive.google.com/uc?export=download&id=16AGQw1nM9NYILv2aSZaSNSn9jBPByWPq\n",
            "To: /content/data/okc_train.csv\n",
            "100%|██████████| 12.3M/12.3M [00:00<00:00, 14.4MB/s]\n"
          ]
        }
      ]
    },
    {
      "cell_type": "code",
      "metadata": {
        "id": "E0mp-gb-npxS"
      },
      "source": [
        "training = pd.read_csv('data/training_proj.csv', parse_dates=True, index_col=0)\n",
        "testing = pd.read_csv('data/testing_proj.csv', parse_dates=True, index_col=1)\n",
        "train_days = pd.read_csv('data/train_days.csv',index_col=1, parse_dates=True)"
      ],
      "execution_count": 40,
      "outputs": []
    },
    {
      "cell_type": "code",
      "metadata": {
        "id": "SqxiddoXoM29",
        "colab": {
          "base_uri": "https://localhost:8080/",
          "height": 236
        },
        "outputId": "aaf585b7-795f-4d0e-d3a2-b44b14dbc3d4"
      },
      "source": [
        "training.head()"
      ],
      "execution_count": 41,
      "outputs": [
        {
          "output_type": "execute_result",
          "data": {
            "text/plain": [
              "   s_40380  dow  doy  week month  year  Advent1st  Advent2nd  Advent3rd  \\\n",
              "1   15.732  Mon   22     4   Jan  2001          0          0          0   \n",
              "2   15.762  Tue   23     4   Jan  2001          0          0          0   \n",
              "3   15.872  Wed   24     4   Jan  2001          0          0          0   \n",
              "4   15.874  Thu   25     4   Jan  2001          0          0          0   \n",
              "5   15.423  Fri   26     4   Jan  2001          0          0          0   \n",
              "\n",
              "   Advent4th  ...  Bulls_Away  Bulls_Home  Bears_Away  Bears_Home  \\\n",
              "1          0  ...           0           0           0           0   \n",
              "2          0  ...           0           1           0           0   \n",
              "3          0  ...           1           0           0           0   \n",
              "4          0  ...           0           0           0           0   \n",
              "5          0  ...           0           0           0           0   \n",
              "\n",
              "   WhiteSox_Away  WhiteSox_Home  Cubs_Away  Cubs_Home  l14_gas_price  \\\n",
              "1              0              0          0          0          1.516   \n",
              "2              0              0          0          0          1.516   \n",
              "3              0              0          0          0          1.516   \n",
              "4              0              0          0          0          1.516   \n",
              "5              0              0          0          0          1.516   \n",
              "\n",
              "   l30_unemployment_rate  \n",
              "1                    NaN  \n",
              "2                    NaN  \n",
              "3                    NaN  \n",
              "4                    NaN  \n",
              "5                    NaN  \n",
              "\n",
              "[5 rows x 1091 columns]"
            ],
            "text/html": [
              "\n",
              "  <div id=\"df-e8f76649-637b-4b38-84c7-8eb9c3361525\">\n",
              "    <div class=\"colab-df-container\">\n",
              "      <div>\n",
              "<style scoped>\n",
              "    .dataframe tbody tr th:only-of-type {\n",
              "        vertical-align: middle;\n",
              "    }\n",
              "\n",
              "    .dataframe tbody tr th {\n",
              "        vertical-align: top;\n",
              "    }\n",
              "\n",
              "    .dataframe thead th {\n",
              "        text-align: right;\n",
              "    }\n",
              "</style>\n",
              "<table border=\"1\" class=\"dataframe\">\n",
              "  <thead>\n",
              "    <tr style=\"text-align: right;\">\n",
              "      <th></th>\n",
              "      <th>s_40380</th>\n",
              "      <th>dow</th>\n",
              "      <th>doy</th>\n",
              "      <th>week</th>\n",
              "      <th>month</th>\n",
              "      <th>year</th>\n",
              "      <th>Advent1st</th>\n",
              "      <th>Advent2nd</th>\n",
              "      <th>Advent3rd</th>\n",
              "      <th>Advent4th</th>\n",
              "      <th>...</th>\n",
              "      <th>Bulls_Away</th>\n",
              "      <th>Bulls_Home</th>\n",
              "      <th>Bears_Away</th>\n",
              "      <th>Bears_Home</th>\n",
              "      <th>WhiteSox_Away</th>\n",
              "      <th>WhiteSox_Home</th>\n",
              "      <th>Cubs_Away</th>\n",
              "      <th>Cubs_Home</th>\n",
              "      <th>l14_gas_price</th>\n",
              "      <th>l30_unemployment_rate</th>\n",
              "    </tr>\n",
              "  </thead>\n",
              "  <tbody>\n",
              "    <tr>\n",
              "      <th>1</th>\n",
              "      <td>15.732</td>\n",
              "      <td>Mon</td>\n",
              "      <td>22</td>\n",
              "      <td>4</td>\n",
              "      <td>Jan</td>\n",
              "      <td>2001</td>\n",
              "      <td>0</td>\n",
              "      <td>0</td>\n",
              "      <td>0</td>\n",
              "      <td>0</td>\n",
              "      <td>...</td>\n",
              "      <td>0</td>\n",
              "      <td>0</td>\n",
              "      <td>0</td>\n",
              "      <td>0</td>\n",
              "      <td>0</td>\n",
              "      <td>0</td>\n",
              "      <td>0</td>\n",
              "      <td>0</td>\n",
              "      <td>1.516</td>\n",
              "      <td>NaN</td>\n",
              "    </tr>\n",
              "    <tr>\n",
              "      <th>2</th>\n",
              "      <td>15.762</td>\n",
              "      <td>Tue</td>\n",
              "      <td>23</td>\n",
              "      <td>4</td>\n",
              "      <td>Jan</td>\n",
              "      <td>2001</td>\n",
              "      <td>0</td>\n",
              "      <td>0</td>\n",
              "      <td>0</td>\n",
              "      <td>0</td>\n",
              "      <td>...</td>\n",
              "      <td>0</td>\n",
              "      <td>1</td>\n",
              "      <td>0</td>\n",
              "      <td>0</td>\n",
              "      <td>0</td>\n",
              "      <td>0</td>\n",
              "      <td>0</td>\n",
              "      <td>0</td>\n",
              "      <td>1.516</td>\n",
              "      <td>NaN</td>\n",
              "    </tr>\n",
              "    <tr>\n",
              "      <th>3</th>\n",
              "      <td>15.872</td>\n",
              "      <td>Wed</td>\n",
              "      <td>24</td>\n",
              "      <td>4</td>\n",
              "      <td>Jan</td>\n",
              "      <td>2001</td>\n",
              "      <td>0</td>\n",
              "      <td>0</td>\n",
              "      <td>0</td>\n",
              "      <td>0</td>\n",
              "      <td>...</td>\n",
              "      <td>1</td>\n",
              "      <td>0</td>\n",
              "      <td>0</td>\n",
              "      <td>0</td>\n",
              "      <td>0</td>\n",
              "      <td>0</td>\n",
              "      <td>0</td>\n",
              "      <td>0</td>\n",
              "      <td>1.516</td>\n",
              "      <td>NaN</td>\n",
              "    </tr>\n",
              "    <tr>\n",
              "      <th>4</th>\n",
              "      <td>15.874</td>\n",
              "      <td>Thu</td>\n",
              "      <td>25</td>\n",
              "      <td>4</td>\n",
              "      <td>Jan</td>\n",
              "      <td>2001</td>\n",
              "      <td>0</td>\n",
              "      <td>0</td>\n",
              "      <td>0</td>\n",
              "      <td>0</td>\n",
              "      <td>...</td>\n",
              "      <td>0</td>\n",
              "      <td>0</td>\n",
              "      <td>0</td>\n",
              "      <td>0</td>\n",
              "      <td>0</td>\n",
              "      <td>0</td>\n",
              "      <td>0</td>\n",
              "      <td>0</td>\n",
              "      <td>1.516</td>\n",
              "      <td>NaN</td>\n",
              "    </tr>\n",
              "    <tr>\n",
              "      <th>5</th>\n",
              "      <td>15.423</td>\n",
              "      <td>Fri</td>\n",
              "      <td>26</td>\n",
              "      <td>4</td>\n",
              "      <td>Jan</td>\n",
              "      <td>2001</td>\n",
              "      <td>0</td>\n",
              "      <td>0</td>\n",
              "      <td>0</td>\n",
              "      <td>0</td>\n",
              "      <td>...</td>\n",
              "      <td>0</td>\n",
              "      <td>0</td>\n",
              "      <td>0</td>\n",
              "      <td>0</td>\n",
              "      <td>0</td>\n",
              "      <td>0</td>\n",
              "      <td>0</td>\n",
              "      <td>0</td>\n",
              "      <td>1.516</td>\n",
              "      <td>NaN</td>\n",
              "    </tr>\n",
              "  </tbody>\n",
              "</table>\n",
              "<p>5 rows × 1091 columns</p>\n",
              "</div>\n",
              "      <button class=\"colab-df-convert\" onclick=\"convertToInteractive('df-e8f76649-637b-4b38-84c7-8eb9c3361525')\"\n",
              "              title=\"Convert this dataframe to an interactive table.\"\n",
              "              style=\"display:none;\">\n",
              "        \n",
              "  <svg xmlns=\"http://www.w3.org/2000/svg\" height=\"24px\"viewBox=\"0 0 24 24\"\n",
              "       width=\"24px\">\n",
              "    <path d=\"M0 0h24v24H0V0z\" fill=\"none\"/>\n",
              "    <path d=\"M18.56 5.44l.94 2.06.94-2.06 2.06-.94-2.06-.94-.94-2.06-.94 2.06-2.06.94zm-11 1L8.5 8.5l.94-2.06 2.06-.94-2.06-.94L8.5 2.5l-.94 2.06-2.06.94zm10 10l.94 2.06.94-2.06 2.06-.94-2.06-.94-.94-2.06-.94 2.06-2.06.94z\"/><path d=\"M17.41 7.96l-1.37-1.37c-.4-.4-.92-.59-1.43-.59-.52 0-1.04.2-1.43.59L10.3 9.45l-7.72 7.72c-.78.78-.78 2.05 0 2.83L4 21.41c.39.39.9.59 1.41.59.51 0 1.02-.2 1.41-.59l7.78-7.78 2.81-2.81c.8-.78.8-2.07 0-2.86zM5.41 20L4 18.59l7.72-7.72 1.47 1.35L5.41 20z\"/>\n",
              "  </svg>\n",
              "      </button>\n",
              "      \n",
              "  <style>\n",
              "    .colab-df-container {\n",
              "      display:flex;\n",
              "      flex-wrap:wrap;\n",
              "      gap: 12px;\n",
              "    }\n",
              "\n",
              "    .colab-df-convert {\n",
              "      background-color: #E8F0FE;\n",
              "      border: none;\n",
              "      border-radius: 50%;\n",
              "      cursor: pointer;\n",
              "      display: none;\n",
              "      fill: #1967D2;\n",
              "      height: 32px;\n",
              "      padding: 0 0 0 0;\n",
              "      width: 32px;\n",
              "    }\n",
              "\n",
              "    .colab-df-convert:hover {\n",
              "      background-color: #E2EBFA;\n",
              "      box-shadow: 0px 1px 2px rgba(60, 64, 67, 0.3), 0px 1px 3px 1px rgba(60, 64, 67, 0.15);\n",
              "      fill: #174EA6;\n",
              "    }\n",
              "\n",
              "    [theme=dark] .colab-df-convert {\n",
              "      background-color: #3B4455;\n",
              "      fill: #D2E3FC;\n",
              "    }\n",
              "\n",
              "    [theme=dark] .colab-df-convert:hover {\n",
              "      background-color: #434B5C;\n",
              "      box-shadow: 0px 1px 3px 1px rgba(0, 0, 0, 0.15);\n",
              "      filter: drop-shadow(0px 1px 2px rgba(0, 0, 0, 0.3));\n",
              "      fill: #FFFFFF;\n",
              "    }\n",
              "  </style>\n",
              "\n",
              "      <script>\n",
              "        const buttonEl =\n",
              "          document.querySelector('#df-e8f76649-637b-4b38-84c7-8eb9c3361525 button.colab-df-convert');\n",
              "        buttonEl.style.display =\n",
              "          google.colab.kernel.accessAllowed ? 'block' : 'none';\n",
              "\n",
              "        async function convertToInteractive(key) {\n",
              "          const element = document.querySelector('#df-e8f76649-637b-4b38-84c7-8eb9c3361525');\n",
              "          const dataTable =\n",
              "            await google.colab.kernel.invokeFunction('convertToInteractive',\n",
              "                                                     [key], {});\n",
              "          if (!dataTable) return;\n",
              "\n",
              "          const docLinkHtml = 'Like what you see? Visit the ' +\n",
              "            '<a target=\"_blank\" href=https://colab.research.google.com/notebooks/data_table.ipynb>data table notebook</a>'\n",
              "            + ' to learn more about interactive tables.';\n",
              "          element.innerHTML = '';\n",
              "          dataTable['output_type'] = 'display_data';\n",
              "          await google.colab.output.renderOutput(dataTable, element);\n",
              "          const docLink = document.createElement('div');\n",
              "          docLink.innerHTML = docLinkHtml;\n",
              "          element.appendChild(docLink);\n",
              "        }\n",
              "      </script>\n",
              "    </div>\n",
              "  </div>\n",
              "  "
            ]
          },
          "metadata": {},
          "execution_count": 41
        }
      ]
    },
    {
      "cell_type": "code",
      "source": [
        "training.shape"
      ],
      "metadata": {
        "colab": {
          "base_uri": "https://localhost:8080/"
        },
        "id": "C5KhDF2FCXcv",
        "outputId": "64d696a4-f115-4252-b04f-dd28053dd81c"
      },
      "execution_count": 54,
      "outputs": [
        {
          "output_type": "execute_result",
          "data": {
            "text/plain": [
              "(5698, 1091)"
            ]
          },
          "metadata": {},
          "execution_count": 54
        }
      ]
    },
    {
      "cell_type": "code",
      "metadata": {
        "id": "iCX6-Rm6sUon",
        "colab": {
          "base_uri": "https://localhost:8080/",
          "height": 549
        },
        "outputId": "a4b1b387-caab-4cc5-ee82-a4b7471f7693"
      },
      "source": [
        "testing"
      ],
      "execution_count": 42,
      "outputs": [
        {
          "output_type": "execute_result",
          "data": {
            "text/plain": [
              "            Unnamed: 0  s_40380  dow  doy  week month  year  Advent1st  \\\n",
              "date                                                                     \n",
              "2016-08-29           1   21.137  Mon  242    35   Aug  2016          0   \n",
              "2016-08-30           2   21.464  Tue  243    35   Aug  2016          0   \n",
              "2016-08-31           3   21.738  Wed  244    35   Aug  2016          0   \n",
              "2016-09-01           4   21.482  Thu  245    35   Sep  2016          0   \n",
              "2016-09-02           5   19.790  Fri  246    36   Sep  2016          0   \n",
              "2016-09-03           6    6.906  Sat  247    36   Sep  2016          0   \n",
              "2016-09-04           7    6.196  Sun  248    36   Sep  2016          0   \n",
              "2016-09-05           8    5.832  Mon  249    36   Sep  2016          0   \n",
              "2016-09-06           9   21.117  Tue  250    36   Sep  2016          0   \n",
              "2016-09-07          10   20.813  Wed  251    36   Sep  2016          0   \n",
              "2016-09-08          11   21.648  Thu  252    36   Sep  2016          0   \n",
              "2016-09-09          12   21.118  Fri  253    37   Sep  2016          0   \n",
              "2016-09-10          13    6.203  Sat  254    37   Sep  2016          0   \n",
              "2016-09-11          14    5.333  Sun  255    37   Sep  2016          0   \n",
              "\n",
              "            Advent2nd  Advent3rd  ...  Bulls_Away  Bulls_Home  Bears_Away  \\\n",
              "date                              ...                                       \n",
              "2016-08-29          0          0  ...           0           0           0   \n",
              "2016-08-30          0          0  ...           0           0           0   \n",
              "2016-08-31          0          0  ...           0           0           0   \n",
              "2016-09-01          0          0  ...           0           0           1   \n",
              "2016-09-02          0          0  ...           0           0           0   \n",
              "2016-09-03          0          0  ...           0           0           0   \n",
              "2016-09-04          0          0  ...           0           0           0   \n",
              "2016-09-05          0          0  ...           0           0           0   \n",
              "2016-09-06          0          0  ...           0           0           0   \n",
              "2016-09-07          0          0  ...           0           0           0   \n",
              "2016-09-08          0          0  ...           0           0           0   \n",
              "2016-09-09          0          0  ...           0           0           0   \n",
              "2016-09-10          0          0  ...           0           0           0   \n",
              "2016-09-11          0          0  ...           0           0           1   \n",
              "\n",
              "            Bears_Home  WhiteSox_Away  WhiteSox_Home  Cubs_Away  Cubs_Home  \\\n",
              "date                                                                         \n",
              "2016-08-29           0              1              1          1          1   \n",
              "2016-08-30           0              1              1          1          1   \n",
              "2016-08-31           0              1              1          1          1   \n",
              "2016-09-01           0              1              1          1          1   \n",
              "2016-09-02           0              1              1          1          1   \n",
              "2016-09-03           0              1              1          1          1   \n",
              "2016-09-04           0              1              1          1          1   \n",
              "2016-09-05           0              1              1          1          1   \n",
              "2016-09-06           0              1              1          1          1   \n",
              "2016-09-07           0              1              1          1          1   \n",
              "2016-09-08           0              0              0          0          0   \n",
              "2016-09-09           0              1              1          1          1   \n",
              "2016-09-10           0              1              1          1          1   \n",
              "2016-09-11           0              1              1          1          1   \n",
              "\n",
              "            l14_gas_price  l30_unemployment_rate  \n",
              "date                                              \n",
              "2016-08-29          2.380                    5.8  \n",
              "2016-08-30          2.380                    5.8  \n",
              "2016-08-31          2.380                    5.8  \n",
              "2016-09-01          2.380                    5.8  \n",
              "2016-09-02          2.479                    5.8  \n",
              "2016-09-03          2.479                    5.8  \n",
              "2016-09-04          2.479                    5.8  \n",
              "2016-09-05          2.479                    5.8  \n",
              "2016-09-06          2.479                    5.8  \n",
              "2016-09-07          2.479                    5.8  \n",
              "2016-09-08          2.479                    5.8  \n",
              "2016-09-09          2.556                    5.8  \n",
              "2016-09-10          2.556                    5.8  \n",
              "2016-09-11          2.556                    5.8  \n",
              "\n",
              "[14 rows x 1092 columns]"
            ],
            "text/html": [
              "\n",
              "  <div id=\"df-d043c100-53cd-4c18-860a-c15ff550174d\">\n",
              "    <div class=\"colab-df-container\">\n",
              "      <div>\n",
              "<style scoped>\n",
              "    .dataframe tbody tr th:only-of-type {\n",
              "        vertical-align: middle;\n",
              "    }\n",
              "\n",
              "    .dataframe tbody tr th {\n",
              "        vertical-align: top;\n",
              "    }\n",
              "\n",
              "    .dataframe thead th {\n",
              "        text-align: right;\n",
              "    }\n",
              "</style>\n",
              "<table border=\"1\" class=\"dataframe\">\n",
              "  <thead>\n",
              "    <tr style=\"text-align: right;\">\n",
              "      <th></th>\n",
              "      <th>Unnamed: 0</th>\n",
              "      <th>s_40380</th>\n",
              "      <th>dow</th>\n",
              "      <th>doy</th>\n",
              "      <th>week</th>\n",
              "      <th>month</th>\n",
              "      <th>year</th>\n",
              "      <th>Advent1st</th>\n",
              "      <th>Advent2nd</th>\n",
              "      <th>Advent3rd</th>\n",
              "      <th>...</th>\n",
              "      <th>Bulls_Away</th>\n",
              "      <th>Bulls_Home</th>\n",
              "      <th>Bears_Away</th>\n",
              "      <th>Bears_Home</th>\n",
              "      <th>WhiteSox_Away</th>\n",
              "      <th>WhiteSox_Home</th>\n",
              "      <th>Cubs_Away</th>\n",
              "      <th>Cubs_Home</th>\n",
              "      <th>l14_gas_price</th>\n",
              "      <th>l30_unemployment_rate</th>\n",
              "    </tr>\n",
              "    <tr>\n",
              "      <th>date</th>\n",
              "      <th></th>\n",
              "      <th></th>\n",
              "      <th></th>\n",
              "      <th></th>\n",
              "      <th></th>\n",
              "      <th></th>\n",
              "      <th></th>\n",
              "      <th></th>\n",
              "      <th></th>\n",
              "      <th></th>\n",
              "      <th></th>\n",
              "      <th></th>\n",
              "      <th></th>\n",
              "      <th></th>\n",
              "      <th></th>\n",
              "      <th></th>\n",
              "      <th></th>\n",
              "      <th></th>\n",
              "      <th></th>\n",
              "      <th></th>\n",
              "      <th></th>\n",
              "    </tr>\n",
              "  </thead>\n",
              "  <tbody>\n",
              "    <tr>\n",
              "      <th>2016-08-29</th>\n",
              "      <td>1</td>\n",
              "      <td>21.137</td>\n",
              "      <td>Mon</td>\n",
              "      <td>242</td>\n",
              "      <td>35</td>\n",
              "      <td>Aug</td>\n",
              "      <td>2016</td>\n",
              "      <td>0</td>\n",
              "      <td>0</td>\n",
              "      <td>0</td>\n",
              "      <td>...</td>\n",
              "      <td>0</td>\n",
              "      <td>0</td>\n",
              "      <td>0</td>\n",
              "      <td>0</td>\n",
              "      <td>1</td>\n",
              "      <td>1</td>\n",
              "      <td>1</td>\n",
              "      <td>1</td>\n",
              "      <td>2.380</td>\n",
              "      <td>5.8</td>\n",
              "    </tr>\n",
              "    <tr>\n",
              "      <th>2016-08-30</th>\n",
              "      <td>2</td>\n",
              "      <td>21.464</td>\n",
              "      <td>Tue</td>\n",
              "      <td>243</td>\n",
              "      <td>35</td>\n",
              "      <td>Aug</td>\n",
              "      <td>2016</td>\n",
              "      <td>0</td>\n",
              "      <td>0</td>\n",
              "      <td>0</td>\n",
              "      <td>...</td>\n",
              "      <td>0</td>\n",
              "      <td>0</td>\n",
              "      <td>0</td>\n",
              "      <td>0</td>\n",
              "      <td>1</td>\n",
              "      <td>1</td>\n",
              "      <td>1</td>\n",
              "      <td>1</td>\n",
              "      <td>2.380</td>\n",
              "      <td>5.8</td>\n",
              "    </tr>\n",
              "    <tr>\n",
              "      <th>2016-08-31</th>\n",
              "      <td>3</td>\n",
              "      <td>21.738</td>\n",
              "      <td>Wed</td>\n",
              "      <td>244</td>\n",
              "      <td>35</td>\n",
              "      <td>Aug</td>\n",
              "      <td>2016</td>\n",
              "      <td>0</td>\n",
              "      <td>0</td>\n",
              "      <td>0</td>\n",
              "      <td>...</td>\n",
              "      <td>0</td>\n",
              "      <td>0</td>\n",
              "      <td>0</td>\n",
              "      <td>0</td>\n",
              "      <td>1</td>\n",
              "      <td>1</td>\n",
              "      <td>1</td>\n",
              "      <td>1</td>\n",
              "      <td>2.380</td>\n",
              "      <td>5.8</td>\n",
              "    </tr>\n",
              "    <tr>\n",
              "      <th>2016-09-01</th>\n",
              "      <td>4</td>\n",
              "      <td>21.482</td>\n",
              "      <td>Thu</td>\n",
              "      <td>245</td>\n",
              "      <td>35</td>\n",
              "      <td>Sep</td>\n",
              "      <td>2016</td>\n",
              "      <td>0</td>\n",
              "      <td>0</td>\n",
              "      <td>0</td>\n",
              "      <td>...</td>\n",
              "      <td>0</td>\n",
              "      <td>0</td>\n",
              "      <td>1</td>\n",
              "      <td>0</td>\n",
              "      <td>1</td>\n",
              "      <td>1</td>\n",
              "      <td>1</td>\n",
              "      <td>1</td>\n",
              "      <td>2.380</td>\n",
              "      <td>5.8</td>\n",
              "    </tr>\n",
              "    <tr>\n",
              "      <th>2016-09-02</th>\n",
              "      <td>5</td>\n",
              "      <td>19.790</td>\n",
              "      <td>Fri</td>\n",
              "      <td>246</td>\n",
              "      <td>36</td>\n",
              "      <td>Sep</td>\n",
              "      <td>2016</td>\n",
              "      <td>0</td>\n",
              "      <td>0</td>\n",
              "      <td>0</td>\n",
              "      <td>...</td>\n",
              "      <td>0</td>\n",
              "      <td>0</td>\n",
              "      <td>0</td>\n",
              "      <td>0</td>\n",
              "      <td>1</td>\n",
              "      <td>1</td>\n",
              "      <td>1</td>\n",
              "      <td>1</td>\n",
              "      <td>2.479</td>\n",
              "      <td>5.8</td>\n",
              "    </tr>\n",
              "    <tr>\n",
              "      <th>2016-09-03</th>\n",
              "      <td>6</td>\n",
              "      <td>6.906</td>\n",
              "      <td>Sat</td>\n",
              "      <td>247</td>\n",
              "      <td>36</td>\n",
              "      <td>Sep</td>\n",
              "      <td>2016</td>\n",
              "      <td>0</td>\n",
              "      <td>0</td>\n",
              "      <td>0</td>\n",
              "      <td>...</td>\n",
              "      <td>0</td>\n",
              "      <td>0</td>\n",
              "      <td>0</td>\n",
              "      <td>0</td>\n",
              "      <td>1</td>\n",
              "      <td>1</td>\n",
              "      <td>1</td>\n",
              "      <td>1</td>\n",
              "      <td>2.479</td>\n",
              "      <td>5.8</td>\n",
              "    </tr>\n",
              "    <tr>\n",
              "      <th>2016-09-04</th>\n",
              "      <td>7</td>\n",
              "      <td>6.196</td>\n",
              "      <td>Sun</td>\n",
              "      <td>248</td>\n",
              "      <td>36</td>\n",
              "      <td>Sep</td>\n",
              "      <td>2016</td>\n",
              "      <td>0</td>\n",
              "      <td>0</td>\n",
              "      <td>0</td>\n",
              "      <td>...</td>\n",
              "      <td>0</td>\n",
              "      <td>0</td>\n",
              "      <td>0</td>\n",
              "      <td>0</td>\n",
              "      <td>1</td>\n",
              "      <td>1</td>\n",
              "      <td>1</td>\n",
              "      <td>1</td>\n",
              "      <td>2.479</td>\n",
              "      <td>5.8</td>\n",
              "    </tr>\n",
              "    <tr>\n",
              "      <th>2016-09-05</th>\n",
              "      <td>8</td>\n",
              "      <td>5.832</td>\n",
              "      <td>Mon</td>\n",
              "      <td>249</td>\n",
              "      <td>36</td>\n",
              "      <td>Sep</td>\n",
              "      <td>2016</td>\n",
              "      <td>0</td>\n",
              "      <td>0</td>\n",
              "      <td>0</td>\n",
              "      <td>...</td>\n",
              "      <td>0</td>\n",
              "      <td>0</td>\n",
              "      <td>0</td>\n",
              "      <td>0</td>\n",
              "      <td>1</td>\n",
              "      <td>1</td>\n",
              "      <td>1</td>\n",
              "      <td>1</td>\n",
              "      <td>2.479</td>\n",
              "      <td>5.8</td>\n",
              "    </tr>\n",
              "    <tr>\n",
              "      <th>2016-09-06</th>\n",
              "      <td>9</td>\n",
              "      <td>21.117</td>\n",
              "      <td>Tue</td>\n",
              "      <td>250</td>\n",
              "      <td>36</td>\n",
              "      <td>Sep</td>\n",
              "      <td>2016</td>\n",
              "      <td>0</td>\n",
              "      <td>0</td>\n",
              "      <td>0</td>\n",
              "      <td>...</td>\n",
              "      <td>0</td>\n",
              "      <td>0</td>\n",
              "      <td>0</td>\n",
              "      <td>0</td>\n",
              "      <td>1</td>\n",
              "      <td>1</td>\n",
              "      <td>1</td>\n",
              "      <td>1</td>\n",
              "      <td>2.479</td>\n",
              "      <td>5.8</td>\n",
              "    </tr>\n",
              "    <tr>\n",
              "      <th>2016-09-07</th>\n",
              "      <td>10</td>\n",
              "      <td>20.813</td>\n",
              "      <td>Wed</td>\n",
              "      <td>251</td>\n",
              "      <td>36</td>\n",
              "      <td>Sep</td>\n",
              "      <td>2016</td>\n",
              "      <td>0</td>\n",
              "      <td>0</td>\n",
              "      <td>0</td>\n",
              "      <td>...</td>\n",
              "      <td>0</td>\n",
              "      <td>0</td>\n",
              "      <td>0</td>\n",
              "      <td>0</td>\n",
              "      <td>1</td>\n",
              "      <td>1</td>\n",
              "      <td>1</td>\n",
              "      <td>1</td>\n",
              "      <td>2.479</td>\n",
              "      <td>5.8</td>\n",
              "    </tr>\n",
              "    <tr>\n",
              "      <th>2016-09-08</th>\n",
              "      <td>11</td>\n",
              "      <td>21.648</td>\n",
              "      <td>Thu</td>\n",
              "      <td>252</td>\n",
              "      <td>36</td>\n",
              "      <td>Sep</td>\n",
              "      <td>2016</td>\n",
              "      <td>0</td>\n",
              "      <td>0</td>\n",
              "      <td>0</td>\n",
              "      <td>...</td>\n",
              "      <td>0</td>\n",
              "      <td>0</td>\n",
              "      <td>0</td>\n",
              "      <td>0</td>\n",
              "      <td>0</td>\n",
              "      <td>0</td>\n",
              "      <td>0</td>\n",
              "      <td>0</td>\n",
              "      <td>2.479</td>\n",
              "      <td>5.8</td>\n",
              "    </tr>\n",
              "    <tr>\n",
              "      <th>2016-09-09</th>\n",
              "      <td>12</td>\n",
              "      <td>21.118</td>\n",
              "      <td>Fri</td>\n",
              "      <td>253</td>\n",
              "      <td>37</td>\n",
              "      <td>Sep</td>\n",
              "      <td>2016</td>\n",
              "      <td>0</td>\n",
              "      <td>0</td>\n",
              "      <td>0</td>\n",
              "      <td>...</td>\n",
              "      <td>0</td>\n",
              "      <td>0</td>\n",
              "      <td>0</td>\n",
              "      <td>0</td>\n",
              "      <td>1</td>\n",
              "      <td>1</td>\n",
              "      <td>1</td>\n",
              "      <td>1</td>\n",
              "      <td>2.556</td>\n",
              "      <td>5.8</td>\n",
              "    </tr>\n",
              "    <tr>\n",
              "      <th>2016-09-10</th>\n",
              "      <td>13</td>\n",
              "      <td>6.203</td>\n",
              "      <td>Sat</td>\n",
              "      <td>254</td>\n",
              "      <td>37</td>\n",
              "      <td>Sep</td>\n",
              "      <td>2016</td>\n",
              "      <td>0</td>\n",
              "      <td>0</td>\n",
              "      <td>0</td>\n",
              "      <td>...</td>\n",
              "      <td>0</td>\n",
              "      <td>0</td>\n",
              "      <td>0</td>\n",
              "      <td>0</td>\n",
              "      <td>1</td>\n",
              "      <td>1</td>\n",
              "      <td>1</td>\n",
              "      <td>1</td>\n",
              "      <td>2.556</td>\n",
              "      <td>5.8</td>\n",
              "    </tr>\n",
              "    <tr>\n",
              "      <th>2016-09-11</th>\n",
              "      <td>14</td>\n",
              "      <td>5.333</td>\n",
              "      <td>Sun</td>\n",
              "      <td>255</td>\n",
              "      <td>37</td>\n",
              "      <td>Sep</td>\n",
              "      <td>2016</td>\n",
              "      <td>0</td>\n",
              "      <td>0</td>\n",
              "      <td>0</td>\n",
              "      <td>...</td>\n",
              "      <td>0</td>\n",
              "      <td>0</td>\n",
              "      <td>1</td>\n",
              "      <td>0</td>\n",
              "      <td>1</td>\n",
              "      <td>1</td>\n",
              "      <td>1</td>\n",
              "      <td>1</td>\n",
              "      <td>2.556</td>\n",
              "      <td>5.8</td>\n",
              "    </tr>\n",
              "  </tbody>\n",
              "</table>\n",
              "<p>14 rows × 1092 columns</p>\n",
              "</div>\n",
              "      <button class=\"colab-df-convert\" onclick=\"convertToInteractive('df-d043c100-53cd-4c18-860a-c15ff550174d')\"\n",
              "              title=\"Convert this dataframe to an interactive table.\"\n",
              "              style=\"display:none;\">\n",
              "        \n",
              "  <svg xmlns=\"http://www.w3.org/2000/svg\" height=\"24px\"viewBox=\"0 0 24 24\"\n",
              "       width=\"24px\">\n",
              "    <path d=\"M0 0h24v24H0V0z\" fill=\"none\"/>\n",
              "    <path d=\"M18.56 5.44l.94 2.06.94-2.06 2.06-.94-2.06-.94-.94-2.06-.94 2.06-2.06.94zm-11 1L8.5 8.5l.94-2.06 2.06-.94-2.06-.94L8.5 2.5l-.94 2.06-2.06.94zm10 10l.94 2.06.94-2.06 2.06-.94-2.06-.94-.94-2.06-.94 2.06-2.06.94z\"/><path d=\"M17.41 7.96l-1.37-1.37c-.4-.4-.92-.59-1.43-.59-.52 0-1.04.2-1.43.59L10.3 9.45l-7.72 7.72c-.78.78-.78 2.05 0 2.83L4 21.41c.39.39.9.59 1.41.59.51 0 1.02-.2 1.41-.59l7.78-7.78 2.81-2.81c.8-.78.8-2.07 0-2.86zM5.41 20L4 18.59l7.72-7.72 1.47 1.35L5.41 20z\"/>\n",
              "  </svg>\n",
              "      </button>\n",
              "      \n",
              "  <style>\n",
              "    .colab-df-container {\n",
              "      display:flex;\n",
              "      flex-wrap:wrap;\n",
              "      gap: 12px;\n",
              "    }\n",
              "\n",
              "    .colab-df-convert {\n",
              "      background-color: #E8F0FE;\n",
              "      border: none;\n",
              "      border-radius: 50%;\n",
              "      cursor: pointer;\n",
              "      display: none;\n",
              "      fill: #1967D2;\n",
              "      height: 32px;\n",
              "      padding: 0 0 0 0;\n",
              "      width: 32px;\n",
              "    }\n",
              "\n",
              "    .colab-df-convert:hover {\n",
              "      background-color: #E2EBFA;\n",
              "      box-shadow: 0px 1px 2px rgba(60, 64, 67, 0.3), 0px 1px 3px 1px rgba(60, 64, 67, 0.15);\n",
              "      fill: #174EA6;\n",
              "    }\n",
              "\n",
              "    [theme=dark] .colab-df-convert {\n",
              "      background-color: #3B4455;\n",
              "      fill: #D2E3FC;\n",
              "    }\n",
              "\n",
              "    [theme=dark] .colab-df-convert:hover {\n",
              "      background-color: #434B5C;\n",
              "      box-shadow: 0px 1px 3px 1px rgba(0, 0, 0, 0.15);\n",
              "      filter: drop-shadow(0px 1px 2px rgba(0, 0, 0, 0.3));\n",
              "      fill: #FFFFFF;\n",
              "    }\n",
              "  </style>\n",
              "\n",
              "      <script>\n",
              "        const buttonEl =\n",
              "          document.querySelector('#df-d043c100-53cd-4c18-860a-c15ff550174d button.colab-df-convert');\n",
              "        buttonEl.style.display =\n",
              "          google.colab.kernel.accessAllowed ? 'block' : 'none';\n",
              "\n",
              "        async function convertToInteractive(key) {\n",
              "          const element = document.querySelector('#df-d043c100-53cd-4c18-860a-c15ff550174d');\n",
              "          const dataTable =\n",
              "            await google.colab.kernel.invokeFunction('convertToInteractive',\n",
              "                                                     [key], {});\n",
              "          if (!dataTable) return;\n",
              "\n",
              "          const docLinkHtml = 'Like what you see? Visit the ' +\n",
              "            '<a target=\"_blank\" href=https://colab.research.google.com/notebooks/data_table.ipynb>data table notebook</a>'\n",
              "            + ' to learn more about interactive tables.';\n",
              "          element.innerHTML = '';\n",
              "          dataTable['output_type'] = 'display_data';\n",
              "          await google.colab.output.renderOutput(dataTable, element);\n",
              "          const docLink = document.createElement('div');\n",
              "          docLink.innerHTML = docLinkHtml;\n",
              "          element.appendChild(docLink);\n",
              "        }\n",
              "      </script>\n",
              "    </div>\n",
              "  </div>\n",
              "  "
            ]
          },
          "metadata": {},
          "execution_count": 42
        }
      ]
    },
    {
      "cell_type": "code",
      "source": [
        "testing.shape"
      ],
      "metadata": {
        "colab": {
          "base_uri": "https://localhost:8080/"
        },
        "id": "huMAbsY-CgW_",
        "outputId": "9ebecd7c-7620-44eb-d1a1-bd89a8c13109"
      },
      "execution_count": 55,
      "outputs": [
        {
          "output_type": "execute_result",
          "data": {
            "text/plain": [
              "(14, 1092)"
            ]
          },
          "metadata": {},
          "execution_count": 55
        }
      ]
    },
    {
      "cell_type": "code",
      "metadata": {
        "id": "d4bz6mgmtH5E",
        "colab": {
          "base_uri": "https://localhost:8080/",
          "height": 253
        },
        "outputId": "3700805d-0f68-4a25-fd65-ad5438f7e93d"
      },
      "source": [
        "weekends = training[training['dow'].isin(['Sat','Sun'])].filter(regex=(\"(l14_[0-9]|s_40380)\"), axis=1).copy()\n",
        "print(weekends.to_numpy().shape)\n",
        "weekends.head()"
      ],
      "execution_count": 43,
      "outputs": [
        {
          "output_type": "stream",
          "name": "stdout",
          "text": [
            "(1628, 126)\n"
          ]
        },
        {
          "output_type": "execute_result",
          "data": {
            "text/plain": [
              "    s_40380  l14_40010  l14_40020  l14_40030  l14_40040  l14_40050  l14_40060  \\\n",
              "6     2.425      0.693      1.610      0.889      0.911      2.704      2.274   \n",
              "7     1.467      0.408      0.882      0.601      0.414      1.468      1.631   \n",
              "13    2.477      0.663      1.640      0.880      0.914      2.422      2.280   \n",
              "14    1.556      0.411      0.873      0.580      0.454      1.471      1.639   \n",
              "20    2.432      0.677      1.729      0.929      0.914      2.573      2.317   \n",
              "\n",
              "    l14_40070  l14_40080  l14_40090  ...  l14_41400  l14_41410  l14_41420  \\\n",
              "6       1.954      2.733      0.994  ...      3.370      0.661      3.079   \n",
              "7       0.978      1.843      0.565  ...      2.292      0.389      2.170   \n",
              "13      1.852      2.675      1.046  ...      3.105      0.635      2.863   \n",
              "14      1.015      1.821      0.533  ...      2.183      0.371      2.025   \n",
              "20      1.820      2.550      1.058  ...      3.138      0.719      2.922   \n",
              "\n",
              "    l14_41440  l14_41450  l14_41460  l14_41480  l14_41490  l14_41500  \\\n",
              "6       0.662      9.386      0.953      1.646      1.367      0.912   \n",
              "7       0.270      6.490      0.486      0.909      0.887      0.567   \n",
              "13      0.642      9.332      0.932      1.582      1.204      0.949   \n",
              "14      0.312      6.016      0.488      0.920      0.661      0.491   \n",
              "20      0.634      9.301      0.883      1.642      1.048      0.905   \n",
              "\n",
              "    l14_41660  \n",
              "6       5.605  \n",
              "7       3.662  \n",
              "13      5.734  \n",
              "14      3.759  \n",
              "20      6.104  \n",
              "\n",
              "[5 rows x 126 columns]"
            ],
            "text/html": [
              "\n",
              "  <div id=\"df-02cda4da-4196-4b46-ba12-1755a24cd876\">\n",
              "    <div class=\"colab-df-container\">\n",
              "      <div>\n",
              "<style scoped>\n",
              "    .dataframe tbody tr th:only-of-type {\n",
              "        vertical-align: middle;\n",
              "    }\n",
              "\n",
              "    .dataframe tbody tr th {\n",
              "        vertical-align: top;\n",
              "    }\n",
              "\n",
              "    .dataframe thead th {\n",
              "        text-align: right;\n",
              "    }\n",
              "</style>\n",
              "<table border=\"1\" class=\"dataframe\">\n",
              "  <thead>\n",
              "    <tr style=\"text-align: right;\">\n",
              "      <th></th>\n",
              "      <th>s_40380</th>\n",
              "      <th>l14_40010</th>\n",
              "      <th>l14_40020</th>\n",
              "      <th>l14_40030</th>\n",
              "      <th>l14_40040</th>\n",
              "      <th>l14_40050</th>\n",
              "      <th>l14_40060</th>\n",
              "      <th>l14_40070</th>\n",
              "      <th>l14_40080</th>\n",
              "      <th>l14_40090</th>\n",
              "      <th>...</th>\n",
              "      <th>l14_41400</th>\n",
              "      <th>l14_41410</th>\n",
              "      <th>l14_41420</th>\n",
              "      <th>l14_41440</th>\n",
              "      <th>l14_41450</th>\n",
              "      <th>l14_41460</th>\n",
              "      <th>l14_41480</th>\n",
              "      <th>l14_41490</th>\n",
              "      <th>l14_41500</th>\n",
              "      <th>l14_41660</th>\n",
              "    </tr>\n",
              "  </thead>\n",
              "  <tbody>\n",
              "    <tr>\n",
              "      <th>6</th>\n",
              "      <td>2.425</td>\n",
              "      <td>0.693</td>\n",
              "      <td>1.610</td>\n",
              "      <td>0.889</td>\n",
              "      <td>0.911</td>\n",
              "      <td>2.704</td>\n",
              "      <td>2.274</td>\n",
              "      <td>1.954</td>\n",
              "      <td>2.733</td>\n",
              "      <td>0.994</td>\n",
              "      <td>...</td>\n",
              "      <td>3.370</td>\n",
              "      <td>0.661</td>\n",
              "      <td>3.079</td>\n",
              "      <td>0.662</td>\n",
              "      <td>9.386</td>\n",
              "      <td>0.953</td>\n",
              "      <td>1.646</td>\n",
              "      <td>1.367</td>\n",
              "      <td>0.912</td>\n",
              "      <td>5.605</td>\n",
              "    </tr>\n",
              "    <tr>\n",
              "      <th>7</th>\n",
              "      <td>1.467</td>\n",
              "      <td>0.408</td>\n",
              "      <td>0.882</td>\n",
              "      <td>0.601</td>\n",
              "      <td>0.414</td>\n",
              "      <td>1.468</td>\n",
              "      <td>1.631</td>\n",
              "      <td>0.978</td>\n",
              "      <td>1.843</td>\n",
              "      <td>0.565</td>\n",
              "      <td>...</td>\n",
              "      <td>2.292</td>\n",
              "      <td>0.389</td>\n",
              "      <td>2.170</td>\n",
              "      <td>0.270</td>\n",
              "      <td>6.490</td>\n",
              "      <td>0.486</td>\n",
              "      <td>0.909</td>\n",
              "      <td>0.887</td>\n",
              "      <td>0.567</td>\n",
              "      <td>3.662</td>\n",
              "    </tr>\n",
              "    <tr>\n",
              "      <th>13</th>\n",
              "      <td>2.477</td>\n",
              "      <td>0.663</td>\n",
              "      <td>1.640</td>\n",
              "      <td>0.880</td>\n",
              "      <td>0.914</td>\n",
              "      <td>2.422</td>\n",
              "      <td>2.280</td>\n",
              "      <td>1.852</td>\n",
              "      <td>2.675</td>\n",
              "      <td>1.046</td>\n",
              "      <td>...</td>\n",
              "      <td>3.105</td>\n",
              "      <td>0.635</td>\n",
              "      <td>2.863</td>\n",
              "      <td>0.642</td>\n",
              "      <td>9.332</td>\n",
              "      <td>0.932</td>\n",
              "      <td>1.582</td>\n",
              "      <td>1.204</td>\n",
              "      <td>0.949</td>\n",
              "      <td>5.734</td>\n",
              "    </tr>\n",
              "    <tr>\n",
              "      <th>14</th>\n",
              "      <td>1.556</td>\n",
              "      <td>0.411</td>\n",
              "      <td>0.873</td>\n",
              "      <td>0.580</td>\n",
              "      <td>0.454</td>\n",
              "      <td>1.471</td>\n",
              "      <td>1.639</td>\n",
              "      <td>1.015</td>\n",
              "      <td>1.821</td>\n",
              "      <td>0.533</td>\n",
              "      <td>...</td>\n",
              "      <td>2.183</td>\n",
              "      <td>0.371</td>\n",
              "      <td>2.025</td>\n",
              "      <td>0.312</td>\n",
              "      <td>6.016</td>\n",
              "      <td>0.488</td>\n",
              "      <td>0.920</td>\n",
              "      <td>0.661</td>\n",
              "      <td>0.491</td>\n",
              "      <td>3.759</td>\n",
              "    </tr>\n",
              "    <tr>\n",
              "      <th>20</th>\n",
              "      <td>2.432</td>\n",
              "      <td>0.677</td>\n",
              "      <td>1.729</td>\n",
              "      <td>0.929</td>\n",
              "      <td>0.914</td>\n",
              "      <td>2.573</td>\n",
              "      <td>2.317</td>\n",
              "      <td>1.820</td>\n",
              "      <td>2.550</td>\n",
              "      <td>1.058</td>\n",
              "      <td>...</td>\n",
              "      <td>3.138</td>\n",
              "      <td>0.719</td>\n",
              "      <td>2.922</td>\n",
              "      <td>0.634</td>\n",
              "      <td>9.301</td>\n",
              "      <td>0.883</td>\n",
              "      <td>1.642</td>\n",
              "      <td>1.048</td>\n",
              "      <td>0.905</td>\n",
              "      <td>6.104</td>\n",
              "    </tr>\n",
              "  </tbody>\n",
              "</table>\n",
              "<p>5 rows × 126 columns</p>\n",
              "</div>\n",
              "      <button class=\"colab-df-convert\" onclick=\"convertToInteractive('df-02cda4da-4196-4b46-ba12-1755a24cd876')\"\n",
              "              title=\"Convert this dataframe to an interactive table.\"\n",
              "              style=\"display:none;\">\n",
              "        \n",
              "  <svg xmlns=\"http://www.w3.org/2000/svg\" height=\"24px\"viewBox=\"0 0 24 24\"\n",
              "       width=\"24px\">\n",
              "    <path d=\"M0 0h24v24H0V0z\" fill=\"none\"/>\n",
              "    <path d=\"M18.56 5.44l.94 2.06.94-2.06 2.06-.94-2.06-.94-.94-2.06-.94 2.06-2.06.94zm-11 1L8.5 8.5l.94-2.06 2.06-.94-2.06-.94L8.5 2.5l-.94 2.06-2.06.94zm10 10l.94 2.06.94-2.06 2.06-.94-2.06-.94-.94-2.06-.94 2.06-2.06.94z\"/><path d=\"M17.41 7.96l-1.37-1.37c-.4-.4-.92-.59-1.43-.59-.52 0-1.04.2-1.43.59L10.3 9.45l-7.72 7.72c-.78.78-.78 2.05 0 2.83L4 21.41c.39.39.9.59 1.41.59.51 0 1.02-.2 1.41-.59l7.78-7.78 2.81-2.81c.8-.78.8-2.07 0-2.86zM5.41 20L4 18.59l7.72-7.72 1.47 1.35L5.41 20z\"/>\n",
              "  </svg>\n",
              "      </button>\n",
              "      \n",
              "  <style>\n",
              "    .colab-df-container {\n",
              "      display:flex;\n",
              "      flex-wrap:wrap;\n",
              "      gap: 12px;\n",
              "    }\n",
              "\n",
              "    .colab-df-convert {\n",
              "      background-color: #E8F0FE;\n",
              "      border: none;\n",
              "      border-radius: 50%;\n",
              "      cursor: pointer;\n",
              "      display: none;\n",
              "      fill: #1967D2;\n",
              "      height: 32px;\n",
              "      padding: 0 0 0 0;\n",
              "      width: 32px;\n",
              "    }\n",
              "\n",
              "    .colab-df-convert:hover {\n",
              "      background-color: #E2EBFA;\n",
              "      box-shadow: 0px 1px 2px rgba(60, 64, 67, 0.3), 0px 1px 3px 1px rgba(60, 64, 67, 0.15);\n",
              "      fill: #174EA6;\n",
              "    }\n",
              "\n",
              "    [theme=dark] .colab-df-convert {\n",
              "      background-color: #3B4455;\n",
              "      fill: #D2E3FC;\n",
              "    }\n",
              "\n",
              "    [theme=dark] .colab-df-convert:hover {\n",
              "      background-color: #434B5C;\n",
              "      box-shadow: 0px 1px 3px 1px rgba(0, 0, 0, 0.15);\n",
              "      filter: drop-shadow(0px 1px 2px rgba(0, 0, 0, 0.3));\n",
              "      fill: #FFFFFF;\n",
              "    }\n",
              "  </style>\n",
              "\n",
              "      <script>\n",
              "        const buttonEl =\n",
              "          document.querySelector('#df-02cda4da-4196-4b46-ba12-1755a24cd876 button.colab-df-convert');\n",
              "        buttonEl.style.display =\n",
              "          google.colab.kernel.accessAllowed ? 'block' : 'none';\n",
              "\n",
              "        async function convertToInteractive(key) {\n",
              "          const element = document.querySelector('#df-02cda4da-4196-4b46-ba12-1755a24cd876');\n",
              "          const dataTable =\n",
              "            await google.colab.kernel.invokeFunction('convertToInteractive',\n",
              "                                                     [key], {});\n",
              "          if (!dataTable) return;\n",
              "\n",
              "          const docLinkHtml = 'Like what you see? Visit the ' +\n",
              "            '<a target=\"_blank\" href=https://colab.research.google.com/notebooks/data_table.ipynb>data table notebook</a>'\n",
              "            + ' to learn more about interactive tables.';\n",
              "          element.innerHTML = '';\n",
              "          dataTable['output_type'] = 'display_data';\n",
              "          await google.colab.output.renderOutput(dataTable, element);\n",
              "          const docLink = document.createElement('div');\n",
              "          docLink.innerHTML = docLinkHtml;\n",
              "          element.appendChild(docLink);\n",
              "        }\n",
              "      </script>\n",
              "    </div>\n",
              "  </div>\n",
              "  "
            ]
          },
          "metadata": {},
          "execution_count": 43
        }
      ]
    },
    {
      "cell_type": "code",
      "metadata": {
        "id": "TyeUt84qtJ2k",
        "colab": {
          "base_uri": "https://localhost:8080/"
        },
        "outputId": "73d0b0bd-3d23-40da-c07c-8ec36196df5c"
      },
      "source": [
        "weekend_days = train_days[train_days.index.dayofweek>4].copy()\n",
        "print(weekend_days.index[0])\n",
        "print(weekend_days.index[-1])\n",
        "print(len(weekend_days))"
      ],
      "execution_count": 44,
      "outputs": [
        {
          "output_type": "stream",
          "name": "stdout",
          "text": [
            "2001-01-27 00:00:00\n",
            "2016-08-28 00:00:00\n",
            "1628\n"
          ]
        }
      ]
    },
    {
      "cell_type": "markdown",
      "metadata": {
        "id": "0Ox0ZTg_8dSM"
      },
      "source": [
        "Utilizaremos a manera de ejemplo una librería para validación de series de tiempo [tscv](https://github.com/WenjieZ/TSCV) [Artículo informativo](https://www.zhengwenjie.net/tscv/)"
      ]
    },
    {
      "cell_type": "code",
      "metadata": {
        "id": "HFnZY2zk0cYs",
        "colab": {
          "base_uri": "https://localhost:8080/"
        },
        "outputId": "abc88ab5-b549-4b09-e2f4-be2867810ac0"
      },
      "source": [
        "!pip install tscv"
      ],
      "execution_count": 45,
      "outputs": [
        {
          "output_type": "stream",
          "name": "stdout",
          "text": [
            "Looking in indexes: https://pypi.org/simple, https://us-python.pkg.dev/colab-wheels/public/simple/\n",
            "Collecting tscv\n",
            "  Downloading tscv-0.1.3-py3-none-any.whl (12 kB)\n",
            "Requirement already satisfied: numpy>=1.13.3 in /usr/local/lib/python3.10/dist-packages (from tscv) (1.22.4)\n",
            "Requirement already satisfied: scikit-learn>=0.22 in /usr/local/lib/python3.10/dist-packages (from tscv) (1.2.2)\n",
            "Requirement already satisfied: scipy>=1.3.2 in /usr/local/lib/python3.10/dist-packages (from scikit-learn>=0.22->tscv) (1.10.1)\n",
            "Requirement already satisfied: joblib>=1.1.1 in /usr/local/lib/python3.10/dist-packages (from scikit-learn>=0.22->tscv) (1.2.0)\n",
            "Requirement already satisfied: threadpoolctl>=2.0.0 in /usr/local/lib/python3.10/dist-packages (from scikit-learn>=0.22->tscv) (3.1.0)\n",
            "Installing collected packages: tscv\n",
            "Successfully installed tscv-0.1.3\n"
          ]
        }
      ]
    },
    {
      "cell_type": "code",
      "metadata": {
        "id": "6_AknX42tJ5M"
      },
      "source": [
        "from tscv import GapRollForward"
      ],
      "execution_count": 46,
      "outputs": []
    },
    {
      "cell_type": "code",
      "metadata": {
        "id": "wgnP9tvstJ8Y"
      },
      "source": [
        "ts_cv= GapRollForward(min_train_size=1600,min_test_size=4,max_test_size= 4,roll_size=1)"
      ],
      "execution_count": 47,
      "outputs": []
    },
    {
      "cell_type": "code",
      "metadata": {
        "id": "9h6pFzJ4xpKO",
        "colab": {
          "base_uri": "https://localhost:8080/"
        },
        "outputId": "f2348a42-2251-4ed4-eafe-3bd9901e221b"
      },
      "source": [
        "i=1\n",
        "for train_index, test_index in ts_cv.split( weekend_days):\n",
        "  print(f'Training Split {i}: {train_index.shape} -- Testing Split {i}: {test_index.shape}')\n",
        "  i=i+1\n",
        "  # print(train_index[0])\n",
        "  # print(train_index[-1])\n",
        "  # print(test_index[0])\n",
        "  # print(test_index[-1])\n"
      ],
      "execution_count": 48,
      "outputs": [
        {
          "output_type": "stream",
          "name": "stdout",
          "text": [
            "Training Split 1: (1600,) -- Testing Split 1: (4,)\n",
            "Training Split 2: (1601,) -- Testing Split 2: (4,)\n",
            "Training Split 3: (1602,) -- Testing Split 3: (4,)\n",
            "Training Split 4: (1603,) -- Testing Split 4: (4,)\n",
            "Training Split 5: (1604,) -- Testing Split 5: (4,)\n",
            "Training Split 6: (1605,) -- Testing Split 6: (4,)\n",
            "Training Split 7: (1606,) -- Testing Split 7: (4,)\n",
            "Training Split 8: (1607,) -- Testing Split 8: (4,)\n",
            "Training Split 9: (1608,) -- Testing Split 9: (4,)\n",
            "Training Split 10: (1609,) -- Testing Split 10: (4,)\n",
            "Training Split 11: (1610,) -- Testing Split 11: (4,)\n",
            "Training Split 12: (1611,) -- Testing Split 12: (4,)\n",
            "Training Split 13: (1612,) -- Testing Split 13: (4,)\n",
            "Training Split 14: (1613,) -- Testing Split 14: (4,)\n",
            "Training Split 15: (1614,) -- Testing Split 15: (4,)\n",
            "Training Split 16: (1615,) -- Testing Split 16: (4,)\n",
            "Training Split 17: (1616,) -- Testing Split 17: (4,)\n",
            "Training Split 18: (1617,) -- Testing Split 18: (4,)\n",
            "Training Split 19: (1618,) -- Testing Split 19: (4,)\n",
            "Training Split 20: (1619,) -- Testing Split 20: (4,)\n",
            "Training Split 21: (1620,) -- Testing Split 21: (4,)\n",
            "Training Split 22: (1621,) -- Testing Split 22: (4,)\n",
            "Training Split 23: (1622,) -- Testing Split 23: (4,)\n",
            "Training Split 24: (1623,) -- Testing Split 24: (4,)\n",
            "Training Split 25: (1624,) -- Testing Split 25: (4,)\n"
          ]
        }
      ]
    },
    {
      "cell_type": "code",
      "metadata": {
        "id": "-viIdkCY2tr4"
      },
      "source": [
        "# Taken from https://scikit-learn.org/stable/auto_examples/model_selection/plot_cv_indices.html#sphx-glr-auto-examples-model-selection-plot-cv-indices-py \n",
        "from matplotlib.patches import Patch\n",
        "cmap_data = plt.cm.Paired\n",
        "cmap_cv = plt.cm.coolwarm\n",
        "n_splits = 25\n",
        "def plot_cv_indices(cv, X, y,  ax, n_splits, lw=10):\n",
        "    \"\"\"Create a sample plot for indices of a cross-validation object.\"\"\"\n",
        "\n",
        "    # Generate the training/testing visualizations for each CV split\n",
        "    for ii, (tr, tt) in enumerate(cv.split(X=X)):\n",
        "        # Fill in indices with the training/test groups\n",
        "        indices = np.array([np.nan] * len(X))\n",
        "        indices[tt] = 1\n",
        "        indices[tr] = 0\n",
        "\n",
        "        # Visualize the results\n",
        "        x_labels = [weekend_days.index[idx].strftime('%Y-%m-%d') for idx in range(len(indices))]        \n",
        "       #print(len(x_labels))\n",
        "       # print(len([ii + .5] * len(indices)))\n",
        "        ax.scatter(x_labels, [ii + .5] * len(indices),\n",
        "                   c=indices, marker='_', lw=lw, cmap=cmap_cv,\n",
        "                   vmin=-.2, vmax=1.2)\n",
        "\n",
        "\n",
        "    # Formatting\n",
        "    yticklabels = list(range(n_splits)) \n",
        "    ax.set(yticks=np.arange(n_splits) + .5, yticklabels=yticklabels,\n",
        "           xlabel='Sample index', ylabel=\"CV iteration\",\n",
        "             xlim=[1585, 1630])\n",
        "    ax.set_title('{}'.format(type(cv).__name__), fontsize=15)\n",
        "    plt.xticks(rotation='vertical')\n",
        "    return ax"
      ],
      "execution_count": 56,
      "outputs": []
    },
    {
      "cell_type": "code",
      "metadata": {
        "id": "CC-wD8NGxpNY",
        "colab": {
          "base_uri": "https://localhost:8080/",
          "height": 607
        },
        "outputId": "f9a7c8cb-57ea-4dee-857d-168c9f859b21"
      },
      "source": [
        "groups = np.hstack([[ii] * 25 for ii in range(25)])\n",
        "fig, ax = plt.subplots(figsize=(16, 6))\n",
        "plot_cv_indices(ts_cv, weekends, None,  ax, n_splits)\n",
        "\n",
        "ax.legend([Patch(color=cmap_cv(.8)), Patch(color=cmap_cv(.02))],\n",
        "          ['Testing set', 'Training set'], loc=(1.02, .8))\n",
        "# Make the legend fit\n",
        "plt.tight_layout()"
      ],
      "execution_count": 57,
      "outputs": [
        {
          "output_type": "display_data",
          "data": {
            "text/plain": [
              "<Figure size 1600x600 with 1 Axes>"
            ],
            "image/png": "[encoded data removed]"
          },
          "metadata": {}
        }
      ]
    },
    {
      "cell_type": "code",
      "metadata": {
        "id": "Q_qsXtN7xpQT",
        "colab": {
          "base_uri": "https://localhost:8080/",
          "height": 236
        },
        "outputId": "13379402-1523-402f-e080-88bdf7a47001"
      },
      "source": [
        "X_train = weekends.drop(['s_40380'],axis=1) # Variables predictoras X\n",
        "X_train.head()"
      ],
      "execution_count": 58,
      "outputs": [
        {
          "output_type": "execute_result",
          "data": {
            "text/plain": [
              "    l14_40010  l14_40020  l14_40030  l14_40040  l14_40050  l14_40060  \\\n",
              "6       0.693      1.610      0.889      0.911      2.704      2.274   \n",
              "7       0.408      0.882      0.601      0.414      1.468      1.631   \n",
              "13      0.663      1.640      0.880      0.914      2.422      2.280   \n",
              "14      0.411      0.873      0.580      0.454      1.471      1.639   \n",
              "20      0.677      1.729      0.929      0.914      2.573      2.317   \n",
              "\n",
              "    l14_40070  l14_40080  l14_40090  l14_40100  ...  l14_41400  l14_41410  \\\n",
              "6       1.954      2.733      0.994      3.023  ...      3.370      0.661   \n",
              "7       0.978      1.843      0.565      2.195  ...      2.292      0.389   \n",
              "13      1.852      2.675      1.046      3.104  ...      3.105      0.635   \n",
              "14      1.015      1.821      0.533      2.171  ...      2.183      0.371   \n",
              "20      1.820      2.550      1.058      3.110  ...      3.138      0.719   \n",
              "\n",
              "    l14_41420  l14_41440  l14_41450  l14_41460  l14_41480  l14_41490  \\\n",
              "6       3.079      0.662      9.386      0.953      1.646      1.367   \n",
              "7       2.170      0.270      6.490      0.486      0.909      0.887   \n",
              "13      2.863      0.642      9.332      0.932      1.582      1.204   \n",
              "14      2.025      0.312      6.016      0.488      0.920      0.661   \n",
              "20      2.922      0.634      9.301      0.883      1.642      1.048   \n",
              "\n",
              "    l14_41500  l14_41660  \n",
              "6       0.912      5.605  \n",
              "7       0.567      3.662  \n",
              "13      0.949      5.734  \n",
              "14      0.491      3.759  \n",
              "20      0.905      6.104  \n",
              "\n",
              "[5 rows x 125 columns]"
            ],
            "text/html": [
              "\n",
              "  <div id=\"df-066be1db-d57d-45ef-b5b9-562876fd0a19\">\n",
              "    <div class=\"colab-df-container\">\n",
              "      <div>\n",
              "<style scoped>\n",
              "    .dataframe tbody tr th:only-of-type {\n",
              "        vertical-align: middle;\n",
              "    }\n",
              "\n",
              "    .dataframe tbody tr th {\n",
              "        vertical-align: top;\n",
              "    }\n",
              "\n",
              "    .dataframe thead th {\n",
              "        text-align: right;\n",
              "    }\n",
              "</style>\n",
              "<table border=\"1\" class=\"dataframe\">\n",
              "  <thead>\n",
              "    <tr style=\"text-align: right;\">\n",
              "      <th></th>\n",
              "      <th>l14_40010</th>\n",
              "      <th>l14_40020</th>\n",
              "      <th>l14_40030</th>\n",
              "      <th>l14_40040</th>\n",
              "      <th>l14_40050</th>\n",
              "      <th>l14_40060</th>\n",
              "      <th>l14_40070</th>\n",
              "      <th>l14_40080</th>\n",
              "      <th>l14_40090</th>\n",
              "      <th>l14_40100</th>\n",
              "      <th>...</th>\n",
              "      <th>l14_41400</th>\n",
              "      <th>l14_41410</th>\n",
              "      <th>l14_41420</th>\n",
              "      <th>l14_41440</th>\n",
              "      <th>l14_41450</th>\n",
              "      <th>l14_41460</th>\n",
              "      <th>l14_41480</th>\n",
              "      <th>l14_41490</th>\n",
              "      <th>l14_41500</th>\n",
              "      <th>l14_41660</th>\n",
              "    </tr>\n",
              "  </thead>\n",
              "  <tbody>\n",
              "    <tr>\n",
              "      <th>6</th>\n",
              "      <td>0.693</td>\n",
              "      <td>1.610</td>\n",
              "      <td>0.889</td>\n",
              "      <td>0.911</td>\n",
              "      <td>2.704</td>\n",
              "      <td>2.274</td>\n",
              "      <td>1.954</td>\n",
              "      <td>2.733</td>\n",
              "      <td>0.994</td>\n",
              "      <td>3.023</td>\n",
              "      <td>...</td>\n",
              "      <td>3.370</td>\n",
              "      <td>0.661</td>\n",
              "      <td>3.079</td>\n",
              "      <td>0.662</td>\n",
              "      <td>9.386</td>\n",
              "      <td>0.953</td>\n",
              "      <td>1.646</td>\n",
              "      <td>1.367</td>\n",
              "      <td>0.912</td>\n",
              "      <td>5.605</td>\n",
              "    </tr>\n",
              "    <tr>\n",
              "      <th>7</th>\n",
              "      <td>0.408</td>\n",
              "      <td>0.882</td>\n",
              "      <td>0.601</td>\n",
              "      <td>0.414</td>\n",
              "      <td>1.468</td>\n",
              "      <td>1.631</td>\n",
              "      <td>0.978</td>\n",
              "      <td>1.843</td>\n",
              "      <td>0.565</td>\n",
              "      <td>2.195</td>\n",
              "      <td>...</td>\n",
              "      <td>2.292</td>\n",
              "      <td>0.389</td>\n",
              "      <td>2.170</td>\n",
              "      <td>0.270</td>\n",
              "      <td>6.490</td>\n",
              "      <td>0.486</td>\n",
              "      <td>0.909</td>\n",
              "      <td>0.887</td>\n",
              "      <td>0.567</td>\n",
              "      <td>3.662</td>\n",
              "    </tr>\n",
              "    <tr>\n",
              "      <th>13</th>\n",
              "      <td>0.663</td>\n",
              "      <td>1.640</td>\n",
              "      <td>0.880</td>\n",
              "      <td>0.914</td>\n",
              "      <td>2.422</td>\n",
              "      <td>2.280</td>\n",
              "      <td>1.852</td>\n",
              "      <td>2.675</td>\n",
              "      <td>1.046</td>\n",
              "      <td>3.104</td>\n",
              "      <td>...</td>\n",
              "      <td>3.105</td>\n",
              "      <td>0.635</td>\n",
              "      <td>2.863</td>\n",
              "      <td>0.642</td>\n",
              "      <td>9.332</td>\n",
              "      <td>0.932</td>\n",
              "      <td>1.582</td>\n",
              "      <td>1.204</td>\n",
              "      <td>0.949</td>\n",
              "      <td>5.734</td>\n",
              "    </tr>\n",
              "    <tr>\n",
              "      <th>14</th>\n",
              "      <td>0.411</td>\n",
              "      <td>0.873</td>\n",
              "      <td>0.580</td>\n",
              "      <td>0.454</td>\n",
              "      <td>1.471</td>\n",
              "      <td>1.639</td>\n",
              "      <td>1.015</td>\n",
              "      <td>1.821</td>\n",
              "      <td>0.533</td>\n",
              "      <td>2.171</td>\n",
              "      <td>...</td>\n",
              "      <td>2.183</td>\n",
              "      <td>0.371</td>\n",
              "      <td>2.025</td>\n",
              "      <td>0.312</td>\n",
              "      <td>6.016</td>\n",
              "      <td>0.488</td>\n",
              "      <td>0.920</td>\n",
              "      <td>0.661</td>\n",
              "      <td>0.491</td>\n",
              "      <td>3.759</td>\n",
              "    </tr>\n",
              "    <tr>\n",
              "      <th>20</th>\n",
              "      <td>0.677</td>\n",
              "      <td>1.729</td>\n",
              "      <td>0.929</td>\n",
              "      <td>0.914</td>\n",
              "      <td>2.573</td>\n",
              "      <td>2.317</td>\n",
              "      <td>1.820</td>\n",
              "      <td>2.550</td>\n",
              "      <td>1.058</td>\n",
              "      <td>3.110</td>\n",
              "      <td>...</td>\n",
              "      <td>3.138</td>\n",
              "      <td>0.719</td>\n",
              "      <td>2.922</td>\n",
              "      <td>0.634</td>\n",
              "      <td>9.301</td>\n",
              "      <td>0.883</td>\n",
              "      <td>1.642</td>\n",
              "      <td>1.048</td>\n",
              "      <td>0.905</td>\n",
              "      <td>6.104</td>\n",
              "    </tr>\n",
              "  </tbody>\n",
              "</table>\n",
              "<p>5 rows × 125 columns</p>\n",
              "</div>\n",
              "      <button class=\"colab-df-convert\" onclick=\"convertToInteractive('df-066be1db-d57d-45ef-b5b9-562876fd0a19')\"\n",
              "              title=\"Convert this dataframe to an interactive table.\"\n",
              "              style=\"display:none;\">\n",
              "        \n",
              "  <svg xmlns=\"http://www.w3.org/2000/svg\" height=\"24px\"viewBox=\"0 0 24 24\"\n",
              "       width=\"24px\">\n",
              "    <path d=\"M0 0h24v24H0V0z\" fill=\"none\"/>\n",
              "    <path d=\"M18.56 5.44l.94 2.06.94-2.06 2.06-.94-2.06-.94-.94-2.06-.94 2.06-2.06.94zm-11 1L8.5 8.5l.94-2.06 2.06-.94-2.06-.94L8.5 2.5l-.94 2.06-2.06.94zm10 10l.94 2.06.94-2.06 2.06-.94-2.06-.94-.94-2.06-.94 2.06-2.06.94z\"/><path d=\"M17.41 7.96l-1.37-1.37c-.4-.4-.92-.59-1.43-.59-.52 0-1.04.2-1.43.59L10.3 9.45l-7.72 7.72c-.78.78-.78 2.05 0 2.83L4 21.41c.39.39.9.59 1.41.59.51 0 1.02-.2 1.41-.59l7.78-7.78 2.81-2.81c.8-.78.8-2.07 0-2.86zM5.41 20L4 18.59l7.72-7.72 1.47 1.35L5.41 20z\"/>\n",
              "  </svg>\n",
              "      </button>\n",
              "      \n",
              "  <style>\n",
              "    .colab-df-container {\n",
              "      display:flex;\n",
              "      flex-wrap:wrap;\n",
              "      gap: 12px;\n",
              "    }\n",
              "\n",
              "    .colab-df-convert {\n",
              "      background-color: #E8F0FE;\n",
              "      border: none;\n",
              "      border-radius: 50%;\n",
              "      cursor: pointer;\n",
              "      display: none;\n",
              "      fill: #1967D2;\n",
              "      height: 32px;\n",
              "      padding: 0 0 0 0;\n",
              "      width: 32px;\n",
              "    }\n",
              "\n",
              "    .colab-df-convert:hover {\n",
              "      background-color: #E2EBFA;\n",
              "      box-shadow: 0px 1px 2px rgba(60, 64, 67, 0.3), 0px 1px 3px 1px rgba(60, 64, 67, 0.15);\n",
              "      fill: #174EA6;\n",
              "    }\n",
              "\n",
              "    [theme=dark] .colab-df-convert {\n",
              "      background-color: #3B4455;\n",
              "      fill: #D2E3FC;\n",
              "    }\n",
              "\n",
              "    [theme=dark] .colab-df-convert:hover {\n",
              "      background-color: #434B5C;\n",
              "      box-shadow: 0px 1px 3px 1px rgba(0, 0, 0, 0.15);\n",
              "      filter: drop-shadow(0px 1px 2px rgba(0, 0, 0, 0.3));\n",
              "      fill: #FFFFFF;\n",
              "    }\n",
              "  </style>\n",
              "\n",
              "      <script>\n",
              "        const buttonEl =\n",
              "          document.querySelector('#df-066be1db-d57d-45ef-b5b9-562876fd0a19 button.colab-df-convert');\n",
              "        buttonEl.style.display =\n",
              "          google.colab.kernel.accessAllowed ? 'block' : 'none';\n",
              "\n",
              "        async function convertToInteractive(key) {\n",
              "          const element = document.querySelector('#df-066be1db-d57d-45ef-b5b9-562876fd0a19');\n",
              "          const dataTable =\n",
              "            await google.colab.kernel.invokeFunction('convertToInteractive',\n",
              "                                                     [key], {});\n",
              "          if (!dataTable) return;\n",
              "\n",
              "          const docLinkHtml = 'Like what you see? Visit the ' +\n",
              "            '<a target=\"_blank\" href=https://colab.research.google.com/notebooks/data_table.ipynb>data table notebook</a>'\n",
              "            + ' to learn more about interactive tables.';\n",
              "          element.innerHTML = '';\n",
              "          dataTable['output_type'] = 'display_data';\n",
              "          await google.colab.output.renderOutput(dataTable, element);\n",
              "          const docLink = document.createElement('div');\n",
              "          docLink.innerHTML = docLinkHtml;\n",
              "          element.appendChild(docLink);\n",
              "        }\n",
              "      </script>\n",
              "    </div>\n",
              "  </div>\n",
              "  "
            ]
          },
          "metadata": {},
          "execution_count": 58
        }
      ]
    },
    {
      "cell_type": "code",
      "metadata": {
        "id": "ePSWOZhB-vVv",
        "colab": {
          "base_uri": "https://localhost:8080/"
        },
        "outputId": "22b7d41e-d9f9-4831-86f6-c17316563739"
      },
      "source": [
        "y_train = weekends['s_40380'] # Variable respuesta Y\n",
        "y_train.head()"
      ],
      "execution_count": 59,
      "outputs": [
        {
          "output_type": "execute_result",
          "data": {
            "text/plain": [
              "6     2.425\n",
              "7     1.467\n",
              "13    2.477\n",
              "14    1.556\n",
              "20    2.432\n",
              "Name: s_40380, dtype: float64"
            ]
          },
          "metadata": {},
          "execution_count": 59
        }
      ]
    },
    {
      "cell_type": "markdown",
      "metadata": {
        "id": "Mn5E2PmsIgxF"
      },
      "source": [
        "### Baseline con regresión lineal"
      ]
    },
    {
      "cell_type": "code",
      "metadata": {
        "id": "H74AGyrp-xR1"
      },
      "source": [
        "from sklearn.linear_model import LinearRegression\n",
        "from sklearn.model_selection import cross_val_score, cross_val_predict\n",
        "from sklearn.pipeline import Pipeline"
      ],
      "execution_count": 63,
      "outputs": []
    },
    {
      "cell_type": "code",
      "metadata": {
        "id": "t6ZGtnorAcP1"
      },
      "source": [
        "lr = LinearRegression()"
      ],
      "execution_count": 64,
      "outputs": []
    },
    {
      "cell_type": "code",
      "metadata": {
        "id": "KSGe5yuGAp57",
        "colab": {
          "base_uri": "https://localhost:8080/"
        },
        "outputId": "a1f55b28-310a-4ea6-84b4-47fe52c77f0b"
      },
      "source": [
        "cross_val  = cross_val_score( lr, X_train, y_train, cv=ts_cv, scoring='neg_root_mean_squared_error')\n",
        "print(cross_val*-1)\n",
        "print(f'Mean: {cross_val.mean()*-1}, Std: {cross_val.std()}')"
      ],
      "execution_count": 65,
      "outputs": [
        {
          "output_type": "stream",
          "name": "stdout",
          "text": [
            "[0.72689689 0.78765332 0.70486282 0.76826587 0.77764362 0.57708818\n",
            " 0.73809462 0.70769294 0.72473128 0.71359768 0.76220357 0.75457878\n",
            " 0.69509936 0.58001822 0.57824242 0.5716051  0.59847844 0.66711076\n",
            " 0.52862888 0.67875962 0.68095314 0.59486706 1.02346851 1.00033777\n",
            " 0.95691412]\n",
            "Mean: 0.7159117184517422, Std: 0.12589588137729457\n"
          ]
        }
      ]
    },
    {
      "cell_type": "markdown",
      "metadata": {
        "id": "WH_9wVQKA6wP"
      },
      "source": [
        "### PCA"
      ]
    },
    {
      "cell_type": "code",
      "metadata": {
        "id": "lD15WCT5BvM3"
      },
      "source": [
        "pca_stations = PCA(n_components=20,random_state=6011)"
      ],
      "execution_count": null,
      "outputs": []
    },
    {
      "cell_type": "code",
      "metadata": {
        "id": "69SGJtu2B1ar"
      },
      "source": [
        "pca_stations.fit(X_train)"
      ],
      "execution_count": null,
      "outputs": []
    },
    {
      "cell_type": "code",
      "metadata": {
        "id": "56qoWt7SDjua"
      },
      "source": [
        "print(pca_stations.n_components_)\n",
        "print(pca_stations.components_.shape) #eigenvectors"
      ],
      "execution_count": null,
      "outputs": []
    },
    {
      "cell_type": "code",
      "metadata": {
        "id": "HDO-qtpMSM49"
      },
      "source": [
        "variance_ration_cumsum = np.cumsum(np.pad(pca_stations.explained_variance_ratio_, (1, 0), \"constant\"))\n",
        "variance_ration_cumsum"
      ],
      "execution_count": null,
      "outputs": []
    },
    {
      "cell_type": "code",
      "metadata": {
        "id": "E4WMqOqOQiK5"
      },
      "source": [
        "fig =px.line(x=range(21), y=variance_ration_cumsum, width=500, height=500)\n",
        "fig.update_yaxes(range=[-0.02, 1.02])"
      ],
      "execution_count": null,
      "outputs": []
    },
    {
      "cell_type": "code",
      "metadata": {
        "id": "qvCaZn2PGf6n"
      },
      "source": [
        "projected_pca_stations = pca_stations.transform(X_train)\n",
        "projected_pca_stations = pd.DataFrame(projected_pca_stations, columns=[f'Component{i+1}' for i in range(20)])\n",
        "projected_pca_stations.head()"
      ],
      "execution_count": null,
      "outputs": []
    },
    {
      "cell_type": "code",
      "metadata": {
        "id": "COuY-gC2QnOb"
      },
      "source": [
        "from plotly.subplots import make_subplots"
      ],
      "execution_count": null,
      "outputs": []
    },
    {
      "cell_type": "code",
      "metadata": {
        "id": "fo8IMJH9GN2z"
      },
      "source": [
        "#fig, axes = plt.subplots( nrows=5,n_cols=1)\n",
        "fig = make_subplots( rows=1, cols=5, subplot_titles=[f'Component{i+1}' for i in range(5)],\n",
        "                    column_widths=[50 for i in range(5)], row_heights=[50 ])\n",
        "for i in range(1,6):\n",
        "  scat = px.scatter( data_frame=projected_pca_stations, x=f'Component{i}', \n",
        "  y=y_train, color_discrete_sequence=['black'], opacity=0.3,\n",
        "   trendline='ols' )\n",
        "  fig.add_trace(scat.data[0], col=i, row=1)\n",
        "  fig.add_trace(scat.data[1], col=i, row=1)\n",
        "fig.update_layout(\n",
        "    height=300, width=1500,\n",
        "    margin=dict(l=5, r=5, t=30, b=5),\n",
        ")\n",
        "fig.show()"
      ],
      "execution_count": null,
      "outputs": []
    },
    {
      "cell_type": "markdown",
      "metadata": {
        "id": "us7UeOKOGBEY"
      },
      "source": [
        "## NMF"
      ]
    },
    {
      "cell_type": "code",
      "metadata": {
        "id": "n29Q_51RGFUD"
      },
      "source": [
        "nfm_stations = NMF(n_components=20, random_state=6011)"
      ],
      "execution_count": null,
      "outputs": []
    },
    {
      "cell_type": "code",
      "metadata": {
        "id": "ITzgLXUmGFUD"
      },
      "source": [
        "nfm_stations.fit(X_train)"
      ],
      "execution_count": null,
      "outputs": []
    },
    {
      "cell_type": "code",
      "metadata": {
        "id": "aZf9zvnNGDjE"
      },
      "source": [
        "nfm_stations.reconstruction_err_"
      ],
      "execution_count": null,
      "outputs": []
    },
    {
      "cell_type": "code",
      "metadata": {
        "id": "RuRWIRMPGDlp"
      },
      "source": [
        "projected_nfm_stations = nfm_stations.transform(X_train)\n",
        "projected_nfm_stations = pd.DataFrame(projected_nfm_stations, columns=[f'Component{i+1}' for i in range(20)])\n",
        "projected_nfm_stations.head()"
      ],
      "execution_count": null,
      "outputs": []
    },
    {
      "cell_type": "code",
      "metadata": {
        "id": "FJHBj952GDos"
      },
      "source": [
        "#fig, axes = plt.subplots( nrows=5,n_cols=1)\n",
        "fig = make_subplots( rows=1, cols=15, subplot_titles=[f'Component{i+1}' for i in range(15)],\n",
        "                    column_widths=[50 for i in range(15)], row_heights=[50 ])\n",
        "for i in range(1,15):\n",
        "  scat = px.scatter( data_frame=projected_nfm_stations, x=f'Component{i}', \n",
        "  y=y_train, color_discrete_sequence=['black'], opacity=0.3,\n",
        "   trendline='ols' )\n",
        "  fig.add_trace(scat.data[0], col=i, row=1)\n",
        "  fig.add_trace(scat.data[1], col=i, row=1)\n",
        "fig.update_layout(\n",
        "    height=300, width=2500,\n",
        "    margin=dict(l=5, r=5, t=30, b=5),\n",
        ")\n",
        "fig.show()"
      ],
      "execution_count": null,
      "outputs": []
    },
    {
      "cell_type": "markdown",
      "metadata": {
        "id": "ICkVKfzTWKa8"
      },
      "source": [
        "## PLS"
      ]
    },
    {
      "cell_type": "code",
      "metadata": {
        "id": "RrAHRaaCWM3E"
      },
      "source": [
        "from sklearn.cross_decomposition import PLSCanonical,PLSRegression"
      ],
      "execution_count": null,
      "outputs": []
    },
    {
      "cell_type": "code",
      "metadata": {
        "id": "hxfb3ew1WKa8"
      },
      "source": [
        "pls_stations = PLSRegression(n_components=20 )"
      ],
      "execution_count": null,
      "outputs": []
    },
    {
      "cell_type": "code",
      "metadata": {
        "id": "IwHV4kzQWKa9"
      },
      "source": [
        "pls_stations.fit(X_train,y_train)"
      ],
      "execution_count": null,
      "outputs": []
    },
    {
      "cell_type": "code",
      "metadata": {
        "id": "_33A80nddLTQ"
      },
      "source": [
        "pls_stations.x_scores_"
      ],
      "execution_count": null,
      "outputs": []
    },
    {
      "cell_type": "code",
      "metadata": {
        "id": "NSEoHh6AWKa9"
      },
      "source": [
        "projected_pls_stations = pls_stations.transform(X_train)\n",
        "projected_pls_stations = pd.DataFrame(projected_pls_stations, columns=[f'Component{i+1}' for i in range(20)])\n",
        "projected_pls_stations.head()"
      ],
      "execution_count": null,
      "outputs": []
    },
    {
      "cell_type": "code",
      "metadata": {
        "id": "ZEdenYhAWKa9"
      },
      "source": [
        "#fig, axes = plt.subplots( nrows=5,n_cols=1)\n",
        "fig = make_subplots( rows=1, cols=5, subplot_titles=[f'Component{i+1}' for i in range(5)],\n",
        "                    column_widths=[50 for i in range(5)], row_heights=[50 ])\n",
        "for i in range(1,6):\n",
        "\n",
        "  #PLS\n",
        "  scat3 = px.scatter( data_frame=projected_pls_stations, x=f'Component{i}', \n",
        "  y=y_train, color_discrete_sequence=['black'], opacity=0.3,\n",
        "   trendline='ols' )\n",
        "  fig.add_trace(scat3.data[0], col=i, row=1)\n",
        "  fig.add_trace(scat3.data[1], col=i, row=1)\n",
        "fig.update_layout(\n",
        "    height=300, width=1200,\n",
        "    margin=dict(l=5, r=5, t=30, b=5),\n",
        ")\n",
        "fig.show()"
      ],
      "execution_count": null,
      "outputs": []
    },
    {
      "cell_type": "markdown",
      "metadata": {
        "id": "VeLQWr5DoEJj"
      },
      "source": [
        "### Gráfica de resumen"
      ]
    },
    {
      "cell_type": "code",
      "metadata": {
        "id": "c6or2EYUoEn8"
      },
      "source": [
        "#fig, axes = plt.subplots( nrows=5,n_cols=1)\n",
        "fig = make_subplots( rows=5, cols=3, row_titles=[f'Component{i+1}' for i in range(5)],\n",
        "                     horizontal_spacing=0.01, vertical_spacing=0.01,  shared_xaxes=True,\n",
        "                     column_titles=['PCA', 'NFM', 'PLS'])\n",
        "for i in range(1,6):\n",
        "  #PCA\n",
        "  scat = px.scatter( data_frame=projected_pca_stations, x=f'Component{i}', \n",
        "  y=y_train, color_discrete_sequence=['black'], opacity=0.3,\n",
        "   trendline='ols' )\n",
        "  fig.add_trace(scat.data[0], col=1, row=i)\n",
        "  fig.add_trace(scat.data[1], col=1, row=i)\n",
        "\n",
        "  #NMF\n",
        "  scat2 = px.scatter( data_frame=projected_nfm_stations, x=f'Component{i}', \n",
        "  y=y_train, color_discrete_sequence=['black'], opacity=0.3,\n",
        "   trendline='ols' )\n",
        "  fig.add_trace(scat2.data[0], col=2, row=i)\n",
        "  fig.add_trace(scat2.data[1], col=2, row=i)\n",
        "\n",
        "  #PLS\n",
        "  scat = px.scatter( data_frame=projected_pls_stations, x=f'Component{i}', \n",
        "  y=y_train, color_discrete_sequence=['black'], opacity=0.3,\n",
        "   trendline='ols' )\n",
        "  fig.add_trace(scat.data[0], col=3, row=i)\n",
        "  fig.add_trace(scat.data[1], col=3, row=i)\n",
        "fig.update_layout(\n",
        "    height=900, width=700,\n",
        "    margin=dict(l=5, r=20, t=40, b=5),\n",
        ")\n",
        "fig.show()"
      ],
      "execution_count": null,
      "outputs": []
    },
    {
      "cell_type": "markdown",
      "metadata": {
        "id": "sxwL-GTzFYv_"
      },
      "source": [
        "## Comparando el rendimiento"
      ]
    },
    {
      "cell_type": "code",
      "metadata": {
        "id": "IAR0us8zItn-"
      },
      "source": [
        "pca_lr_pipe = Pipeline([('pca', PCA(n_components=20,random_state=6011)),\n",
        "                   ('lr', LinearRegression())])\n",
        "\n",
        "cross_val_pca  = cross_val_score(pca_lr_pipe, X_train, y_train, cv=ts_cv, scoring='neg_root_mean_squared_error')\n",
        "print(cross_val_pca*-1)\n",
        "print('=================================================')\n",
        "print('Resultado de la regresión lineal utilizando PCA')\n",
        "print(f'Media: {cross_val_pca.mean()*-1}, Std: {cross_val_pca.std()}')"
      ],
      "execution_count": null,
      "outputs": []
    },
    {
      "cell_type": "code",
      "metadata": {
        "id": "sHgGBpzHEoeL"
      },
      "source": [
        "nmf_lr_pipe = Pipeline([('nmf', NMF(n_components=20,random_state=6011)),\n",
        "                   ('lr', LinearRegression())])\n",
        "\n",
        "cross_val_nmf  = cross_val_score(nmf_lr_pipe, X_train, y_train, cv=ts_cv, scoring='neg_root_mean_squared_error')\n",
        "print(cross_val_nmf*-1)\n",
        "print('=================================================')\n",
        "print('Resultado de la regresión lineal utilizando NMF')\n",
        "print(f'Media: {cross_val_nmf.mean()*-1}, Std: {cross_val_nmf.std()}')"
      ],
      "execution_count": null,
      "outputs": []
    },
    {
      "cell_type": "code",
      "metadata": {
        "id": "yaNGnARGcNf8"
      },
      "source": [
        "from sklearn.cross_decomposition import PLSRegression"
      ],
      "execution_count": null,
      "outputs": []
    },
    {
      "cell_type": "code",
      "metadata": {
        "id": "dFkeGYFXDodS"
      },
      "source": [
        "pls_lr_pipe = Pipeline([('pls', PLSRegression(n_components=20)),])\n",
        "\n",
        "cross_val_pls  = cross_val_score(pls_lr_pipe, X_train, y_train, cv=ts_cv, scoring='neg_root_mean_squared_error')\n",
        "print(cross_val_pls*-1)\n",
        "print('=================================================')\n",
        "print('Resultado de la regresión lineal utilizando PLS')\n",
        "print(f'Media: {cross_val_pls.mean()*-1}, Std: {cross_val_pls.std()}')"
      ],
      "execution_count": null,
      "outputs": []
    },
    {
      "cell_type": "code",
      "metadata": {
        "id": "cXgpgueSedZV"
      },
      "source": [
        "comp_df = pd.DataFrame()\n",
        "comp_df['RMSE'] = np.concatenate([cross_val_pca,cross_val_nmf,cross_val_pls], axis=0)\n",
        "comp_df['RMSE'] = comp_df['RMSE'] * -1\n",
        "comp_df['Algorithm'] = np.concatenate([['PCA']*25,['NMF']*25,['PLS']*25], axis=0)\n",
        "comp_df.head()"
      ],
      "execution_count": null,
      "outputs": []
    },
    {
      "cell_type": "code",
      "metadata": {
        "id": "0tT-WAzifT9i"
      },
      "source": [
        "px.box(data_frame=comp_df, x='RMSE', y ='Algorithm', orientation='h', width=600, height=400, notched=True )"
      ],
      "execution_count": null,
      "outputs": []
    },
    {
      "cell_type": "code",
      "metadata": {
        "id": "eWTwWfN7hHnv"
      },
      "source": [],
      "execution_count": null,
      "outputs": []
    },
    {
      "cell_type": "markdown",
      "metadata": {
        "id": "TSUDZ5fmsan3"
      },
      "source": [
        "# Feature Interactions"
      ]
    },
    {
      "cell_type": "markdown",
      "metadata": {
        "id": "bNpDMIhn78Rv"
      },
      "source": [
        "## Polinomyal interactions or combinations"
      ]
    },
    {
      "cell_type": "code",
      "metadata": {
        "id": "1-4l1SIB8CUM"
      },
      "source": [
        "from sklearn.preprocessing import PolynomialFeatures"
      ],
      "execution_count": null,
      "outputs": []
    },
    {
      "cell_type": "code",
      "metadata": {
        "id": "rRUUJjGT8Cgk"
      },
      "source": [
        "X_poly = pd.DataFrame(np.arange(6).reshape(3,2),columns=['x1','x2'])\n",
        "X_poly"
      ],
      "execution_count": null,
      "outputs": []
    },
    {
      "cell_type": "code",
      "metadata": {
        "id": "YKns2ZocCw3q"
      },
      "source": [
        "poly = PolynomialFeatures(3) # interaction_only=False, include_bias=True,"
      ],
      "execution_count": null,
      "outputs": []
    },
    {
      "cell_type": "code",
      "metadata": {
        "id": "fZlf0NZZCzqK"
      },
      "source": [
        "poly_generated = poly.fit_transform(X_poly)\n",
        "poly_generated = pd.DataFrame(poly_generated, columns=poly.get_feature_names_out())\n",
        "poly_generated"
      ],
      "execution_count": null,
      "outputs": []
    },
    {
      "cell_type": "markdown",
      "metadata": {
        "id": "tRZS0YOy8CoX"
      },
      "source": [
        "## Feature crossing"
      ]
    },
    {
      "cell_type": "markdown",
      "metadata": {
        "id": "EHQdWu74-OrR"
      },
      "source": [
        "Para esta funcionalidad utilizaremos el paquete [patsy](https://patsy.readthedocs.io/en/latest/overview.html) de python para describir modelos estadísticos y construir matrices de diseño (design matrices)"
      ]
    },
    {
      "cell_type": "code",
      "metadata": {
        "id": "QD_xNDN44Zrp"
      },
      "source": [
        "from patsy import dmatrices, dmatrix"
      ],
      "execution_count": null,
      "outputs": []
    },
    {
      "cell_type": "code",
      "metadata": {
        "id": "Ve3lLvW6seK7"
      },
      "source": [
        "df_okc = pd.read_csv('data/okc_train.csv',index_col=0)\n",
        "df_okc.head()"
      ],
      "execution_count": null,
      "outputs": []
    },
    {
      "cell_type": "markdown",
      "metadata": {
        "id": "bryFMALc_-R-"
      },
      "source": [
        "$a * b$ es una abreviación de  $a + b + a:b$, y es útil para el caso común donde se desea incluir todas las interaccones entre las variables \n"
      ]
    },
    {
      "cell_type": "code",
      "metadata": {
        "id": "PkGAuPvZ8IBx"
      },
      "source": [
        "y_cross,X_cross = dmatrices('Class~C(drinks)*C(drugs)', data=df_okc,return_type='dataframe') # a * b is short-hand for a + b + a:b"
      ],
      "execution_count": null,
      "outputs": []
    },
    {
      "cell_type": "code",
      "metadata": {
        "id": "RHopv44W-5b2"
      },
      "source": [
        "X_cross.head()"
      ],
      "execution_count": null,
      "outputs": []
    },
    {
      "cell_type": "code",
      "metadata": {
        "id": "fP0pYxLJ8v7r"
      },
      "source": [
        "y_cross.head()"
      ],
      "execution_count": null,
      "outputs": []
    },
    {
      "cell_type": "code",
      "metadata": {
        "id": "U0pJjebJ9Jju"
      },
      "source": [
        "X_cross = dmatrix('C(drinks)*C(drugs)', data=df_okc,return_type='dataframe')"
      ],
      "execution_count": null,
      "outputs": []
    },
    {
      "cell_type": "code",
      "metadata": {
        "id": "IrG_MmbJ9ath"
      },
      "source": [
        "X_cross.head()"
      ],
      "execution_count": null,
      "outputs": []
    },
    {
      "cell_type": "code",
      "metadata": {
        "id": "iTEc9c3F8Mue"
      },
      "source": [],
      "execution_count": null,
      "outputs": []
    },
    {
      "cell_type": "markdown",
      "metadata": {
        "id": "JLJ1-6KFTZAg"
      },
      "source": [
        "# Non linear Featurization"
      ]
    },
    {
      "cell_type": "markdown",
      "metadata": {
        "id": "Za1zjsELTcHu"
      },
      "source": [
        "## K-means featurization\n",
        "\n",
        "Este ejemplo es parte del capítulo 7 del libro [Feature Engineering for Machine Learning](https://www.oreilly.com/library/view/feature-engineering-for/9781491953235/). El link con el código original está en el [github del libro](https://github.com/alicezheng/feature-engineering-book/blob/master/07.03-05_K-means_featurization.ipynb)."
      ]
    },
    {
      "cell_type": "code",
      "metadata": {
        "id": "YcOHCqiwTa8B"
      },
      "source": [
        "from scipy.spatial import Voronoi, voronoi_plot_2d\n",
        "from scipy.sparse import hstack\n",
        "from sklearn.cluster import KMeans\n",
        "from sklearn.datasets import make_moons\n",
        "from sklearn.preprocessing import OneHotEncoder\n",
        "from sklearn.metrics import roc_curve\n",
        "from sklearn.metrics import roc_auc_score"
      ],
      "execution_count": null,
      "outputs": []
    },
    {
      "cell_type": "code",
      "metadata": {
        "id": "TvVRIVHMBbmN"
      },
      "source": [
        "class KMeansFeaturizer:\n",
        "    \"\"\"Transforms numeric data into k-means cluster memberships.\n",
        "    \n",
        "    This transformer runs k-means on the input data and converts each data point\n",
        "    into the id of the closest cluster. If a target variable is present, it is \n",
        "    scaled and included as input to k-means in order to derive clusters that\n",
        "    obey the classification boundary as well as group similar points together.\n",
        "\n",
        "    Parameters\n",
        "    ----------\n",
        "    k: integer, optional, default 100\n",
        "        The number of clusters to group data into.\n",
        "\n",
        "    target_scale: float, [0, infty], optional, default 5.0\n",
        "        The scaling factor for the target variable. Set this to zero to ignore\n",
        "        the target. For classification problems, larger `target_scale` values \n",
        "        will produce clusters that better respect the class boundary.\n",
        "\n",
        "    random_state : integer or numpy.RandomState, optional\n",
        "        This is passed to k-means as the generator used to initialize the \n",
        "        kmeans centers. If an integer is given, it fixes the seed. Defaults to \n",
        "        the global numpy random number generator.\n",
        "\n",
        "    Attributes\n",
        "    ----------\n",
        "    cluster_centers_ : array, [k, n_features]\n",
        "        Coordinates of cluster centers. n_features does count the target column.\n",
        "    \"\"\"\n",
        "\n",
        "    def __init__(self, k=100, target_scale=5.0, random_state=None):\n",
        "        self.k = k\n",
        "        self.target_scale = target_scale\n",
        "        self.random_state = random_state\n",
        "        self.cluster_encoder = OneHotEncoder().fit(np.array(range(k)).reshape(-1,1)) # crea una columna binaria por cada cluster\n",
        "        \n",
        "    def fit(self, X, y=None):\n",
        "        \"\"\"Runs k-means on the input data and find centroids.\n",
        "\n",
        "        If no target is given (`y` is None) then run vanilla k-means on input\n",
        "        `X`. \n",
        "\n",
        "        If target `y` is given, then include the target (weighted by \n",
        "        `target_scale`) as an extra dimension for k-means clustering. In this \n",
        "        case, run k-means twice, first with the target, then an extra iteration\n",
        "        without.\n",
        "\n",
        "        After fitting, the attribute `cluster_centers_` are set to the k-means\n",
        "        centroids in the input space represented by `X`.\n",
        "\n",
        "        Parameters\n",
        "        ----------\n",
        "        X : array-like or sparse matrix, shape=(n_data_points, n_features)\n",
        "\n",
        "        y : vector of length n_data_points, optional, default None\n",
        "            If provided, will be weighted with `target_scale` and included in \n",
        "            k-means clustering as hint.\n",
        "        \"\"\"\n",
        "        if y is None:\n",
        "            # No target variable, just do plain k-means\n",
        "            km_model = KMeans(n_clusters=self.k, \n",
        "                              n_init=20, \n",
        "                              random_state=self.random_state)\n",
        "            km_model.fit(X)\n",
        "\n",
        "            self.km_model_ = km_model\n",
        "            self.cluster_centers_ = km_model.cluster_centers_\n",
        "            return self\n",
        "\n",
        "        # There is target information. Apply appropriate scaling and include\n",
        "        # into input data to k-means            \n",
        "        data_with_target = np.hstack((X, y[:,np.newaxis]*self.target_scale))\n",
        "\n",
        "        # Build a pre-training k-means model on data and target\n",
        "        km_model_pretrain = KMeans(n_clusters=self.k, \n",
        "                                   n_init=20, \n",
        "                                   random_state=self.random_state)\n",
        "        km_model_pretrain.fit(data_with_target)\n",
        "\n",
        "        # Run k-means a second time to get the clusters in the original space\n",
        "        # without target info. Initialize using centroids found in pre-training.\n",
        "        # Go through a single iteration of cluster assignment and centroid \n",
        "        # recomputation.\n",
        "        km_model = KMeans(n_clusters=self.k, \n",
        "                          init=km_model_pretrain.cluster_centers_[:,:2], \n",
        "                          n_init=1, \n",
        "                          max_iter=1)\n",
        "        km_model.fit(X)\n",
        "        \n",
        "        self.km_model = km_model\n",
        "        self.cluster_centers_ = km_model.cluster_centers_\n",
        "        return self\n",
        "        \n",
        "    def transform(self, X, y=None):\n",
        "        \"\"\"Outputs the closest cluster id for each input data point.\n",
        "\n",
        "        Parameters\n",
        "        ----------\n",
        "        X : array-like or sparse matrix, shape=(n_data_points, n_features)\n",
        "\n",
        "        y : vector of length n_data_points, optional, default None\n",
        "            Target vector is ignored even if provided.\n",
        "\n",
        "        Returns\n",
        "        -------\n",
        "        cluster_ids : array, shape[n_data_points,1]\n",
        "        \"\"\"\n",
        "        clusters = self.km_model.predict(X)\n",
        "        return self.cluster_encoder.transform(clusters.reshape(-1,1))\n",
        "    \n",
        "    def fit_transform(self, X, y=None):\n",
        "        \"\"\"Runs fit followed by transform.\n",
        "        \"\"\"\n",
        "        self.fit(X, y)\n",
        "        return self.transform(X, y)"
      ],
      "execution_count": null,
      "outputs": []
    },
    {
      "cell_type": "code",
      "metadata": {
        "id": "U_vnzwjkBwiS"
      },
      "source": [
        "seed = 6011\n",
        "training_data, training_labels = make_moons(n_samples=2000, noise=0.2, random_state=seed)"
      ],
      "execution_count": null,
      "outputs": []
    },
    {
      "cell_type": "code",
      "metadata": {
        "id": "VR1ne7HIF2le"
      },
      "source": [
        "training_data"
      ],
      "execution_count": null,
      "outputs": []
    },
    {
      "cell_type": "code",
      "metadata": {
        "id": "EneQk0UwF97G"
      },
      "source": [
        "training_labels"
      ],
      "execution_count": null,
      "outputs": []
    },
    {
      "cell_type": "code",
      "metadata": {
        "id": "qr205_XoFqpn"
      },
      "source": [
        " plt.scatter(training_data[:, 0], training_data[:, 1], c=training_labels, cmap='Set1', alpha=0.2)"
      ],
      "execution_count": null,
      "outputs": []
    },
    {
      "cell_type": "code",
      "metadata": {
        "id": "Apr3WT9oB2-D"
      },
      "source": [
        "kmf_hint = KMeansFeaturizer(k=100, target_scale=10, random_state=seed).fit(training_data, training_labels)\n",
        "kmf_no_hint = KMeansFeaturizer(k=100, target_scale=0, random_state=seed).fit(training_data, training_labels)"
      ],
      "execution_count": null,
      "outputs": []
    },
    {
      "cell_type": "code",
      "metadata": {
        "id": "2WXbOwlBB40e"
      },
      "source": [
        "def kmeans_voronoi_plot(X, y, cluster_centers, ax):\n",
        "    \"\"\"Plots the Voronoi diagram of the kmeans clusters overlayed with the data\"\"\"\n",
        "    ax.scatter(X[:, 0], X[:, 1], c=y, cmap='Set1', alpha=0.2)\n",
        "    vor = Voronoi(cluster_centers)\n",
        "    voronoi_plot_2d(vor, ax=ax, show_vertices=False, alpha=0.5)"
      ],
      "execution_count": null,
      "outputs": []
    },
    {
      "cell_type": "code",
      "metadata": {
        "id": "ebfM-dfwB7xf"
      },
      "source": [
        "fig = plt.figure(figsize=(24,10))\n",
        "ax = plt.subplot(211, aspect='equal')\n",
        "kmeans_voronoi_plot(training_data, training_labels, kmf_hint.cluster_centers_, ax)\n",
        "ax.set_title('K-Means with Target Hint')\n",
        "ax2 = plt.subplot(212, aspect='equal')\n",
        "kmeans_voronoi_plot(training_data, training_labels, kmf_no_hint.cluster_centers_, ax2)\n",
        "ax2.set_title('K-Means without Target Hint')"
      ],
      "execution_count": null,
      "outputs": []
    },
    {
      "cell_type": "markdown",
      "metadata": {
        "id": "CXdn1HR4B9va"
      },
      "source": [
        "## Classification with KMeans clustering features¶"
      ]
    },
    {
      "cell_type": "code",
      "metadata": {
        "id": "cTZuWaH7CQ6X"
      },
      "source": [
        "test_data, test_labels = make_moons(n_samples=2000, noise=0.3, random_state=seed+5)"
      ],
      "execution_count": null,
      "outputs": []
    },
    {
      "cell_type": "code",
      "metadata": {
        "id": "LqVRqIjXCSxA"
      },
      "source": [
        "training_cluster_features = kmf_hint.transform(training_data)\n",
        "test_cluster_features = kmf_hint.transform(test_data)\n",
        "\n",
        "training_with_cluster = hstack((training_data, training_cluster_features)) #scipy.sparse.hstack\n",
        "test_with_cluster = hstack((test_data, test_cluster_features))"
      ],
      "execution_count": null,
      "outputs": []
    },
    {
      "cell_type": "code",
      "metadata": {
        "id": "KZHJFA1iCVHz"
      },
      "source": [
        "from sklearn.linear_model import LogisticRegression\n",
        "from sklearn.svm import SVC\n",
        "from sklearn.neighbors import KNeighborsClassifier\n",
        "from sklearn.ensemble import RandomForestClassifier, GradientBoostingClassifier"
      ],
      "execution_count": null,
      "outputs": []
    },
    {
      "cell_type": "code",
      "metadata": {
        "id": "pqzmQFUUClt3"
      },
      "source": [
        "lr_cluster = LogisticRegression(random_state=seed).fit(training_with_cluster, training_labels)\n",
        "\n",
        "classifier_names = ['LR',\n",
        "                    'kNN',\n",
        "                    'RBF SVM',\n",
        "                    'Random Forest',\n",
        "                    'Boosted Trees']\n",
        "classifiers = [LogisticRegression(random_state=seed),\n",
        "               KNeighborsClassifier(5),\n",
        "               SVC(gamma=2, C=1, random_state=seed),\n",
        "               RandomForestClassifier(max_depth=5, n_estimators=10, \n",
        "                                      max_features=1, random_state=seed),\n",
        "               GradientBoostingClassifier(n_estimators=10, learning_rate=1.0,\n",
        "                                          max_depth=5, random_state=seed)]\n",
        "for model in classifiers:\n",
        "    model.fit(training_data, training_labels)"
      ],
      "execution_count": null,
      "outputs": []
    },
    {
      "cell_type": "code",
      "metadata": {
        "id": "vIMKFB5KCnre"
      },
      "source": [
        "def test_roc(model, data, labels):\n",
        "    if hasattr(model, \"decision_function\"):\n",
        "        predictions = model.decision_function(data)\n",
        "    else:\n",
        "        predictions = model.predict_proba(data)[:,1]\n",
        "    fpr, tpr, _ = roc_curve(labels, predictions) # sklearn.metrics.roc_curve\n",
        "    auc_score = roc_auc_score(labels, predictions)\n",
        "    print(f'{model.__class__.__name__}: {auc_score}')\n",
        "    return fpr, tpr"
      ],
      "execution_count": null,
      "outputs": []
    },
    {
      "cell_type": "code",
      "metadata": {
        "id": "EYKpUIj7CpaP"
      },
      "source": [
        "\n",
        "plt.figure(figsize=(10,10))\n",
        "fpr_cluster, tpr_cluster = test_roc(lr_cluster, test_with_cluster, test_labels)\n",
        "plt.plot(fpr_cluster, tpr_cluster, 'r-', label='LR with k-means')\n",
        "\n",
        "for i, model in enumerate(classifiers):\n",
        "    fpr, tpr = test_roc(model, test_data, test_labels)\n",
        "    plt.plot(fpr, tpr, label=classifier_names[i])\n",
        "    \n",
        "plt.plot([0, 1], [0, 1], 'k--')\n",
        "plt.legend()\n",
        "plt.xlabel('False Positive Rate', fontsize=14)\n",
        "plt.ylabel('True Positive Rate', fontsize=14)"
      ],
      "execution_count": null,
      "outputs": []
    },
    {
      "cell_type": "code",
      "metadata": {
        "id": "Y__HsLmYT8o8"
      },
      "source": [],
      "execution_count": null,
      "outputs": []
    }
  ]
}